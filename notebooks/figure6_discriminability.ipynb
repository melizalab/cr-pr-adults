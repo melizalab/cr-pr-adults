{
 "cells": [
  {
   "cell_type": "markdown",
   "id": "a3aae394-a139-4d6d-adde-1f1d415c8858",
   "metadata": {},
   "source": [
    "## Response discriminability\n",
    "\n",
    "This notebook is used to generate example plots for Figure 5."
   ]
  },
  {
   "cell_type": "code",
   "execution_count": null,
   "id": "6f6a0dbc-320d-41ce-8560-b9bd228c3895",
   "metadata": {},
   "outputs": [],
   "source": [
    "import sys\n",
    "\n",
    "sys.path.insert(0, \"../scripts\")"
   ]
  },
  {
   "cell_type": "code",
   "execution_count": null,
   "id": "86165be1-3ace-4dc2-9b2f-32c17e3e274e",
   "metadata": {},
   "outputs": [],
   "source": [
    "import json\n",
    "from functools import partial\n",
    "from pathlib import Path\n",
    "\n",
    "import graphics_defaults  # noqa: F401\n",
    "import matplotlib.pyplot as plt\n",
    "import pandas as pd\n",
    "import pyspike\n",
    "from core import (\n",
    "    MotifSplitter,\n",
    "    pairwise_spike_comparison,\n",
    "    split_trials,\n",
    "    trial_to_spike_train,\n",
    ")\n",
    "from numpy.random import default_rng\n",
    "from sklearn.metrics import confusion_matrix\n",
    "from sklearn.model_selection import LeaveOneOut, cross_val_predict\n",
    "from sklearn.neighbors import KNeighborsClassifier\n",
    "\n",
    "rng = default_rng()"
   ]
  },
  {
   "cell_type": "code",
   "execution_count": null,
   "id": "bf100818-5f33-4301-ae46-60b3cf8129ab",
   "metadata": {},
   "outputs": [],
   "source": [
    "dataset_dir = Path(\"../datasets/zebf-social-acoustical-ephys\")\n",
    "metadata_dir = dataset_dir / \"metadata/\"\n",
    "response_dir = dataset_dir / \"responses/\"\n",
    "stim_dir = dataset_dir / \"stimuli\""
   ]
  },
  {
   "cell_type": "code",
   "execution_count": null,
   "id": "e5959dc4-b1ad-4fbf-a597-8e230959f55b",
   "metadata": {},
   "outputs": [],
   "source": [
    "# example 1: BS neuron\n",
    "unit_name = \"C104_3_1_c201\""
   ]
  },
  {
   "cell_type": "code",
   "execution_count": null,
   "id": "c56deec8-7cf2-4170-a17b-f55e8fe9110d",
   "metadata": {},
   "outputs": [],
   "source": [
    "# example 2: NS neuron\n",
    "unit_name = \"C44_3_1_c74\""
   ]
  },
  {
   "cell_type": "code",
   "execution_count": null,
   "id": "ea48dd97-c2a1-474e-8b49-6844acd20cef",
   "metadata": {},
   "outputs": [],
   "source": [
    "# load the response and split by motif\n",
    "pprox_file = (response_dir / unit_name).with_suffix(\".pprox\")\n",
    "unit = json.loads(pprox_file.read_text())\n",
    "splitter = MotifSplitter()\n",
    "motifs = split_trials(splitter, unit, metadata_dir).drop(\"igmi8fxa\", level=1)"
   ]
  },
  {
   "cell_type": "code",
   "execution_count": null,
   "id": "18fa5fa8-0f7a-4006-b6e9-05f43abed3f1",
   "metadata": {},
   "outputs": [],
   "source": [
    "# classifier\n",
    "\n",
    "def inv_spike_sync_matrix(*args, **kwargs):\n",
    "    \"\"\" Inverse of the spike sync matrix (to give dissimilarities) \"\"\"\n",
    "    return 1 - pyspike.spike_sync_matrix(*args, **kwargs)\n",
    "\n",
    "n_neighbors = 9\n",
    "\n",
    "class ShuffledLeaveOneOut(LeaveOneOut):\n",
    "    \n",
    "    def __init__(self, rng):\n",
    "        super().__init__()\n",
    "        self.rng = rng\n",
    "        \n",
    "    def split(self, *args, **kwargs):\n",
    "        for train, test in super().split(*args, **kwargs):\n",
    "            yield self.rng.permutation(train), test\n",
    "            \n",
    "def kneighbors_classifier(distance_matrix, rng, normalize=\"true\"):\n",
    "    \"\"\"Compute confusion matrix of a k-neighbors classifier on the spike distance matrix\"\"\"\n",
    "    neigh = KNeighborsClassifier(n_neighbors=n_neighbors, metric=\"precomputed\")\n",
    "    loo = ShuffledLeaveOneOut(rng)\n",
    "    groups = distance_matrix.index\n",
    "    names = groups.unique()\n",
    "    group_idx, _ = pd.factorize(groups)\n",
    "    # cv_results = cross_val_score(neigh, distance_matrix.values, group_idx, cv=loo)\n",
    "    pred = cross_val_predict(neigh, distance_matrix.values, group_idx, cv=loo)\n",
    "    cm = confusion_matrix(group_idx, pred, normalize=normalize)\n",
    "    return pd.DataFrame(cm, index=names, columns=names)\n"
   ]
  },
  {
   "cell_type": "code",
   "execution_count": null,
   "id": "24b3face-5f04-4e31-9241-e3976167432e",
   "metadata": {},
   "outputs": [],
   "source": [
    "# convert data to pyspike's format\n",
    "spike_trains = motifs.apply(\n",
    "    partial(trial_to_spike_train, interval_end=motifs.interval_end.min()), axis=1\n",
    ")"
   ]
  },
  {
   "cell_type": "markdown",
   "id": "2d3fc0b2-d92a-4c96-b16c-52d37246bd09",
   "metadata": {},
   "source": [
    "## Spike distance matrix\n",
    "\n",
    "The first step is to calculate all pairwise distances. This is Figure 5A."
   ]
  },
  {
   "cell_type": "code",
   "execution_count": null,
   "id": "468a3c02-40c3-4751-b796-61e1077a8992",
   "metadata": {},
   "outputs": [],
   "source": [
    "bkgnd_level = -100\n",
    "fig, ax = plt.subplots(nrows=1, ncols=1, sharex=True, figsize=(0.9, 1.5), dpi=400)\n",
    "st = spike_trains.loc[bkgnd_level]\n",
    "dist = inv_spike_sync_matrix(st)\n",
    "img = ax.imshow(1 - dist, vmin=0, vmax=1, aspect=\"equal\", origin=\"upper\", interpolation=None)\n",
    "for x in range(10, 90, 10):\n",
    "    ax.axvline(x, color=\"w\", linewidth=0.5)\n",
    "    ax.axhline(x, color=\"w\", linewidth=0.5)\n",
    "ax.get_yaxis().set_visible(False)\n",
    "ax.get_xaxis().set_visible(False)\n",
    "fig.colorbar(img, ax=ax, location=\"bottom\", shrink=0.3, aspect=10)    "
   ]
  },
  {
   "cell_type": "code",
   "execution_count": null,
   "id": "ae7e2c25-c0b2-4e07-b7ff-fbeba3354b4b",
   "metadata": {},
   "outputs": [],
   "source": [
    "fig.savefig(f\"../figures/{unit_name}_motif_distances_training.pdf\")"
   ]
  },
  {
   "cell_type": "markdown",
   "id": "d2077618-65bd-434b-b60c-09cafe066a36",
   "metadata": {},
   "source": [
    "## Confusion matrix\n",
    "\n",
    "Generated by using a K-neighbors classifier to assign each trial to the most likely stimulus."
   ]
  },
  {
   "cell_type": "code",
   "execution_count": null,
   "id": "cf4026cb-55f8-4578-a0ca-c47dcb3b05d9",
   "metadata": {},
   "outputs": [],
   "source": [
    "fig, ax = plt.subplots(nrows=1, ncols=1, sharex=True, figsize=(0.8, 1), dpi=300)\n",
    "spike_dists = pairwise_spike_comparison(spike_trains.loc[bkgnd_level], comparison_fun=inv_spike_sync_matrix, stack=False)\n",
    "neigh = KNeighborsClassifier(n_neighbors=n_neighbors, metric=\"precomputed\")\n",
    "loo = ShuffledLeaveOneOut(rng)\n",
    "group_idx, names = spike_dists.index.factorize()\n",
    "pred = cross_val_predict(neigh, spike_dists.values, group_idx, cv=loo)\n",
    "conf_mtx = confusion_matrix(group_idx, pred, normalize=\"true\")    \n",
    "img = ax.imshow(conf_mtx, origin=\"upper\", aspect=\"equal\", vmin=0, vmax=1.0)\n",
    "ax.get_yaxis().set_visible(False)\n",
    "ax.get_xaxis().set_visible(False)\n",
    "ax.set_title(f\"{bkgnd_level} dB\", fontdict={\"fontsize\": 6})\n",
    "fig.colorbar(img, ax=ax, location=\"bottom\", shrink=0.4, aspect=10)"
   ]
  },
  {
   "cell_type": "code",
   "execution_count": null,
   "id": "99b2cc89-e5a4-405d-bdad-7badf0426536",
   "metadata": {},
   "outputs": [],
   "source": [
    "fig.savefig(f\"../figures/{unit_name}_motif_discrim_training.pdf\")"
   ]
  }
 ],
 "metadata": {
  "kernelspec": {
   "display_name": "noise-invariant-analysis",
   "language": "python",
   "name": "noise-invariant-analysis"
  },
  "language_info": {
   "codemirror_mode": {
    "name": "ipython",
    "version": 3
   },
   "file_extension": ".py",
   "mimetype": "text/x-python",
   "name": "python",
   "nbconvert_exporter": "python",
   "pygments_lexer": "ipython3",
   "version": "3.11.2"
  }
 },
 "nbformat": 4,
 "nbformat_minor": 5
}
