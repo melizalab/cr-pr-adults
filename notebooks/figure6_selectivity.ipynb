{
 "cells": [
  {
   "cell_type": "markdown",
   "id": "63d780f5-2e0b-4adb-b5b9-1f89711041b3",
   "metadata": {},
   "source": [
    "## Response selectivity\n",
    "\n",
    "This notebook is used to generate example plots for Figure 5."
   ]
  },
  {
   "cell_type": "code",
   "execution_count": null,
   "id": "6a8f7cf3-4681-4742-bd83-2d6a6392df65",
   "metadata": {},
   "outputs": [],
   "source": [
    "import sys\n",
    "sys.path.insert(0, \"../scripts\")"
   ]
  },
  {
   "cell_type": "code",
   "execution_count": null,
   "id": "ff3c7023-1b6d-4391-a635-d66c1a6b5237",
   "metadata": {},
   "outputs": [],
   "source": [
    "import json\n",
    "import logging\n",
    "from pathlib import Path\n",
    "from functools import partial\n",
    "\n",
    "import ewave\n",
    "import numpy as np\n",
    "from numpy.random import default_rng\n",
    "import pandas as pd\n",
    "import matplotlib.pyplot as plt\n",
    "import seaborn as sns\n",
    "import statsmodels.api as sm\n",
    "import statsmodels.formula.api as smf\n",
    "import statsmodels.stats.multitest as smt\n",
    "\n",
    "import graphics_defaults\n",
    "from core import MotifBackgroundSplitter, split_trials\n",
    "\n",
    "rng = default_rng()"
   ]
  },
  {
   "cell_type": "code",
   "execution_count": null,
   "id": "e634a88d-51c3-4a53-bf81-93826eff457f",
   "metadata": {},
   "outputs": [],
   "source": [
    "dataset_dir = Path(\"../datasets/zebf-social-acoustical-ephys\")\n",
    "metadata_dir = dataset_dir / \"metadata/\"\n",
    "response_dir = dataset_dir / \"responses/\"\n",
    "stim_dir = dataset_dir / \"stimuli\""
   ]
  },
  {
   "cell_type": "code",
   "execution_count": null,
   "id": "743da1a5-8278-4956-8114-f54355b66d3a",
   "metadata": {},
   "outputs": [],
   "source": [
    "# examples BS and NS neurons\n",
    "example_units = [\"C104_3_1_c201\", \"C44_3_1_c74\"]"
   ]
  },
  {
   "cell_type": "code",
   "execution_count": null,
   "id": "32865993-f371-4c9a-a1b4-4d9f1d0861f1",
   "metadata": {},
   "outputs": [],
   "source": [
    "# load the response and split by motif\n",
    "unit_responses = []\n",
    "for unit_name in example_units:\n",
    "    pprox_file = (response_dir / unit_name).with_suffix(\".pprox\")\n",
    "    unit = json.loads(pprox_file.read_text())\n",
    "    splitter = MotifBackgroundSplitter()\n",
    "    responses = (\n",
    "        split_trials(splitter, unit, metadata_dir)\n",
    "        .reset_index()\n",
    "        .rename(columns=lambda s: s.replace(\"-\", \"_\"))\n",
    "        .query(\"background_dBFS == -100 | foreground == 'silence'\")\n",
    "        .query(\"foreground != 'background'\")\n",
    "        .drop([\"background\", \"foreground_dBFS\", \"offset\"], axis=1)\n",
    "    )\n",
    "    responses[\"unit\"] = unit_name\n",
    "    unit_responses.append(responses)    \n",
    "motifs = pd.concat(unit_responses)\n",
    "motifs[\"n_events\"] = motifs.events.fillna(\"\").apply(len)\n",
    "motifs[\"rate\"] = (motifs.n_events / motifs.interval_end)\n",
    "motif_names = [\"silence\"] + list(set(motifs.foreground.unique()) - {\"silence\"})\n",
    "motifs[\"foreground\"] = pd.Categorical(motifs.foreground, categories=motif_names, ordered=True)"
   ]
  },
  {
   "cell_type": "code",
   "execution_count": null,
   "id": "5d4a1e11-32dd-4f9d-908b-5cee7dd9c956",
   "metadata": {},
   "outputs": [],
   "source": [
    "def rate_model(df):\n",
    "    lm = smf.glm(\"n_events ~ foreground\", data=df, family=sm.families.Poisson(), offset=np.log(df[\"interval_end\"])).fit()\n",
    "    conf_int = lm.conf_int()\n",
    "    coefs = (\n",
    "        pd.DataFrame({\"stimulus\": motif_names, \n",
    "                      \"coef\": lm.params, \n",
    "                      \"std err\": lm.bse, \n",
    "                      \"pvalue\": smt.multipletests(lm.pvalues, method=\"sidak\")[1],\n",
    "                      \"coef_lcl\": conf_int[0],\n",
    "                      \"coef_ucl\": conf_int[1]\n",
    "                     })\n",
    "        .reset_index(drop=True)\n",
    "        .set_index(\"stimulus\")\n",
    "    )\n",
    "    coefs[\"responsive\"] = (coefs.coef > 0) & (coefs.pvalue < 0.05)\n",
    "    return coefs"
   ]
  },
  {
   "cell_type": "code",
   "execution_count": null,
   "id": "f5f3722d-3a68-454b-9533-04e32367ff89",
   "metadata": {},
   "outputs": [],
   "source": [
    "spike_type_colors = [\"#70549B\", \"#FF7F0E\"]\n",
    "rates = motifs.set_index(\"unit\").loc[example_units].groupby(\"unit\").apply(rate_model)"
   ]
  },
  {
   "cell_type": "code",
   "execution_count": null,
   "id": "af3ab377-99a1-4a4f-ba20-c476318cf6fa",
   "metadata": {},
   "outputs": [],
   "source": [
    "fig, axes = plt.subplots(nrows=2, ncols=1, sharex=True, figsize=(1, 2.2), dpi=300)\n",
    "for i, unit_name in enumerate(example_units):\n",
    "    coefs = rates.loc[unit_name]\n",
    "    spont = coefs.loc[\"silence\"]\n",
    "    evoked = coefs.iloc[1:].sort_values(by=\"coef\", ascending=False)\n",
    "    evoked[\"rank\"] = np.arange(evoked.shape[0]) + 1\n",
    "    evoked[\"pred\"] = np.exp(evoked.coef + spont.coef)\n",
    "    responsive = evoked.loc[evoked.responsive]\n",
    "    axes[i].axhline(np.exp(spont['coef']), color=\"black\", linestyle='--')\n",
    "    axes[i].plot(evoked[\"rank\"], evoked.pred, 'o-', markersize=2.5, markerfacecolor=\"white\", markeredgewidth=0.2, color=spike_type_colors[i])\n",
    "    axes[i].plot(responsive[\"rank\"], responsive.pred, 'o', markersize=1.5, color=spike_type_colors[i])\n",
    "    axes[i].set_title(unit_name, fontsize=3, pad=0, loc=\"right\")\n",
    "    axes[i].set_ylim(- evoked.iloc[0].pred * 0.05, evoked.iloc[0].pred * 1.05)\n",
    "axes[1].set_ylabel(\"Firing rate (Hz)\")\n",
    "axes[1].set_xlabel(\"Stimulus rank\")"
   ]
  },
  {
   "cell_type": "code",
   "execution_count": null,
   "id": "032d78d5-ba13-4a22-959e-48d2e87e62dd",
   "metadata": {},
   "outputs": [],
   "source": [
    "fig.savefig(f\"../figures/motif_rates.pdf\")"
   ]
  },
  {
   "cell_type": "code",
   "execution_count": null,
   "id": "7a68bfc4-f349-40a2-bb45-49313b6bc36f",
   "metadata": {},
   "outputs": [],
   "source": [
    "fig, axes = plt.subplots(nrows=1, ncols=1, sharex=True, figsize=(1.0, 1.0), dpi=300)\n",
    "for i, unit_name in enumerate(example_units):\n",
    "    coefs = rates.loc[unit_name]\n",
    "    spont = coefs.loc[\"silence\"]\n",
    "    evoked = coefs.iloc[1:].sort_values(by=\"coef\", ascending=False)\n",
    "    evoked[\"rank\"] = np.arange(evoked.shape[0]) + 1\n",
    "    evoked[\"pred\"] = np.exp(evoked.coef + spont.coef)\n",
    "    evoked[\"norm\"] = evoked.pred / evoked.pred.max()\n",
    "    responsive = evoked.loc[evoked.responsive]\n",
    "    axes.axhline(np.exp(spont['coef']) / evoked.pred.max(), linestyle='--', color=spike_type_colors[i])\n",
    "    axes.plot(evoked[\"rank\"], evoked.norm, 'o-', markersize=1.5, markerfacecolor=\"white\", markeredgewidth=0.2, color=spike_type_colors[i])\n",
    "    axes.plot(responsive[\"rank\"], responsive.norm, 'o', markersize=1.0, color=spike_type_colors[i])\n",
    "axes.set_ylabel(\"Normalized Firing Rate\")\n",
    "axes.set_xlabel(\"Stimulus rank\")"
   ]
  }
 ],
 "metadata": {
  "kernelspec": {
   "display_name": "noise-invariant-analysis",
   "language": "python",
   "name": "noise-invariant-analysis"
  },
  "language_info": {
   "codemirror_mode": {
    "name": "ipython",
    "version": 3
   },
   "file_extension": ".py",
   "mimetype": "text/x-python",
   "name": "python",
   "nbconvert_exporter": "python",
   "pygments_lexer": "ipython3",
   "version": "3.11.2"
  }
 },
 "nbformat": 4,
 "nbformat_minor": 5
}
