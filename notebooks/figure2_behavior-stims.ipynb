{
 "cells": [
  {
   "cell_type": "markdown",
   "id": "9513c4d9-659a-4008-83a9-5050e0ced542",
   "metadata": {},
   "source": [
    "# Behavior statistics\n",
    "\n",
    "This notebook panels for Figure 2 showing examples of the stimuli used in the behavioral trials."
   ]
  },
  {
   "cell_type": "code",
   "execution_count": null,
   "id": "045361ec-affc-498b-9346-767fb8234f04",
   "metadata": {},
   "outputs": [],
   "source": [
    "import sys\n",
    "\n",
    "sys.path.insert(0, \"../scripts\")"
   ]
  },
  {
   "cell_type": "code",
   "execution_count": null,
   "id": "dbcd0ba8-f6e5-4fc9-8c28-ba82a4c6b71d",
   "metadata": {},
   "outputs": [],
   "source": [
    "from pathlib import Path\n",
    "\n",
    "import ewave\n",
    "import matplotlib.pyplot as plt\n",
    "from dlab import plotting\n",
    "import graphics_defaults # noqa: F401"
   ]
  },
  {
   "cell_type": "code",
   "execution_count": null,
   "id": "9bbcf1b3-94f1-4e03-bf0c-c9047d7923be",
   "metadata": {},
   "outputs": [],
   "source": [
    "stim_file_path = Path(\"../datasets/zebf-discrim-noise/stimuli\")"
   ]
  },
  {
   "cell_type": "code",
   "execution_count": null,
   "id": "2c2f1d63-6f75-4586-9f45-4483ab898769",
   "metadata": {},
   "outputs": [],
   "source": [
    "foreground = \"9ex2k0dy\"\n",
    "background = \"btwmt59w1\"\n",
    "background_levels = [-100, -65, -60, -55, -50, -45, -40, -35, -30, -25, -20]\n",
    "background_levels = [-100, -60, -50, -40, -30, -20]"
   ]
  },
  {
   "cell_type": "code",
   "execution_count": null,
   "id": "96310f22-dc52-4c93-b96d-2d99bc954f5d",
   "metadata": {},
   "outputs": [],
   "source": [
    "fig, axs = plt.subplots(nrows=len(background_levels), sharex=True, sharey=True, figsize=(1.5, 2.5), dpi=300)\n",
    "\n",
    "for ax, level in zip(axs, background_levels):\n",
    "    stim_name = f\"{foreground}-30_{background}{level}\"\n",
    "    stim_file = stim_file_path / stim_name\n",
    "    with ewave.wavfile(stim_file.with_suffix(\".wav\"), \"r\") as fp:\n",
    "        signal, sampling_rate = fp.read(), fp.sampling_rate\n",
    "    plotting.spectrogram(ax, signal, sampling_rate, frequency_range=(0, 8000), compression=0.01)\n",
    "    ax.set_yticks([0, 5000], [\"0\", \"5\"])\n",
    "ax.set_xlim(0, 3.0)\n",
    "for ax in axs[:-1]:\n",
    "    ax.get_xaxis().set_visible(False)\n",
    "    ax.set_frame_on(False)\n",
    "    ax.tick_params(axis='y', which='both', left=False, right=False, labelleft=False)\n",
    "fig.subplots_adjust(hspace=0.05, wspace=0.1)"
   ]
  },
  {
   "cell_type": "code",
   "execution_count": null,
   "id": "494c4f6c-e14b-4772-a10a-74590e348efa",
   "metadata": {},
   "outputs": [],
   "source": [
    "fig.savefig(\"../figures/behavior_example_stims.pdf\")"
   ]
  },
  {
   "cell_type": "code",
   "execution_count": null,
   "id": "5988657b-bdc7-4ffc-995a-077a952608ff",
   "metadata": {},
   "outputs": [],
   "source": []
  }
 ],
 "metadata": {
  "kernelspec": {
   "display_name": "noise-invariant-analysis",
   "language": "python",
   "name": "noise-invariant-analysis"
  },
  "language_info": {
   "codemirror_mode": {
    "name": "ipython",
    "version": 3
   },
   "file_extension": ".py",
   "mimetype": "text/x-python",
   "name": "python",
   "nbconvert_exporter": "python",
   "pygments_lexer": "ipython3",
   "version": "3.11.2"
  }
 },
 "nbformat": 4,
 "nbformat_minor": 5
}
