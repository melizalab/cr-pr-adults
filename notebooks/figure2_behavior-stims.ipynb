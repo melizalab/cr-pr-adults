{
 "cells": [
  {
   "cell_type": "markdown",
   "id": "9513c4d9-659a-4008-83a9-5050e0ced542",
   "metadata": {},
   "source": [
    "# Behavior stimuli\n",
    "\n",
    "This notebook panels for Figure 2 showing examples of the stimuli used in the behavioral trials. You will need to have downloaded the `zebf-discrim-noise.zip` file from the [Zebra Finch Behavioral Discrimination of Conspecific Song in Noise](https://doi.org/10.6084/m9.figshare.27961002) dataset and unpacked it in the `datasets` folder. "
   ]
  },
  {
   "cell_type": "code",
   "execution_count": null,
   "id": "045361ec-affc-498b-9346-767fb8234f04",
   "metadata": {
    "tags": []
   },
   "outputs": [],
   "source": [
    "import sys\n",
    "\n",
    "sys.path.insert(0, \"../scripts\")"
   ]
  },
  {
   "cell_type": "code",
   "execution_count": null,
   "id": "dbcd0ba8-f6e5-4fc9-8c28-ba82a4c6b71d",
   "metadata": {
    "tags": []
   },
   "outputs": [],
   "source": [
    "from pathlib import Path\n",
    "\n",
    "import graphics_defaults  # noqa: F401\n",
    "import matplotlib.pyplot as plt\n",
    "import numpy as np\n",
    "from core import find_resource, load_wave, rescale, resample\n",
    "from filters import SpectrogramTransform"
   ]
  },
  {
   "cell_type": "code",
   "execution_count": null,
   "id": "9bbcf1b3-94f1-4e03-bf0c-c9047d7923be",
   "metadata": {
    "tags": []
   },
   "outputs": [],
   "source": [
    "# dataset path\n",
    "stim_file_path = Path(\"../datasets/zebf-discrim-noise/stimuli\")\n",
    "# spectrogram parameters\n",
    "window_size = 0.010\n",
    "max_frequency = 8000"
   ]
  },
  {
   "cell_type": "code",
   "execution_count": null,
   "id": "2c2f1d63-6f75-4586-9f45-4483ab898769",
   "metadata": {
    "tags": []
   },
   "outputs": [],
   "source": [
    "foreground = \"9ex2k0dy\"\n",
    "background = \"btwmt59w1\"\n",
    "background_levels = [-100, -65, -60, -55, -50, -45, -40, -35, -30, -25, -20]\n",
    "background_levels = [-100, -60, -50, -40, -30, -20]"
   ]
  },
  {
   "cell_type": "markdown",
   "id": "b05935bf-978d-4717-9aa5-53f1af9b02a4",
   "metadata": {},
   "source": [
    "Color bar calibration: the foreground stimuli are normalized to an RMS amplitude of -30 dBFS. We just need\n",
    "to make sure we preserve power correctly in the spectrogram transform, using the same approach as in Fig 1."
   ]
  },
  {
   "cell_type": "code",
   "execution_count": null,
   "id": "ca9f8efc-253c-402c-a8eb-566e438d4084",
   "metadata": {
    "tags": []
   },
   "outputs": [],
   "source": [
    "dummy_stim = find_resource(f\"{foreground}-30_{background}-100.wav\", alt_base=stim_file_path)\n",
    "dummy_signal = load_wave(dummy_stim)\n",
    "stfter = SpectrogramTransform(window_size, dummy_signal[\"sampling_rate\"], max_frequency)\n",
    "fgrid = stfter.freq"
   ]
  },
  {
   "cell_type": "code",
   "execution_count": null,
   "id": "96310f22-dc52-4c93-b96d-2d99bc954f5d",
   "metadata": {},
   "outputs": [],
   "source": [
    "fig, axs = plt.subplots(nrows=len(background_levels) + 1, sharex=True, sharey=True, figsize=(1.3, 2.5), dpi=300)\n",
    "\n",
    "for ax, level in zip(axs, background_levels):\n",
    "    stim_file = stim_file_path / f\"{foreground}-30_{background}{level}.wav\"\n",
    "    stim_data = load_wave(stim_file)\n",
    "    spec = stfter.transform(stim_data[\"signal\"], scaling=None) + 1e-6\n",
    "    log_spec = 10 * np.log10(spec / stfter.scale1)\n",
    "    tgrid = stfter.tgrid(spec)\n",
    "    pos = ax.imshow(log_spec, aspect=\"auto\", origin=\"lower\", vmin=-90, vmax=-20, \n",
    "                   extent=(tgrid[0], tgrid[-1], fgrid[0] / 1000, fgrid[-1] / 1000))\n",
    "\n",
    "\n",
    "# background\n",
    "bkgnd_file = stim_file_path / f\"{background}.wav\"\n",
    "bkgnd_data = load_wave(bkgnd_file)\n",
    "resample(bkgnd_data, stim_data[\"sampling_rate\"])\n",
    "rescale(bkgnd_data, level)\n",
    "spec = stfter.transform(bkgnd_data[\"signal\"], scaling=None) + 1e-6\n",
    "log_spec = 10 * np.log10(spec / stfter.scale1)\n",
    "tgrid = stfter.tgrid(spec)\n",
    "pos = axs[-1].imshow(log_spec, aspect=\"auto\", origin=\"lower\", vmin=-90, vmax=-20, \n",
    "               extent=(tgrid[0], tgrid[-1], fgrid[0] / 1000, fgrid[-1] / 1000))\n",
    "\n",
    "ax.set_xlim(0, 3.0)\n",
    "for ax in axs[:-1]:\n",
    "    ax.get_xaxis().set_visible(False)\n",
    "    ax.set_frame_on(False)\n",
    "    ax.tick_params(axis='y', which='both', left=False, right=False, labelleft=False)\n",
    "fig.subplots_adjust(hspace=0.05, wspace=0.1)\n",
    "\n",
    "cax = fig.add_axes((0.93, 0.11, 0.02, 0.12))\n",
    "cax.tick_params(axis='x', which='both', bottom=False, top=False, labelbottom=False)\n",
    "cax.yaxis.tick_right()\n",
    "cbar = fig.colorbar(pos, cax=cax)\n"
   ]
  },
  {
   "cell_type": "code",
   "execution_count": null,
   "id": "494c4f6c-e14b-4772-a10a-74590e348efa",
   "metadata": {},
   "outputs": [],
   "source": [
    "fig.savefig(\"../figures/behavior_example_stims.pdf\")"
   ]
  },
  {
   "cell_type": "code",
   "execution_count": null,
   "id": "d1872f7e-037d-470c-a33d-ecf80dbff7eb",
   "metadata": {},
   "outputs": [],
   "source": []
  }
 ],
 "metadata": {
  "kernelspec": {
   "display_name": "cr-pr-adults",
   "language": "python",
   "name": "cr-pr-adults"
  },
  "language_info": {
   "codemirror_mode": {
    "name": "ipython",
    "version": 3
   },
   "file_extension": ".py",
   "mimetype": "text/x-python",
   "name": "python",
   "nbconvert_exporter": "python",
   "pygments_lexer": "ipython3",
   "version": "3.11.2"
  }
 },
 "nbformat": 4,
 "nbformat_minor": 5
}
