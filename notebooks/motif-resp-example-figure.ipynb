{
 "cells": [
  {
   "cell_type": "markdown",
   "id": "a3aae394-a139-4d6d-adde-1f1d415c8858",
   "metadata": {},
   "source": [
    "This notebook is used to generate some example plots of neural responses."
   ]
  },
  {
   "cell_type": "code",
   "execution_count": null,
   "id": "6f6a0dbc-320d-41ce-8560-b9bd228c3895",
   "metadata": {},
   "outputs": [],
   "source": [
    "import sys\n",
    "sys.path.insert(0, \"../scripts\")"
   ]
  },
  {
   "cell_type": "code",
   "execution_count": null,
   "id": "fb506cdf-56bb-407c-bc6b-d61e0e09fe82",
   "metadata": {},
   "outputs": [],
   "source": [
    "%env NBANK_REGISTRY https://gracula.psyc.virginia.edu/neurobank"
   ]
  },
  {
   "cell_type": "code",
   "execution_count": null,
   "id": "86165be1-3ace-4dc2-9b2f-32c17e3e274e",
   "metadata": {},
   "outputs": [],
   "source": [
    "import json\n",
    "import logging\n",
    "from pathlib import Path\n",
    "from functools import partial\n",
    "\n",
    "import ewave\n",
    "import numpy as np\n",
    "from numpy.random import default_rng\n",
    "import pandas as pd\n",
    "import matplotlib.pyplot as plt\n",
    "import seaborn as sns\n",
    "from matplotlib.patches import Rectangle\n",
    "from matplotlib.colors import LinearSegmentedColormap, ListedColormap\n",
    "from dlab import pprox, nbank, spikes, plotting, signal\n",
    "import statsmodels.api as sm\n",
    "import statsmodels.formula.api as smf\n",
    "import statsmodels.stats.multitest as smt\n",
    "\n",
    "import graphics_defaults\n",
    "from core import MotifSplitter, MotifBackgroundSplitter, split_trials\n",
    "\n",
    "rng = default_rng()"
   ]
  },
  {
   "cell_type": "code",
   "execution_count": null,
   "id": "93feea1f-73de-494f-9a80-e02937a43c49",
   "metadata": {},
   "outputs": [],
   "source": [
    "rate_binwidth = 0.005\n",
    "rate_bandwidth = 0.02\n",
    "kernel, _ = signal.kernel(\"gaussian\", rate_bandwidth, rate_binwidth)"
   ]
  },
  {
   "cell_type": "code",
   "execution_count": null,
   "id": "4af3c764-e7eb-4516-a9c8-d48c58254df7",
   "metadata": {},
   "outputs": [],
   "source": [
    "area_names = {\n",
    "    \"deep\": \"L3/NCM\",\n",
    "    \"intermediate\": \"L2a/L2b\",\n",
    "    \"superficial\": \"L1/CM\"\n",
    "}\n",
    "feature_file = Path(\"..\") / \"build\" / \"mean_spike_features.csv\"\n",
    "features = pd.read_csv(feature_file)[[\"unit\", \"spike\"]]\n",
    "features[\"site\"] = features.unit.apply(lambda s: \"_\".join(s.split(\"_\")[:-1]))\n",
    "site_file = Path(\"..\") / \"inputs\" / \"recording_metadata.csv\"\n",
    "sites = pd.read_csv(site_file, index_col=\"site\")\n",
    "sites[\"area\"] = pd.Categorical(sites[\"area\"].apply(lambda s: area_names[s]), categories=[\"L2a/L2b\", \"L1/CM\", \"L3/NCM\"], ordered=True)\n",
    "bird_file = Path(\"..\") / \"inputs\" / \"bird_metadata.csv\"\n",
    "birds = pd.read_csv(bird_file, index_col=\"bird\")\n",
    "features = features.join(sites, on=\"site\", how=\"inner\").set_index(\"unit\")"
   ]
  },
  {
   "cell_type": "code",
   "execution_count": null,
   "id": "01804c91-90f1-4f93-bed4-ed42f050f9ad",
   "metadata": {},
   "outputs": [],
   "source": [
    "selected_motifs = [\"0oq8ifcb\",\"g29wxi4q\", \"vekibwgj\", \"ztqee46x\"]\n",
    "unit_names = [\n",
    "    \"C194_3_1_c126\",\n",
    "    \"C104_4_1_c120\",\n",
    "    \"C42_4_1_c131\",\n",
    "    \"C42_4_1_c14\",\n",
    "    \"C104_3_1_c201\",\n",
    "    \"C44_3_1_c74\",\n",
    "]\n",
    "features.loc[unit_names]"
   ]
  },
  {
   "cell_type": "code",
   "execution_count": null,
   "id": "fa2d9f8d-1bbd-4ca1-840d-d5b97ca59c26",
   "metadata": {},
   "outputs": [],
   "source": [
    "unit_responses = []\n",
    "for unit_name, pprox_file in nbank.find_resources(*unit_names):\n",
    "    unit = json.loads(pprox_file.read_text())\n",
    "    splitter = MotifBackgroundSplitter()\n",
    "    responses = (\n",
    "        split_trials(splitter, unit)\n",
    "        .reset_index()\n",
    "        .rename(columns=lambda s: s.replace(\"-\", \"_\"))\n",
    "        .query(\"background_dBFS == -100 | foreground == 'silence'\")\n",
    "        .query(\"foreground != 'background'\")\n",
    "        .drop([\"background\", \"foreground_dBFS\", \"offset\"], axis=1)\n",
    "    )\n",
    "    responses[\"unit\"] = unit_name\n",
    "    unit_responses.append(responses)\n",
    "motifs = pd.concat(unit_responses)\n",
    "motifs[\"n_events\"] = motifs.events.fillna(\"\").apply(len)\n",
    "motifs[\"rate\"] = (motifs.n_events / motifs.interval_end)\n",
    "motif_names = [\"silence\"] + list(set(motifs.foreground.unique()) - {\"silence\"})\n",
    "motifs[\"foreground\"] = pd.Categorical(motifs.foreground, categories=motif_names, ordered=True)"
   ]
  },
  {
   "cell_type": "code",
   "execution_count": null,
   "id": "2dd5f98a-1660-4279-9c8e-4d396d945e83",
   "metadata": {},
   "outputs": [],
   "source": [
    "wav_signals = {}\n",
    "for name, location in nbank.find_resources(*motif_names):\n",
    "    if not isinstance(location, Path):\n",
    "        wav_signals[name] = None\n",
    "    else:\n",
    "        with ewave.wavfile(location, \"r\") as fp:\n",
    "            wav_signals[name] = (fp.read(), fp.sampling_rate)"
   ]
  },
  {
   "cell_type": "code",
   "execution_count": null,
   "id": "2d4fd583-d470-44b1-9d23-38d2ec318bcb",
   "metadata": {},
   "outputs": [],
   "source": [
    "n_motifs = len(selected_motifs)\n",
    "n_units = len(unit_names)\n",
    "df = motifs.set_index([\"foreground\", \"unit\"])\n",
    "fig, axes = plt.subplots(nrows=1 + n_units, ncols=n_motifs, sharex=True, sharey=\"row\", figsize=(3, 2.9), dpi=300)\n",
    "for col, motif in zip(axes.T, selected_motifs):\n",
    "    plotting.spectrogram(col[0], frequency_range=(0, 8000), *wav_signals[motif])\n",
    "    col[0].set_yticks([0, 4000, 8000], [\"0\", \"4\", \"8\"])\n",
    "    col[0].get_xaxis().set_visible(False)\n",
    "    # col[0].set_title(motif)\n",
    "    motif_trials = df.loc[motif]\n",
    "    for row, unit in zip(col[1:], unit_names):\n",
    "        trials = motif_trials.loc[unit]\n",
    "        for i, trial in enumerate(trials.itertuples()):\n",
    "            if isinstance(trial.events, float):\n",
    "                continue\n",
    "            row.plot(\n",
    "                trial.events,\n",
    "                [i] * trial.events.size,\n",
    "                color=\"k\",\n",
    "                marker=\"|\",\n",
    "                markeredgewidth=0.2,\n",
    "                markersize=1.2,\n",
    "                linestyle=\"\",\n",
    "            )\n",
    "        row.tick_params(axis='y', which='both', left=False, right=False, labelleft=False)\n",
    "# much axis annoyance\n",
    "for i in range(n_motifs):\n",
    "    for boundary in (\"right\", \"bottom\", \"top\"):\n",
    "        axes[0, i].spines[boundary].set_visible(False)\n",
    "    axes[0, i].get_xaxis().set_visible(False)\n",
    "    if i > 0:\n",
    "        axes[0, i].get_yaxis().set_visible(False)\n",
    "        axes[0, i].spines[\"left\"].set_visible(False)\n",
    "for i, unit_name in enumerate(unit_names, start=1):\n",
    "    info = features.loc[unit_name]\n",
    "    axes[i, 0].set_ylabel(f\"{info.area}\\n{info.spike}\")\n",
    "    if i < n_units:\n",
    "        for ax in axes[i]:\n",
    "            for boundary in (\"left\", \"right\", \"bottom\", \"top\"):\n",
    "                ax.spines[boundary].set_visible(False)\n",
    "            ax.get_xaxis().set_visible(False)\n",
    "            #ax.set_frame_on(False)\n",
    "    else:\n",
    "        for ax in axes[i]:\n",
    "            for boundary in (\"left\", \"right\",\"top\"):\n",
    "                ax.spines[boundary].set_visible(False)\n",
    "fig.subplots_adjust(hspace=0.1, wspace=0.1)"
   ]
  },
  {
   "cell_type": "code",
   "execution_count": null,
   "id": "61ec75b6-438d-4aeb-bed5-c7cef571eed9",
   "metadata": {},
   "outputs": [],
   "source": [
    "fig.savefig(f\"../figures/motif_rasters.pdf\")"
   ]
  },
  {
   "cell_type": "markdown",
   "id": "3ffa609e-43ca-4f81-baee-ac779f7aa203",
   "metadata": {},
   "source": [
    "## Firing rates and selectivity"
   ]
  },
  {
   "cell_type": "code",
   "execution_count": null,
   "id": "5d4a1e11-32dd-4f9d-908b-5cee7dd9c956",
   "metadata": {},
   "outputs": [],
   "source": [
    "def rate_model(df):\n",
    "    lm = smf.glm(\"n_events ~ foreground\", data=df, family=sm.families.Poisson(), offset=np.log(df[\"interval_end\"])).fit()\n",
    "    conf_int = lm.conf_int()\n",
    "    coefs = (\n",
    "        pd.DataFrame({\"stimulus\": motif_names, \n",
    "                      \"coef\": lm.params, \n",
    "                      \"std err\": lm.bse, \n",
    "                      \"pvalue\": smt.multipletests(lm.pvalues, method=\"sidak\")[1],\n",
    "                      \"coef_lcl\": conf_int[0],\n",
    "                      \"coef_ucl\": conf_int[1]\n",
    "                     })\n",
    "        .reset_index(drop=True)\n",
    "        .set_index(\"stimulus\")\n",
    "    )\n",
    "    coefs[\"responsive\"] = (coefs.coef > 0) & (coefs.pvalue < 0.05)\n",
    "    return coefs"
   ]
  },
  {
   "cell_type": "code",
   "execution_count": null,
   "id": "f5f3722d-3a68-454b-9533-04e32367ff89",
   "metadata": {},
   "outputs": [],
   "source": [
    "spike_type_colors = [\"#70549B\", \"#FF7F0E\"]\n",
    "example_units = features.loc[unit_names].query(\"area=='L3/NCM'\").index\n",
    "rates = motifs.set_index(\"unit\").loc[example_units].groupby(\"unit\").apply(rate_model)"
   ]
  },
  {
   "cell_type": "code",
   "execution_count": null,
   "id": "af3ab377-99a1-4a4f-ba20-c476318cf6fa",
   "metadata": {},
   "outputs": [],
   "source": [
    "fig, axes = plt.subplots(nrows=2, ncols=1, sharex=True, figsize=(1, 2.2), dpi=300)\n",
    "for i, unit_name in enumerate(example_units):\n",
    "    coefs = rates.loc[unit_name]\n",
    "    spont = coefs.loc[\"silence\"]\n",
    "    evoked = coefs.iloc[1:].sort_values(by=\"coef\", ascending=False)\n",
    "    evoked[\"rank\"] = np.arange(evoked.shape[0]) + 1\n",
    "    evoked[\"pred\"] = np.exp(evoked.coef + spont.coef)\n",
    "    responsive = evoked.loc[evoked.responsive]\n",
    "    axes[i].axhline(np.exp(spont['coef']), color=\"black\", linestyle='--')\n",
    "    axes[i].plot(evoked[\"rank\"], evoked.pred, 'o-', markersize=2.5, markerfacecolor=\"white\", markeredgewidth=0.2, color=spike_type_colors[i])\n",
    "    axes[i].plot(responsive[\"rank\"], responsive.pred, 'o', markersize=1.5, color=spike_type_colors[i])\n",
    "    axes[i].set_title(unit_name, fontsize=3, pad=0, loc=\"right\")\n",
    "    axes[i].set_ylim(- evoked.iloc[0].pred * 0.05, evoked.iloc[0].pred * 1.05)\n",
    "axes[1].set_ylabel(\"Firing rate (Hz)\")\n",
    "axes[1].set_xlabel(\"Stimulus rank\")"
   ]
  },
  {
   "cell_type": "code",
   "execution_count": null,
   "id": "032d78d5-ba13-4a22-959e-48d2e87e62dd",
   "metadata": {},
   "outputs": [],
   "source": [
    "fig.savefig(f\"../figures/motif_rates.pdf\")"
   ]
  },
  {
   "cell_type": "code",
   "execution_count": null,
   "id": "7a68bfc4-f349-40a2-bb45-49313b6bc36f",
   "metadata": {},
   "outputs": [],
   "source": [
    "fig, axes = plt.subplots(nrows=1, ncols=1, sharex=True, figsize=(1.0, 1.0), dpi=300)\n",
    "for i, unit_name in enumerate(example_units):\n",
    "    coefs = rates.loc[unit_name]\n",
    "    spont = coefs.loc[\"silence\"]\n",
    "    evoked = coefs.iloc[1:].sort_values(by=\"coef\", ascending=False)\n",
    "    evoked[\"rank\"] = np.arange(evoked.shape[0]) + 1\n",
    "    evoked[\"pred\"] = np.exp(evoked.coef + spont.coef)\n",
    "    evoked[\"norm\"] = evoked.pred / evoked.pred.max()\n",
    "    responsive = evoked.loc[evoked.responsive]\n",
    "    axes.axhline(np.exp(spont['coef']) / evoked.pred.max(), linestyle='--', color=spike_type_colors[i])\n",
    "    axes.plot(evoked[\"rank\"], evoked.norm, 'o-', markersize=1.5, markerfacecolor=\"white\", markeredgewidth=0.2, color=spike_type_colors[i])\n",
    "    axes.plot(responsive[\"rank\"], responsive.norm, 'o', markersize=1.0, color=spike_type_colors[i])\n",
    "axes.set_ylabel(\"Normalized Firing Rate\")\n",
    "axes.set_xlabel(\"Stimulus rank\")"
   ]
  },
  {
   "cell_type": "markdown",
   "id": "c92e5487-19f4-4000-b605-d14847d8a5ee",
   "metadata": {},
   "source": [
    "## Sparseness"
   ]
  },
  {
   "cell_type": "code",
   "execution_count": null,
   "id": "6de2b8ee-6d69-492f-b95d-9665361f4f19",
   "metadata": {},
   "outputs": [],
   "source": [
    "rate_file = Path(\"..\") / \"build\" / \"motif_rate_coefs.csv\"\n",
    "rates = pd.read_csv(rate_file)\n",
    "rates[\"bird\"] = rates.unit.apply(lambda s: s.split(\"_\")[0])\n",
    "rates = rates.join(features, on=\"unit\", how=\"inner\").join(birds, on=\"bird\", how=\"inner\")\n",
    "rates"
   ]
  },
  {
   "cell_type": "code",
   "execution_count": null,
   "id": "1735a7e1-dee5-47e8-8276-407131bad0e9",
   "metadata": {},
   "outputs": [],
   "source": [
    "bs_site = (\n",
    "    rates\n",
    "    .set_index(\"site\")\n",
    "    .loc[\"C104_3_1\"]\n",
    "    .query(\"spike=='wide'\")\n",
    "    .set_index([\"unit\", \"foreground\"])\n",
    "    .is_responsive\n",
    "    .unstack()\n",
    ")\n",
    "ns_site = (\n",
    "    rates\n",
    "    .set_index(\"site\")\n",
    "    .loc[\"C44_3_1\"]\n",
    "    .query(\"spike=='narrow'\")\n",
    "    .set_index([\"unit\", \"foreground\"])\n",
    "    .is_responsive\n",
    "    .unstack()\n",
    ")\n",
    "bs_spar = 1 - bs_site.mean().mean()\n",
    "ns_spar = 1 - ns_site.mean().mean()"
   ]
  },
  {
   "cell_type": "code",
   "execution_count": null,
   "id": "2ffcccc8-8dc8-488f-9e7b-c5a59b1a1d82",
   "metadata": {},
   "outputs": [],
   "source": [
    "bs_site.sort_values(list(bs_site.columns)).index.get_loc(example_units[0])"
   ]
  },
  {
   "cell_type": "code",
   "execution_count": null,
   "id": "7f4eb11b-d87f-470c-b397-66a54b6a454d",
   "metadata": {},
   "outputs": [],
   "source": [
    "ns_site.sort_values(list(ns_site.columns)).index.get_loc(example_units[1])"
   ]
  },
  {
   "cell_type": "code",
   "execution_count": null,
   "id": "99617330-f410-49dc-bf94-df0546d2ad9e",
   "metadata": {},
   "outputs": [],
   "source": [
    "ns_site.shape"
   ]
  },
  {
   "cell_type": "code",
   "execution_count": null,
   "id": "f1fcfce0-985d-4a2f-bb1c-075bff055c47",
   "metadata": {},
   "outputs": [],
   "source": [
    "cmap_bs = ListedColormap([\"white\", spike_type_colors[0]])\n",
    "cmap_ns = ListedColormap([\"white\", spike_type_colors[1]])\n",
    "\n",
    "fig, axes = plt.subplots(nrows=2, ncols=1, sharex=True, figsize=(0.7, 1.8), height_ratios=(bs_site.shape[0], ns_site.shape[0]), dpi=300)\n",
    "axes[0].imshow(bs_site.sort_values(list(bs_site.columns)), cmap=cmap_bs, interpolation=\"none\")\n",
    "axes[0].set_title(f\"sparseness = {bs_spar:.2f}\", fontsize=3, pad=0, loc=\"right\")\n",
    "axes[1].imshow(ns_site.sort_values(list(ns_site.columns)), cmap=cmap_ns, interpolation=\"none\")\n",
    "axes[1].set_title(f\"sparseness = {ns_spar:.2f}\", fontsize=3, pad=0, loc=\"right\")\n",
    "axes[1].set_ylabel(\"Neuron\")\n",
    "axes[1].set_xlabel(\"Stimulus\")"
   ]
  },
  {
   "cell_type": "code",
   "execution_count": null,
   "id": "6abeb7a7-71db-4445-80f9-38cfeb138663",
   "metadata": {},
   "outputs": [],
   "source": [
    "fig.savefig(f\"../figures/motif_sparseness.pdf\")"
   ]
  },
  {
   "cell_type": "markdown",
   "id": "886c2c18-0a29-4d02-ab1a-5d82dcb3ebb8",
   "metadata": {},
   "source": [
    "## Motif discriminability"
   ]
  },
  {
   "cell_type": "code",
   "execution_count": null,
   "id": "08a25732-103d-47c6-805f-cc84777add20",
   "metadata": {},
   "outputs": [],
   "source": [
    "from core import trial_to_spike_train, pairwise_spike_comparison, inv_spike_sync_matrix\n",
    "from motif_discrim import ShuffledLeaveOneOut\n",
    "from sklearn.neighbors import KNeighborsClassifier\n",
    "from sklearn.metrics import confusion_matrix, ConfusionMatrixDisplay\n",
    "from sklearn.model_selection import cross_validate, LeaveOneOut, cross_val_score, cross_val_predict"
   ]
  },
  {
   "cell_type": "code",
   "execution_count": null,
   "id": "c92dfe20-a009-4e3a-865d-7acae23e677e",
   "metadata": {},
   "outputs": [],
   "source": [
    "bkgnd_levels = (-25, -100)\n",
    "figsize_distances = (1.5, 2.5)\n",
    "fig, axes = plt.subplots(nrows=2, ncols=1, sharex=True, sharey=True, figsize=(2.4, 3.5), dpi=300)\n",
    "for i, unit_name in enumerate(example_units):\n",
    "    trials = motifs.set_index([\"unit\", \"foreground\"]).loc[unit_name].drop([\"silence\", \"igmi8fxa\"])\n",
    "    spike_trains = trials.apply(partial(trial_to_spike_train, interval_end=trials.interval_end.min()), axis=1)\n",
    "    dist = inv_spike_sync_matrix(spike_trains.to_list())\n",
    "    img = axes[i].imshow(1 - dist, vmin=0, vmax=1, aspect=\"equal\", origin=\"upper\", interpolation=None)\n",
    "    for x in range(10, 90, 10):\n",
    "        axes[i].axvline(x, color=\"w\", linewidth=0.5)\n",
    "        axes[i].axhline(x, color=\"w\", linewidth=0.5)\n",
    "    axes[i].get_yaxis().set_visible(False)\n",
    "    axes[i].get_xaxis().set_visible(False)\n",
    "    axes[i].set_title(unit_name, fontsize=3, pad=1, loc=\"right\")\n",
    "fig.colorbar(img, ax=axes, location=\"bottom\", shrink=0.3, aspect=10)  "
   ]
  },
  {
   "cell_type": "code",
   "execution_count": null,
   "id": "dd192c93-6aaa-4eaa-bdf7-ff3d3d0e53fa",
   "metadata": {},
   "outputs": [],
   "source": [
    "fig.savefig(f\"../figures/motif_distances.pdf\")"
   ]
  },
  {
   "cell_type": "code",
   "execution_count": null,
   "id": "c1b6288d-26a2-4639-a404-e0785d728c40",
   "metadata": {},
   "outputs": [],
   "source": [
    "n_neighbors=9\n",
    "\n",
    "def kneighbors_classifier(distance_matrix, rng, normalize=\"true\"):\n",
    "    \"\"\"Compute confusion matrix of a k-neighbors classifier on the spike distance matrix\"\"\"\n",
    "    neigh = KNeighborsClassifier(n_neighbors=n_neighbors, metric=\"precomputed\")\n",
    "    loo = ShuffledLeaveOneOut(rng)\n",
    "    groups = distance_matrix.index\n",
    "    names = groups.unique()\n",
    "    group_idx, _ = pd.factorize(groups)\n",
    "    cv_results = cross_val_score(neigh, distance_matrix.values, group_idx, cv=loo)\n",
    "    pred = cross_val_predict(neigh, distance_matrix.values, group_idx, cv=loo)\n",
    "    cm = confusion_matrix(group_idx, pred, normalize=normalize)\n",
    "    return pd.DataFrame(cm, index=names, columns=names)"
   ]
  },
  {
   "cell_type": "code",
   "execution_count": null,
   "id": "cf6ed001-c1c6-4ff1-aaa6-66dc15724839",
   "metadata": {},
   "outputs": [],
   "source": [
    "rng = np.random.default_rng(1024)\n",
    "\n",
    "fig, axes = plt.subplots(nrows=1, ncols=2, sharex=True, sharey=True, figsize=(1.5, 1.5), dpi=300)\n",
    "for i, unit_name in enumerate(example_units):\n",
    "    trials = motifs.set_index([\"unit\", \"foreground\"]).loc[unit_name].drop([\"silence\", \"igmi8fxa\"])\n",
    "    spike_trains = trials.apply(partial(trial_to_spike_train, interval_end=trials.interval_end.min()), axis=1)\n",
    "    spike_dists = pairwise_spike_comparison(spike_trains, comparison_fun=inv_spike_sync_matrix, stack=False)\n",
    "    conf_mtx = kneighbors_classifier(spike_dists, rng, normalize=\"true\")\n",
    "    img = axes[i].imshow(conf_mtx, origin=\"upper\", aspect=\"equal\", vmin=0, vmax=1.0)\n",
    "    axes[i].get_yaxis().set_visible(False)\n",
    "    axes[i].get_xaxis().set_visible(False)\n",
    "    axes[i].set_title(unit_name, fontsize=3, pad=1, loc=\"right\")"
   ]
  },
  {
   "cell_type": "code",
   "execution_count": null,
   "id": "aa7cfb65-1e9a-43d0-bb2f-5c57ae52e595",
   "metadata": {},
   "outputs": [],
   "source": [
    "fig.savefig(f\"../figures/motif_classifier.pdf\")"
   ]
  },
  {
   "cell_type": "code",
   "execution_count": null,
   "id": "251b1d85-2feb-4ded-927d-fc395278cd88",
   "metadata": {},
   "outputs": [],
   "source": []
  }
 ],
 "metadata": {
  "kernelspec": {
   "display_name": "noise-invariant-analysis",
   "language": "python",
   "name": "noise-invariant-analysis"
  },
  "language_info": {
   "codemirror_mode": {
    "name": "ipython",
    "version": 3
   },
   "file_extension": ".py",
   "mimetype": "text/x-python",
   "name": "python",
   "nbconvert_exporter": "python",
   "pygments_lexer": "ipython3",
   "version": "3.11.2"
  }
 },
 "nbformat": 4,
 "nbformat_minor": 5
}
