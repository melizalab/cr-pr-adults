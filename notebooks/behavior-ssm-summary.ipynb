{
 "cells": [
  {
   "cell_type": "markdown",
   "id": "d905ae04-7ea1-43f9-b09c-476804dfce8e",
   "metadata": {},
   "source": [
    "# State-space learning model\n",
    "\n",
    "This notebook summarizes results from the SSM model for pretraining and training (2AC)"
   ]
  },
  {
   "cell_type": "code",
   "execution_count": null,
   "id": "16e9f3a5-c1c9-4cbf-b1d8-d36f72deebb7",
   "metadata": {},
   "outputs": [],
   "source": [
    "import <- function(pkg) { library(pkg, warn.conflicts=F, quietly=T, character.only=T) }\n",
    "import(\"repr\")\n",
    "import(\"stringr\")\n",
    "import(\"tidyr\")\n",
    "import(\"dplyr\")\n",
    "import(\"ggplot2\")\n",
    "import(\"diagis\")\n",
    "import(\"bssm\")"
   ]
  },
  {
   "cell_type": "code",
   "execution_count": null,
   "id": "ded0ecd2-2f11-4c3f-8104-8f52f3e0a5f8",
   "metadata": {},
   "outputs": [],
   "source": [
    "options(repr.matrix.max.cols=15, repr.matrix.max.rows=20)\n",
    "options(repr.plot.width=4, repr.plot.height=2.5, repr.plot.res = 300)\n",
    "\n",
    "my.theme <- theme(legend.text=element_text(size=5),\n",
    "                  legend.title=element_text(size=6),\n",
    "                  plot.title = element_text(size=8, hjust=0.5),\n",
    "                  axis.line=element_line(linewidth=0.25),\n",
    "                  axis.ticks=element_line(linewidth=0.25),\n",
    "                  axis.title=element_text(size=8),\n",
    "                  axis.text=element_text(size=6),\n",
    "                  strip.placement=\"outside\",\n",
    "                  strip.text=element_text(size=8),\n",
    "                  strip.background=element_blank())\n",
    "no.legend <- theme(legend.position=\"none\")\n",
    "update_geom_defaults(\"point\", list(fill=\"white\", shape=21, size=1.1))\n",
    "update_geom_defaults(\"line\", list(linewidth=0.25))"
   ]
  },
  {
   "cell_type": "code",
   "execution_count": null,
   "id": "461758dc-0d16-4d71-81b7-6358beed5707",
   "metadata": {},
   "outputs": [],
   "source": [
    "logit <- function(p) log(p / (1 - p))\n",
    "invlogit <- function(x) exp(x) / (1 + exp(x))\n",
    "last_true <- function(x) { \n",
    "    lt <- tail(which(x), 1)\n",
    "    ifelse(identical(lt, integer(0)), 1, lt)\n",
    "}\n",
    "summarize_samples <- function(x) { c(mean=mean(x), lwr=quantile(x, 0.05), upr=quantile(x, 0.95))}\n",
    "crit_name <- \"io_1\""
   ]
  },
  {
   "cell_type": "markdown",
   "id": "22354ad7-8d4f-4e73-b7ae-737420392115",
   "metadata": {},
   "source": [
    "## Pretraining"
   ]
  },
  {
   "cell_type": "markdown",
   "id": "9e3966ad-905e-455a-b6d4-860319f527c1",
   "metadata": {},
   "source": [
    "### Example bird"
   ]
  },
  {
   "cell_type": "code",
   "execution_count": null,
   "id": "dfba92dc-4973-45ad-b941-fbb2bb5ec9fa",
   "metadata": {},
   "outputs": [],
   "source": [
    "results <- readRDS(\"../build/C269_pretrain_ssm_summary.rds\")"
   ]
  },
  {
   "cell_type": "code",
   "execution_count": null,
   "id": "58e6637c-3a0c-4c89-9643-76e0eec75797",
   "metadata": {},
   "outputs": [],
   "source": [
    "summary_bird <- (\n",
    "    results\n",
    "    |> purrr::discard_at(c(\"data\", \"corr\"))\n",
    "    |> purrr::map(~ select(., time, variable, mean, lwr, upr))\n",
    "    |> purrr::list_rbind()\n",
    ")"
   ]
  },
  {
   "cell_type": "code",
   "execution_count": null,
   "id": "f5f1822c-d4dd-49f2-95aa-d8f7dfb30fac",
   "metadata": {},
   "outputs": [],
   "source": [
    "options(repr.plot.width=4, repr.plot.height=2.5, repr.plot.res = 300)\n",
    "p_nr <- (\n",
    "    summary_bird\n",
    "    |> filter(variable==\"level\")\n",
    "    |> inner_join(results$data, by=\"time\")\n",
    "    |> ggplot(aes(trial))\n",
    "    + geom_point(aes(y=ifelse(noresp, 1.05, NA)), shape=\"|\")\n",
    "    + geom_line(mapping=aes(y=mean))\n",
    "    + geom_ribbon(mapping=aes(ymin=lwr, ymax=upr), alpha=0.25)\n",
    "    + scale_y_continuous(\"prob\", breaks=c(0, 0.2, 0.4, 0.6, 0.8, 1.0))\n",
    "    + theme_classic() + no.legend\n",
    ")\n",
    "p_nr"
   ]
  },
  {
   "cell_type": "code",
   "execution_count": null,
   "id": "c1070007-35fc-4013-83bb-2694bcbc8784",
   "metadata": {},
   "outputs": [],
   "source": [
    "options(repr.plot.width=4, repr.plot.height=2.5, repr.plot.res = 300)\n",
    "p_left <- (\n",
    "    summary_bird\n",
    "    |> filter(variable %in% c(\"level\", \"p_left\", \"p_right\"))\n",
    "    |> pivot_wider(names_from=\"variable\", values_from=c(\"mean\", \"upr\", \"lwr\"))\n",
    "    |> inner_join(results$data, by=\"time\")\n",
    "    |> mutate(rpos=(peck_left - 0.5)* 1.1 + 0.5, spos=stim_left * 0.05 - 0.025)\n",
    "    |> ggplot(aes(trial))\n",
    "    + geom_point(aes(y=ifelse(noresp, 1.125, NA)), shape=\"|\")\n",
    "    + geom_point(aes(y=rpos + spos, color=stimulus), shape=\"|\")\n",
    "    + geom_line(mapping=aes(y=mean_level), color=\"black\")\n",
    "    + geom_line(mapping=aes(y=mean_p_left), color=\"red\")\n",
    "    + geom_ribbon(mapping=aes(ymin=lwr_p_left, ymax=upr_p_left), fill=\"red\", alpha=0.25)\n",
    "    + geom_line(mapping=aes(y=mean_p_right), color=\"blue\")\n",
    "    + geom_ribbon(mapping=aes(ymin=lwr_p_right, ymax=upr_p_right), fill=\"blue\", alpha=0.25)\n",
    "    + scale_y_continuous(\"prob\", breaks=c(0, 0.2, 0.4, 0.6, 0.8, 1.0))\n",
    "    + theme_classic() + no.legend\n",
    ")\n",
    "p_left"
   ]
  },
  {
   "cell_type": "code",
   "execution_count": null,
   "id": "da8df614-675e-43fc-ac94-793f10b8bdda",
   "metadata": {},
   "outputs": [],
   "source": [
    "p_discrim <- (\n",
    "    summary_bird\n",
    "    |> filter(variable %in% c(\"discrim\", \"bias\"))\n",
    "    |> inner_join(results$data, by=\"time\")\n",
    "    |> ggplot(aes(trial))\n",
    "    + facet_grid(vars(variable))\n",
    "    + geom_line(mapping=aes(y=mean))\n",
    "    + geom_ribbon(mapping=aes(ymin=lwr, ymax=upr), alpha=0.25)\n",
    "    + geom_hline(yintercept=1, linetype=\"dotted\")\n",
    "    + scale_y_continuous(\"LOR\")\n",
    "    + theme_classic() + no.legend\n",
    ")\n",
    "p_discrim"
   ]
  },
  {
   "cell_type": "markdown",
   "id": "32c9a9e3-1b58-43e7-ae95-a4f5d8f7ff45",
   "metadata": {},
   "source": [
    "### Group data"
   ]
  },
  {
   "cell_type": "code",
   "execution_count": null,
   "id": "1ec11bb8-9a38-447c-8e2c-4703dd8df681",
   "metadata": {},
   "outputs": [],
   "source": [
    "## metadata\n",
    "birds <- data.table::fread(\"../inputs/bird_metadata.csv\")"
   ]
  },
  {
   "cell_type": "code",
   "execution_count": null,
   "id": "d7761a82-307e-4a14-98c7-3406a22a15e4",
   "metadata": {},
   "outputs": [],
   "source": [
    "load_discrim_summary <- function(subject) {\n",
    "    summary_file <- str_c(\"../build/\", subject, \"_pretrain_ssm_summary.rds\")\n",
    "    if (file.exists(summary_file)) {\n",
    "        summaries <- readRDS(summary_file)\n",
    "        ( \n",
    "            summaries\n",
    "            |> purrr::discard_at(c(\"data\", \"corr\"))\n",
    "            |> purrr::map(~ select(., time, variable, mean, lwr, upr))\n",
    "            |> purrr::list_rbind()\n",
    "            |> inner_join(summaries$data, by=\"time\")\n",
    "        )\n",
    "    }\n",
    "}"
   ]
  },
  {
   "cell_type": "code",
   "execution_count": null,
   "id": "d545a9d4-10f4-4535-a73a-a9e3d8367f29",
   "metadata": {},
   "outputs": [],
   "source": [
    "summary_all <- (\n",
    "    birds$bird\n",
    "    |> purrr::map(load_discrim_summary) \n",
    "    |> purrr::list_rbind()\n",
    "    |> inner_join(birds, by=c(subject=\"bird\"))\n",
    ")"
   ]
  },
  {
   "cell_type": "markdown",
   "id": "c20be73b-db68-4645-8172-5c66cf2d13f0",
   "metadata": {},
   "source": [
    "#### Plots of individual learning curves\n",
    "\n",
    "Mostly useful for inspection."
   ]
  },
  {
   "cell_type": "code",
   "execution_count": null,
   "id": "4c3aafa8-243f-42d0-b096-711a4907efcf",
   "metadata": {},
   "outputs": [],
   "source": [
    "options(repr.plot.width=4, repr.plot.height=2.5, repr.plot.res = 300)\n",
    "p_noresp <- (\n",
    "    summary_all\n",
    "    |> filter(variable==\"level\")\n",
    "    |> ggplot(aes(trial))\n",
    "    + geom_line(mapping=aes(y=mean, group=subject, color=subject))\n",
    "    + facet_grid(vars(group))\n",
    "    #+ geom_ribbon(mapping=aes(ymin=lwr, ymax=upr, fill=subject), alpha=0.25)\n",
    "    #+ geom_hline(yintercept=0, linetype=\"dotted\")\n",
    "    + scale_y_continuous(\"p(no_resp)\")\n",
    "    + theme_classic() + no.legend\n",
    ")\n",
    "p_noresp"
   ]
  },
  {
   "cell_type": "code",
   "execution_count": null,
   "id": "d50ed1b9-6de8-448f-90ae-ac0a0d5021b6",
   "metadata": {},
   "outputs": [],
   "source": [
    "options(repr.plot.width=4, repr.plot.height=2.5, repr.plot.res = 300)\n",
    "p_discrim <- (\n",
    "    summary_all\n",
    "    |> filter(variable==\"discrim\")\n",
    "    |> ggplot(aes(trial))\n",
    "    + geom_line(mapping=aes(y=mean, group=subject, color=subject))\n",
    "    + facet_grid(vars(group))\n",
    "    #+ geom_ribbon(mapping=aes(ymin=lwr, ymax=upr, fill=subject), alpha=0.25)\n",
    "    + geom_hline(yintercept=0, linetype=\"dotted\")\n",
    "    + scale_y_continuous(\"discrim (LOR)\")\n",
    "    + theme_classic() + no.legend\n",
    ")\n",
    "p_discrim"
   ]
  },
  {
   "cell_type": "code",
   "execution_count": null,
   "id": "89e2070f-4a36-4c4f-ab1b-b15ce4a61893",
   "metadata": {},
   "outputs": [],
   "source": [
    "options(repr.plot.width=4, repr.plot.height=2.5, repr.plot.res = 300)\n",
    "p_discrim <- (\n",
    "    summary_all\n",
    "    |> filter(variable==\"bias\")\n",
    "    |> ggplot(aes(trial))\n",
    "    + geom_line(mapping=aes(y=mean, group=subject, color=subject))\n",
    "    + facet_grid(vars(group))\n",
    "    #+ geom_ribbon(mapping=aes(ymin=lwr, ymax=upr, fill=subject), alpha=0.25)\n",
    "    + geom_hline(yintercept=0, linetype=\"dotted\")\n",
    "    + scale_y_continuous(\"Bias (log odds)\")\n",
    "    + theme_classic() + no.legend\n",
    ")\n",
    "p_discrim"
   ]
  },
  {
   "cell_type": "markdown",
   "id": "e0d4b580-5f3c-4616-ae9d-c8eabacd3fa8",
   "metadata": {},
   "source": [
    "#### Trials to criterion"
   ]
  },
  {
   "cell_type": "code",
   "execution_count": null,
   "id": "32f04bc2-bf97-4f7a-9322-eabbdb37c4f4",
   "metadata": {},
   "outputs": [],
   "source": [
    "summary_discrim <- filter(summary_all, variable==\"discrim\")\n",
    "summary_criterion <- (\n",
    "    summary_discrim\n",
    "    |> mutate(io_chance=lwr < 0, io_1=lwr < 1.0)\n",
    "    |> group_by(subject)\n",
    "    |> summarize(across(starts_with(\"io_\"), last_true), success=any(lwr >= 1.0))\n",
    "    |> pivot_longer(starts_with(\"io_\"), values_to=\"time\")\n",
    "    |> inner_join(summary_discrim, by=c(\"subject\", \"time\"))\n",
    "    |> select(subject, name, time, trial, tot_rewarded, tot_noresp, success, uuid, sex, group, age, sibling)\n",
    ")"
   ]
  },
  {
   "cell_type": "code",
   "execution_count": null,
   "id": "8a240bb9-21ec-4212-a2ae-2aa1faac7438",
   "metadata": {},
   "outputs": [],
   "source": [
    "summary_criterion |> filter(name==crit_name) |> arrange(group) #|> xtabs(~ group, data=_)"
   ]
  },
  {
   "cell_type": "code",
   "execution_count": null,
   "id": "25bc1695-eccf-40f2-941a-81b62561ee89",
   "metadata": {},
   "outputs": [],
   "source": [
    "options(repr.plot.width=1.5, repr.plot.height=2, repr.plot.res = 300)\n",
    "(\n",
    "    summary_criterion\n",
    "    |> filter(name==crit_name)\n",
    "    |> ggplot(aes(group, trial))\n",
    "    + geom_point(aes(shape=success))\n",
    "    + scale_shape_manual(values=c(4, 16))\n",
    "    + theme_classic() + my.theme + no.legend\n",
    ")"
   ]
  },
  {
   "cell_type": "code",
   "execution_count": null,
   "id": "5aef402d-3e2d-42a6-acc4-34e08b66f199",
   "metadata": {},
   "outputs": [],
   "source": [
    "options(repr.plot.width=1.5, repr.plot.height=2, repr.plot.res = 300)\n",
    "(\n",
    "    summary_criterion\n",
    "    |> filter(name==crit_name, success==TRUE)\n",
    "    |> ggplot(aes(group, trial))\n",
    "    + geom_boxplot(width=0.2)\n",
    "    + theme_classic() + my.theme + no.legend\n",
    ")"
   ]
  },
  {
   "cell_type": "code",
   "execution_count": null,
   "id": "4fdfd653-802c-431a-8a62-2da2e871d203",
   "metadata": {},
   "outputs": [],
   "source": [
    "options(repr.plot.width=2.5, repr.plot.height=2, repr.plot.res = 300)\n",
    "(\n",
    "    summary_criterion\n",
    "    |> filter(name==crit_name)\n",
    "    |> ggplot(aes(sibling, trial))\n",
    "    + geom_point(aes(color=group, shape=success))\n",
    "    + scale_shape_manual(values=c(4, 16))\n",
    "    + theme_classic() + my.theme\n",
    ")"
   ]
  },
  {
   "cell_type": "code",
   "execution_count": null,
   "id": "25739094-ba48-4fef-aafc-2d21b8c9e8e7",
   "metadata": {},
   "outputs": [],
   "source": [
    "options(repr.plot.width=5, repr.plot.height=2, repr.plot.res = 300)\n",
    "(\n",
    "    summary_criterion\n",
    "    |> filter(name==crit_name)\n",
    "    |> pivot_longer(cols=3:6, names_to=\"count\", values_to=\"trials\")\n",
    "    |> ggplot(aes(sibling, trials))\n",
    "    + facet_grid(~ count)\n",
    "    + geom_point(aes(color=group))\n",
    "    + theme_classic() + my.theme\n",
    ")"
   ]
  },
  {
   "cell_type": "code",
   "execution_count": null,
   "id": "c78b2671-38fb-4dde-a5ff-0b6f2334b5bf",
   "metadata": {},
   "outputs": [],
   "source": [
    "(\n",
    "    summary_criterion\n",
    "    |> filter(name==crit_name, success=TRUE)\n",
    "    |> t.test(trial ~ group, data=_)\n",
    ")"
   ]
  },
  {
   "cell_type": "markdown",
   "id": "641e5b8d-1f26-46ca-a3ab-d5d4c60c7e50",
   "metadata": {},
   "source": [
    "#### Average discrimination\n",
    "\n",
    "Excluding birds that failed (C250), what is average performance at trial 2799 (when fastest bird succeeded)?"
   ]
  },
  {
   "cell_type": "code",
   "execution_count": null,
   "id": "df6f4d91-1be8-4c34-b696-63a838b6da3f",
   "metadata": {},
   "outputs": [],
   "source": [
    "max_trials <- (\n",
    "    summary_discrim\n",
    "    |> filter(!subject %in% c(\"C197\", \"C250\"))\n",
    "    |> group_by(subject)\n",
    "    |> summarize(trial=max(trial))\n",
    ")\n",
    "discrim_by_first_removal <- (\n",
    "    summary_discrim\n",
    "    |> filter(!subject %in% c(\"C197\", \"C250\"))\n",
    "    |> group_by(subject)\n",
    "    |> filter(trial >= min(max_trials$trial))\n",
    "    |> filter(row_number() == 1)\n",
    ")"
   ]
  },
  {
   "cell_type": "code",
   "execution_count": null,
   "id": "ea335128-17a8-47c6-88a6-85f44bf3832e",
   "metadata": {},
   "outputs": [],
   "source": [
    "options(repr.plot.width=1.5, repr.plot.height=2, repr.plot.res = 300)\n",
    "(\n",
    "    discrim_by_first_removal\n",
    "    |> ggplot(aes(group, mean))\n",
    "    + geom_point()\n",
    "    + ylab(\"Discrim (LOR)\")\n",
    "    + theme_classic() + my.theme + no.legend\n",
    ")"
   ]
  },
  {
   "cell_type": "code",
   "execution_count": null,
   "id": "61c11395-2a74-4b45-8f79-914fb76cbe40",
   "metadata": {},
   "outputs": [],
   "source": [
    "(\n",
    "    discrim_by_first_removal\n",
    "    |> t.test(mean ~ group, data=_)\n",
    ")"
   ]
  },
  {
   "cell_type": "markdown",
   "id": "18490769-9c9a-4727-9821-0c49f23414e9",
   "metadata": {},
   "source": [
    "#### Non-response probability\n",
    "\n",
    "Average the log odds of non-response in the last 100 trials before the birds reach criterion."
   ]
  },
  {
   "cell_type": "code",
   "execution_count": null,
   "id": "b1d27dbb-830a-405c-af56-106fa0852c9b",
   "metadata": {},
   "outputs": [],
   "source": [
    "last_trial_stats <- (\n",
    "    filter(summary_all, variable==\"level\")\n",
    "    |> inner_join(summary_criterion |> filter(name==crit_name) |> select(subject, crit_time=time), by=\"subject\")\n",
    "    |> group_by(subject)\n",
    "    |> filter(crit_time - time < 100 & crit_time - time > 0)\n",
    "    |> summarize(p_noresp=mean(mean))\n",
    "    |> inner_join(birds, by=c(subject=\"bird\"))\n",
    "    |> ggplot(aes(group, p_noresp))\n",
    "    + geom_boxplot(width=0.2)\n",
    ")\n",
    "last_trial_stats"
   ]
  },
  {
   "cell_type": "markdown",
   "id": "9ebf2dda-9617-42d4-9414-5d49a8c272c4",
   "metadata": {},
   "source": [
    "## Training"
   ]
  },
  {
   "cell_type": "code",
   "execution_count": null,
   "id": "7161a573-895b-4df8-8225-994c66f74891",
   "metadata": {},
   "outputs": [],
   "source": [
    "options(repr.plot.width=1.5, repr.plot.height=2, repr.plot.res = 300)\n",
    "(\n",
    "    last_trial_stats\n",
    "    |> ggplot(aes(group, p_noresp))\n",
    "    + geom_point()\n",
    "    + ylab(\"p(no resp)\")\n",
    "    + theme_classic() + my.theme + no.legend\n",
    ")"
   ]
  },
  {
   "cell_type": "code",
   "execution_count": null,
   "id": "81cf53e5-0945-460e-978d-76c5b1ed293b",
   "metadata": {},
   "outputs": [],
   "source": [
    "(\n",
    "    last_trial_stats\n",
    "    |> t.test(p_noresp ~ group, data=_)\n",
    ")"
   ]
  },
  {
   "cell_type": "markdown",
   "id": "eb551281-626a-4a17-a610-f4921e7172d7",
   "metadata": {},
   "source": [
    "### Example bird"
   ]
  },
  {
   "cell_type": "code",
   "execution_count": null,
   "id": "608e0bc7-05a1-4693-bd4b-c603ff61b940",
   "metadata": {},
   "outputs": [],
   "source": [
    "results <- readRDS(\"../build/Rb279_train_ssm_summary.rds\")"
   ]
  },
  {
   "cell_type": "code",
   "execution_count": null,
   "id": "f3ac9628-c861-4931-a8d7-ae9bbc85119a",
   "metadata": {},
   "outputs": [],
   "source": [
    "summary_bird <- (\n",
    "    results\n",
    "    |> purrr::discard_at(c(\"data\", \"corr\"))\n",
    "    |> purrr::map(~ select(., time, variable, mean, lwr, upr))\n",
    "    |> purrr::list_rbind()\n",
    ")"
   ]
  },
  {
   "cell_type": "code",
   "execution_count": null,
   "id": "feaeb1e1-48b4-40ee-9038-8d5c1e7be8d2",
   "metadata": {},
   "outputs": [],
   "source": [
    "options(repr.plot.width=4, repr.plot.height=2.5, repr.plot.res = 300)\n",
    "p_nr <- (\n",
    "    summary_bird\n",
    "    |> filter(variable==\"level\")\n",
    "    |> inner_join(results$data, by=\"time\")\n",
    "    |> ggplot(aes(trial))\n",
    "    + geom_point(aes(y=ifelse(noresp, 1.05, NA)), shape=\"|\")\n",
    "    + geom_line(mapping=aes(y=mean))\n",
    "    + geom_ribbon(mapping=aes(ymin=lwr, ymax=upr), alpha=0.25)\n",
    "    + scale_y_continuous(\"prob\", breaks=c(0, 0.2, 0.4, 0.6, 0.8, 1.0))\n",
    "    + theme_classic() + no.legend\n",
    ")\n",
    "p_nr"
   ]
  },
  {
   "cell_type": "code",
   "execution_count": null,
   "id": "5be432a2-c84c-4b4c-8e0b-be21be0dab32",
   "metadata": {},
   "outputs": [],
   "source": [
    "p_left <- (\n",
    "    summary_bird\n",
    "    |> filter(variable %in% c(\"level\", \"p_left\", \"p_right\"))\n",
    "    |> pivot_wider(names_from=\"variable\", values_from=c(\"mean\", \"upr\", \"lwr\"))\n",
    "    |> inner_join(results$data, by=\"time\")\n",
    "    |> mutate(rpos=(peck_left - 0.5)* 1.1 + 0.5, spos=stim_left * 0.05 - 0.025)\n",
    "    |> ggplot(aes(trial))\n",
    "    + geom_point(aes(y=ifelse(noresp, 1.125, NA)), shape=\"|\")\n",
    "    + geom_point(aes(y=rpos + spos, color=factor(stim_left)), shape=\"|\")\n",
    "    + geom_line(mapping=aes(y=mean_level), color=\"black\")\n",
    "    + geom_line(mapping=aes(y=mean_p_left), color=\"blue\")\n",
    "    + geom_ribbon(mapping=aes(ymin=lwr_p_left, ymax=upr_p_left), fill=\"blue\", alpha=0.25)\n",
    "    + geom_line(mapping=aes(y=mean_p_right), color=\"red\")\n",
    "    + geom_ribbon(mapping=aes(ymin=lwr_p_right, ymax=upr_p_right), fill=\"red\", alpha=0.25)\n",
    "    + scale_y_continuous(\"prob\", breaks=c(0, 0.2, 0.4, 0.6, 0.8, 1.0))\n",
    "    + theme_classic() + no.legend\n",
    ")\n",
    "p_left"
   ]
  },
  {
   "cell_type": "code",
   "execution_count": null,
   "id": "c46b4347-93db-4726-90ec-03af67ab5989",
   "metadata": {},
   "outputs": [],
   "source": [
    "p_discrim <- (\n",
    "    summary_bird\n",
    "    |> filter(variable %in% c(\"discrim\", \"bias\"))\n",
    "    |> inner_join(results$data, by=\"time\")\n",
    "    |> ggplot(aes(trial))\n",
    "    + facet_grid(vars(variable))\n",
    "    + geom_line(mapping=aes(y=mean))\n",
    "    + geom_ribbon(mapping=aes(ymin=lwr, ymax=upr), alpha=0.25)\n",
    "    + geom_hline(yintercept=0, linetype=\"dotted\")\n",
    "    + scale_y_continuous(\"LOR\")\n",
    "    + theme_classic() + no.legend\n",
    ")\n",
    "p_discrim"
   ]
  },
  {
   "cell_type": "markdown",
   "id": "7b37ffa4-5349-49af-9612-169e7d2fea59",
   "metadata": {},
   "source": [
    "### Group data"
   ]
  },
  {
   "cell_type": "code",
   "execution_count": null,
   "id": "578590ec-404a-42fb-b411-c0ee6018b911",
   "metadata": {},
   "outputs": [],
   "source": [
    "## metadata\n",
    "birds <- data.table::fread(\"../inputs/bird_metadata.csv\")"
   ]
  },
  {
   "cell_type": "code",
   "execution_count": null,
   "id": "6b31fe10-ffd9-4a53-994c-18f56e02882d",
   "metadata": {},
   "outputs": [],
   "source": [
    "load_discrim_summary <- function(subject) {\n",
    "    summary_file <- str_c(\"../build/\", subject, \"_train_ssm_summary.rds\")\n",
    "    if (file.exists(summary_file)) {\n",
    "        summaries <- readRDS(summary_file)\n",
    "        ( \n",
    "            summaries\n",
    "            |> purrr::discard_at(c(\"data\", \"corr\"))\n",
    "            |> purrr::map(~ select(., time, variable, mean, lwr, upr))\n",
    "            |> purrr::list_rbind()\n",
    "            |> inner_join(summaries$data, by=\"time\")\n",
    "        )\n",
    "    }\n",
    "}"
   ]
  },
  {
   "cell_type": "code",
   "execution_count": null,
   "id": "b6fa106e-36d6-4faf-8eca-755b3a232866",
   "metadata": {},
   "outputs": [],
   "source": [
    "summary_all <- (\n",
    "    birds$bird\n",
    "    |> purrr::map(load_discrim_summary) \n",
    "    |> purrr::list_rbind()\n",
    "    |> inner_join(birds, by=c(subject=\"bird\"))\n",
    ")"
   ]
  },
  {
   "cell_type": "code",
   "execution_count": null,
   "id": "60f80cad-1ac2-4742-8d5d-0dc2aaf909b6",
   "metadata": {},
   "outputs": [],
   "source": [
    "options(repr.plot.width=4, repr.plot.height=2.5, repr.plot.res = 300)\n",
    "p_noresp <- (\n",
    "    summary_all\n",
    "    |> filter(variable==\"level\")\n",
    "    |> ggplot(aes(trial))\n",
    "    + geom_line(mapping=aes(y=mean, group=subject, color=subject))\n",
    "    + facet_grid(vars(group))\n",
    "    #+ geom_ribbon(mapping=aes(ymin=lwr, ymax=upr, fill=subject), alpha=0.25)\n",
    "    #+ geom_hline(yintercept=0, linetype=\"dotted\")\n",
    "    + scale_y_continuous(\"LOR\")\n",
    "    + theme_classic() + no.legend\n",
    ")\n",
    "p_noresp"
   ]
  },
  {
   "cell_type": "code",
   "execution_count": null,
   "id": "a9112be6-340f-476e-bf36-348188ea83b0",
   "metadata": {},
   "outputs": [],
   "source": [
    "options(repr.plot.width=4, repr.plot.height=2.5, repr.plot.res = 300)\n",
    "p_discrim <- (\n",
    "    summary_all\n",
    "    |> filter(variable==\"discrim\")\n",
    "    |> ggplot(aes(trial))\n",
    "    + geom_line(mapping=aes(y=mean, group=subject, color=subject))\n",
    "    + facet_grid(vars(group))\n",
    "    #+ geom_ribbon(mapping=aes(ymin=lwr, ymax=upr, fill=subject), alpha=0.25)\n",
    "    + geom_hline(yintercept=0, linetype=\"dotted\")\n",
    "    + scale_y_continuous(\"discrim (LOR)\")\n",
    "    + theme_classic()\n",
    ")\n",
    "p_discrim"
   ]
  },
  {
   "cell_type": "code",
   "execution_count": null,
   "id": "e1cd534f-a3f9-4fb3-b4de-a0aaa67414ee",
   "metadata": {},
   "outputs": [],
   "source": [
    "options(repr.plot.width=4, repr.plot.height=2.5, repr.plot.res = 300)\n",
    "p_discrim <- (\n",
    "    summary_all\n",
    "    |> filter(variable==\"bias\")\n",
    "    |> ggplot(aes(trial))\n",
    "    + geom_line(mapping=aes(y=mean, group=subject, color=subject))\n",
    "    + facet_grid(vars(group))\n",
    "    #+ geom_ribbon(mapping=aes(ymin=lwr, ymax=upr, fill=subject), alpha=0.25)\n",
    "    + geom_hline(yintercept=0, linetype=\"dotted\")\n",
    "    + scale_y_continuous(\"bias (LOR)\")\n",
    "    + theme_classic() + no.legend\n",
    ")\n",
    "p_discrim"
   ]
  },
  {
   "cell_type": "code",
   "execution_count": null,
   "id": "24c81b34-63b1-4c77-acb5-a3493d57181d",
   "metadata": {},
   "outputs": [],
   "source": [
    "summary_discrim <- filter(summary_all, variable==\"discrim\")\n",
    "df <- (\n",
    "    summary_discrim\n",
    "    |> filter(subject==\"C235\")\n",
    "    |> mutate(io_chance=lwr < 0, io_1=lwr < 1.0)\n",
    ")"
   ]
  },
  {
   "cell_type": "code",
   "execution_count": null,
   "id": "8ceef1b3-7810-4e0b-aea6-ebf915a9ffca",
   "metadata": {},
   "outputs": [],
   "source": [
    "summary_discrim <- filter(summary_all, variable==\"discrim\")\n",
    "summary_criterion <- (\n",
    "    summary_discrim\n",
    "    |> mutate(io_chance=lwr < 0, io_1=lwr < 1.0)\n",
    "    |> group_by(subject)\n",
    "    |> summarize(across(starts_with(\"io_\"), last_true), success=any(lwr >= 1.0))\n",
    "    |> pivot_longer(starts_with(\"io_\"), values_to=\"time\")\n",
    "    |> inner_join(summary_discrim, by=c(\"subject\", \"time\"))\n",
    "    |> select(subject, name, time, trial, tot_rewarded, tot_noresp, success, uuid, sex, group, age, sibling)\n",
    ")"
   ]
  },
  {
   "cell_type": "code",
   "execution_count": null,
   "id": "60a21147-4672-4ee9-adf2-53ebfd0d6a99",
   "metadata": {},
   "outputs": [],
   "source": [
    "summary_criterion |> filter(name==\"io_1\") |> arrange(subject)"
   ]
  },
  {
   "cell_type": "code",
   "execution_count": null,
   "id": "56106ff4-c671-4481-b310-5f003bb3cf12",
   "metadata": {},
   "outputs": [],
   "source": [
    "options(repr.plot.width=1.5, repr.plot.height=2, repr.plot.res = 300)\n",
    "(\n",
    "    summary_criterion\n",
    "    |> filter(name==\"io_1\")\n",
    "    |> ggplot(aes(group, trial))\n",
    "    + geom_point(aes(shape=success))\n",
    "    + scale_shape_manual(values=c(4, 16))\n",
    "    + theme_classic() + my.theme + no.legend\n",
    ")"
   ]
  },
  {
   "cell_type": "code",
   "execution_count": null,
   "id": "fcaf1403-2958-4800-b7c5-00743108ff47",
   "metadata": {},
   "outputs": [],
   "source": [
    "options(repr.plot.width=2.5, repr.plot.height=2, repr.plot.res = 300)\n",
    "(\n",
    "    summary_criterion\n",
    "    |> filter(name==\"io_chance\")\n",
    "    |> ggplot(aes(sibling, trial))\n",
    "    + geom_point(aes(color=group))\n",
    "    + theme_classic() + my.theme\n",
    ")"
   ]
  },
  {
   "cell_type": "code",
   "execution_count": null,
   "id": "c4722f3a-b90f-4470-af9c-28ff17ddf0e6",
   "metadata": {},
   "outputs": [],
   "source": []
  }
 ],
 "metadata": {
  "kernelspec": {
   "display_name": "R 4.3",
   "language": "R",
   "name": "ir43"
  },
  "language_info": {
   "codemirror_mode": "r",
   "file_extension": ".r",
   "mimetype": "text/x-r-source",
   "name": "R",
   "pygments_lexer": "r",
   "version": "4.4.1"
  }
 },
 "nbformat": 4,
 "nbformat_minor": 5
}
