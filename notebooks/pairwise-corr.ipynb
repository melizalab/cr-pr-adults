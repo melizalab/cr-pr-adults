{
 "cells": [
  {
   "cell_type": "markdown",
   "id": "8652f072-2580-4eed-8caf-37275955b6e8",
   "metadata": {},
   "source": [
    "# Noise (and signal) correlations\n",
    "\n",
    "This notebook analyzes the noise and signal correlation data calculated by the `scripts/pairwise_correlations.py` script."
   ]
  },
  {
   "cell_type": "code",
   "execution_count": null,
   "id": "09d8936c-873d-458b-8b1e-a9885ea2896f",
   "metadata": {},
   "outputs": [],
   "source": [
    "import <- function(pkg) { library(pkg, warn.conflicts=F, quietly=T, character.only=T) }\n",
    "import(\"repr\")\n",
    "import(\"stringr\")\n",
    "import(\"tidyr\")\n",
    "import(\"dplyr\")\n",
    "import(\"ggplot2\")\n",
    "import(\"lme4\")\n",
    "import(\"emmeans\")\n",
    "import(\"xtable\")"
   ]
  },
  {
   "cell_type": "code",
   "execution_count": null,
   "id": "b18ffef2-66ae-42d9-8517-9aea8de40ebe",
   "metadata": {},
   "outputs": [],
   "source": [
    "options(repr.matrix.max.cols=15, repr.matrix.max.rows=20)\n",
    "my.theme <- theme(legend.text=element_text(size=6),\n",
    "                  legend.title=element_text(size=6),\n",
    "                  plot.title = element_text(size=7, hjust=0.5),\n",
    "                  axis.line=element_line(linewidth=0.25),\n",
    "                  axis.ticks=element_line(linewidth=0.25),\n",
    "                  axis.ticks.length=unit(0.05, \"cm\"),\n",
    "                  axis.title=element_text(size=7),\n",
    "                  axis.text=element_text(size=6),\n",
    "                  strip.placement=\"outside\",\n",
    "                  strip.text=element_text(size=7),\n",
    "                  strip.background=element_blank())\n",
    "no.legend <- theme(legend.position=\"none\")\n",
    "update_geom_defaults(\"point\", list(fill=\"white\", shape=21, size=0.8))\n",
    "update_geom_defaults(\"line\", list(linewidth=0.4))\n"
   ]
  },
  {
   "cell_type": "markdown",
   "id": "6cc58054-6a15-45fa-898d-c652a8a2c71e",
   "metadata": {
    "tags": []
   },
   "source": [
    "## Loading data and first steps of analysis"
   ]
  },
  {
   "cell_type": "code",
   "execution_count": null,
   "id": "3ee678ca-73c4-4175-8ea3-b8f22dec3ff1",
   "metadata": {},
   "outputs": [],
   "source": [
    "# Metadata\n",
    "birds <- (\n",
    "    data.table::fread(\"../inputs/bird_metadata.csv\")\n",
    "    |> filter(behavior == \"no\")\n",
    ")\n",
    "sites <- data.table::fread(\"../inputs/recording_metadata.csv\")\n",
    "all_sites <- (\n",
    "   sites\n",
    "   |> mutate(bird=str_match(site, \"[:alnum:]+\")[,1])\n",
    "   |> inner_join(birds, by=\"bird\")\n",
    "   |> filter(area %in% c(\"deep\", \"intermediate\", \"superficial\"), stim_amplitude == \"okay\")\n",
    "   |> mutate(area=forcats::fct_recode(area, \"L1/CM\"=\"superficial\", \"L2a/L2b\"=\"intermediate\", \"L3/NCM\"=\"deep\") |> forcats::fct_relevel(c(\"L2a/L2b\", \"L1/CM\", \"L3/NCM\")),\n",
    "             group=factor(group, levels=c(\"CR\", \"PR\")))\n",
    ")"
   ]
  },
  {
   "cell_type": "code",
   "execution_count": null,
   "id": "0422ce4f-3840-4de4-939e-6d28ed81bfaa",
   "metadata": {},
   "outputs": [],
   "source": [
    "# Need to have run `python scripts/unit_waveforms.py -o build inputs/all_units.txt`\n",
    "unit_spike_features <- (\n",
    "    data.table::fread(\"../build/mean_spike_features.csv\") %>%\n",
    "    mutate(spike=factor(spike, levels=c(\"wide\", \"narrow\"), exclude=\"\")) %>%\n",
    "    filter(!is.na(spike))\n",
    ")\n",
    "# Need to have run `single-unit-analysis` notebook to identify responsive units\n",
    "responsive_units <- data.table::fread(\"../inputs/responsive_units.txt\", header=F, col.names=c(\"unit\"))\n",
    "    \n",
    "# Need to have run `scripts/extract_channel.py inputs/all_units.tbl > build/unit_channels.csv\"\n",
    "units <- (\n",
    "    data.table::fread(\"../build/unit_channels.csv\")\n",
    "    |> semi_join(responsive_units, by=\"unit\")\n",
    "    |> inner_join(unit_spike_features |> select(unit, spike), by=\"unit\")\n",
    ")"
   ]
  },
  {
   "cell_type": "code",
   "execution_count": null,
   "id": "aded9716-5826-4930-830e-522131931c9b",
   "metadata": {},
   "outputs": [],
   "source": [
    "# Pairwise correlations. Need to have run `batch/pairwise_correlations.sh < inputs/recording_metadata.csv`u\n",
    "header <- data.table::fread(cmd='find ../build/ -name \"*_correlations.csv\" | head -n1 | xargs head -n1', header=T)\n",
    "unit_correlations <- tibble(data.table::fread(cmd='find ../build/ -name \"*_correlations.csv\" | xargs tail -q -n+2', header=F))\n",
    "names(unit_correlations) <- names(header)"
   ]
  },
  {
   "cell_type": "code",
   "execution_count": null,
   "id": "841ef24d-f2fd-46cd-8eb9-26aeae04bef5",
   "metadata": {},
   "outputs": [],
   "source": [
    "ucorr <- (\n",
    "    unit_correlations\n",
    "    # drop all comparisons where signal or noise correlation can't be calculated (typically because responses are too weak)\n",
    "    |> filter(!is.na(evoked_noise), !is.na(signal))\n",
    "    # look up channel and spike type. This will also remove non-responsive units\n",
    "    |> inner_join(units |> rename_with(function(s) str_c(s, \"_1\")), by=\"unit_1\")\n",
    "    |> inner_join(units |> rename_with(function(s) str_c(s, \"_2\")), by=\"unit_2\")\n",
    "    # exclude pairs on the same electrode (might change this if we calculate distance)\n",
    "    |> filter(channel_1 != channel_2)\n",
    "    |> mutate(site=str_match(unit_1, \"[:alnum:]+_\\\\d+_\\\\d+\")[,1])\n",
    "    |> inner_join(all_sites, by=\"site\")\n",
    "    |> mutate(conn_type=ifelse(spike_1==\"wide\", ifelse(spike_2==\"wide\", \"BS-BS\", \"BS-NS\"), ifelse(spike_2==\"wide\", \"BS-NS\", \"NS-NS\")))\n",
    ")"
   ]
  },
  {
   "cell_type": "code",
   "execution_count": null,
   "id": "04ab4b6a-7d1b-4599-b01b-427065ad6c67",
   "metadata": {},
   "outputs": [],
   "source": [
    "## number of pairs by area, condition, and cell type\n",
    "df <- (\n",
    "    ucorr\n",
    "    |> filter(conn_type != \"BS-NS\")\n",
    "    |> xtabs(~ area + group + conn_type, data=_)\n",
    "    |> addmargins(c(1,3))\n",
    "    |> as.data.frame()\n",
    "    |> arrange(area)\n",
    "    |> pivot_wider(names_from=c(area, group), values_from=Freq, values_fill=0)\n",
    ")\n",
    "df"
   ]
  },
  {
   "cell_type": "code",
   "execution_count": null,
   "id": "53c6d55d-3492-406b-aeda-93c33acca2f3",
   "metadata": {},
   "outputs": [],
   "source": [
    "print(xtable(df, digits=0), type=\"latex\")"
   ]
  },
  {
   "cell_type": "markdown",
   "id": "90e858dd-1abd-4d63-8f01-ce71060a9d29",
   "metadata": {},
   "source": [
    "### Raw data plots"
   ]
  },
  {
   "cell_type": "code",
   "execution_count": null,
   "id": "941bfc05-7a5b-4c02-aa37-044ac6bf5728",
   "metadata": {},
   "outputs": [],
   "source": [
    "options(repr.plot.width=4, repr.plot.height=2.5, repr.plot.res = 300)\n",
    "(\n",
    "    ucorr\n",
    "    |> ggplot(aes(conn_type, evoked_noise_c, color=group))\n",
    "    + facet_grid(~ area)\n",
    "    + geom_violin()\n",
    "    + stat_summary(fun.data=\"mean_se\", fatten=1.5, position=position_dodge(width=1.0))\n",
    "    + theme_classic() + my.theme\n",
    ")"
   ]
  },
  {
   "cell_type": "code",
   "execution_count": null,
   "id": "165512dc-1c67-416e-9eef-fe738656b7a6",
   "metadata": {},
   "outputs": [],
   "source": [
    "options(repr.plot.width=4, repr.plot.height=2.5, repr.plot.res = 300)\n",
    "(\n",
    "    ucorr\n",
    "    |> ggplot(aes(conn_type, spont_noise_c, color=group))\n",
    "    + facet_grid(~ area)\n",
    "    + geom_violin()\n",
    "    + stat_summary(fun.data=\"mean_se\", fatten=1.5, position=position_dodge(width=1.0))\n",
    "    + theme_classic() + my.theme\n",
    ")"
   ]
  },
  {
   "cell_type": "code",
   "execution_count": null,
   "id": "a9c402db-485d-4dcd-86d7-49edb9b5396d",
   "metadata": {},
   "outputs": [],
   "source": [
    "options(repr.plot.width=4, repr.plot.height=2.5, repr.plot.res = 300)\n",
    "(\n",
    "    ucorr\n",
    "    |> ggplot(aes(conn_type, signal, color=group))\n",
    "    + facet_grid(~ area)\n",
    "    + geom_violin()\n",
    "    + stat_summary(fun.data=\"mean_se\", fatten=1.5, position=position_dodge(width=1.0))\n",
    "    + theme_classic() + my.theme\n",
    ")"
   ]
  },
  {
   "cell_type": "markdown",
   "id": "b1153197-21f0-4507-8a54-c1170d2c99ec",
   "metadata": {},
   "source": [
    "### Evoked noise correlation - linear model - pairs"
   ]
  },
  {
   "cell_type": "code",
   "execution_count": null,
   "id": "fdfec52d-7672-4d3a-be0d-fcfd707ecc86",
   "metadata": {},
   "outputs": [],
   "source": [
    "fm_noise_corr <- (\n",
    "    ucorr\n",
    "    |> filter(conn_type != \"BS-NS\")\n",
    "    |> lm(evoked_noise_c ~ area*conn_type*group, data=_)\n",
    ")\n",
    "emmeans(fm_noise_corr, ~ group | area*conn_type) |> contrast(\"pairwise\")"
   ]
  },
  {
   "cell_type": "code",
   "execution_count": null,
   "id": "40f964f2-3842-4da1-9178-dbcffa43509b",
   "metadata": {},
   "outputs": [],
   "source": [
    "joint_tests(fm_noise_corr)"
   ]
  },
  {
   "cell_type": "code",
   "execution_count": null,
   "id": "6d08f542-8d76-4d7e-9ec2-20e13edcecc6",
   "metadata": {},
   "outputs": [],
   "source": [
    "options(repr.plot.width=1.8, repr.plot.height=1.45, repr.plot.res = 450)\n",
    "p <- (\n",
    "    fm_noise_corr\n",
    "    |> emmeans(~ group*conn_type*area)\n",
    "    |> confint(level=0.90, type=\"response\")\n",
    "    |> ggplot(aes(area, emmean, color=group))\n",
    "    + facet_wrap(~ conn_type)\n",
    "    + geom_point(position=position_dodge(width=0.5), size=1.5)\n",
    "    + geom_linerange(aes(ymin=lower.CL, ymax=upper.CL), position=position_dodge(width=0.5))\n",
    "    + scale_x_discrete(name=NULL)\n",
    "    + scale_y_continuous(\"Noise correlation\")\n",
    "    + theme_classic() + my.theme + no.legend\n",
    ")\n",
    "p "
   ]
  },
  {
   "cell_type": "code",
   "execution_count": null,
   "id": "fb2edc9c-06aa-4bcc-b027-1b9aa9e22886",
   "metadata": {},
   "outputs": [],
   "source": [
    "pdf(\"../figures/noise_correlations.pdf\", width=2.4, height=1.75)\n",
    "print(p)\n",
    "dev.off()"
   ]
  },
  {
   "cell_type": "markdown",
   "id": "83c19163-d2f6-4ce2-8899-16ebaae7d75c",
   "metadata": {
    "jp-MarkdownHeadingCollapsed": true
   },
   "source": [
    "### Spontaneous noise correlation - linear model - pairs"
   ]
  },
  {
   "cell_type": "code",
   "execution_count": null,
   "id": "6e370de5-cdd1-4c62-83b6-c5958cac3d3e",
   "metadata": {},
   "outputs": [],
   "source": [
    "fm_corr <- lm(spont_noise_c ~ area*conn_type*group, ucorr)\n",
    "emmeans(fm_corr, ~ group | area*conn_type) |> contrast(\"pairwise\")"
   ]
  },
  {
   "cell_type": "code",
   "execution_count": null,
   "id": "ee675b55-35ac-414f-a6c9-a779416d58a9",
   "metadata": {},
   "outputs": [],
   "source": [
    "p <- (\n",
    "    fm_corr\n",
    "    |> emmeans(~ group*conn_type*area)\n",
    "    |> confint(level=0.90, type=\"response\")\n",
    "    |> ggplot(aes(area, emmean, color=group))\n",
    "    + facet_wrap(~ conn_type)\n",
    "    + geom_point(position=position_dodge(width=0.5), size=1)\n",
    "    + geom_linerange(aes(ymin=lower.CL, ymax=upper.CL), position=position_dodge(width=0.5))\n",
    "    + scale_x_discrete(name=NULL)\n",
    "    + theme_classic() + my.theme + no.legend\n",
    ")\n",
    "p "
   ]
  },
  {
   "cell_type": "markdown",
   "id": "693adc44-478b-44af-baf1-77a8edca042e",
   "metadata": {
    "jp-MarkdownHeadingCollapsed": true
   },
   "source": [
    "### With random effects"
   ]
  },
  {
   "cell_type": "code",
   "execution_count": null,
   "id": "e4577923-18b3-47c1-aad1-1d03de8ec026",
   "metadata": {},
   "outputs": [],
   "source": [
    "fm_corr <- lmer(evoked_noise_c ~ area*conn_type*group + (1+conn_type|site), ucorr, control=lmerControl(optimizer=\"bobyqa\"))\n",
    "emmeans(fm_corr, ~ group | conn_type*area) |> contrast(\"pairwise\")"
   ]
  },
  {
   "cell_type": "code",
   "execution_count": null,
   "id": "050546b0-12d3-40d9-8680-1a5c54273eea",
   "metadata": {},
   "outputs": [],
   "source": [
    "p <- (\n",
    "    fm_corr\n",
    "    |> emmeans(~ group*conn_type*area)\n",
    "    |> confint(level=0.90, type=\"response\")\n",
    "    |> ggplot(aes(conn_type, emmean, color=group))\n",
    "    + facet_wrap(~ area)\n",
    "    + geom_pointrange(aes(ymin=asymp.LCL, ymax=asymp.UCL), fatten=1.5, position=position_dodge(width=0.5))\n",
    "    + theme_classic() + my.theme\n",
    ")\n",
    "p "
   ]
  },
  {
   "cell_type": "markdown",
   "id": "b3e5b2e8-6547-46c2-971f-c86ad194e469",
   "metadata": {},
   "source": [
    "### Signal correlation - linear model - pairs"
   ]
  },
  {
   "cell_type": "code",
   "execution_count": null,
   "id": "79144f18-edb5-4f08-bd0c-eec4b6eda920",
   "metadata": {},
   "outputs": [],
   "source": [
    "fm_signal_corr <- (\n",
    "    ucorr\n",
    "    |> filter(conn_type != \"BS-NS\")\n",
    "    |> lm(signal ~ area*conn_type*group, data=_)\n",
    ")\n",
    "emmeans(fm_signal_corr, ~ group | area*conn_type) |> contrast(\"pairwise\")"
   ]
  },
  {
   "cell_type": "code",
   "execution_count": null,
   "id": "21908cb2-fd8d-4cbc-95c2-21d881554d8f",
   "metadata": {},
   "outputs": [],
   "source": [
    "# compare BS to NS\n",
    "emmeans(fm_signal_corr, ~ conn_type) |> contrast(\"pairwise\")"
   ]
  },
  {
   "cell_type": "code",
   "execution_count": null,
   "id": "95837821-e0c4-4f97-b319-f52634fc8481",
   "metadata": {},
   "outputs": [],
   "source": [
    "options(repr.plot.width=1.8, repr.plot.height=1.45, repr.plot.res = 450)\n",
    "p <- (\n",
    "    fm_signal_corr\n",
    "    |> emmeans(~ group*conn_type*area)\n",
    "    |> confint(level=0.90, type=\"response\")\n",
    "    |> filter(conn_type != \"BS-NS\")\n",
    "    |> ggplot(aes(area, emmean, color=group))\n",
    "    + facet_wrap(~ conn_type)\n",
    "    + geom_point(position=position_dodge(width=0.5), size=1.5)\n",
    "    + geom_linerange(aes(ymin=lower.CL, ymax=upper.CL), position=position_dodge(width=0.5))\n",
    "    + scale_x_discrete(name=NULL)\n",
    "    + scale_y_continuous(\"Signal correlation\")\n",
    "    + theme_classic() + my.theme + no.legend\n",
    ")\n",
    "p "
   ]
  },
  {
   "cell_type": "code",
   "execution_count": null,
   "id": "0bb935db-a133-4121-b9e3-d22fc1c1a49e",
   "metadata": {},
   "outputs": [],
   "source": [
    "pdf(\"../figures/signal_correlations.pdf\", width=2.4, height=1.75)\n",
    "print(p)\n",
    "dev.off()"
   ]
  },
  {
   "cell_type": "markdown",
   "id": "bcb665fd-c023-4a71-8976-f7307b84f105",
   "metadata": {},
   "source": [
    "## Site-level statistics"
   ]
  },
  {
   "cell_type": "code",
   "execution_count": null,
   "id": "e1c3a751-0f69-4c5d-85e8-0c46bc86cb5d",
   "metadata": {},
   "outputs": [],
   "source": [
    "ucorr_sites <- (\n",
    "    ucorr\n",
    "    |> group_by(group, area, site, conn_type)\n",
    "    |> filter(n() > 5)\n",
    "    |> summarize(signal_m=mean(signal), signal_sd=sd(signal), evoked_noise_m=mean(evoked_noise_c), evoked_noise_sd=sd(evoked_noise_c))\n",
    ")\n",
    "ucorr_sites"
   ]
  },
  {
   "cell_type": "code",
   "execution_count": null,
   "id": "ca5c7190-548f-47e4-a1ba-d0f1b232ced5",
   "metadata": {},
   "outputs": [],
   "source": [
    "options(repr.plot.width=4, repr.plot.height=3, repr.plot.res = 300)\n",
    "(\n",
    "    ucorr_sites\n",
    "    |> ggplot(aes(evoked_noise_m, evoked_noise_sd, color=group))\n",
    "    + facet_wrap(~ conn_type)\n",
    "    + geom_point()\n",
    "    + theme_classic() + my.theme + no.legend\n",
    ")"
   ]
  },
  {
   "cell_type": "markdown",
   "id": "2a6eb50c-51d0-42f3-9ed0-ada12d7252ac",
   "metadata": {},
   "source": [
    "## Noise vs signal correlations"
   ]
  },
  {
   "cell_type": "code",
   "execution_count": null,
   "id": "7d4282d4-679f-4acf-a2ec-9b40931a1510",
   "metadata": {},
   "outputs": [],
   "source": [
    "options(repr.plot.width=2.6, repr.plot.height=1.85, repr.plot.res = 450)\n",
    "p <- (\n",
    "    ucorr\n",
    "    |> filter(conn_type != \"BS-NS\", area==\"L3/NCM\")\n",
    "    # |> filter(conn_type != \"BS-NS\")\n",
    "    |> ggplot(aes(signal, evoked_noise_c, color=group, fill=group))\n",
    "    + facet_grid(area ~ conn_type)\n",
    "    + geom_point(size=0.07, alpha=0.2, shape=21)\n",
    "    + stat_smooth(method=\"lm\", linewidth=0.5)\n",
    "    + scale_x_continuous(\"Signal correlation\")\n",
    "    + scale_y_continuous(\"Noise correlation\")\n",
    "    + theme_classic() + my.theme + no.legend\n",
    ")\n",
    "p"
   ]
  },
  {
   "cell_type": "code",
   "execution_count": null,
   "id": "23eb4070-45d0-4880-be0a-38f505bce112",
   "metadata": {},
   "outputs": [],
   "source": [
    "options(repr.plot.width=3.0, repr.plot.height=3.5, repr.plot.res = 450)\n",
    "p <- (\n",
    "    ucorr\n",
    "    |> filter(conn_type != \"BS-NS\")\n",
    "    |> ggplot(aes(signal, evoked_noise, color=group, fill=group))\n",
    "    + facet_grid(area ~ conn_type)\n",
    "    + geom_point(size=0.1, alpha=0.2, shape=21)\n",
    "    + stat_smooth(method=\"lm\", linewidth=0.5)\n",
    "    + scale_x_continuous(\"Signal correlation\")\n",
    "    + scale_y_continuous(\"Noise correlation\")\n",
    "    + theme_classic() + my.theme + no.legend\n",
    ")\n",
    "p"
   ]
  },
  {
   "cell_type": "code",
   "execution_count": null,
   "id": "39be34ba-b4a0-48bf-9e58-430e3302151b",
   "metadata": {},
   "outputs": [],
   "source": [
    "pdf(\"../figures/signal_vs_noise_correlations.pdf\", width=3.0, height=3.5)\n",
    "print(p)\n",
    "dev.off()"
   ]
  },
  {
   "cell_type": "code",
   "execution_count": null,
   "id": "19c51455-6cf0-4ecc-9256-3064709b2464",
   "metadata": {},
   "outputs": [],
   "source": [
    "fm_corr_corr <- (\n",
    "    ucorr\n",
    "    #|> filter(conn_type != \"BS-NS\", area==\"L3/NCM\")\n",
    "    |> filter(conn_type != \"BS-NS\")\n",
    "    |> lm(evoked_noise ~ signal*conn_type*area*group, data=_)\n",
    ")\n",
    "em_corr_corr <- emtrends(fm_corr_corr, pairwise ~ group | area*conn_type, var=\"signal\")\n",
    "summary(em_corr_corr)"
   ]
  },
  {
   "cell_type": "code",
   "execution_count": null,
   "id": "136fa33c-d370-4d26-b91a-6a81597a531b",
   "metadata": {},
   "outputs": [],
   "source": [
    "options(repr.plot.width=1.6, repr.plot.height=3.5, repr.plot.res = 450)\n",
    "p <- (\n",
    "    summary(em_corr_corr)$emtrends\n",
    "    |> ggplot(aes(conn_type, signal.trend, color=group))\n",
    "    + facet_grid(area ~ .)\n",
    "    + geom_point(position=position_dodge(width=0.35), size=1.5)\n",
    "    + geom_linerange(aes(ymin=lower.CL, ymax=upper.CL), position=position_dodge(width=0.35))\n",
    "    + scale_x_discrete(name=NULL)\n",
    "    + scale_y_continuous(\"Slope\", limits=c(-0.01, 0.6))\n",
    "    + theme_classic() + my.theme + no.legend\n",
    ")\n",
    "p"
   ]
  },
  {
   "cell_type": "code",
   "execution_count": null,
   "id": "d9309f97-1c22-4d2c-b616-4b2fc6ea62cc",
   "metadata": {},
   "outputs": [],
   "source": [
    "pdf(\"../figures/signal_vs_noise_corr_slope.pdf\", width=1.6, height=3.1)\n",
    "print(p)\n",
    "dev.off()"
   ]
  },
  {
   "cell_type": "code",
   "execution_count": null,
   "id": "30dfa560-3b9e-44a1-992f-38917f3309c4",
   "metadata": {},
   "outputs": [],
   "source": [
    "options(repr.plot.width=1.8, repr.plot.height=1.45, repr.plot.res = 450)\n",
    "(\n",
    "    emmip(fm_corr_corr, group ~ signal | conn_type, CIs=T, cov.reduce = range)\n",
    "    + scale_x_continuous(\"Signal correlation\")\n",
    "    + scale_y_continuous(\"Noise correlation\")\n",
    "    + theme_classic() + my.theme + no.legend \n",
    ")"
   ]
  },
  {
   "cell_type": "code",
   "execution_count": null,
   "id": "5de954ff-b43c-46ab-a047-ce3842cf2561",
   "metadata": {},
   "outputs": [],
   "source": [
    "options(repr.plot.width=1.8, repr.plot.height=1.8, repr.plot.res = 450)\n",
    "(\n",
    "    ucorr\n",
    "    |> filter(area==\"L3/NCM\", conn_type!=\"BS-NS\")\n",
    "    |> mutate(scorr_group=cut(signal, breaks=c(-1, -0.4, 0.4, 1), labels=c(\"low\", \"mid\", \"high\")))\n",
    "    |> ggplot(aes(scorr_group, evoked_noise_c, color=group))\n",
    "    + facet_grid(~ conn_type)\n",
    "    + stat_summary(fun.data=\"mean_se\", fatten=0.1, position=position_dodge(width=0.5))\n",
    "    + theme_classic() + my.theme + no.legend\n",
    ")"
   ]
  },
  {
   "cell_type": "code",
   "execution_count": null,
   "id": "7ca9fee4-cca3-4a24-817f-760d449ec3a8",
   "metadata": {},
   "outputs": [],
   "source": [
    "# spontaneous vs evoked\n",
    "options(repr.plot.width=4, repr.plot.height=4, repr.plot.res = 300)\n",
    "(\n",
    "    ucorr\n",
    "    |> ggplot(aes(evoked_noise_c, spont_noise_c, color=group))\n",
    "    + facet_grid(conn_type ~ area)\n",
    "    + geom_point()\n",
    "    + stat_smooth(method=\"lm\")\n",
    ")"
   ]
  },
  {
   "cell_type": "code",
   "execution_count": null,
   "id": "d04b07bf-a81b-4438-8240-376ebf630710",
   "metadata": {},
   "outputs": [],
   "source": [
    "(\n",
    "    ucorr\n",
    "    |> mutate(signal_group=cut(signal, c(-2, -0.4, 0.4, 2), labels=c(\"negative\", \"mid\", \"high\")))\n",
    "    |> ggplot(aes(signal_group, noise_corrected, color=group))\n",
    "    + facet_grid(conn_type ~ area)\n",
    "    + stat_summary(fun.data=\"mean_se\", fatten=1.5, position=position_dodge(width=0.5))\n",
    "    + theme_classic() + my.theme\n",
    ")"
   ]
  },
  {
   "cell_type": "code",
   "execution_count": null,
   "id": "139841ee-4e44-40e4-b3f2-cdfe7c536ac6",
   "metadata": {},
   "outputs": [],
   "source": [
    "installed.packages() |> as.data.frame() |> filter(Package == \"emmeans\")"
   ]
  },
  {
   "cell_type": "code",
   "execution_count": null,
   "id": "49a26ff3-b93a-45f6-86ae-dcc3dbe716d1",
   "metadata": {},
   "outputs": [],
   "source": []
  }
 ],
 "metadata": {
  "kernelspec": {
   "display_name": "R 4.3",
   "language": "R",
   "name": "ir43"
  },
  "language_info": {
   "codemirror_mode": "r",
   "file_extension": ".r",
   "mimetype": "text/x-r-source",
   "name": "R",
   "pygments_lexer": "r",
   "version": "4.4.0"
  }
 },
 "nbformat": 4,
 "nbformat_minor": 5
}
