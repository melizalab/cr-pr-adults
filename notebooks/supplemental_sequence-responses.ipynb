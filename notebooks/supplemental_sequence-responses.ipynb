{
 "cells": [
  {
   "cell_type": "markdown",
   "id": "b94109ed-c79d-481f-a258-d2edbec7f96c",
   "metadata": {},
   "source": [
    "# Supplemental figures\n",
    "\n",
    "This notebook is used to generate rasterplots of responses to stimulus sequences. This doesn't work without neurobank."
   ]
  },
  {
   "cell_type": "code",
   "execution_count": null,
   "id": "6f6a0dbc-320d-41ce-8560-b9bd228c3895",
   "metadata": {},
   "outputs": [],
   "source": [
    "import sys\n",
    "\n",
    "sys.path.insert(0, \"../scripts\")"
   ]
  },
  {
   "cell_type": "code",
   "execution_count": null,
   "id": "86165be1-3ace-4dc2-9b2f-32c17e3e274e",
   "metadata": {},
   "outputs": [],
   "source": [
    "import json\n",
    "import string\n",
    "from pathlib import Path\n",
    "\n",
    "import graphics_defaults  # noqa: F401\n",
    "import matplotlib.pyplot as plt\n",
    "import numpy as np\n",
    "from core import (\n",
    "    NullSplitter,\n",
    "    load_wave,\n",
    "    split_trials,\n",
    ")\n",
    "from dlab import nbank, plotting\n",
    "from filters import SpectrogramTransform\n",
    "from matplotlib.patches import Rectangle"
   ]
  },
  {
   "cell_type": "code",
   "execution_count": null,
   "id": "99857c8f-a8b9-4f13-969a-2780422ba75f",
   "metadata": {},
   "outputs": [],
   "source": [
    "dataset_dir = Path(\"../datasets/zebf-social-acoustical-ephys\")\n",
    "metadata_dir = dataset_dir / \"metadata/\"\n",
    "response_dir = dataset_dir / \"responses/\"\n",
    "stim_dir = dataset_dir / \"stimuli\"\n",
    "# spectrogram parameters\n",
    "window_size = 0.020\n",
    "max_frequency = 8000"
   ]
  },
  {
   "cell_type": "code",
   "execution_count": null,
   "id": "d0c300a3-ba1f-4f2f-b54a-439ce44efd7c",
   "metadata": {},
   "outputs": [],
   "source": [
    "# Example 1: not very selective, very discriminable, modest noise invariance\n",
    "unit_name = \"C42_4_1_c14\"\n",
    "seq_select = [0, 1, 2]"
   ]
  },
  {
   "cell_type": "code",
   "execution_count": null,
   "id": "c56deec8-7cf2-4170-a17b-f55e8fe9110d",
   "metadata": {},
   "outputs": [],
   "source": [
    "# Example 2? selective and noise-invariant, but distance matrix is messy\n",
    "unit_name = \"C42_4_1_c131\""
   ]
  },
  {
   "cell_type": "code",
   "execution_count": null,
   "id": "a2f1bc30-2270-423f-8f60-be2cc3db2f81",
   "metadata": {},
   "outputs": [],
   "source": [
    "# Example 2?\n",
    "unit_name = \"C42_1_1_c294\""
   ]
  },
  {
   "cell_type": "code",
   "execution_count": null,
   "id": "af1ae739-4bdc-4f56-a4d9-ad5cdfb6781a",
   "metadata": {},
   "outputs": [],
   "source": [
    "# Example 2?\n",
    "unit_name = \"C104_3_1_c67\"\n",
    "seq_select = [0, 1, 3]"
   ]
  },
  {
   "cell_type": "code",
   "execution_count": null,
   "id": "3df496ef-c2cc-4028-b602-32e654cd8507",
   "metadata": {},
   "outputs": [],
   "source": [
    "pprox_file = nbank.find_resource(unit_name, alt_base=response_dir)\n",
    "unit = json.loads(pprox_file.read_text())\n",
    "trials = split_trials(NullSplitter(), unit, metadata_dir).swaplevel().sort_index(ascending=False)"
   ]
  },
  {
   "cell_type": "markdown",
   "id": "6f6c8db3-7f8f-4c4d-9d05-0fe50a4bcd95",
   "metadata": {},
   "source": [
    "## Basic plot"
   ]
  },
  {
   "cell_type": "code",
   "execution_count": null,
   "id": "fed365ed-b64b-46ae-a739-7b0066f30591",
   "metadata": {},
   "outputs": [],
   "source": [
    "colors = {\n",
    "    v: c for v, c in zip(trials.index.unique(level=0), plt.color_sequences[\"tab10\"])\n",
    "}\n",
    "fig, ax = plt.subplots(nrows=1, figsize=(8,4))\n",
    "for i, trial in enumerate(trials.itertuples()):\n",
    "    if isinstance(trial.events, float):\n",
    "        continue\n",
    "    stim = trial.Index[0]\n",
    "    ax.plot(trial.events,\n",
    "                 [i] * trial.events.size,\n",
    "                 color=colors[stim],\n",
    "                 marker=\"|\",\n",
    "                 linestyle=\"\",)\n",
    "plotting.adjust_raster_ticks(ax, gap=1)\n",
    "plotting.simple_axes(ax)"
   ]
  },
  {
   "cell_type": "markdown",
   "id": "73a78bbb-5dfe-4aeb-85ac-7a57cc4c52fc",
   "metadata": {},
   "source": [
    "## Fancy plot\n",
    "\n",
    "The idea here is to show a schematic view of the stimulus above the raster."
   ]
  },
  {
   "cell_type": "code",
   "execution_count": null,
   "id": "114866b8-145c-40cb-823a-a4d97b4c11ed",
   "metadata": {},
   "outputs": [],
   "source": [
    "sequence_names = trials.index.unique(level=0)\n",
    "motif_labels = {motif: string.ascii_lowercase[i] for i, motif in enumerate(sequence_names[0].split(\"-\"))}"
   ]
  },
  {
   "cell_type": "code",
   "execution_count": null,
   "id": "45f420c6-baa3-4bc1-8048-6fae4595f480",
   "metadata": {},
   "outputs": [],
   "source": [
    "# the foreground sequences themselves are not in the registry, so to get the motif boundaries we have to look up one real stimulus per foreground\n",
    "sequence_exemplar_names = tuple(trial[\"stimulus\"][\"name\"] for trial in unit[\"pprox\"] if trial[\"stimulus\"][\"name\"].endswith(\"-100\"))\n",
    "sequence_info = {info[\"metadata\"][\"foreground\"]: info[\"metadata\"] for info in nbank.describe_many(nbank.default_registry, *sequence_exemplar_names)}"
   ]
  },
  {
   "cell_type": "code",
   "execution_count": null,
   "id": "67e63ffc-6595-4cda-a123-892fbc19088c",
   "metadata": {},
   "outputs": [],
   "source": [
    "def plot_stimulus_cartoon(ax, seq):\n",
    "    seq_info = sequence_info[seq]\n",
    "    duration = seq_info[\"background-duration\"]\n",
    "    motifs = seq.split(\"-\")\n",
    "    ax.add_patch(Rectangle(xy=(0,0), width=duration, height=1.0, facecolor=\"slateblue\"))\n",
    "    for motif, begin, end in zip(motifs, seq_info[\"stim_begin\"], seq_info[\"stim_end\"]):\n",
    "        label = motif_labels[motif]\n",
    "        ax.add_patch(Rectangle(xy=(begin, 0.0), width=end-begin, height=1.0, facecolor=\"tomato\"))\n",
    "        ax.text((end + begin) / 2, 0.5, label, fontsize=10, color=\"white\", ha=\"center\", va=\"center\")\n",
    "    ax.set_xlim(0, duration)\n",
    "    plotting.hide_axes(ax)"
   ]
  },
  {
   "cell_type": "code",
   "execution_count": null,
   "id": "62b881c9-e945-4263-869c-f4a07b02f209",
   "metadata": {},
   "outputs": [],
   "source": [
    "def plot_trials(ax, trials):\n",
    "    # from matplotlib.ticker import FuncFormatter\n",
    "    # background_values = trials.index.get_level_values(\"background-dBFS\")\n",
    "    # formatter = FuncFormatter(lambda x, pos: background_values[int(x)])\n",
    "    for i, trial in enumerate(trials.itertuples()):\n",
    "        if isinstance(trial.events, float):\n",
    "            continue\n",
    "        _stim = trial.Index[0]\n",
    "        ax.plot(trial.events,\n",
    "                [i] * trial.events.size,\n",
    "                color=\"k\",\n",
    "                marker=\"|\",\n",
    "                linestyle=\"\",\n",
    "                markeredgewidth=0.4\n",
    "               )\n",
    "    plotting.simple_axes(ax)\n",
    "    ax.get_yaxis().set_visible(False)\n",
    "    ax.spines[\"left\"].set_visible(False)"
   ]
  },
  {
   "cell_type": "code",
   "execution_count": null,
   "id": "ee06013a-eec1-4d15-a139-82ffc1e028f4",
   "metadata": {},
   "outputs": [],
   "source": [
    "seq = sequence_names[2]\n",
    "fig, ax = plt.subplots(nrows=2, sharex=True, figsize=(4.0, 0.75), height_ratios=(2,4))\n",
    "fig.subplots_adjust(left=0.01, right=0.99, hspace=0)\n",
    "plot_stimulus_cartoon(ax[0], seq)\n",
    "plot_trials(ax[1], trials.xs(seq, drop_level=False))\n",
    "plotting.adjust_raster_ticks(ax[1], 1.5)"
   ]
  },
  {
   "cell_type": "code",
   "execution_count": null,
   "id": "d45cc7be-4481-4a99-8b2c-dc6dc9e5b4c5",
   "metadata": {},
   "outputs": [],
   "source": [
    "nseq = len(seq_select)\n",
    "# annoying hack to get stimulus name without string formatting\n",
    "seq0_name = sequence_names[seq_select[0]]\n",
    "seq0_trial = trials.loc[seq0_name, -100].source_trial\n",
    "stim0_name = unit[\"pprox\"][seq0_trial][\"stimulus\"][\"name\"]\n",
    "stim0_info = nbank.describe(nbank.default_registry, stim0_name)[\"metadata\"]\n",
    "background_file = nbank.find_resource(stim0_info[\"background\"], alt_base=stim_dir)\n",
    "scene_file = nbank.find_resource(stim0_name, alt_base=stim_dir)"
   ]
  },
  {
   "cell_type": "code",
   "execution_count": null,
   "id": "4018d684-ee3a-41ec-90ee-0e3879263564",
   "metadata": {},
   "outputs": [],
   "source": [
    "fig, axs = plt.subplots(nrows=2 * nseq + 2, sharex=True, figsize=(3.0, 0.7 * (nseq + 1)), height_ratios=(2,2) + (2,4) * nseq, dpi=300)\n",
    "fig.subplots_adjust(left=0.01, right=0.99, hspace=0.05)\n",
    "for ax, fname in zip(axs, (background_file, scene_file)):\n",
    "    signal = load_wave(fname)\n",
    "    stfter = SpectrogramTransform(window_size, signal[\"sampling_rate\"], max_frequency)\n",
    "    spec = stfter.transform(signal[\"signal\"], scaling=None) + 1e-6\n",
    "    log_spec = 10 * np.log10(spec / stfter.scale1)\n",
    "    fgrid = stfter.freq\n",
    "    tgrid = stfter.tgrid(spec)\n",
    "    pos = ax.imshow(log_spec, aspect=\"auto\", origin=\"lower\", vmin=-90, vmax=-20, \n",
    "                   extent=(tgrid[0], tgrid[-1], fgrid[0] / 1000, fgrid[-1] / 1000))\n",
    "    ax.set_yticks([1, 8])\n",
    "    ax.set_ylim(0.2, 8)\n",
    "for i, seq in zip(range(2, nseq * 2 + 2, 2), seq_select):\n",
    "    seq_name = sequence_names[seq]\n",
    "    plot_stimulus_cartoon(axs[i], seq_name)\n",
    "    plot_trials(axs[i+1], trials.xs(seq_name, drop_level=False))\n",
    "    plotting.adjust_raster_ticks(axs[i+1], 8.5)\n",
    "for ax in axs[:-2]:\n",
    "    ax.get_xaxis().set_visible(False)\n",
    "    ax.spines[\"bottom\"].set_visible(False)\n",
    "axs[-1].set_xlabel(\"Time (s)\");"
   ]
  },
  {
   "cell_type": "code",
   "execution_count": null,
   "id": "95f93796-4cec-4659-826c-86d5c9b9ff27",
   "metadata": {},
   "outputs": [],
   "source": [
    "fig.savefig(f\"../figures/{unit_name}_sequence_rasters.pdf\")"
   ]
  },
  {
   "cell_type": "code",
   "execution_count": null,
   "id": "b3a8ebba-a5c5-4508-b4f7-f4d4246b53f0",
   "metadata": {},
   "outputs": [],
   "source": []
  }
 ],
 "metadata": {
  "kernelspec": {
   "display_name": "noise-invariant-analysis",
   "language": "python",
   "name": "noise-invariant-analysis"
  },
  "language_info": {
   "codemirror_mode": {
    "name": "ipython",
    "version": 3
   },
   "file_extension": ".py",
   "mimetype": "text/x-python",
   "name": "python",
   "nbconvert_exporter": "python",
   "pygments_lexer": "ipython3",
   "version": "3.11.2"
  }
 },
 "nbformat": 4,
 "nbformat_minor": 5
}
