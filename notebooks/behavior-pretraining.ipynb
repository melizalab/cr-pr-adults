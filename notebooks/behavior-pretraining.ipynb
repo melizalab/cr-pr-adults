{
 "cells": [
  {
   "cell_type": "code",
   "execution_count": null,
   "id": "08dd1f20-b5db-4c7a-b8a9-2096d7d8036d",
   "metadata": {},
   "outputs": [],
   "source": [
    "import <- function(pkg) { library(pkg, warn.conflicts=F, quietly=T, character.only=T) }\n",
    "import(\"repr\")\n",
    "import(\"stringr\")\n",
    "import(\"tidyr\")\n",
    "import(\"dplyr\")\n",
    "import(\"ggplot2\")\n",
    "import(\"lme4\")\n",
    "import(\"emmeans\")"
   ]
  },
  {
   "cell_type": "code",
   "execution_count": null,
   "id": "d685e1a9-c1f8-43b1-8b7c-8105fc313110",
   "metadata": {},
   "outputs": [],
   "source": [
    "options(repr.matrix.max.cols=15, repr.matrix.max.rows=20)\n",
    "options(repr.plot.width=2, repr.plot.height=1.25, repr.plot.res = 300)\n",
    "\n",
    "my.theme <- theme(legend.text=element_text(size=5),\n",
    "                  legend.title=element_text(size=6),\n",
    "                  plot.title = element_text(size=8, hjust=0.5),\n",
    "                  axis.line=element_line(linewidth=0.25),\n",
    "                  axis.ticks=element_line(linewidth=0.25),\n",
    "                  axis.title=element_text(size=8),\n",
    "                  axis.text=element_text(size=6),\n",
    "                  strip.placement=\"outside\",\n",
    "                  strip.text=element_text(size=8),\n",
    "                  strip.background=element_blank())\n",
    "no.legend <- theme(legend.position=\"none\")\n",
    "update_geom_defaults(\"point\", list(fill=\"white\", shape=21, size=1.1))\n",
    "update_geom_defaults(\"line\", list(linewidth=0.25))"
   ]
  },
  {
   "cell_type": "markdown",
   "id": "c8d35b84-b9bc-4057-92f3-4e8f4aba686f",
   "metadata": {},
   "source": [
    "## Load trial data"
   ]
  },
  {
   "cell_type": "code",
   "execution_count": null,
   "id": "92066c4b-87bc-41ef-a267-be1f0ea0729f",
   "metadata": {},
   "outputs": [],
   "source": [
    "## metadata\n",
    "birds <- data.table::fread(\"../inputs/bird_metadata.csv\") |> filter(behavior==\"yes\")"
   ]
  },
  {
   "cell_type": "code",
   "execution_count": null,
   "id": "0a58b3b3-7d33-4071-8ea0-44f063416e2d",
   "metadata": {},
   "outputs": [],
   "source": [
    "## trials - retrieved with batch/retrieve_trials\n",
    "header <- data.table::fread(cmd='find ../build/ -name \"*pretrain*_trials.csv\" | head -n1 | xargs head -n1', header=T)\n",
    "all_trials <- tibble(data.table::fread(cmd='find ../build/ -name \"*pretrain*_trials.csv\" | xargs tail -q -n+2', header=F))\n",
    "names(all_trials) <- names(header)"
   ]
  },
  {
   "cell_type": "code",
   "execution_count": null,
   "id": "f490f6c6-ec4f-4e74-8cbe-1e0682874df5",
   "metadata": {},
   "outputs": [],
   "source": [
    "# sanity check - each stimulus/response should only have one consequence: result should be empty\n",
    "(\n",
    "    all_trials\n",
    "    |> group_by(subject, stimulus, response, correct)\n",
    "    |> tally()\n",
    "    |> tally()\n",
    "    |> filter(n > 1)\n",
    ")"
   ]
  },
  {
   "cell_type": "code",
   "execution_count": null,
   "id": "5d0755c5-cb7e-4061-a68a-084fd7ae8863",
   "metadata": {},
   "outputs": [],
   "source": [
    "# sanity check: no big skips in the dates, which could indicate trials recorded with the wrong subject\n",
    "# NB the gap with C197 is due to a clock error. The missing days are put in the right place using trial id.\n",
    "options(repr.plot.width=10, repr.plot.height=5, repr.plot.res = 300)\n",
    "(\n",
    "    all_trials\n",
    "    |> mutate(date=lubridate::date(time))\n",
    "    |> group_by(subject, date)\n",
    "    |> tally()\n",
    "    |> ggplot(aes(date, n))\n",
    "    + facet_wrap(~ subject, scale=\"free\")\n",
    "    + geom_point()\n",
    ")"
   ]
  },
  {
   "cell_type": "code",
   "execution_count": null,
   "id": "ac628a31-554a-446a-b437-77e19600838b",
   "metadata": {},
   "outputs": [],
   "source": [
    "## just the pretraining\n",
    "block_size <- 100\n",
    "trials <- (\n",
    "    all_trials \n",
    "    |> group_by(subject)\n",
    "    |> arrange(id)\n",
    "    ## remove all trials cued with a light\n",
    "    #|> filter(str_length(lights)==0) # filter(is.na(lights))\n",
    "    ## trials are considered to be corrections if the stimulus was repeated and the previous trial was incorrect\n",
    "    |> mutate(noresp=(response == \"timeout\") * 1,\n",
    "              stim_left=1 - xor(response==\"peck_left\", correct),\n",
    "              peck_left=ifelse(noresp, NA, (response == \"peck_left\") * 1),\n",
    "              correct=ifelse(noresp, NA, correct * 1),\n",
    "              trial=row_number(),\n",
    "              tot_rewarded=cumsum(result==\"feed\"),\n",
    "              tot_noresp=cumsum(response==\"timeout\"),\n",
    "              ## trials are considered to be corrections if the stimulus was repeated and the previous trial was incorrect\n",
    "              inferred_correction=(lag(stimulus)==stimulus & lag(!correct)))\n",
    "\n",
    ")\n",
    "valid_trials <- (\n",
    "    trials\n",
    "    |> filter(str_length(lights)==0, !inferred_correction, response != \"peck_center\") \n",
    "    |> mutate(time=row_number())\n",
    ")\n",
    "\n",
    "valid_trials |> inner_join(birds, by=c(subject=\"bird\")) |> group_by(group, subject) |> tally()"
   ]
  },
  {
   "cell_type": "markdown",
   "id": "6c6f4417-7d61-47ae-8ffe-dcc539ea00f6",
   "metadata": {},
   "source": [
    "## Example learning curves"
   ]
  },
  {
   "cell_type": "code",
   "execution_count": null,
   "id": "5061c705-3600-4e6f-b4e9-5a1d2cf40b11",
   "metadata": {},
   "outputs": [],
   "source": [
    "example_trials <- filter(valid_trials, subject==\"C294\")\n",
    "tail(example_trials)"
   ]
  },
  {
   "cell_type": "code",
   "execution_count": null,
   "id": "2d19c54d-b321-413a-b2cf-448168854fce",
   "metadata": {},
   "outputs": [],
   "source": [
    "blocked_timeouts <- (\n",
    "    example_trials\n",
    "    |> filter(str_length(lights)==0)\n",
    "    |> group_by(subject)\n",
    "    |> mutate(block=factor(floor(row_number() / block_size)), y=response==\"timeout\")\n",
    ")\n",
    "\n",
    "p_timeout <- (\n",
    "    glm(y ~ block, data=blocked_timeouts, family=binomial)\n",
    "    |> emmeans(~ block) \n",
    "    |> confint(level=0.90, type=\"response\")\n",
    "    |> inner_join(blocked_timeouts |> group_by(subject, block) |> summarize(index_trial=median(trial), n_trials=n()), by=\"block\")\n",
    "    |> filter(n_trials > 20)\n",
    ")"
   ]
  },
  {
   "cell_type": "code",
   "execution_count": null,
   "id": "ba561474-f550-412d-a2b5-cab6abba5938",
   "metadata": {},
   "outputs": [],
   "source": [
    "block_size <- 50\n",
    "blocked_pecks <- (\n",
    "    example_trials\n",
    "    |> filter(response != \"timeout\")\n",
    "    |> filter(str_length(lights)==0)\n",
    "    |> group_by(subject)\n",
    "    |> mutate(block=factor(floor(row_number() / block_size)), y=response==\"peck_left\")\n",
    ")\n",
    "\n",
    "p_left <- (\n",
    "    glm(y ~ block*stim_left, data=blocked_pecks, family=binomial)\n",
    "    |> emmeans(~ block/stim_left) \n",
    "    |> confint(level=0.90, type=\"response\")\n",
    "    |> inner_join(blocked_pecks |> group_by(subject, block) |> summarize(index_trial=median(trial), n_trials=n()), by=\"block\")\n",
    "    |> filter(n_trials > 20)\n",
    "    |> mutate(stim_left=factor(stim_left))\n",
    ")"
   ]
  },
  {
   "cell_type": "code",
   "execution_count": null,
   "id": "b4a05653-5c97-47a1-a827-e7a62ac1966b",
   "metadata": {
    "scrolled": true
   },
   "outputs": [],
   "source": [
    "options(repr.plot.width=2, repr.plot.height=1.25, repr.plot.res = 300)\n",
    "p <- (\n",
    "    ggplot(mapping=aes(index_trial, prob))\n",
    "    + geom_line(data=p_timeout)\n",
    "    + geom_line(data=p_left, aes(color=stim_left, group=stim_left))\n",
    "    + scale_x_continuous(\"Trial\")\n",
    "    + scale_y_continuous(\"p(left)\")\n",
    ")\n",
    "p + theme_classic() + my.theme + no.legend"
   ]
  },
  {
   "cell_type": "raw",
   "id": "43ea9f6c-e05f-426f-95c8-8884cefe582f",
   "metadata": {},
   "source": [
    "pdf(\"../figures/2ac_example_C294.pdf\", width=2, height=1.25)\n",
    "print(p + theme_classic() + my.theme + no.legend)\n",
    "dev.off()"
   ]
  },
  {
   "cell_type": "code",
   "execution_count": null,
   "id": "b9a91e51-8f0e-4495-9466-813ee4f2398e",
   "metadata": {},
   "outputs": [],
   "source": [
    "p_correct <- (\n",
    "    glm(correct ~ factor(block)*stim_left, data=blocked_pecks, family=binomial)\n",
    "    |> emmeans(~ block/stim_left) \n",
    "    |> confint(level=0.90, type=\"response\")\n",
    "    |> inner_join(blocked_pecks |> group_by(subject, block) |> summarize(index_trial=median(trial), n_trials=n()), by=\"block\")\n",
    "    |> filter(n_trials > 20)\n",
    "    |> mutate(stim_left=factor(stim_left))\n",
    ")"
   ]
  },
  {
   "cell_type": "code",
   "execution_count": null,
   "id": "22a21375-3129-464d-b3e1-6f9fbe8f06fd",
   "metadata": {},
   "outputs": [],
   "source": [
    "options(repr.plot.width=2, repr.plot.height=1.25, repr.plot.res = 300)\n",
    "p <- (\n",
    "    ggplot(mapping=aes(index_trial, prob))\n",
    "    + geom_line(data=p_timeout)\n",
    "    + geom_line(data=p_correct, aes(color=stim_left, group=stim_left))\n",
    "    + scale_x_continuous(\"Trial\")\n",
    "    + scale_y_continuous(\"p(correct)\")\n",
    ")\n",
    "p + theme_classic() + my.theme + no.legend"
   ]
  },
  {
   "cell_type": "code",
   "execution_count": null,
   "id": "8972aada-1033-4ef3-b6ff-8cfa1845f1c1",
   "metadata": {
    "scrolled": true
   },
   "outputs": [],
   "source": [
    "(\n",
    "    glm(correct ~ factor(block)*stim_left, data=blocked_pecks, family=binomial)\n",
    "    |> ref_grid()\n",
    ")"
   ]
  },
  {
   "cell_type": "markdown",
   "id": "a74dd40d-82fd-423b-b545-5e3098592a90",
   "metadata": {},
   "source": [
    "## Trials to criterion\n",
    "\n",
    "We want to estimate the number of trials that it takes for each subject to reach a criterion level of performance. Performance needs to be assessed as an estimated marginal mean - i.e., what is the probability of a correct response to all stimuli, assuming any stimulus is equally likely to be presented? We also need to impose a prior so that we can estimate probabilities in blocks where there are no correct or no incorrect trials for a given stimulus. The poor man's way of doing this is to add 1 success and 1 failure to each condition, which is equivalent to a $\\mathrm{Beta}(1,1)$ prior.\n",
    "\n",
    "Analysis needs to be done with the full set of data for each animal so that xtabs returns a full table."
   ]
  },
  {
   "cell_type": "code",
   "execution_count": null,
   "id": "b145a38e-d20b-4913-bffd-ba409899c3b1",
   "metadata": {},
   "outputs": [],
   "source": [
    "blocked_pecks <- (\n",
    "    valid_trials\n",
    "    |> filter(response != \"timeout\")\n",
    "    |> filter(str_length(lights)==0)\n",
    "    |> filter(!inferred_correction)\n",
    "    |> group_by(subject)\n",
    "    |> mutate(block=floor(row_number() / block_size))\n",
    ")"
   ]
  },
  {
   "cell_type": "code",
   "execution_count": null,
   "id": "f7d7d2d1-10fc-43c7-8a4c-40bb5fbf71f5",
   "metadata": {},
   "outputs": [],
   "source": [
    "p_corr_emm <- function(df) {\n",
    "    xt <- xtabs(~ block + stimulus + correct, data=df) + 1 # add one to every cell for the prior\n",
    "    emms <- (\n",
    "        prop.table(xt, margin=c(1,2))[,,2] \n",
    "        |> as.data.frame() \n",
    "        |> group_by(block) \n",
    "        |> summarize(p_corr_mean=mean(Freq), p_corr_min=min(Freq))\n",
    "        |> mutate(block=as.numeric(block))\n",
    "    )\n",
    "    group_by(df, block) |> summarize(index_trial=first(trial), last_trial=last(trial), n_trials=n()) |> inner_join(emms, by=\"block\")\n",
    "}"
   ]
  },
  {
   "cell_type": "code",
   "execution_count": null,
   "id": "1faa681f-8fac-451d-9a11-f6333dde7b3e",
   "metadata": {},
   "outputs": [],
   "source": [
    "blocked_emms <- (\n",
    "    blocked_pecks\n",
    "    |> group_by(subject)\n",
    "    |> nest()\n",
    "    |> mutate(emms=purrr::map(data, p_corr_emm))\n",
    "    |> select(subject, emms)\n",
    "    |> unnest(cols=c(emms))\n",
    ")"
   ]
  },
  {
   "cell_type": "code",
   "execution_count": null,
   "id": "7dbc91ea-3e99-4ed1-a655-7ec37f92f18d",
   "metadata": {},
   "outputs": [],
   "source": [
    "(\n",
    "    blocked_emms \n",
    "    |> ggplot(aes(index_trial, p_corr_mean, group=subject, color=subject))\n",
    "    + geom_line()\n",
    "    + my.theme + no.legend\n",
    ")"
   ]
  },
  {
   "cell_type": "code",
   "execution_count": null,
   "id": "38e3968c-27a8-4fa9-b60f-48e2e41718a0",
   "metadata": {},
   "outputs": [],
   "source": [
    "options(repr.plot.width=3, repr.plot.height=2, repr.plot.res = 300)\n",
    "p <- (\n",
    "    blocked_emms\n",
    "    |> filter(block <= 18)\n",
    "    |> inner_join(birds, by=c(subject=\"bird\"))\n",
    "    |> group_by(group, block)\n",
    "    |> summarize(n_birds=n(), p_corr_se=sd(p_corr_mean)/sqrt(n_birds), p_corr_mean=mean(p_corr_mean))\n",
    "    |> ggplot(aes(block, p_corr_mean, color=group, group=group))\n",
    "    + geom_point()\n",
    "    + geom_linerange(aes(ymin=p_corr_mean - p_corr_se, ymax=p_corr_mean + p_corr_se))\n",
    "    + theme_classic() + my.theme + no.legend\n",
    ")\n",
    "p "
   ]
  },
  {
   "cell_type": "code",
   "execution_count": null,
   "id": "bd89f88a-b4fe-46a1-8ccc-0b4d21590af2",
   "metadata": {},
   "outputs": [],
   "source": [
    "trials_to_criterion <- (\n",
    "    blocked_emms\n",
    "    |> filter(p_corr_mean > 0.8)\n",
    "    |> summarize(criterion_trial=first(last_trial))\n",
    "    |> right_join(trials |> group_by(subject) |> summarize(final_trial=last(trial)))\n",
    "    |> transmute(subject, failed=is.na(criterion_trial), criterion_trial = coalesce(criterion_trial, final_trial), )\n",
    "    |> inner_join(birds, by=c(subject=\"bird\"))\n",
    ")\n",
    "trials_to_criterion |> arrange(group)"
   ]
  },
  {
   "cell_type": "raw",
   "id": "9db6d954-075e-4af6-ad58-10d97baeeab4",
   "metadata": {},
   "source": [
    "# exclude C197 for now - accuracy was above 80% but had massive key bias\n",
    "trials_to_criterion <- filter(trials_to_criterion, subject !=\"C197\")"
   ]
  },
  {
   "cell_type": "code",
   "execution_count": null,
   "id": "6d0809cb-2f24-44c7-a113-62e106b4c58e",
   "metadata": {},
   "outputs": [],
   "source": [
    "(\n",
    "    trials_to_criterion\n",
    "    |> mutate(failed = failed | criterion_trial > 10000)\n",
    "    |> xtabs(~ group + failed, data=_)\n",
    "    #|> chisq.test()\n",
    ")"
   ]
  },
  {
   "cell_type": "code",
   "execution_count": null,
   "id": "232a5326-7edd-4fb7-859f-fd6cfa258778",
   "metadata": {},
   "outputs": [],
   "source": [
    "options(repr.plot.width=1.5, repr.plot.height=2, repr.plot.res = 300)\n",
    "p <- (\n",
    "    trials_to_criterion\n",
    "    |> filter(!failed)\n",
    "    |> ggplot(aes(group, criterion_trial))\n",
    "    + geom_boxplot(width=0.2, outlier.size=1)\n",
    "    #+ geom_jitter(aes(color=sex), width=0.1)\n",
    "    #+ stat_summary(fun.data=\"mean_se\")\n",
    "    + scale_y_continuous(\"Trials\")\n",
    "    + scale_x_discrete(NULL)\n",
    "    + ggtitle(\"Trials to Criterion\\n(80% correct)\")\n",
    "    + theme_classic() + my.theme + no.legend\n",
    ")\n",
    "p "
   ]
  },
  {
   "cell_type": "code",
   "execution_count": null,
   "id": "73eede3d-1619-4d66-b499-9907e1d94bae",
   "metadata": {},
   "outputs": [],
   "source": [
    "pdf(\"../figures/discrim_trials_to_criterion.pdf\", width=1.5, height=2)\n",
    "print(p)\n",
    "dev.off()"
   ]
  },
  {
   "cell_type": "code",
   "execution_count": null,
   "id": "7aeb2c41-f358-4e37-bfbc-762146334c2e",
   "metadata": {},
   "outputs": [],
   "source": [
    "options(repr.plot.width=3, repr.plot.height=2.5, repr.plot.res = 300)\n",
    "p <- (\n",
    "    ggplot(trials_to_criterion, aes(age, criterion_trial))\n",
    "    + geom_point(aes(color=group))\n",
    ")\n",
    "p + theme_classic() + my.theme"
   ]
  },
  {
   "cell_type": "code",
   "execution_count": null,
   "id": "486cd70a-6a21-4afc-8862-0cf89b6e45cd",
   "metadata": {},
   "outputs": [],
   "source": [
    "wilcox.test(criterion_trial ~ group, trials_to_criterion, subset=!failed)"
   ]
  },
  {
   "cell_type": "code",
   "execution_count": null,
   "id": "92671706-de33-4ea2-9f50-0a7a0ab6b9c3",
   "metadata": {},
   "outputs": [],
   "source": [
    "blocked_timeouts <- (\n",
    "    trials\n",
    "    |> filter(str_length(lights)==0)\n",
    "    |> group_by(subject)\n",
    "    |> mutate(block=floor(row_number() / block_size))\n",
    ")\n",
    "p_timeout <- (\n",
    "    blocked_timeouts\n",
    "    |> group_by(subject, block)\n",
    "    |> summarize(index_trial=first(trial), n_trials=n(), n_timeout=sum(response==\"timeout\"), p_timeout=n_timeout/n_trials)\n",
    "    |> arrange(block)\n",
    "    |> summarize(p_timeout=last(p_timeout))\n",
    "    |> inner_join(birds, by=c(subject=\"bird\"))\n",
    "    |> arrange(group)\n",
    ")"
   ]
  },
  {
   "cell_type": "code",
   "execution_count": null,
   "id": "42d69ba1-4a80-4884-9492-4a73d968950e",
   "metadata": {},
   "outputs": [],
   "source": [
    "options(repr.plot.width=1.5, repr.plot.height=1.5, repr.plot.res = 300)\n",
    "p <- (\n",
    "    p_timeout \n",
    "    #|> anti_join(filter(trials_to_criterion, failed==TRUE))\n",
    "    |> ggplot(aes(group, p_timeout))\n",
    "    + geom_boxplot(width=0.2, outlier.size=1)\n",
    "    + scale_y_continuous(\"Prob\", limits=c(0,1))\n",
    "    + scale_x_discrete(NULL)\n",
    "    + ggtitle(\"p(no resp)\\n[last block]\")\n",
    "    + theme_classic() + my.theme\n",
    ")\n",
    "p "
   ]
  },
  {
   "cell_type": "code",
   "execution_count": null,
   "id": "ca3cf791-e64b-4df1-8015-aa16213adb9c",
   "metadata": {},
   "outputs": [],
   "source": [
    "pdf(\"../figures/discrim_pnoresp.pdf\", width=1.5, height=1.5)\n",
    "print(p)\n",
    "dev.off()"
   ]
  },
  {
   "cell_type": "code",
   "execution_count": null,
   "id": "bf353746-e8a2-4317-a980-6ddcd58f0cc3",
   "metadata": {},
   "outputs": [],
   "source": [
    "(\n",
    "    p_timeout \n",
    "    |> anti_join(filter(trials_to_criterion, failed==TRUE))\n",
    "    |> t.test(p_timeout ~ group, data=_)\n",
    ")"
   ]
  },
  {
   "cell_type": "code",
   "execution_count": null,
   "id": "72a32829-6c9b-424c-9f17-462f60027086",
   "metadata": {},
   "outputs": [],
   "source": [
    "p_timeout_all <- (\n",
    "    trials\n",
    "    |> filter(str_length(lights)==0)\n",
    "    |> group_by(subject)\n",
    "    |> summarize(n_trials=n(), n_timeout=sum(response==\"timeout\"), p_timeout=n_timeout/n_trials)\n",
    "    |> inner_join(birds, by=c(subject=\"bird\"))\n",
    "    |> arrange(group)\n",
    ")\n",
    "p_timeout_all"
   ]
  },
  {
   "cell_type": "code",
   "execution_count": null,
   "id": "3c744a4b-18c3-4569-b80b-947ad4be00b0",
   "metadata": {},
   "outputs": [],
   "source": [
    "p <- (\n",
    "    p_timeout_all\n",
    "    #|> anti_join(filter(trials_to_criterion, failed==TRUE))\n",
    "    |> ggplot(aes(group, p_timeout))\n",
    "    + geom_boxplot(width=0.2, outlier.size=1)\n",
    "    + scale_y_continuous(\"Prob\", limits=c(0,1))\n",
    "    + scale_x_discrete(NULL)\n",
    "    + ggtitle(\"p(no resp)\\n[last block]\")\n",
    ")\n",
    "p + theme_classic() + my.theme"
   ]
  },
  {
   "cell_type": "code",
   "execution_count": null,
   "id": "9c265e84-1453-4a80-b0c7-887ab3c9c721",
   "metadata": {},
   "outputs": [],
   "source": [
    "(\n",
    "    p_timeout_all\n",
    "    #|> anti_join(filter(trials_to_criterion, failed==TRUE))\n",
    "    |> wilcox.test(p_timeout ~ group, data=_)\n",
    ")"
   ]
  },
  {
   "cell_type": "markdown",
   "id": "90071b5f-8d48-4bba-b488-d12d86c92ae5",
   "metadata": {},
   "source": [
    "## Training"
   ]
  },
  {
   "cell_type": "code",
   "execution_count": null,
   "id": "c768423e-135e-434c-b7bb-6d4d06756657",
   "metadata": {},
   "outputs": [],
   "source": [
    "## trials - retrieved with batch/retrieve_trials\n",
    "header <- data.table::fread(cmd='find ../build/ -name \"*_train_trials.csv\" | head -n1 | xargs head -n1', header=T)\n",
    "all_trials <- tibble(data.table::fread(cmd='find ../build/ -name \"*_train_trials.csv\" | xargs tail -q -n+2', header=F))\n",
    "names(all_trials) <- names(header)"
   ]
  },
  {
   "cell_type": "code",
   "execution_count": null,
   "id": "7f9ce487-98a4-4796-98b6-40501cdcdf76",
   "metadata": {},
   "outputs": [],
   "source": [
    "## just the training\n",
    "block_size <- 100\n",
    "trials <- (\n",
    "    all_trials \n",
    "    |> group_by(subject)\n",
    "    |> arrange(time)\n",
    "    ## remove all trials cued with a light\n",
    "    #|> filter(str_length(lights)==0) # filter(is.na(lights))\n",
    "    ## trials are considered to be corrections if the stimulus was repeated and the previous trial was incorrect\n",
    "    |> mutate(noresp=(response == \"timeout\") * 1,\n",
    "              stim_left=1 - xor(response==\"peck_left\", correct),\n",
    "              peck_left=ifelse(noresp, NA, (response == \"peck_left\") * 1),\n",
    "              correct=ifelse(noresp, NA, correct * 1),\n",
    "              trial=row_number(),\n",
    "              tot_rewarded=cumsum(result==\"feed\"),\n",
    "              tot_noresp=cumsum(response==\"timeout\"),\n",
    "              ## trials are considered to be corrections if the stimulus was repeated and the previous trial was incorrect\n",
    "              inferred_correction=(lag(stimulus)==stimulus & lag(!correct)))\n",
    "\n",
    ")\n",
    "\n",
    "valid_trials <- (\n",
    "    trials\n",
    "    |> filter(str_length(lights)==0, !inferred_correction, response != \"peck_center\") \n",
    "    |> mutate(time=row_number())\n",
    ")\n",
    "\n",
    "valid_trials |> inner_join(birds, by=c(subject=\"bird\")) |> group_by(group, subject) |> tally()"
   ]
  },
  {
   "cell_type": "code",
   "execution_count": null,
   "id": "65028b1a-16bf-4916-9056-e7b06206f33f",
   "metadata": {},
   "outputs": [],
   "source": [
    "example_trials <- filter(valid_trials, subject==\"C235\")\n",
    "head(example_trials)"
   ]
  },
  {
   "cell_type": "code",
   "execution_count": null,
   "id": "5a4e7f3a-922c-4820-bf15-34127664eeaa",
   "metadata": {},
   "outputs": [],
   "source": [
    "blocked_timeouts <- (\n",
    "    example_trials\n",
    "    |> filter(str_length(lights)==0)\n",
    "    |> group_by(subject)\n",
    "    |> mutate(block=factor(floor(row_number() / block_size)), y=response==\"timeout\")\n",
    ")\n",
    "\n",
    "p_timeout <- (\n",
    "    glm(y ~ block, data=blocked_timeouts, family=binomial)\n",
    "    |> emmeans(~ block) \n",
    "    |> confint(level=0.90, type=\"response\")\n",
    "    |> inner_join(blocked_timeouts |> group_by(subject, block) |> summarize(index_trial=median(trial), n_trials=n()), by=\"block\")\n",
    "    |> filter(n_trials > 20)\n",
    ")"
   ]
  },
  {
   "cell_type": "code",
   "execution_count": null,
   "id": "5568575a-b12e-4239-ad78-c120a6f47257",
   "metadata": {},
   "outputs": [],
   "source": [
    "blocked_pecks <- (\n",
    "    example_trials\n",
    "    |> filter(response != \"timeout\")\n",
    "    |> filter(str_length(lights)==0)\n",
    "    |> group_by(subject)\n",
    "    |> mutate(block=factor(floor(row_number() / block_size)), y=response==\"peck_left\")\n",
    ")\n",
    "\n",
    "p_left <- (\n",
    "    glm(y ~ block*stim_left, data=blocked_pecks, family=binomial)\n",
    "    |> emmeans(~ block/stim_left) \n",
    "    |> confint(level=0.90, type=\"response\")\n",
    "    |> inner_join(blocked_pecks |> group_by(subject, block) |> summarize(index_trial=median(trial), n_trials=n()), by=\"block\")\n",
    "    |> filter(n_trials > 20)\n",
    "    |> mutate(stim_left=factor(stim_left))\n",
    ")"
   ]
  },
  {
   "cell_type": "code",
   "execution_count": null,
   "id": "a989b729-12b2-4bc0-bd1a-b530ee40d741",
   "metadata": {},
   "outputs": [],
   "source": [
    "options(repr.plot.width=2, repr.plot.height=1.25, repr.plot.res = 300)\n",
    "p <- (\n",
    "    ggplot(mapping=aes(index_trial, prob))\n",
    "    + geom_line(data=p_timeout)\n",
    "    + geom_line(data=p_left, aes(color=stim_left, group=stim_left))\n",
    "    + scale_x_continuous(\"Trial\")\n",
    "    + scale_y_continuous(\"Prob\")\n",
    ")\n",
    "p + theme_classic() + my.theme + no.legend"
   ]
  },
  {
   "cell_type": "code",
   "execution_count": null,
   "id": "748fd6d4-9fe9-47ca-9557-14524199936c",
   "metadata": {},
   "outputs": [],
   "source": []
  }
 ],
 "metadata": {
  "kernelspec": {
   "display_name": "R 4.3",
   "language": "R",
   "name": "ir43"
  },
  "language_info": {
   "codemirror_mode": "r",
   "file_extension": ".r",
   "mimetype": "text/x-r-source",
   "name": "R",
   "pygments_lexer": "r",
   "version": "4.4.1"
  }
 },
 "nbformat": 4,
 "nbformat_minor": 5
}
