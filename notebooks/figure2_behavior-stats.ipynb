{
 "cells": [
  {
   "cell_type": "markdown",
   "id": "cc7f55e2-1311-40a5-8161-77591eceaaaf",
   "metadata": {},
   "source": [
    "# Behavior statistics\n",
    "\n",
    "This notebook generates panels for Figure 2 comparing the behavioral performance of birds raised in the CR and PR conditions."
   ]
  },
  {
   "cell_type": "code",
   "execution_count": null,
   "id": "08dd1f20-b5db-4c7a-b8a9-2096d7d8036d",
   "metadata": {},
   "outputs": [],
   "source": [
    "import <- function(pkg) { library(pkg, warn.conflicts=F, quietly=T, character.only=T) }\n",
    "import(\"repr\")\n",
    "import(\"stringr\")\n",
    "import(\"tidyr\")\n",
    "import(\"dplyr\")\n",
    "import(\"ggplot2\")\n",
    "import(\"lme4\")\n",
    "import(\"emmeans\")\n",
    "import(\"diagis\")\n",
    "import(\"bssm\")"
   ]
  },
  {
   "cell_type": "code",
   "execution_count": null,
   "id": "d685e1a9-c1f8-43b1-8b7c-8105fc313110",
   "metadata": {},
   "outputs": [],
   "source": [
    "options(repr.matrix.max.cols=15, repr.matrix.max.rows=20)\n",
    "options(repr.plot.width=2, repr.plot.height=1.25, repr.plot.res = 300)\n",
    "\n",
    "my.theme <- theme(legend.text=element_text(size=6),\n",
    "                  legend.title=element_text(size=6),\n",
    "                  plot.title = element_text(size=7, hjust=0.5),\n",
    "                  axis.line=element_line(linewidth=0.25),\n",
    "                  axis.ticks=element_line(linewidth=0.25),\n",
    "                  axis.ticks.length=unit(0.05, \"cm\"),\n",
    "                  axis.title=element_text(size=7),\n",
    "                  axis.text=element_text(size=6),\n",
    "                  strip.placement=\"outside\",\n",
    "                  strip.text=element_text(size=7),\n",
    "                  strip.background=element_blank())\n",
    "no.legend <- theme(legend.position=\"none\")\n",
    "update_geom_defaults(\"point\", list(fill=\"white\", shape=21, size=0.8))\n",
    "update_geom_defaults(\"line\", list(linewidth=0.4))"
   ]
  },
  {
   "cell_type": "code",
   "execution_count": null,
   "id": "407372ff-4863-4a74-af87-556cb7957223",
   "metadata": {},
   "outputs": [],
   "source": [
    "logit <- function(p) log(p / (1 - p))\n",
    "invlogit <- function(x) exp(x) / (1 + exp(x))"
   ]
  },
  {
   "cell_type": "markdown",
   "id": "c9864bcb-1dc6-4ba2-b05c-250540738155",
   "metadata": {},
   "source": [
    "## Training\n",
    "\n",
    "Before plotting the training data, you need to fit the state-space model by running `Rscript scripts/ssm-training.R datasets/zebf-discrim-noise/trials/C280_train_trials.csv`. The following is a brief explanation of the model.\n",
    "\n",
    "### Non-response model\n",
    "\n",
    "The training trials are analyzed with a state-space model in which each trial is modeled as a Bernoulli random variable that depends on one or more latent state variables. For non-response probability, the outcomes are coded as {Peck, Timeout}, and there is a single latent state variable $x_t$ that represents the log odds of pecking and that changes by a by a random amount in each trial, subject to a distribution with unknown variance. \n",
    "\n",
    "\\begin{align}\n",
    "y_t & \\sim \\mathrm{Bin}(\\frac{\\exp x_t}{1 + \\exp x_t}) \\\\\n",
    "x_{t+1} & = x_t + \\eta_t \\\\\n",
    "\\eta_t & \\sim N(0, \\sigma_\\nu^2) \\\\\n",
    "\\end{align}\n",
    "\n",
    "To fit the model, we need priors for the initial state, $x_0 \\sim N(0, \\sigma_x^2)$ and for the hyperparameter $\\sigma_\\nu$. This model can be fit in `bssm` with the `bsm_ng` function.\n",
    "\n",
    "### Discrimination model\n",
    "\n",
    "To quantify discrimination, we exclude the non-response trials and code the remaining trials as {Right, Left}. The probability of pecking left is conditioned on the reinforcement contingency\n",
    "for the stimulus, $Z_t$, which is coded as $(1, -0.5)$ for trials rewarded on the right key and $(1, 0.5)$ for trials rewarded on the left key. The latent variable $x_t$ is now a vector of two components, one for bias and the other for discrimination. Our random-walk model is as follows:\n",
    "\n",
    "\\begin{align}\n",
    "y_t|x_t,Z_t,\\theta & \\sim \\mathrm{Bernoulli}(p_t) \\\\\n",
    "\\mathrm{logit}(p_t) & = Z_t x_t \\\\\n",
    "x_{t+1} & = x_t + \\eta_t \\\\\n",
    "\\eta_t & \\sim N(0, \\Sigma_\\eta) \\\\\n",
    "\\end{align}\n",
    "\n",
    "We now have to use the `ssm_ung` function to construct the SSM model. The documentation in `bssm` is not great, so a few notes. The model is formalized as\n",
    "\n",
    "\\begin{align}\n",
    "y_t & \\sim p(y_t|D_t + Z_tx_t) \\\\\n",
    "x_{t+1} & = C_t + T_t x_t + R_t \\nu_t,\n",
    "\\end{align}\n",
    "\n",
    "with $\\nu_t \\sim N(0, I_k)$. For our model, $D_t$ and $C_t$ are zero, and $T_t$ is a $2 \\times 2$ identity matrix, all constant over time. $Z_t$ does depend on time; it's $(1, -0.5)$ for trials reinforced on the right and $(1, 0.5)$ for trials reinforced on the left. $x_1$ has a multivariate normal prior that's specified with the `a1` and `P1` arguments. \n",
    "\n",
    "- $n$ is the number of time points, $m$ is the dimension of the state vector, $k$ is the dimension of the process noise\n",
    "- $Z$ is supplied as $m \\times n$ array (if it varies over time)\n",
    "- $T$ is supplied as $m \\times m$\n",
    "- $R$ is $m \\times k$. We probably just want to use $k = m$ here.\n",
    "\n",
    "The prior for $R_t$ is given by supplying functions to the `update_fn` and `prior_fn` arguments. All the parameters that take a prior get mushed together into a vector $\\theta$ that gets passed to these functions. `prior_fn` evaluates the (joint) log density. `update_fn` un-mushes $\\theta$ into a list with named elements.\n",
    "\n",
    "The simplest prior to implement for $R$ is to have independent normal distributions for bias and discrimination, which means their random walks will be uncorrelated."
   ]
  },
  {
   "cell_type": "code",
   "execution_count": null,
   "id": "d752450b-1fc0-4687-8a68-9e3f5590780b",
   "metadata": {},
   "outputs": [],
   "source": [
    "# results of the script are output to this file\n",
    "results <- readRDS(\"../build/C280_train_ssm_summary.rds\")"
   ]
  },
  {
   "cell_type": "code",
   "execution_count": null,
   "id": "3b8d79b0-1a4d-445b-9d65-5cffbe1ca6d5",
   "metadata": {},
   "outputs": [],
   "source": [
    "summary_bird <- (\n",
    "    results\n",
    "    |> purrr::discard_at(c(\"data\", \"corr\"))\n",
    "    |> purrr::map(~ select(., time, variable, mean, lwr, upr))\n",
    "    |> purrr::list_rbind()\n",
    ")"
   ]
  },
  {
   "cell_type": "code",
   "execution_count": null,
   "id": "d41bda58-6dff-4921-873b-9854854e8eac",
   "metadata": {},
   "outputs": [],
   "source": [
    "options(repr.plot.width=1.9, repr.plot.height=1.2, repr.plot.res = 450)\n",
    "p_left <- (\n",
    "    summary_bird\n",
    "    |> filter(variable %in% c(\"level\", \"p_left\", \"p_right\"))\n",
    "    |> pivot_wider(names_from=\"variable\", values_from=c(\"mean\", \"upr\", \"lwr\"))\n",
    "    |> inner_join(results$data, by=\"time\")\n",
    "    |> mutate(rpos=(peck_left - 0.5)* 1.1 + 0.5, spos=stim_left * 0.05 - 0.025)\n",
    "    |> ggplot(aes(trial))\n",
    "    + geom_point(aes(y=ifelse(noresp, 1.125, NA)), size=0.3, shape=\"|\")\n",
    "    + geom_point(aes(y=rpos + spos, color=factor(stim_left)), size=0.3, shape=\"|\")\n",
    "    + geom_line(mapping=aes(y=mean_level), color=\"black\")\n",
    "    + geom_line(mapping=aes(y=mean_p_left), color=\"#2677B4\")\n",
    "    + geom_ribbon(mapping=aes(ymin=lwr_p_left, ymax=upr_p_left), fill=\"#2677B4\", alpha=0.25)\n",
    "    + geom_line(mapping=aes(y=mean_p_right), color=\"#F68626\")\n",
    "    + geom_ribbon(mapping=aes(ymin=lwr_p_right, ymax=upr_p_right), fill=\"#F68626\", alpha=0.25)\n",
    "    + scale_color_manual(values=c(\"#F68626\", \"#2677B4\"))\n",
    "    + scale_y_continuous(\"prob\", breaks=c(0, 0.2, 0.4, 0.6, 0.8, 1.0))\n",
    "    + theme_classic() + my.theme + no.legend\n",
    ")\n",
    "p_left"
   ]
  },
  {
   "cell_type": "code",
   "execution_count": null,
   "id": "c3d22ae0-1876-4966-9904-8bd30f808242",
   "metadata": {},
   "outputs": [],
   "source": [
    "pdf(\"../figures/2ac_ssm_train_C280.pdf\", width=1.9, height=1.2)\n",
    "print(p_left)\n",
    "dev.off()"
   ]
  },
  {
   "cell_type": "code",
   "execution_count": null,
   "id": "057f13f8-9781-434e-8661-49cf5d68988e",
   "metadata": {},
   "outputs": [],
   "source": [
    "options(repr.plot.width=1.9, repr.plot.height=1.2, repr.plot.res = 450)\n",
    "p_discrim <- (\n",
    "    summary_bird\n",
    "    |> filter(variable==\"discrim\")\n",
    "    |> inner_join(results$data, by=\"time\")\n",
    "    |> ggplot(aes(trial))\n",
    "    + geom_line(mapping=aes(y=mean))\n",
    "    + geom_ribbon(mapping=aes(ymin=lwr, ymax=upr), alpha=0.25)\n",
    "    + geom_hline(yintercept=0, linetype=\"dotted\")\n",
    "    + scale_y_continuous(\"LOR\")\n",
    "    + theme_classic() + my.theme + no.legend\n",
    ")\n",
    "p_discrim"
   ]
  },
  {
   "cell_type": "code",
   "execution_count": null,
   "id": "faafd760-578f-4447-b559-5ac36eeba536",
   "metadata": {},
   "outputs": [],
   "source": [
    "pdf(\"../figures/2ac_ssm_train_discrim_C280.pdf\", width=1.9, height=1.2)\n",
    "print(p_discrim)\n",
    "dev.off()"
   ]
  },
  {
   "cell_type": "markdown",
   "id": "c8d35b84-b9bc-4057-92f3-4e8f4aba686f",
   "metadata": {},
   "source": [
    "## Generalizing to noisy stimuli\n",
    "\n",
    "For the test trials, we don't need to use a state space model because we assume that the trials for a given bird to a given stimulus are exchangeable. However, because we have multiple animals, we need to use a generalized linear mixed effects model to deal with the hierarchical nature of the data."
   ]
  },
  {
   "cell_type": "code",
   "execution_count": null,
   "id": "92066c4b-87bc-41ef-a267-be1f0ea0729f",
   "metadata": {},
   "outputs": [],
   "source": [
    "## load metadata\n",
    "birds <- data.table::fread(\"../datasets/zebf-discrim-noise/birds.csv\")"
   ]
  },
  {
   "cell_type": "code",
   "execution_count": null,
   "id": "e5f422b5-87be-473c-941d-d0b92f4e4ece",
   "metadata": {},
   "outputs": [],
   "source": [
    "## load trials\n",
    "header <- data.table::fread(cmd='find ../datasets/zebf-discrim-noise/trials/ -name \"*probe*_trials.csv\" | head -n1 | xargs head -n1', header=T)\n",
    "all_trials <- tibble(data.table::fread(cmd='find ../datasets/zebf-discrim-noise/trials/ -name \"*probe*_trials.csv\" | xargs tail -q -n+2', header=F))\n",
    "names(all_trials) <- names(header)"
   ]
  },
  {
   "cell_type": "code",
   "execution_count": null,
   "id": "ac628a31-554a-446a-b437-77e19600838b",
   "metadata": {},
   "outputs": [],
   "source": [
    "## data cleaning\n",
    "trials <- (\n",
    "    all_trials \n",
    "    # correction trials were inadvertently left on for Rb284 in the 0 dB session\n",
    "    |> filter(correction==0)\n",
    "    # remove some trials with the wrong date \n",
    "    |> filter(time > lubridate::date(\"2022-01-01\"))\n",
    "    |> group_by(subject)\n",
    "    |> arrange(id)\n",
    "    ## recode stim and response so that we can get bias and LOR\n",
    "    |> mutate(peck_any=(response != \"timeout\") * 1,\n",
    "              peck_left=ifelse(peck_any, (response == \"peck_left\") * 1, NA),\n",
    "              correct=ifelse(peck_any, correct * 1, NA),\n",
    "              trial=row_number(),\n",
    "              rtime=rtime / 1e6  # convert to s\n",
    "              )\n",
    ")\n",
    "stims <- (\n",
    "    unique(trials$stimulus)\n",
    "    |> str_match(\"(?<foreground>[:alnum:]+)-(?<foregroundlvl>[:digit:]+)_(?<background>[:alnum:]+)-(?<backgroundlvl>[:digit:]+)\")\n",
    "    |> as.data.frame()\n",
    "    |> mutate(stimulus=V1, foreground, background, snr=as.numeric(backgroundlvl) - as.numeric(foregroundlvl), .keep=\"none\")\n",
    "    |> mutate(snr=forcats::fct_rev(factor(snr)))\n",
    "    |> drop_na()\n",
    ")\n",
    "trials <- (\n",
    "    trials\n",
    "    |> inner_join(stims, by=\"stimulus\")\n",
    ")\n",
    "# generate a lookup table to determine which stimuli are associated with left key for which birds\n",
    "stimclasses <- (\n",
    "    trials\n",
    "    |> xtabs(~ subject + foreground + peck_left + correct, data=_) \n",
    "    |> as.data.frame() \n",
    "    |> filter(correct==1, Freq > 0)\n",
    "    |> select(subject, foreground, stim_left=peck_left)\n",
    ")\n",
    "sessions <- (\n",
    "    unique(trials$experiment)\n",
    "    |> str_match(\"2ac-(?<type>[:alnum:]+)-snr.*_(?<snr>[0-9-]+)-.*\")\n",
    "    |> as.data.frame()\n",
    "    |> mutate(experiment=V1, session_type=type, session_snr=as.numeric(snr), .keep=\"none\")\n",
    "    |> mutate(session_snr=forcats::fct_rev(factor(session_snr)))\n",
    ")\n",
    "trials <- (\n",
    "    trials\n",
    "    |> inner_join(stimclasses, by=c(\"subject\", \"foreground\"))\n",
    "    |> inner_join(sessions, by=\"experiment\")\n",
    "    |> inner_join(birds, by=c(subject=\"bird\"))\n",
    "    |> select(subject, sex, group, age, siblings, \n",
    "              trial, session_type, session_snr, foreground, background, stim_left, snr, \n",
    "              peck_any, peck_left, rtime, correct, result)\n",
    ")\n"
   ]
  },
  {
   "cell_type": "code",
   "execution_count": null,
   "id": "6abad682-69fc-4401-8bbc-71179148d742",
   "metadata": {},
   "outputs": [],
   "source": [
    "## tabulate the number of responses for each subject, snr, and stimulus type. We can use these\n",
    "## pooled counts as binomial random variables - much faster than trying to fit individual trials, and same results\n",
    "resp_probs <- (\n",
    "    trials\n",
    "    |> group_by(group, subject, snr, stim_left)\n",
    "    |> summarize(\n",
    "        n_trials=n(), \n",
    "        n_peck=sum(peck_any),\n",
    "        n_correct=sum(correct, na.rm=T),\n",
    "        n_left=sum(peck_left, na.rm=T)\n",
    "    )\n",
    ")"
   ]
  },
  {
   "cell_type": "markdown",
   "id": "b0d65095-2ee5-4cf1-a6eb-9ff01fa46031",
   "metadata": {},
   "source": [
    "### Example bird\n"
   ]
  },
  {
   "cell_type": "code",
   "execution_count": null,
   "id": "94a028da-2599-4a7f-81a1-ec85d3be3e85",
   "metadata": {},
   "outputs": [],
   "source": [
    "example_trials <- trials |> filter(subject==\"C280\")\n",
    "example_probs <- resp_probs |> filter(subject==\"C280\")"
   ]
  },
  {
   "cell_type": "markdown",
   "id": "2909223c-bdd2-4bdc-8fd8-50fab08202f6",
   "metadata": {},
   "source": [
    "#### Check that performance on the baseline stimuli (70 dB SNR) remains stable."
   ]
  },
  {
   "cell_type": "code",
   "execution_count": null,
   "id": "121c8902-6842-4f1d-8c76-93b65730a510",
   "metadata": {},
   "outputs": [],
   "source": [
    "block_size <- 100\n",
    "p_timeout <- (\n",
    "    example_trials\n",
    "    |> filter(snr==70)\n",
    "    |> mutate(block=factor(floor(row_number() / block_size)))\n",
    "    |> group_by(block)\n",
    "    |> summarize(p_timeout=sum(1 - peck_any)/n(), n_trials=n(), index_trial=median(trial))\n",
    ")\n",
    "p_left <- (\n",
    "    example_trials\n",
    "    |> filter(snr==70)\n",
    "    |> filter(peck_any==1)\n",
    "    |> mutate(block=factor(floor(row_number() / block_size)))\n",
    "    |> group_by(block, stim_left)\n",
    "    |> summarize(n_trials=n(), p_left=sum(peck_left)/n_trials, index_trial=median(trial))\n",
    ")"
   ]
  },
  {
   "cell_type": "code",
   "execution_count": null,
   "id": "7a1aef34-743c-4ec5-b66b-6c924aaff880",
   "metadata": {},
   "outputs": [],
   "source": [
    "options(repr.plot.width=2, repr.plot.height=1.25, repr.plot.res = 300)\n",
    "p <- (\n",
    "    ggplot(mapping=aes(index_trial))\n",
    "    + geom_line(data=p_timeout, aes(y=p_timeout))\n",
    "    + geom_line(data=p_left, aes(y=p_left, color=factor(stim_left), group=stim_left))\n",
    "    + scale_color_manual(values=c(\"#F68626\", \"#2677B4\"))\n",
    "    + scale_x_continuous(\"Trial\")\n",
    "    + scale_y_continuous(\"p(left)\")\n",
    ")\n",
    "p + theme_classic() + my.theme + no.legend"
   ]
  },
  {
   "cell_type": "markdown",
   "id": "048f98bf-5ba3-4c8b-8c56-105dbad57e7f",
   "metadata": {},
   "source": [
    "#### Generalized linear models\n",
    "\n",
    "For an individual bird, we can use a standard GLM with SNR as our primary fixed effect. For non-response probability, we're using the proportion of trials where the bird pecks as the outcome. For discrimination, we use the proportion of response trials where the bird pecks left, with the stimulus type as an additional fixed effect."
   ]
  },
  {
   "cell_type": "code",
   "execution_count": null,
   "id": "eb23d4b1-161c-4eb8-b8a9-a9a82299e0ec",
   "metadata": {},
   "outputs": [],
   "source": [
    "# code SNR as a factor; nonresponse as dependent variable\n",
    "fm_example_snr_nr <- (\n",
    "    example_probs\n",
    "    |> glm(cbind(n_trials - n_peck, n_peck) ~ 1 + snr, data=_, family=binomial)\n",
    ")"
   ]
  },
  {
   "cell_type": "code",
   "execution_count": null,
   "id": "35fac001-8e42-434f-a2e4-2f41c257d791",
   "metadata": {},
   "outputs": [],
   "source": [
    "# code SNR as a factor; peck left as dependent variable\n",
    "fm_example_snr_pl <- (\n",
    "    example_probs\n",
    "    |> glm(cbind(n_left, n_peck - n_left) ~ 1 + snr*stim_left, data=_, family=binomial)\n",
    ")"
   ]
  },
  {
   "cell_type": "code",
   "execution_count": null,
   "id": "7c7218a6-06c6-4863-877b-d8d3cb2753b5",
   "metadata": {},
   "outputs": [],
   "source": [
    "## Use emmeans to get marginal response probabilities\n",
    "emm_example_snr_nr <- (\n",
    "    fm_example_snr_nr\n",
    "    |> emmeans(~ snr, type=\"response\")\n",
    "    |> confint(level=0.90)\n",
    "    |> mutate(snr=as.numeric(as.character(snr)))\n",
    ")\n",
    "emm_example_snr_pl <- (\n",
    "    fm_example_snr_pl\n",
    "    |> emmeans(~ snr*stim_left, type=\"response\")\n",
    "    |> confint(level=0.90)\n",
    "    |> mutate(snr=as.numeric(as.character(snr)))\n",
    ")"
   ]
  },
  {
   "cell_type": "code",
   "execution_count": null,
   "id": "9ec66b3f-6277-4a63-b754-90fa1d7f146a",
   "metadata": {},
   "outputs": [],
   "source": [
    "options(repr.plot.width=1.7, repr.plot.height=1.2, repr.plot.res = 450)\n",
    "p <- (\n",
    "    emm_example_snr_pl\n",
    "    |> ggplot(aes(snr, prob, ymin=asymp.LCL, ymax=asymp.UCL))\n",
    "    + geom_line(mapping=aes(group=stim_left, color=stim_left))\n",
    "    + geom_ribbon(mapping=aes(group=stim_left, fill=stim_left), alpha=0.25)\n",
    "    + geom_line(data=emm_example_snr_nr, color=\"black\")\n",
    "    + geom_ribbon(data=emm_example_snr_nr, fill=\"black\", alpha=0.25)\n",
    "    + scale_y_continuous(\"Prob\", limits=c(0, 1))\n",
    "    + scale_x_reverse(\"SNR (dB)\")\n",
    "    + scale_color_manual(values=c(\"#F68626\", \"#2677B4\"))\n",
    "    + scale_fill_manual(values=c(\"#F68626\", \"#2677B4\"))\n",
    "    + theme_classic() + my.theme + no.legend\n",
    ")\n",
    "p"
   ]
  },
  {
   "cell_type": "code",
   "execution_count": null,
   "id": "36498cd8-19d8-49a1-82fd-cbfaec32e80a",
   "metadata": {},
   "outputs": [],
   "source": [
    "pdf(\"../figures/2ac_probe_C280.pdf\", width=1.7, height=1.2)\n",
    "print(p)\n",
    "dev.off()"
   ]
  },
  {
   "cell_type": "markdown",
   "id": "852d7a5c-cf3a-4c4b-9d14-c079f3bdeaa1",
   "metadata": {},
   "source": [
    "### All birds\n",
    "\n",
    "First we'll just look at the data for all the birds plotted on the same axes."
   ]
  },
  {
   "cell_type": "code",
   "execution_count": null,
   "id": "a2c9c4fd-f6e7-4f89-9582-9e8cfd27b098",
   "metadata": {},
   "outputs": [],
   "source": [
    "options(repr.plot.width=3, repr.plot.height=3, repr.plot.res = 300)\n",
    "(\n",
    "    resp_probs\n",
    "    |> ggplot(aes(snr, n_left / n_peck, group=stim_left, color=group))\n",
    "    + geom_line()\n",
    "    + geom_line(aes(y= 1 - n_peck / n_trials), color=\"black\")\n",
    "    + facet_wrap(~ subject)\n",
    "    + scale_y_continuous(\"p(left)\", limits=c(0, 1))\n",
    "    + theme_classic() + my.theme\n",
    ")"
   ]
  },
  {
   "cell_type": "markdown",
   "id": "4850ce65-2cf7-4836-a0f4-418957988571",
   "metadata": {},
   "source": [
    "#### Generalized linear mixed effects models\n",
    "\n",
    "To make the models mixed-effects, we add a random intercept for each subject"
   ]
  },
  {
   "cell_type": "code",
   "execution_count": null,
   "id": "2f600831-e390-4311-bb22-92ddfec84545",
   "metadata": {},
   "outputs": [],
   "source": [
    "fm_snr_nr <- (\n",
    "    resp_probs\n",
    "    |> glmer(cbind(n_trials - n_peck, n_trials) ~ snr*group + (1|subject), data=_, family=binomial)\n",
    ")\n",
    "joint_tests(fm_snr_nr)"
   ]
  },
  {
   "cell_type": "code",
   "execution_count": null,
   "id": "aa4b2433-f0ce-4522-a960-6927482cd0b5",
   "metadata": {},
   "outputs": [],
   "source": [
    "options(repr.plot.width=1.65, repr.plot.height=1.2, repr.plot.res = 450)\n",
    "p <- (\n",
    "    emmeans(fm_snr_nr, ~ group:snr)\n",
    "    |> as.data.frame()\n",
    "    |> mutate(snr=as.numeric(as.character(snr)))\n",
    "    |> ggplot(aes(snr, emmean, group=group, color=group))\n",
    "    + geom_line()\n",
    "    + geom_point(size=1.5)\n",
    "    + geom_linerange(mapping=aes(ymin=emmean - SE, ymax=emmean + SE))\n",
    "    + scale_y_continuous(\"p(no resp) [log odds]\")\n",
    "    + scale_x_reverse(\"SNR (dB)\")\n",
    "    + theme_classic() + my.theme + no.legend\n",
    ")\n",
    "p"
   ]
  },
  {
   "cell_type": "code",
   "execution_count": null,
   "id": "2223193c-386f-44ad-8d86-2b0ee1efd11a",
   "metadata": {},
   "outputs": [],
   "source": [
    "pdf(\"../figures/probe_respond.pdf\", width=1.65, height=1.2)\n",
    "print(p)\n",
    "dev.off()"
   ]
  },
  {
   "cell_type": "code",
   "execution_count": null,
   "id": "88c165b6-15f1-4954-9acb-bc3f42b9531d",
   "metadata": {},
   "outputs": [],
   "source": [
    "## contrast CR and PR at each SNR\n",
    "(\n",
    "    fm_snr_nr\n",
    "    |> emmeans(~ group | snr)\n",
    "    |> contrast(\"revpairwise\", type=\"response\")\n",
    ")"
   ]
  },
  {
   "cell_type": "code",
   "execution_count": null,
   "id": "ed3ce4d9-2af5-481e-8ecc-fa94099c1d32",
   "metadata": {},
   "outputs": [],
   "source": [
    "## contrast CR and PR averaged across all SNRS\n",
    "(\n",
    "    fm_snr_nr\n",
    "    |> emmeans(~ group, type=\"response\")\n",
    "    |> contrast(\"revpairwise\")\n",
    ")"
   ]
  },
  {
   "cell_type": "markdown",
   "id": "8547932b-2321-4483-b7fa-0e10a5910c3e",
   "metadata": {},
   "source": [
    "For discrimination, we need to also add a random slope for stimulus type"
   ]
  },
  {
   "cell_type": "code",
   "execution_count": null,
   "id": "ddcf26fd-58fd-4a1a-a1f9-aed82f66b520",
   "metadata": {},
   "outputs": [],
   "source": [
    "fm_snr_pl <- (\n",
    "    resp_probs\n",
    "    # |> filter(snr != 70)\n",
    "    |> glmer(cbind(n_left, n_peck - n_left) ~ stim_left*snr*group + (1+stim_left|subject), family=binomial, data=_)\n",
    ")\n",
    "joint_tests(fm_snr_pl)"
   ]
  },
  {
   "cell_type": "code",
   "execution_count": null,
   "id": "5568575a-b12e-4239-ad78-c120a6f47257",
   "metadata": {},
   "outputs": [],
   "source": [
    "options(repr.plot.width=1.6, repr.plot.height=1.2, repr.plot.res = 450)\n",
    "p <- (\n",
    "    emmeans(fm_snr_pl, ~ stim_left | snr/group)\n",
    "    |> contrast(\"revpairwise\")\n",
    "    |> as.data.frame()\n",
    "    |> mutate(snr=as.numeric(as.character(snr)))\n",
    "    |> ggplot(aes(snr, estimate, group=group, color=group))\n",
    "    + geom_line()\n",
    "    + geom_point(size=1.5)\n",
    "    + geom_linerange(mapping=aes(ymin=estimate - SE, ymax=estimate + SE))\n",
    "    + scale_y_continuous(\"Discrimination (LOR)\")\n",
    "    + scale_x_reverse(\"SNR (dB)\")\n",
    "    + theme_classic() + my.theme + no.legend\n",
    ")\n",
    "p"
   ]
  },
  {
   "cell_type": "code",
   "execution_count": null,
   "id": "45d75173-6b03-45b9-b4e4-3e62b2850259",
   "metadata": {},
   "outputs": [],
   "source": [
    "pdf(\"../figures/probe_discrim.pdf\", width=1.6, height=1.2)\n",
    "print(p)\n",
    "dev.off()"
   ]
  },
  {
   "cell_type": "code",
   "execution_count": null,
   "id": "39120a2a-6156-431e-8e10-8af28dfe3086",
   "metadata": {},
   "outputs": [],
   "source": [
    "# Contrast LOR for CR and PR at each SNR (this is a contrast of contrasts)\n",
    "(\n",
    "    fm_snr_pl\n",
    "    |> emmeans(~ stim_left*group*snr)\n",
    "    |> contrast(interaction=c(\"revpairwise\", \"pairwise\"), by=\"snr\")\n",
    ")"
   ]
  },
  {
   "cell_type": "markdown",
   "id": "264a9f82-06c0-4bee-af82-b1ff754e2bf5",
   "metadata": {},
   "source": [
    "Finally, look at p(correct), counting non-responses as incorrect. This is consistent with the fact that\n",
    "we punish non-responses."
   ]
  },
  {
   "cell_type": "code",
   "execution_count": null,
   "id": "464b9321-b3bf-4c4d-8ceb-7a9915a31d23",
   "metadata": {},
   "outputs": [],
   "source": [
    "fm_correct <- (\n",
    "    resp_probs\n",
    "    |> glmer(cbind(n_correct, n_trials - n_correct) ~ snr*group + (1|subject), data=_, family=binomial)\n",
    ")"
   ]
  },
  {
   "cell_type": "code",
   "execution_count": null,
   "id": "89035439-7227-4ea3-a208-165cea397e25",
   "metadata": {},
   "outputs": [],
   "source": [
    "options(repr.plot.width=1.65, repr.plot.height=1.2, repr.plot.res = 450)\n",
    "p <- (\n",
    "    emmeans(fm_correct, ~ group:snr, type=\"response\")\n",
    "    |> as.data.frame()\n",
    "    |> mutate(snr=as.numeric(as.character(snr)))\n",
    "    |> ggplot(aes(snr, prob, group=group, color=group))\n",
    "    + geom_line()\n",
    "    + geom_point(size=1.5)\n",
    "    + geom_linerange(mapping=aes(ymin=prob - SE, ymax=prob + SE))\n",
    "    + scale_y_continuous(\"p(correct)\", limits=c(0,1))\n",
    "    + scale_x_reverse(\"SNR (dB)\")\n",
    "    + theme_classic() + my.theme + no.legend\n",
    ")\n",
    "p"
   ]
  },
  {
   "cell_type": "code",
   "execution_count": null,
   "id": "1312cd44-2b11-4e3a-99b8-7a2dfff87c84",
   "metadata": {},
   "outputs": [],
   "source": [
    "pdf(\"../figures/probe_correct.pdf\", width=1.7, height=1.2)\n",
    "print(p)\n",
    "dev.off()"
   ]
  },
  {
   "cell_type": "code",
   "execution_count": null,
   "id": "e706c8f7-f940-419f-b82b-3960705a348b",
   "metadata": {},
   "outputs": [],
   "source": [
    "(\n",
    "    fm_correct\n",
    "    |> emmeans(~ group | snr)\n",
    "    |> contrast(\"revpairwise\", type=\"response\")\n",
    ")"
   ]
  },
  {
   "cell_type": "code",
   "execution_count": null,
   "id": "eb22ab07-4bab-4a35-a6ea-76b90dc98ca9",
   "metadata": {},
   "outputs": [],
   "source": [
    "(\n",
    "    fm_correct\n",
    "    |> emmeans(~ group, type=\"response\")\n",
    "    |> contrast(\"pairwise\")\n",
    ")"
   ]
  },
  {
   "cell_type": "code",
   "execution_count": null,
   "id": "facdb8c2-6a85-41f7-b3b4-8111afa3c5b9",
   "metadata": {},
   "outputs": [],
   "source": []
  }
 ],
 "metadata": {
  "kernelspec": {
   "display_name": "R 4.3",
   "language": "R",
   "name": "ir43"
  },
  "language_info": {
   "codemirror_mode": "r",
   "file_extension": ".r",
   "mimetype": "text/x-r-source",
   "name": "R",
   "pygments_lexer": "r",
   "version": "4.4.1"
  }
 },
 "nbformat": 4,
 "nbformat_minor": 5
}
