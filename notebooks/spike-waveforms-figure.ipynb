{
 "cells": [
  {
   "cell_type": "markdown",
   "id": "9230fdaf-2dda-4392-b046-d3f4cb6cbd43",
   "metadata": {},
   "source": [
    "Notebook to plot spike classification figure panels.\n"
   ]
  },
  {
   "cell_type": "code",
   "execution_count": null,
   "id": "bdebc6b5-5139-44c2-86ea-676318febbfa",
   "metadata": {},
   "outputs": [],
   "source": [
    "import sys\n",
    "sys.path.insert(0, \"../scripts\")"
   ]
  },
  {
   "cell_type": "code",
   "execution_count": null,
   "id": "a0f2c5f3-3220-4b5f-b7ad-3518c7634fe0",
   "metadata": {},
   "outputs": [],
   "source": [
    "from pathlib import Path\n",
    "\n",
    "import numpy as np\n",
    "import pandas as pd\n",
    "import matplotlib.pyplot as plt\n",
    "import matplotlib.cm as cm\n",
    "import seaborn as sns\n",
    "from dlab import plotting\n",
    "\n",
    "from sklearn.mixture import GaussianMixture\n",
    "\n",
    "import graphics_defaults"
   ]
  },
  {
   "cell_type": "code",
   "execution_count": null,
   "id": "a2b34ec6-f5f2-4b52-b426-1e55218bf3b3",
   "metadata": {},
   "outputs": [],
   "source": [
    "unit_colors = [\"#70549B\", \"#FF7F0E\"]"
   ]
  },
  {
   "cell_type": "markdown",
   "id": "a7c9b1a9-4579-49a1-bb37-466584690df9",
   "metadata": {},
   "source": [
    "## Spike features"
   ]
  },
  {
   "cell_type": "code",
   "execution_count": null,
   "id": "8fbafc83-5740-4faa-b9fb-34a7725adcad",
   "metadata": {},
   "outputs": [],
   "source": [
    "feature_file = Path(\"..\") / \"build\" / \"mean_spike_features.csv\"\n",
    "features = pd.read_csv(feature_file, index_col=\"unit\")"
   ]
  },
  {
   "cell_type": "code",
   "execution_count": null,
   "id": "c26dcf94-1a47-4e62-ac90-a4a2700db71f",
   "metadata": {},
   "outputs": [],
   "source": [
    "upsampled_rate_khz = 150\n",
    "waveform_file = Path(\"..\") / \"build\" / \"mean_spike_waveforms.csv\"\n",
    "mean_waveforms = pd.read_csv(waveform_file, index_col=\"time_samples\")\n",
    "mean_waveforms.index /= upsampled_rate_khz\n",
    "ncells, npoints = mean_waveforms.shape"
   ]
  },
  {
   "cell_type": "code",
   "execution_count": null,
   "id": "14ed8cb1-bc11-4fca-b099-42ea1a15afd8",
   "metadata": {},
   "outputs": [],
   "source": [
    "unit_features = features[~features.spike.isna()]\n",
    "narrow_units = unit_features[unit_features.spike==\"narrow\"].index\n",
    "wide_units = unit_features[unit_features.spike==\"wide\"].index"
   ]
  },
  {
   "cell_type": "code",
   "execution_count": null,
   "id": "22943f46-b517-445d-a537-8888300c57cb",
   "metadata": {},
   "outputs": [],
   "source": [
    "fig, ax = plt.subplots(nrows=1, figsize=(1.7,1.7), dpi=300)\n",
    "axin1 = ax.inset_axes([0.55, 0.7, 0.3, 0.2])\n",
    "axin1.tick_params(axis='y', which='both', left=False, right=False, labelleft=False)\n",
    "for idx, group in enumerate((wide_units, narrow_units)):\n",
    "    ax.plot(unit_features.loc[group].peak2_t, \n",
    "            unit_features.loc[group].ptratio, '.',\n",
    "            color=unit_colors[idx],\n",
    "            markersize=3.5, \n",
    "            markeredgewidth=0.0, \n",
    "            alpha=0.3)\n",
    "    axin1.plot(mean_waveforms[group].mean(axis=1), color=unit_colors[idx])\n",
    "plotting.simple_axes(ax)\n",
    "ax.set_xlabel(\"Spike width (ms)\")\n",
    "ax.set_ylabel(\"Peak/trough ratio\")\n",
    "fig.savefig(\"../figures/unit_waveform_features.pdf\")"
   ]
  },
  {
   "cell_type": "markdown",
   "id": "baba13ff-7744-406a-bfac-2e40d51760ae",
   "metadata": {},
   "source": [
    "## Classify separately in each area\n",
    "\n",
    "A quick test to see if there are any differences between areas."
   ]
  },
  {
   "cell_type": "code",
   "execution_count": null,
   "id": "a1f242f7-b728-4329-bd8c-fdfe92ad17ee",
   "metadata": {},
   "outputs": [],
   "source": [
    "def classify_spikes(df):\n",
    "    X = df.loc[:,[\"peak2_t\", \"ptratio\"]]\n",
    "    gmix = GaussianMixture(n_components=2).fit(X)\n",
    "    narrow = gmix.means_[:,0].argmin()\n",
    "    return pd.Series(1.0 * (gmix.predict(X) == narrow), index=df.index).rename(\"is_narrow\")"
   ]
  },
  {
   "cell_type": "code",
   "execution_count": null,
   "id": "22f27fd8-4a4e-4e18-a1f8-314aaf19b9f8",
   "metadata": {},
   "outputs": [],
   "source": [
    "is_narrow = classify_spikes(unit_features)\n",
    "fig, ax = plt.subplots(nrows=1, figsize=(2,2), dpi=300)\n",
    "scatter = ax.scatter(unit_features.peak2_t, unit_features.ptratio, c=(is_narrow), s=0.7, cmap=\"tab10\", alpha=0.5)\n",
    "ax.set_xlabel(\"Spike width (ms)\")\n",
    "ax.set_ylabel(\"Peak/trough ratio\")\n",
    "plotting.simple_axes(ax)"
   ]
  },
  {
   "cell_type": "code",
   "execution_count": null,
   "id": "33ee96cc-1787-46fe-a236-c99f8c2fe17e",
   "metadata": {},
   "outputs": [],
   "source": [
    "area_names = {\n",
    "    \"deep\": \"L3/NCM\",\n",
    "    \"intermediate\": \"L2a/L2b\",\n",
    "    \"superficial\": \"L1/CM\"\n",
    "}\n"
   ]
  },
  {
   "cell_type": "code",
   "execution_count": null,
   "id": "fc2ec7f4-aee3-4a68-a683-afae8c894e69",
   "metadata": {},
   "outputs": [],
   "source": [
    "site_file = Path(\"..\") / \"inputs\" / \"recording_metadata.csv\"\n",
    "sites = pd.read_csv(site_file, index_col=\"site\")\n",
    "sites[\"area\"] = pd.Categorical(sites[\"area\"].apply(lambda s: area_names[s]), categories=[\"L2a/L2b\", \"L1/CM\", \"L3/NCM\"], ordered=True)"
   ]
  },
  {
   "cell_type": "code",
   "execution_count": null,
   "id": "4e2759db-9260-4f69-8fd0-dad1d3bc59cf",
   "metadata": {},
   "outputs": [],
   "source": [
    "feats = unit_features.loc[:,[\"peak2_t\", \"ptratio\"]].reset_index()\n",
    "feats[\"site\"] = feats.unit.apply(lambda s: \"_\".join(s.split(\"_\")[:-1]))\n",
    "feats = feats.join(sites, on=\"site\", how=\"inner\")\n",
    "feats[\"is_narrow\"] = feats.groupby(\"area\", observed=False).apply(classify_spikes, include_groups=False).droplevel(0)"
   ]
  },
  {
   "cell_type": "code",
   "execution_count": null,
   "id": "ab9bf7ce-91f6-4c36-8702-2ef5bf77bba1",
   "metadata": {},
   "outputs": [],
   "source": [
    "fig, ax = plt.subplots(nrows=1, ncols=3, figsize=(4.5,1.5), dpi=300, sharey=True)\n",
    "\n",
    "for idx, (area, area_df) in enumerate(feats.groupby(\"area\", observed=False)):\n",
    "    axin1 = ax[idx].inset_axes([0.55, 0.7, 0.3, 0.2])\n",
    "    axin1.tick_params(axis='y', which='both', left=False, right=False, labelleft=False)\n",
    "    for group in range(2):\n",
    "        group_df = area_df[area_df.is_narrow==group]\n",
    "        ax[idx].plot(group_df.peak2_t, group_df.ptratio, '.', markersize=4, markeredgewidth=0.0, alpha=0.3)\n",
    "        ax[idx].set_title(area)\n",
    "        plotting.simple_axes(ax[idx])\n",
    "        axin1.plot(mean_waveforms[group_df[\"unit\"]].mean(1))\n",
    "ax[1].set_xlabel(\"Spike width (ms)\")\n",
    "ax[0].set_ylabel(\"Peak/trough ratio\")\n",
    "fig.savefig(\"../figures/unit_waveform_features_by_area.pdf\")"
   ]
  },
  {
   "cell_type": "code",
   "execution_count": null,
   "id": "23207e33-eb59-45b3-af4c-99df8980cbe7",
   "metadata": {},
   "outputs": [],
   "source": []
  }
 ],
 "metadata": {
  "kernelspec": {
   "display_name": "cr-pr-adults",
   "language": "python",
   "name": "cr-pr-adults"
  },
  "language_info": {
   "codemirror_mode": {
    "name": "ipython",
    "version": 3
   },
   "file_extension": ".py",
   "mimetype": "text/x-python",
   "name": "python",
   "nbconvert_exporter": "python",
   "pygments_lexer": "ipython3",
   "version": "3.11.2"
  }
 },
 "nbformat": 4,
 "nbformat_minor": 5
}
