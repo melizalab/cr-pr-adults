{
 "cells": [
  {
   "cell_type": "markdown",
   "id": "a3aae394-a139-4d6d-adde-1f1d415c8858",
   "metadata": {},
   "source": [
    "# Example responses\n",
    "\n",
    "This notebook generates plots for Figure 3 showing narrow- vs broad-spiking neuron waveforms and example responses from different areas."
   ]
  },
  {
   "cell_type": "code",
   "execution_count": null,
   "id": "6f6a0dbc-320d-41ce-8560-b9bd228c3895",
   "metadata": {
    "tags": []
   },
   "outputs": [],
   "source": [
    "import sys\n",
    "\n",
    "sys.path.insert(0, \"../scripts\")"
   ]
  },
  {
   "cell_type": "code",
   "execution_count": null,
   "id": "86165be1-3ace-4dc2-9b2f-32c17e3e274e",
   "metadata": {
    "tags": []
   },
   "outputs": [],
   "source": [
    "import json\n",
    "from pathlib import Path\n",
    "\n",
    "import graphics_defaults  # noqa: F401\n",
    "import matplotlib.pyplot as plt\n",
    "import numpy as np\n",
    "import pandas as pd\n",
    "from core import (\n",
    "    MotifSplitter,\n",
    "    find_resources,\n",
    "    load_wave,\n",
    "    rescale,\n",
    "    split_trials,\n",
    ")\n",
    "from dlab import plotting\n",
    "from filters import SpectrogramTransform"
   ]
  },
  {
   "cell_type": "code",
   "execution_count": null,
   "id": "c0e502a7-4e56-44e9-955c-336ac4d7e91b",
   "metadata": {
    "tags": []
   },
   "outputs": [],
   "source": [
    "unit_type_colors = [\"#70549B\", \"#FF7F0E\"]\n",
    "area_names = {\n",
    "    \"deep\": \"L3/NCM\",\n",
    "    \"intermediate\": \"L2a/L2b\",\n",
    "    \"superficial\": \"L1/CM\"\n",
    "}"
   ]
  },
  {
   "cell_type": "code",
   "execution_count": null,
   "id": "33121de4-f473-4d4a-b6cd-fabf9c1e8cb9",
   "metadata": {
    "tags": []
   },
   "outputs": [],
   "source": [
    "dataset_dir = Path(\"../datasets/zebf-social-acoustical-ephys\")\n",
    "# set this to `./inputs` for if analyzing new data\n",
    "metadata_dir = dataset_dir / \"metadata/\"\n",
    "response_dir = dataset_dir / \"responses/\"\n",
    "stim_dir = dataset_dir / \"stimuli\"\n",
    "# spectrogram parameters\n",
    "window_size = 0.020\n",
    "max_frequency = 8000"
   ]
  },
  {
   "cell_type": "markdown",
   "id": "c4bb434d-7280-4eb4-85d5-43d5d16ef046",
   "metadata": {},
   "source": [
    "## Spike features\n",
    "\n",
    "Spike waveforms are extracted during spike sorting. The `scripts/unit_waveforms.py` was used to upsample and align the waveforms, make various measurements (peak heights, trough depth, trough-to-peak time), and cluster the spikes by waveform using a Gaussian mixture model. Because files with the individual spike waveforms are too big to deposit in a public data repository, only the results of the preprocessing were saved in the dataset."
   ]
  },
  {
   "cell_type": "code",
   "execution_count": null,
   "id": "b6a5ffa0-e9bb-4b79-ac4b-c435533cd703",
   "metadata": {
    "tags": []
   },
   "outputs": [],
   "source": [
    "# load these from build if you ran scripts/unit_waveforms.py on new data\n",
    "feature_file = metadata_dir / \"mean_spike_features.csv\"\n",
    "waveform_file = metadata_dir / \"mean_spike_waveforms.csv\"\n",
    "features = pd.read_csv(feature_file, index_col=\"unit\")\n",
    "# exclude positive spikes and others that can't be classified\n",
    "unit_features = features[~features.spike.isna()]\n",
    "narrow_units = unit_features[unit_features.spike==\"narrow\"].index\n",
    "wide_units = unit_features[unit_features.spike==\"wide\"].index"
   ]
  },
  {
   "cell_type": "code",
   "execution_count": null,
   "id": "37b76a22-911f-4119-a869-507ed2699f2c",
   "metadata": {
    "tags": []
   },
   "outputs": [],
   "source": [
    "upsampled_rate_khz = 150   # this is taken from `scripts/unit_waveforms.py`\n",
    "mean_waveforms = pd.read_csv(waveform_file, index_col=\"time_samples\")\n",
    "mean_waveforms.index /= upsampled_rate_khz\n",
    "ncells, npoints = mean_waveforms.shape"
   ]
  },
  {
   "cell_type": "code",
   "execution_count": null,
   "id": "a3e03b4d-bbba-413b-b10c-9ceb94faa8fb",
   "metadata": {
    "tags": []
   },
   "outputs": [],
   "source": [
    "fig, ax = plt.subplots(nrows=1, figsize=(1.7,1.7), dpi=300)\n",
    "axin1 = ax.inset_axes([0.55, 0.7, 0.3, 0.2])\n",
    "axin1.tick_params(axis='y', which='both', left=False, right=False, labelleft=False)\n",
    "for idx, group in enumerate((wide_units, narrow_units)):\n",
    "    ax.plot(unit_features.loc[group].peak2_t, \n",
    "            unit_features.loc[group].ptratio, '.',\n",
    "            color=unit_type_colors[idx],\n",
    "            markersize=3.5, \n",
    "            markeredgewidth=0.0, \n",
    "            alpha=0.3)\n",
    "    axin1.plot(mean_waveforms[group].mean(axis=1), color=unit_type_colors[idx])\n",
    "plotting.simple_axes(ax)\n",
    "ax.set_xlabel(\"Spike width (ms)\")\n",
    "ax.set_ylabel(\"Peak/trough ratio\")\n",
    "fig.savefig(\"../figures/unit_waveform_features.pdf\")"
   ]
  },
  {
   "cell_type": "markdown",
   "id": "681c4149-10b7-4f3e-aef5-49be56f40ace",
   "metadata": {},
   "source": [
    "## Example responses"
   ]
  },
  {
   "cell_type": "code",
   "execution_count": null,
   "id": "4af3c764-e7eb-4516-a9c8-d48c58254df7",
   "metadata": {
    "tags": []
   },
   "outputs": [],
   "source": [
    "# load some metadata so we know what areas the example units are from\n",
    "site_file = metadata_dir / \"recordings.csv\"\n",
    "sites = pd.read_csv(site_file, index_col=\"site\")\n",
    "sites[\"area\"] = pd.Categorical(sites[\"area\"].apply(lambda s: area_names[s]), categories=[\"L2a/L2b\", \"L1/CM\", \"L3/NCM\"], ordered=True)\n",
    "\n",
    "units = features.reset_index()[[\"unit\", \"spike\"]]\n",
    "units[\"site\"] = units.unit.apply(lambda s: \"_\".join(s.split(\"_\")[:-1]))\n",
    "units = units.join(sites, on=\"site\", how=\"inner\").set_index(\"unit\")\n"
   ]
  },
  {
   "cell_type": "code",
   "execution_count": null,
   "id": "01804c91-90f1-4f93-bed4-ed42f050f9ad",
   "metadata": {
    "tags": []
   },
   "outputs": [],
   "source": [
    "# selected example motifs and units, one of each type from each area\n",
    "selected_motifs = [\"0oq8ifcb\",\"g29wxi4q\", \"vekibwgj\", \"ztqee46x\"]\n",
    "unit_names = [\n",
    "    \"C194_3_1_c126\",\n",
    "    \"C104_4_1_c120\",\n",
    "    \"C42_4_1_c131\",\n",
    "    \"C42_4_1_c14\",\n",
    "    \"C104_3_1_c201\",\n",
    "    \"C44_3_1_c74\",\n",
    "]\n",
    "units.loc[unit_names]"
   ]
  },
  {
   "cell_type": "code",
   "execution_count": null,
   "id": "fa2d9f8d-1bbd-4ca1-840d-d5b97ca59c26",
   "metadata": {
    "tags": []
   },
   "outputs": [],
   "source": [
    "unit_responses = []\n",
    "for unit_name, pprox_file in find_resources(*unit_names, alt_base=response_dir):\n",
    "    unit = json.loads(pprox_file.read_text())\n",
    "    splitter = MotifSplitter()\n",
    "    responses = (\n",
    "        split_trials(splitter, unit, metadata_dir)\n",
    "        .reset_index()\n",
    "        .rename(columns=lambda s: s.replace(\"-\", \"_\"))\n",
    "        .query(\"background_dBFS == -100\")\n",
    "        .drop([\"background\", \"foreground_dBFS\", \"offset\"], axis=1)\n",
    "    )\n",
    "    responses[\"unit\"] = unit_name\n",
    "    unit_responses.append(responses)\n",
    "motifs = pd.concat(unit_responses)"
   ]
  },
  {
   "cell_type": "code",
   "execution_count": null,
   "id": "2dd5f98a-1660-4279-9c8e-4d396d945e83",
   "metadata": {
    "tags": []
   },
   "outputs": [],
   "source": [
    "wav_signals = {}\n",
    "for name, wav_path in find_resources(*selected_motifs, alt_base=stim_dir):\n",
    "    wav_signals[name] = load_wave(wav_path)\n",
    "    # these stimuli are scaled to -20 dB FS so need to be corrected to match their amplitude in the scene stimuli\n",
    "    rescale(wav_signals[name], -30)"
   ]
  },
  {
   "cell_type": "code",
   "execution_count": null,
   "id": "0dd63388-bfdd-408c-b56e-9c2f45af7094",
   "metadata": {
    "tags": []
   },
   "outputs": [],
   "source": [
    "# set up spectrogram transform\n",
    "stfter = SpectrogramTransform(window_size, wav_signals[name][\"sampling_rate\"], max_frequency)\n",
    "fgrid = stfter.freq"
   ]
  },
  {
   "cell_type": "code",
   "execution_count": null,
   "id": "2d4fd583-d470-44b1-9d23-38d2ec318bcb",
   "metadata": {
    "tags": []
   },
   "outputs": [],
   "source": [
    "n_motifs = len(selected_motifs)\n",
    "n_units = len(unit_names)\n",
    "df = motifs.set_index([\"foreground\", \"unit\"])\n",
    "fig, axes = plt.subplots(nrows=1 + n_units, ncols=n_motifs, sharex=True, sharey=\"row\", figsize=(3, 2.9), dpi=300)\n",
    "for col, motif in zip(axes.T, selected_motifs):\n",
    "    spec = stfter.transform(wav_signals[motif][\"signal\"], scaling=None) + 1e-6\n",
    "    log_spec = 10 * np.log10(spec / stfter.scale1)\n",
    "    tgrid = stfter.tgrid(spec)\n",
    "    pos = col[0].imshow(log_spec, aspect=\"auto\", origin=\"lower\", vmin=-90, vmax=-20, \n",
    "                   extent=(tgrid[0], tgrid[-1], fgrid[0] / 1000, fgrid[-1] / 1000))\n",
    "    col[0].set_yticks([0, 4, 8])\n",
    "    col[0].get_xaxis().set_visible(False)\n",
    "    # col[0].set_title(motif)\n",
    "    motif_trials = df.loc[motif]\n",
    "    for row, unit in zip(col[1:], unit_names):\n",
    "        trials = motif_trials.loc[unit]\n",
    "        for i, trial in enumerate(trials.itertuples()):\n",
    "            if isinstance(trial.events, float):\n",
    "                continue\n",
    "            row.plot(\n",
    "                trial.events,\n",
    "                [i] * trial.events.size,\n",
    "                color=\"k\",\n",
    "                marker=\"|\",\n",
    "                markeredgewidth=0.2,\n",
    "                markersize=1.2,\n",
    "                linestyle=\"\",\n",
    "            )\n",
    "        row.tick_params(axis='y', which='both', left=False, right=False, labelleft=False)\n",
    "# much axis annoyance\n",
    "for i in range(n_motifs):\n",
    "    for boundary in (\"right\", \"bottom\", \"top\"):\n",
    "        axes[0, i].spines[boundary].set_visible(False)\n",
    "    axes[0, i].get_xaxis().set_visible(False)\n",
    "    if i > 0:\n",
    "        axes[0, i].get_yaxis().set_visible(False)\n",
    "        axes[0, i].spines[\"left\"].set_visible(False)\n",
    "for i, unit_name in enumerate(unit_names, start=1):\n",
    "    info = units.loc[unit_name]\n",
    "    axes[i, 0].set_ylabel(f\"{info.area}\\n{info.spike}\")\n",
    "    if i < n_units:\n",
    "        for ax in axes[i]:\n",
    "            for boundary in (\"left\", \"right\", \"bottom\", \"top\"):\n",
    "                ax.spines[boundary].set_visible(False)\n",
    "            ax.get_xaxis().set_visible(False)\n",
    "            #ax.set_frame_on(False)\n",
    "    else:\n",
    "        for ax in axes[i]:\n",
    "            for boundary in (\"left\", \"right\",\"top\"):\n",
    "                ax.spines[boundary].set_visible(False)\n",
    "fig.subplots_adjust(hspace=0.1, wspace=0.1)\n",
    "\n",
    "spax_pos = pos.axes.get_position()\n",
    "cax = fig.add_axes((spax_pos.xmax, spax_pos.ymin, 0.01, spax_pos.height))\n",
    "cax.tick_params(axis='x', which='both', bottom=False, top=False, labelbottom=False)\n",
    "cax.yaxis.tick_right()\n",
    "cbar = fig.colorbar(pos, cax=cax)"
   ]
  },
  {
   "cell_type": "code",
   "execution_count": null,
   "id": "61ec75b6-438d-4aeb-bed5-c7cef571eed9",
   "metadata": {
    "tags": []
   },
   "outputs": [],
   "source": [
    "fig.savefig(\"../figures/motif_rasters.pdf\")"
   ]
  },
  {
   "cell_type": "code",
   "execution_count": null,
   "id": "67c7405a-1619-4547-9ae5-d076757ef01c",
   "metadata": {},
   "outputs": [],
   "source": []
  }
 ],
 "metadata": {
  "kernelspec": {
   "display_name": "cr-pr-adults",
   "language": "python",
   "name": "cr-pr-adults"
  },
  "language_info": {
   "codemirror_mode": {
    "name": "ipython",
    "version": 3
   },
   "file_extension": ".py",
   "mimetype": "text/x-python",
   "name": "python",
   "nbconvert_exporter": "python",
   "pygments_lexer": "ipython3",
   "version": "3.11.2"
  }
 },
 "nbformat": 4,
 "nbformat_minor": 5
}
