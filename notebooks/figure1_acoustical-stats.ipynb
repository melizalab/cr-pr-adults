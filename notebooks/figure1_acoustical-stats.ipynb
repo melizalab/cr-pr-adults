{
 "cells": [
  {
   "cell_type": "markdown",
   "id": "65ec2a56-32d1-4cc5-9a5b-bba6202d4c97",
   "metadata": {},
   "source": [
    "# Acoustical statistics\n",
    "\n",
    "This notebook generates panels for Figure 1 comparing the acoustical environments in the CR and PR conditions.\n",
    "You need to have downloaded the `zebf-social-acoustical-stats.zip` file from the [Acoustical Statistics of Zebra Finch Breeding](https://doi.org/10.6084/m9.figshare.27961518) dataset and unpacked it in the `datasets` folder."
   ]
  },
  {
   "cell_type": "code",
   "execution_count": null,
   "id": "db2ef9ab-f2eb-4875-a68d-6320c7d95e58",
   "metadata": {
    "tags": []
   },
   "outputs": [],
   "source": [
    "import os\n",
    "import sys\n",
    "\n",
    "sys.path.insert(0, \"../scripts\")\n",
    "# disable locking - texture summary stats may be on an NFS share\n",
    "os.environ[\"HDF5_USE_FILE_LOCKING\"] = \"FALSE\""
   ]
  },
  {
   "cell_type": "code",
   "execution_count": null,
   "id": "c14bfba7-2461-418c-8ae7-7d210e80a559",
   "metadata": {
    "tags": []
   },
   "outputs": [],
   "source": [
    "# graphics parameters\n",
    "import matplotlib as mpl\n",
    "\n",
    "tickparams = {\n",
    "    \"major.size\": 2,\n",
    "    \"minor.size\": 1,\n",
    "    \"labelsize\": \"small\",\n",
    "    \"direction\": \"out\",\n",
    "}\n",
    "grparams = {\n",
    "    \"font\": {\"size\": 6},\n",
    "    \"axes\": {\"linewidth\": 0.5, \"unicode_minus\": False, \"titlepad\": 2.0},\n",
    "    \"lines\": {\"linewidth\": 1.0},\n",
    "    \"xtick\": tickparams,\n",
    "    \"ytick\": tickparams,\n",
    "    \"image\": {\"aspect\": \"auto\", \"origin\": \"lower\"},\n",
    "    \"pdf\": {\"fonttype\": 42},\n",
    "}\n",
    "for k, v in grparams.items():\n",
    "    mpl.rc(k, **v)\n",
    "\n",
    "corr_cmap = \"seismic\"\n",
    "condition_colors = [\"#F8766D\", \"#00BFC4\", \"#000000\"]"
   ]
  },
  {
   "cell_type": "code",
   "execution_count": null,
   "id": "986f1ef5-0ba8-4e52-a9c1-6d56fe98b59e",
   "metadata": {
    "tags": []
   },
   "outputs": [],
   "source": [
    "import datetime\n",
    "from pathlib import Path\n",
    "\n",
    "import ewave\n",
    "import h5py\n",
    "import matplotlib.pyplot as plt\n",
    "import numpy as np\n",
    "import pandas as pd\n",
    "from filters import AWeightTransform, SpectrogramTransform"
   ]
  },
  {
   "cell_type": "code",
   "execution_count": null,
   "id": "ee610378-7a57-44bd-ad7e-0dff11fb929b",
   "metadata": {
    "tags": []
   },
   "outputs": [],
   "source": [
    "def read_summary_stats(path):\n",
    "    summary = pd.read_csv(path)\n",
    "    summary[\"date\"] = pd.to_datetime(summary.date)\n",
    "    summary[\"time\"] = pd.to_timedelta(summary.time)\n",
    "    summary[\"timestamp\"] = summary.date + summary.time\n",
    "    summary[\"recording_day\"] = (summary.date - summary.date[0]).dt.days\n",
    "    summary[\"hour\"] = summary.time.dt.total_seconds() / 3600\n",
    "    summary[\"is_daytime\"] = (summary.hour > 6) & (summary.hour < 22)\n",
    "    return summary"
   ]
  },
  {
   "cell_type": "code",
   "execution_count": null,
   "id": "8477fad2-87be-4b25-95a4-067fab14f63f",
   "metadata": {
    "tags": []
   },
   "outputs": [],
   "source": [
    "def plot_summary(axes, df):\n",
    "    axes.plot(df.timestamp, df.ampl_q50, \".\", markersize=2)\n",
    "    axes.vlines(df.timestamp, df.ampl_q25, df.ampl_q75, alpha=0.1, linewidths=1)\n",
    "    axes.plot(df.timestamp, df.ampl_q100, \"x\", markersize=2, alpha=0.1)\n",
    "    axes.set_ylabel(\"Amplitude (dBA SPL)\")\n",
    "    axes.set_xlabel(\"Time\")\n",
    "    axes.set_ylim(10, 110)\n",
    "\n",
    "def plot_amplitudes(axes, log_spec, amplitude_envelope, fgrid, tgrid):\n",
    "    pos = axes[0].imshow(log_spec, aspect=\"auto\", origin=\"lower\", vmin=0, vmax=80, \n",
    "                   interpolation=\"none\",\n",
    "                   extent=(tgrid[0], tgrid[-1], fgrid[0] / 1000, fgrid[-1] / 1000))\n",
    "    axes[0].set_ylabel(\"Freq (kHz)\")\n",
    "    axes[1].plot(tgrid, amplitude_envelope, linewidth=0.5)\n",
    "    axes[1].set_ylabel(\"Amplitude (dBA SPL)\")\n",
    "    axes[1].set_ylim(5, 90)\n",
    "    axes[1].set_xlabel(\"Time (s)\")\n",
    "    return pos"
   ]
  },
  {
   "cell_type": "code",
   "execution_count": null,
   "id": "c9e41c1d-8e9f-4ae0-a3c9-9db0dd9b9043",
   "metadata": {
    "tags": []
   },
   "outputs": [],
   "source": [
    "# dataset path\n",
    "dataset = Path(\"../datasets/zebf-social-acoustical-stats/\")\n",
    "# spectrogram parameters\n",
    "window_size = 0.010\n",
    "max_frequency = 8000"
   ]
  },
  {
   "cell_type": "markdown",
   "id": "d61977c6-11a0-4209-8c68-af10ff4183d3",
   "metadata": {},
   "source": [
    "## Amplitude statistics and example spectrograms\n",
    "\n",
    "Amplitude statistics have been pre-calculated using the `scripts/amplitude-stats.py` script from long recording files that are too large to include in the dataset."
   ]
  },
  {
   "cell_type": "markdown",
   "id": "6e9577b1-7f8f-4238-a160-c465449dd9e8",
   "metadata": {},
   "source": [
    "### Colony-reared\n",
    "\n",
    "The colony nestbox recording started when the chicks were 26-29 days post hatch."
   ]
  },
  {
   "cell_type": "code",
   "execution_count": null,
   "id": "c2082cf6-b2be-4b4c-a038-cc7148fa8a4f",
   "metadata": {
    "tags": []
   },
   "outputs": [],
   "source": [
    "cr_summary = read_summary_stats(dataset / \"amplitude_cobalt-57_colony.csv\")\n",
    "# this is the example segment where there is song\n",
    "segment_time = datetime.datetime(2024, 1, 26, 19, 40)"
   ]
  },
  {
   "cell_type": "code",
   "execution_count": null,
   "id": "cb8d2022-fc6b-472d-9e82-4c43a6161151",
   "metadata": {
    "tags": []
   },
   "outputs": [],
   "source": [
    "fig, axes = plt.subplots(1, 1, figsize=(3, 1.5), dpi=300)\n",
    "plot_summary(axes, cr_summary)\n",
    "idx_example = cr_summary.timestamp.searchsorted(segment_time)\n",
    "axes.plot(cr_summary.timestamp.iloc[idx_example], cr_summary.ampl_q100.iloc[idx_example], 'x', markersize=2)\n",
    "#fig.savefig(\"../figures/cr_cobalt_57_amplitude.pdf\")"
   ]
  },
  {
   "cell_type": "markdown",
   "id": "6666408b-38fb-4ff1-bc4a-c9e05c83bc34",
   "metadata": {},
   "source": [
    "Example spectrograms. Note that this segment is *not* used in the texture analysis. I had to work pretty hard\n",
    "to find the dad singing."
   ]
  },
  {
   "cell_type": "code",
   "execution_count": null,
   "id": "a18cbc26-2109-4269-b709-54732a712079",
   "metadata": {
    "tags": []
   },
   "outputs": [],
   "source": [
    "# this is output by the amplitude-stats script\n",
    "dBSPL_correction = 154401.9670647288\n",
    "example_segment_file = dataset / \"example_cobalt_57_family-colony-nestbox_20240126-203402.wav\"\n",
    "with ewave.open(example_segment_file, mode=\"r\") as fp:\n",
    "    example_segment = fp.read()\n",
    "    sampling_rate = fp.sampling_rate"
   ]
  },
  {
   "cell_type": "code",
   "execution_count": null,
   "id": "c6eeb28b-f5ad-431b-9a7a-211af175abbb",
   "metadata": {
    "tags": []
   },
   "outputs": [],
   "source": [
    "raw_data = example_segment * dBSPL_correction\n",
    "a_weighter = AWeightTransform(sampling_rate)\n",
    "stfter = SpectrogramTransform(window_size, sampling_rate, max_frequency)\n",
    "fgrid = stfter.freq\n",
    "filtered_data = a_weighter.transform(raw_data)\n",
    "spec = stfter.transform(filtered_data, scaling=None)\n",
    "log_spec = 10 * np.log10(spec / stfter.scale1)\n",
    "tgrid = stfter.tgrid(spec)\n",
    "amplitude_envelope = 10 * np.log10(spec.sum(0) / stfter.scale2 * stfter.freq_res)"
   ]
  },
  {
   "cell_type": "code",
   "execution_count": null,
   "id": "367a30b4-d577-42c5-a2e0-a8f36c2e466d",
   "metadata": {
    "tags": []
   },
   "outputs": [],
   "source": [
    "fig, axes = plt.subplots(nrows=2, ncols=1, sharex=True, figsize=(2.5, 1.5), dpi=300)\n",
    "pos = plot_amplitudes(axes, log_spec, amplitude_envelope, fgrid, tgrid)\n",
    "axes[0].vlines([88, 93], ymin=fgrid[0] / 1000, ymax=fgrid[-1] / 1000, color=\"white\", linewidths=0.5)\n",
    "cax = fig.add_axes((0.95, 0.55, 0.01, 0.30))\n",
    "cax.tick_params(axis='x', which='both', bottom=False, top=False, labelbottom=False)\n",
    "cax.yaxis.tick_right()\n",
    "cbar = fig.colorbar(pos, cax=cax, ticks=(0,40,80))\n",
    "fig.savefig(\"../figures/cr_cobalt_57_example_5m.pdf\")"
   ]
  },
  {
   "cell_type": "code",
   "execution_count": null,
   "id": "30a6e45b-4945-433b-b8d2-eee117ed64e3",
   "metadata": {
    "tags": []
   },
   "outputs": [],
   "source": [
    "fig, axes = plt.subplots(nrows=2, ncols=1, sharex=True, figsize=(1.75, 1.5), dpi=300)\n",
    "plot_amplitudes(axes, log_spec, amplitude_envelope, fgrid, tgrid)\n",
    "axes[1].set_xlim(88, 93)\n",
    "fig.savefig(\"../figures/cr_cobalt_57_example_5s.pdf\")"
   ]
  },
  {
   "cell_type": "markdown",
   "id": "2487db77-75cc-4696-9617-3b6caa104f12",
   "metadata": {},
   "source": [
    "### Pair-reared\n",
    "\n",
    "The PR nestbox recording started when the chicks were 4-11 dph. We want to compare to a comparable period\n",
    "in the CR recording. Starting 23 days after start of recording gives us a starting age of 27-34 dph."
   ]
  },
  {
   "cell_type": "code",
   "execution_count": null,
   "id": "678ad116-b2da-4303-8f93-8fb9e3c00038",
   "metadata": {
    "tags": []
   },
   "outputs": [],
   "source": [
    "pr_summary = read_summary_stats(dataset / \"amplitude_purple-166_soundbox.csv\")\n",
    "# skip forward 23 days\n",
    "start_time = pr_summary.date.iloc[0] + datetime.timedelta(days=23) + cr_summary.time.iloc[0]\n",
    "end_time = start_time + (cr_summary.timestamp.iloc[-1] - cr_summary.timestamp.iloc[0])\n",
    "pr_summary_recent = pr_summary.loc[(pr_summary.timestamp > start_time) &  (pr_summary.timestamp <= end_time)]\n",
    "# this is the example segment where there is song\n",
    "segment_time = datetime.datetime(2024, 3, 24, 15, 15)"
   ]
  },
  {
   "cell_type": "code",
   "execution_count": null,
   "id": "5979f9bc-a58b-424a-a3b2-9702734208fe",
   "metadata": {
    "tags": []
   },
   "outputs": [],
   "source": [
    "fig, axes = plt.subplots(1, 1, figsize=(3, 1.5), dpi=300)\n",
    "plot_summary(axes, pr_summary_recent)\n",
    "idx_example = pr_summary_recent.timestamp.searchsorted(segment_time)\n",
    "axes.plot(pr_summary_recent.timestamp.iloc[idx_example], pr_summary_recent.ampl_q100.iloc[idx_example], 'x', markersize=2)\n",
    "fig.savefig(\"../figures/pr_purple_166_amplitude.pdf\")"
   ]
  },
  {
   "cell_type": "code",
   "execution_count": null,
   "id": "4b384c83-ba73-458b-8555-69b24c2592cb",
   "metadata": {
    "tags": []
   },
   "outputs": [],
   "source": [
    "# this is output by the amplitude-stats script\n",
    "dBSPL_correction = 57925.56019476335\n",
    "example_segment_file = dataset / \"example_purple_166_family-pair-nestbox_20240324-154855.wav\"\n",
    "with ewave.open(example_segment_file, mode=\"r\") as fp:\n",
    "    example_segment = fp.read()\n",
    "    sampling_rate = fp.sampling_rate"
   ]
  },
  {
   "cell_type": "code",
   "execution_count": null,
   "id": "c742c877-484e-4bda-a43f-b0bb76cc4b97",
   "metadata": {
    "tags": []
   },
   "outputs": [],
   "source": [
    "raw_data = example_segment * dBSPL_correction\n",
    "a_weighter = AWeightTransform(sampling_rate)\n",
    "stfter = SpectrogramTransform(window_size, sampling_rate, max_frequency)\n",
    "fgrid = stfter.freq\n",
    "filtered_data = a_weighter.transform(raw_data)\n",
    "spec = stfter.transform(filtered_data, scaling=None)\n",
    "log_spec = 10 * np.log10(spec / stfter.scale1)\n",
    "tgrid = stfter.tgrid(spec)\n",
    "amplitude_envelope = 10 * np.log10(spec.sum(0) / stfter.scale2 * stfter.freq_res)"
   ]
  },
  {
   "cell_type": "code",
   "execution_count": null,
   "id": "2f38c354-af31-4541-a79f-1344df5e4c35",
   "metadata": {
    "tags": []
   },
   "outputs": [],
   "source": [
    "fig, axes = plt.subplots(nrows=2, ncols=1, sharex=True, figsize=(2.5, 1.5), dpi=300)\n",
    "plot_amplitudes(axes, log_spec, amplitude_envelope, fgrid, tgrid)\n",
    "axes[0].vlines([54.3, 59.3], ymin=fgrid[0] / 1000, ymax=fgrid[-1] / 1000, color=\"white\", linewidths=0.5)\n",
    "#axes[1].vlines([417, 422], ymin=20, ymax=90, color=\"blue\", linewidths=0.5)\n",
    "axes[1].set_xlabel(\"Time (s)\")\n",
    "fig.savefig(\"../figures/pr_purple_166_example_5m.pdf\")"
   ]
  },
  {
   "cell_type": "code",
   "execution_count": null,
   "id": "5c28f4f3-f4c5-451e-8feb-8d56053152b7",
   "metadata": {
    "tags": []
   },
   "outputs": [],
   "source": [
    "fig, axes = plt.subplots(nrows=2, ncols=1, sharex=True, figsize=(1.75, 1.5), dpi=300)\n",
    "plot_amplitudes(axes, log_spec, amplitude_envelope, fgrid, tgrid)\n",
    "#axes[1].set_xlim(71.5, 76.5)\n",
    "axes[1].set_xlim(54.3, 59.3)\n",
    "fig.savefig(\"../figures/pr_purple_166_example_5s.pdf\")"
   ]
  },
  {
   "cell_type": "markdown",
   "id": "9f6bf533-f959-4c0c-a23e-0d336682e7fb",
   "metadata": {},
   "source": [
    "## Texture statistics\n",
    "\n",
    "Before running the cells below, run the `texture-stats.py` script to analyze samples from the colony nestbox, clean recordings of song, and pink noise (we use the same sample from the McDermott source distribution):\n",
    "\n",
    "``` shell\n",
    "venv/bin/python scripts/texture-stats.py --output build/cr-family_texture-stats.h5 datasets/zebf-social-acoustical-stats/cobalt_57_family*wav\n",
    "```\n",
    "\n",
    "``` shell\n",
    "venv/bin/python scripts/texture-stats.py --output build/clean-songs_texture-stats.h5 datasets/zebf-social-acoustical-stats/*songs*wav\n",
    "```\n",
    "\n",
    "``` shell\n",
    "venv/bin/python scripts/texture-stats.py --duration 20 --output build/pink-noise_texture-stats.h5 datasets/zebf-social-acoustical-stats/pink_noise_20s_20kHz.wav\n",
    "```\n"
   ]
  },
  {
   "cell_type": "code",
   "execution_count": null,
   "id": "93c19da8-a00e-40eb-ac05-c476816c7d63",
   "metadata": {
    "tags": []
   },
   "outputs": [],
   "source": [
    "def collect_stats(arf_file, name: str, axis: int):\n",
    "    collected = [entry[name] for entry in arf_file.values() if isinstance(entry, h5py.Group) and name in entry]\n",
    "    return np.stack(collected, axis=axis)"
   ]
  },
  {
   "cell_type": "code",
   "execution_count": null,
   "id": "5ab5fce4-1401-4d8d-90a0-3e8a7d3b46ec",
   "metadata": {
    "tags": []
   },
   "outputs": [],
   "source": [
    "song_stats = h5py.File(\"../build/clean-songs_texture-stats.h5\", \"r\")\n",
    "colony_stats = h5py.File(\"../build/cr-family_texture-stats.h5\", \"r\")\n",
    "noise_stats = h5py.File(\"../build/pink-noise_texture-stats.h5\", \"r\")"
   ]
  },
  {
   "cell_type": "code",
   "execution_count": null,
   "id": "3084116f-f4a9-4f9c-bd80-fb1b820c2152",
   "metadata": {
    "tags": []
   },
   "outputs": [],
   "source": [
    "# pick out the labels for the graphs\n",
    "erb_filter_locations = song_stats[\"erb_filters\"].attrs[\"locations\"]\n",
    "erb_idx = np.arange(erb_filter_locations.size)\n",
    "erb_pos = [0, 9, 19, 29]\n",
    "erb_labels = [f\"{label:.0f}\" for label in erb_filter_locations[erb_pos]]\n",
    "mps_filter_locations = song_stats[\"mps_filters\"].attrs[\"locations\"]\n",
    "mps_pos = [4, 9, 14, 19]\n",
    "mps_labels = [f\"{label:.1f}\" for label in mps_filter_locations[mps_pos]]\n",
    "c12_filter_locations = song_stats[\"c12_filters\"].attrs[\"locations\"]\n",
    "c2_pos = [0, 4]\n",
    "c2_lbl = [f\"{freq:.1f}\" for freq in c12_filter_locations[c2_pos]]"
   ]
  },
  {
   "cell_type": "markdown",
   "id": "b3223878-e440-46cc-a8d3-d2f6605ba6ec",
   "metadata": {},
   "source": [
    "## Comparing colony noise to song stats\n",
    "\n",
    "More detailed plots are below this section"
   ]
  },
  {
   "cell_type": "code",
   "execution_count": null,
   "id": "ac4f6692-b3a5-4ced-b846-1a6deb608f04",
   "metadata": {
    "tags": []
   },
   "outputs": [],
   "source": [
    "fig, axes = plt.subplots(nrows=2, ncols=2, sharex=True, figsize=(2.5, 2), dpi=150)\n",
    "for i, statfile in enumerate((colony_stats, song_stats)):\n",
    "    env_mean = collect_stats(statfile, \"envelope_means\", axis=1)[1:-1]\n",
    "    env_std = collect_stats(statfile, \"envelope_stdvs\", axis=1)[1:-1]\n",
    "    env_skew = collect_stats(statfile, \"envelope_skew\", axis=1)[1:-1]\n",
    "    env_kurt = collect_stats(statfile, \"envelope_kurtosis\", axis=1)[1:-1]\n",
    "    axes[0,0].errorbar(erb_idx, env_mean.mean(1), yerr=env_mean.std(1) / np.sqrt(env_mean.shape[1]), color=condition_colors[i])\n",
    "    axes[0,0].set_ylabel(\"Mean\")\n",
    "    axes[0,0].set_ylim(0, env_mean.max() * 1.1)\n",
    "    axes[1,0].errorbar(erb_idx, env_std.mean(1), yerr=env_std.std(1) / np.sqrt(env_std.shape[1]), color=condition_colors[i])\n",
    "    axes[1,0].set_ylabel(\"Std/Mean\")\n",
    "    axes[0,1].errorbar(erb_idx, env_skew.mean(1), yerr=env_skew.std(1) / np.sqrt(env_skew.shape[1]), color=condition_colors[i])\n",
    "    axes[0,1].set_ylabel(\"Skew\")\n",
    "    axes[1,1].errorbar(erb_idx, env_kurt.mean(1), yerr=env_kurt.std(1) / np.sqrt(env_kurt.shape[1]), color=condition_colors[i])\n",
    "    axes[1,1].set_ylabel(\"Kurtosis\")\n",
    "    axes[1,0].set_xticks(erb_pos, labels=erb_labels)\n",
    "\n",
    "plt.tight_layout()\n",
    "fig.text(0.5, 0.99, \"Envelope Moments\", ha=\"center\")\n",
    "fig.text(0.5, 0.00, \"Cochlear Channel (Hz)\", ha=\"center\")"
   ]
  },
  {
   "cell_type": "code",
   "execution_count": null,
   "id": "49e663f5-9e54-4653-84e3-fa1ae5d91e69",
   "metadata": {
    "tags": []
   },
   "outputs": [],
   "source": [
    "fig.savefig(\"../figures/cr_song_moments.pdf\")"
   ]
  },
  {
   "cell_type": "code",
   "execution_count": null,
   "id": "d1725eb2-5f69-4aad-b7ae-866816939a2f",
   "metadata": {
    "tags": []
   },
   "outputs": [],
   "source": [
    "pn_mps = collect_stats(noise_stats, \"modulation_power\", axis=2)[1:-1].squeeze()\n",
    "fig, axes = plt.subplots(nrows=2, ncols=1, figsize=(1, 2.1), dpi=150, subplot_kw={'xticks': [], 'yticks': []})\n",
    "for statfile, ax in zip((colony_stats, song_stats), axes):\n",
    "    envelope_mps = collect_stats(statfile, \"modulation_power\", axis=2).mean(2)[1:-1]\n",
    "    env_mps_rel = 10 * np.log10(envelope_mps / pn_mps)\n",
    "    pos = ax.imshow(env_mps_rel, vmin=-20, vmax=20, aspect=\"auto\", cmap=\"seismic\")\n",
    "    # pos = ax.imshow(envelope_mps, aspect=\"auto\")\n",
    "axes[1].set_yticks(erb_pos, labels=erb_labels)\n",
    "axes[1].set_xticks(mps_pos, labels=mps_labels)\n",
    "axes[1].set_ylabel(\"Cochlear Channel (Hz)\")\n",
    "axes[0].set_title(\"Colony\", fontsize=6)\n",
    "axes[1].set_title(\"Song\", fontsize=6)\n",
    "fig.text(0.5, 0.00, \"Modulation Channel (Hz)\", ha=\"center\")\n",
    "\n",
    "cax = fig.add_axes((0.95, 0.11, 0.02, 0.35))\n",
    "cax.tick_params(axis='x', which='both', bottom=False, top=False, labelbottom=False)\n",
    "cax.yaxis.tick_right()\n",
    "cbar = fig.colorbar(pos, cax=cax)"
   ]
  },
  {
   "cell_type": "code",
   "execution_count": null,
   "id": "40bf0f6c-3c07-4f85-95c7-00dc414ea756",
   "metadata": {
    "tags": []
   },
   "outputs": [],
   "source": [
    "fig.savefig(\"../figures/cr_song_mps.pdf\")"
   ]
  },
  {
   "cell_type": "code",
   "execution_count": null,
   "id": "0db1e45c-3686-4798-93d3-58e33c591424",
   "metadata": {
    "tags": []
   },
   "outputs": [],
   "source": [
    "fig, axes = plt.subplots(nrows=1, ncols=2, sharex=True, sharey=True, figsize=(3, 1.5), dpi=150)\n",
    "for statfile, ax in zip((colony_stats, song_stats), axes):\n",
    "    envelope_corr = collect_stats(statfile, \"envelope_corr\", axis=2).mean(2)[1:-1,1:-1]\n",
    "    pos = ax.imshow(envelope_corr, vmin=-1, vmax=1, cmap=\"seismic\")\n",
    "axes[0].set_yticks(erb_pos, labels=erb_labels)\n",
    "axes[0].set_xticks(erb_pos, labels=erb_labels)\n",
    "axes[0].set_ylabel(\"Cochlear Channel (Hz)\")\n",
    "axes[0].set_xlabel(\"Cochlear Channel (Hz)\")\n",
    "axes[0].set_title(\"Colony\", fontsize=6)\n",
    "axes[1].set_title(\"Song\", fontsize=6)\n",
    "\n",
    "cax = fig.add_axes((0.95, 0.11, 0.01, 0.76))\n",
    "cax.tick_params(axis='x', which='both', bottom=False, top=False, labelbottom=False)\n",
    "cax.yaxis.tick_right()\n",
    "cbar = fig.colorbar(pos, cax=cax)"
   ]
  },
  {
   "cell_type": "code",
   "execution_count": null,
   "id": "33872ce5-a12b-466e-b220-e85508d84ced",
   "metadata": {
    "tags": []
   },
   "outputs": [],
   "source": [
    "fig, axes = plt.subplots(nrows=2, ncols=3, figsize=(3.4, 2.2), dpi=150, \n",
    "                         subplot_kw={'xticks': [], 'yticks': []})\n",
    "for j, statfile in enumerate((colony_stats, song_stats)):\n",
    "    env_c1 = collect_stats(statfile, \"envelope_c1_correlations\", axis=3).mean(3)[1:-1,1:-1]\n",
    "    for k, chan in enumerate((1,2,3)):\n",
    "        channel = c12_filter_locations[chan + 1]\n",
    "        pos = axes[j, k].imshow(env_c1[:, :, chan], vmin=-1, vmax=1, cmap=\"seismic\")\n",
    "        if j == 0:\n",
    "            axes[j, k].set_title(f\"{channel:.1f} Hz\", fontsize=6)\n",
    "    \n",
    "# axes[0,0].set_yticks(erb_pos, labels=erb_labels)\n",
    "axes[0,0].set_ylabel(\"Colony\")\n",
    "axes[1,0].set_ylabel(\"Song\")\n",
    "axes[1,1].set_xticks(erb_pos, labels=erb_labels)\n",
    "# axes[0,0].set_ylabel(\"Cochlear Channel (Hz)\")\n",
    "fig.text(0.5, 0.00, \"Cochlear Channel (Hz)\", ha=\"center\")\n",
    "\n",
    "#plt.tight_layout()\n",
    "cax = fig.add_axes((0.94, 0.1, 0.015, 0.35))\n",
    "cax.tick_params(axis='x', which='both', bottom=False, top=False, labelbottom=False)\n",
    "cax.yaxis.tick_right()\n",
    "cbar = fig.colorbar(pos, cax=cax)"
   ]
  },
  {
   "cell_type": "code",
   "execution_count": null,
   "id": "81a523b1-24c9-43d9-828f-32247314ff71",
   "metadata": {
    "tags": []
   },
   "outputs": [],
   "source": [
    "fig.savefig(\"../figures/cr_song_c1_corr.pdf\")"
   ]
  },
  {
   "cell_type": "code",
   "execution_count": null,
   "id": "ea9d791b-dc88-452d-8ac3-4bb9e3b8c6e3",
   "metadata": {},
   "outputs": [],
   "source": []
  }
 ],
 "metadata": {
  "kernelspec": {
   "display_name": "cr-pr-adults",
   "language": "python",
   "name": "cr-pr-adults"
  },
  "language_info": {
   "codemirror_mode": {
    "name": "ipython",
    "version": 3
   },
   "file_extension": ".py",
   "mimetype": "text/x-python",
   "name": "python",
   "nbconvert_exporter": "python",
   "pygments_lexer": "ipython3",
   "version": "3.11.2"
  }
 },
 "nbformat": 4,
 "nbformat_minor": 5
}
