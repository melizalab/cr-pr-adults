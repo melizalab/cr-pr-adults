{
 "cells": [
  {
   "cell_type": "markdown",
   "id": "a2329b76-b20d-403f-b97a-87d4079fcbaa",
   "metadata": {},
   "source": [
    "# Decoder analysis\n",
    "\n",
    "Before running this notebook, the `decoder.slurm` jobs needs to be run and the data need to be collated into a single csv file."
   ]
  },
  {
   "cell_type": "code",
   "execution_count": null,
   "id": "5bb770aa-4933-42a7-bc55-a20eda82575f",
   "metadata": {},
   "outputs": [],
   "source": [
    "import <- function(pkg) { library(pkg, warn.conflicts=F, quietly=T, character.only=T) }\n",
    "import(\"repr\")\n",
    "import(\"stringr\")\n",
    "import(\"tidyr\")\n",
    "import(\"dplyr\")\n",
    "import(\"ggplot2\")\n",
    "import(\"lme4\")\n",
    "import(\"emmeans\")"
   ]
  },
  {
   "cell_type": "code",
   "execution_count": null,
   "id": "91da9358-a327-438b-b403-ad0432df2bd9",
   "metadata": {},
   "outputs": [],
   "source": [
    "options(repr.matrix.max.cols=15, repr.matrix.max.rows=20)\n",
    "my.theme <- theme(legend.text=element_text(size=6),\n",
    "                  legend.title=element_text(size=6),\n",
    "                  plot.title = element_text(size=7, hjust=0.5),\n",
    "                  axis.line=element_line(linewidth=0.25),\n",
    "                  axis.ticks=element_line(linewidth=0.25),\n",
    "                  axis.ticks.length=unit(0.05, \"cm\"),\n",
    "                  axis.title=element_text(size=7),\n",
    "                  axis.text=element_text(size=6),\n",
    "                  strip.placement=\"outside\",\n",
    "                  strip.text=element_text(size=7),\n",
    "                  strip.background=element_blank())\n",
    "no.legend <- theme(legend.position=\"none\")\n",
    "update_geom_defaults(\"point\", list(fill=\"white\", shape=21, size=0.8))\n",
    "update_geom_defaults(\"line\", list(linewidth=0.4))"
   ]
  },
  {
   "cell_type": "code",
   "execution_count": null,
   "id": "bc911289-97d0-40ea-b84a-b8df8cc9f978",
   "metadata": {},
   "outputs": [],
   "source": [
    "predictions <- data.table::fread(\"../build/decoder_predictions.csv\")"
   ]
  },
  {
   "cell_type": "code",
   "execution_count": null,
   "id": "e96fb37f-6c84-4641-9dde-6a2b97dd1fea",
   "metadata": {},
   "outputs": [],
   "source": [
    "(\n",
    "    predictions\n",
    "    |> ggplot(aes(n_units, score, color=dataset))\n",
    "    + facet_wrap(~ motif)\n",
    "    + stat_smooth()\n",
    "    + scale_x_log10()\n",
    ")"
   ]
  },
  {
   "cell_type": "code",
   "execution_count": null,
   "id": "cd559631-33da-4264-ade1-c9c107bfe4bd",
   "metadata": {},
   "outputs": [],
   "source": [
    "options(repr.plot.width=2.2, repr.plot.height=2.2, repr.plot.res = 450)\n",
    "p <- (\n",
    "    predictions\n",
    "    |> group_by(dataset, n_units, seed)\n",
    "    |> summarize(score=mean(score))\n",
    "    |> summarize(y=median(score), ymin=quantile(score, 0.25), ymax=quantile(score, 0.75))\n",
    "    |> ggplot(aes(n_units, y, color=dataset))\n",
    "    + geom_point(position=position_dodge(width=0.051), size=1.5)\n",
    "    + geom_linerange(aes(ymin=ymin, ymax=ymax), position=position_dodge(width=0.05))\n",
    "    + scale_x_log10(\"Ensemble size\")\n",
    "    + scale_y_continuous(\"Prediction score (R^2)\")\n",
    "    + theme_classic() + my.theme + no.legend\n",
    ")\n",
    "p"
   ]
  },
  {
   "cell_type": "code",
   "execution_count": null,
   "id": "b8714750-5110-4289-b3ec-97ff9e95db4d",
   "metadata": {},
   "outputs": [],
   "source": [
    "pdf(\"../figures/decoder_accuracy.pdf\", width=2.1, height=2.1)\n",
    "print(p)\n",
    "dev.off()"
   ]
  },
  {
   "cell_type": "code",
   "execution_count": null,
   "id": "9c9a4bd6-d2ba-407e-bd1b-1868d9122c49",
   "metadata": {},
   "outputs": [],
   "source": [
    "pred_model <- function(df) {\n",
    "    wilcox.test(score ~ dataset, df)\n",
    "}\n",
    "\n",
    "fm <- (\n",
    "    predictions\n",
    "    |> filter(n_units < 1000)\n",
    "    |> group_by(n_units)\n",
    "    |> nest()\n",
    "    |> transmute(mdl=purrr::map(data, pred_model))\n",
    "    |> mutate(stats=purrr::map(mdl, broom::tidy))\n",
    "    |> select(n_units, stats)\n",
    "    |> unnest(cols=stats)\n",
    "    |> arrange(n_units)\n",
    ")\n",
    "fm"
   ]
  },
  {
   "cell_type": "code",
   "execution_count": null,
   "id": "e00f44c7-b60b-42f2-9d02-f396ec1924fb",
   "metadata": {},
   "outputs": [],
   "source": [
    "fm <- (\n",
    "    predictions\n",
    "    |> filter(n_units < 1000)\n",
    "    |> mutate(n_units=factor(n_units))\n",
    "    |> lmer(score ~ dataset*n_units + (1|motif), data=_)\n",
    ")\n",
    "summary(fm)"
   ]
  },
  {
   "cell_type": "code",
   "execution_count": null,
   "id": "13cca648-6439-45b9-927c-46c63595abea",
   "metadata": {},
   "outputs": [],
   "source": [
    "filter(predictions, n_units == 927) |> group_by(dataset) |> summarize(score=median(score))"
   ]
  },
  {
   "cell_type": "code",
   "execution_count": null,
   "id": "f90ee137-423f-4b9d-815a-3b97488ec290",
   "metadata": {},
   "outputs": [],
   "source": [
    "0.28 / 0.24"
   ]
  },
  {
   "cell_type": "code",
   "execution_count": null,
   "id": "9771f20d-6a49-4b4a-823f-3ef96df61cce",
   "metadata": {},
   "outputs": [],
   "source": []
  }
 ],
 "metadata": {
  "kernelspec": {
   "display_name": "R 4.3",
   "language": "R",
   "name": "ir43"
  },
  "language_info": {
   "codemirror_mode": "r",
   "file_extension": ".r",
   "mimetype": "text/x-r-source",
   "name": "R",
   "pygments_lexer": "r",
   "version": "4.4.1"
  }
 },
 "nbformat": 4,
 "nbformat_minor": 5
}
