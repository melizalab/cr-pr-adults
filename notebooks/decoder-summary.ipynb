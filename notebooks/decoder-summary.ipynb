{
 "cells": [
  {
   "cell_type": "markdown",
   "id": "a2329b76-b20d-403f-b97a-87d4079fcbaa",
   "metadata": {},
   "source": [
    "# Decoder analysis\n",
    "\n",
    "Before running this notebook, the `decoder.slurm` jobs needs to be run and the data need to be collated into a single csv file:\n",
    "\n",
    "`awk 'FNR==1 && NR!=1{next;}{print}' build/*_model.csv > build/decoder_predictions.csv`"
   ]
  },
  {
   "cell_type": "code",
   "execution_count": null,
   "id": "5bb770aa-4933-42a7-bc55-a20eda82575f",
   "metadata": {},
   "outputs": [],
   "source": [
    "import <- function(pkg) { library(pkg, warn.conflicts=F, quietly=T, character.only=T) }\n",
    "import(\"repr\")\n",
    "import(\"stringr\")\n",
    "import(\"tidyr\")\n",
    "import(\"dplyr\")\n",
    "import(\"ggplot2\")\n",
    "import(\"lme4\")\n",
    "import(\"emmeans\")"
   ]
  },
  {
   "cell_type": "code",
   "execution_count": null,
   "id": "91da9358-a327-438b-b403-ad0432df2bd9",
   "metadata": {},
   "outputs": [],
   "source": [
    "options(repr.matrix.max.cols=15, repr.matrix.max.rows=20)\n",
    "my.theme <- theme(legend.text=element_text(size=6),\n",
    "                  legend.title=element_text(size=6),\n",
    "                  plot.title = element_text(size=7, hjust=0.5),\n",
    "                  axis.line=element_line(linewidth=0.25),\n",
    "                  axis.ticks=element_line(linewidth=0.25),\n",
    "                  axis.ticks.length=unit(0.05, \"cm\"),\n",
    "                  axis.title=element_text(size=7),\n",
    "                  axis.text=element_text(size=6),\n",
    "                  strip.placement=\"outside\",\n",
    "                  strip.text=element_text(size=7),\n",
    "                  strip.background=element_blank())\n",
    "no.legend <- theme(legend.position=\"none\")\n",
    "update_geom_defaults(\"point\", list(fill=\"white\", shape=21, size=0.8))\n",
    "update_geom_defaults(\"line\", list(linewidth=0.4))"
   ]
  },
  {
   "cell_type": "code",
   "execution_count": null,
   "id": "bc911289-97d0-40ea-b84a-b8df8cc9f978",
   "metadata": {},
   "outputs": [],
   "source": [
    "predictions <- (\n",
    "    data.table::fread(\"../build/decoder_predictions.csv\")\n",
    "    # shim to fix a typo in the column names\n",
    "    # |> mutate(score_pred_clean=coalesce(score_pred_clean, socre_pred_clean))\n",
    "    # |> select(!socre_pred_clean)\n",
    ")"
   ]
  },
  {
   "cell_type": "code",
   "execution_count": null,
   "id": "d4b32aae-6274-4ce0-853d-174788d4447d",
   "metadata": {},
   "outputs": [],
   "source": [
    "predictions |> filter(n_units==63, motif==\"9ex2k0dy\", background_dBFS==-100) # |> group_by(dataset) |> summarize(score=median(score_actual))"
   ]
  },
  {
   "cell_type": "code",
   "execution_count": null,
   "id": "d54f25ca-ac22-46fb-b65b-fde77916f484",
   "metadata": {},
   "outputs": [],
   "source": [
    "predictions |> xtabs(~ motif, data=_)"
   ]
  },
  {
   "cell_type": "code",
   "execution_count": null,
   "id": "e96fb37f-6c84-4641-9dde-6a2b97dd1fea",
   "metadata": {},
   "outputs": [],
   "source": [
    "(\n",
    "    predictions\n",
    "    |> filter(background_dBFS==-100)\n",
    "    |> ggplot(aes(n_units, score_actual, color=dataset))\n",
    "    + facet_wrap(~ motif)\n",
    "    + stat_smooth()\n",
    "    + scale_x_log10()\n",
    ")"
   ]
  },
  {
   "cell_type": "code",
   "execution_count": null,
   "id": "cd559631-33da-4264-ade1-c9c107bfe4bd",
   "metadata": {},
   "outputs": [],
   "source": [
    "options(repr.plot.width=2.2, repr.plot.height=2.2, repr.plot.res = 450)\n",
    "p <- (\n",
    "    predictions\n",
    "    |> filter(background_dBFS==-100)\n",
    "    |> group_by(dataset, n_units, seed)\n",
    "    |> summarize(score=mean(score_actual))\n",
    "    |> summarize(y=median(score), ymin=quantile(score, 0.25), ymax=quantile(score, 0.75))\n",
    "    |> ggplot(aes(n_units, y, color=dataset))\n",
    "    + geom_point(position=position_dodge(width=0.051), size=1.5)\n",
    "    + geom_linerange(aes(ymin=ymin, ymax=ymax), position=position_dodge(width=0.05))\n",
    "    + scale_x_log10(\"Ensemble size\")\n",
    "    + scale_y_continuous(\"Prediction score (adj R^2)\")\n",
    "    + theme_classic() + my.theme + no.legend\n",
    ")\n",
    "p"
   ]
  },
  {
   "cell_type": "code",
   "execution_count": null,
   "id": "b8714750-5110-4289-b3ec-97ff9e95db4d",
   "metadata": {},
   "outputs": [],
   "source": [
    "pdf(\"../figures/decoder_accuracy.pdf\", width=2.1, height=2.1)\n",
    "print(p)\n",
    "dev.off()"
   ]
  },
  {
   "cell_type": "code",
   "execution_count": null,
   "id": "9c9a4bd6-d2ba-407e-bd1b-1868d9122c49",
   "metadata": {},
   "outputs": [],
   "source": [
    "pred_model <- function(df) {\n",
    "    wilcox.test(score_actual ~ dataset, df)\n",
    "}\n",
    "\n",
    "fm <- (\n",
    "    predictions\n",
    "    |> filter(background_dBFS==-100)\n",
    "    |> filter(n_units < 1000)\n",
    "    |> group_by(n_units)\n",
    "    |> nest()\n",
    "    |> transmute(mdl=purrr::map(data, pred_model))\n",
    "    |> mutate(stats=purrr::map(mdl, broom::tidy))\n",
    "    |> select(n_units, stats)\n",
    "    |> unnest(cols=stats)\n",
    "    |> arrange(n_units)\n",
    ")\n",
    "fm"
   ]
  },
  {
   "cell_type": "code",
   "execution_count": null,
   "id": "e00f44c7-b60b-42f2-9d02-f396ec1924fb",
   "metadata": {},
   "outputs": [],
   "source": [
    "fm <- (\n",
    "    predictions\n",
    "    |> filter(background_dBFS==-100)\n",
    "    |> filter(n_units < 1000)\n",
    "    |> mutate(n_units=factor(n_units))\n",
    "    |> lmer(score_actual ~ dataset*n_units + (1|motif), data=_)\n",
    ")"
   ]
  },
  {
   "cell_type": "code",
   "execution_count": null,
   "id": "13cca648-6439-45b9-927c-46c63595abea",
   "metadata": {},
   "outputs": [],
   "source": [
    "joint_tests(fm)"
   ]
  },
  {
   "cell_type": "markdown",
   "id": "be4e0fb9-8b33-43ea-b568-a42cbbe170d8",
   "metadata": {},
   "source": [
    "## Noise invariance\n",
    "\n",
    "Using the response to noisy stimuli as input, how similar are the predictions to the predicted stimulus from the clean stimuli?\n",
    "\n",
    "First, just use all the units. In principle, the difference in decoding performance should not matter because we're comparing\n",
    "to the decoded stimulus, not the original. Calculating standard error across motifs."
   ]
  },
  {
   "cell_type": "code",
   "execution_count": null,
   "id": "f40f5c57-3d51-4890-8024-ae168530a8ee",
   "metadata": {},
   "outputs": [],
   "source": [
    "options(repr.plot.width=1.9, repr.plot.height=1.4, repr.plot.res = 450)\n",
    "p <- (\n",
    "    predictions\n",
    "    |> filter(background_dBFS != -100, (dataset==\"cr_units\" & n_units==1778) | (dataset==\"pr_units\" & n_units==927))\n",
    "    |> group_by(dataset, background_dBFS)\n",
    "    # typo:\n",
    "    |> summarize(y=mean(score_pred_clean), yse=sd(score_pred_clean)/sqrt(n()))\n",
    "    |> ggplot(aes(-30 - background_dBFS, y, color=dataset))\n",
    "    + geom_point(position=position_dodge(width=0.051), size=1.5)\n",
    "    + geom_linerange(aes(ymin=y-yse, ymax=y+yse), position=position_dodge(width=0.05))\n",
    "    + scale_x_reverse(\"SNR (dB)\")\n",
    "    + scale_y_continuous(\"Similarity to 70 dB SNR (R^2)\")\n",
    "    + theme_classic() + my.theme + no.legend\n",
    ")\n",
    "p"
   ]
  },
  {
   "cell_type": "code",
   "execution_count": null,
   "id": "0dffdb2a-6b31-4807-9c6f-6514ce3dbb62",
   "metadata": {},
   "outputs": [],
   "source": [
    "pdf(\"../figures/decoder_invariance_all_units.pdf\", width=1.9, height=1.4)\n",
    "print(p)\n",
    "dev.off()"
   ]
  },
  {
   "cell_type": "code",
   "execution_count": null,
   "id": "d35bdcea-4a57-458f-8df8-cf92cea1a43c",
   "metadata": {},
   "outputs": [],
   "source": [
    "fm <- (\n",
    "    predictions\n",
    "    |> filter(background_dBFS != -100, (dataset==\"cr_units\" & n_units==1778) | (dataset==\"pr_units\" & n_units==927))\n",
    "    |> mutate(background_dBFS=factor(background_dBFS))\n",
    "    |> lm(score_pred_clean ~ background_dBFS*dataset, data=_)\n",
    ")\n",
    "joint_tests(fm)"
   ]
  },
  {
   "cell_type": "code",
   "execution_count": null,
   "id": "d966a2e2-6c2e-499a-88c1-1ec5155b6c61",
   "metadata": {},
   "outputs": [],
   "source": [
    "(\n",
    "    fm\n",
    "    |> emmeans(~ dataset) |> contrast(\"pairwise\")\n",
    ")"
   ]
  },
  {
   "cell_type": "markdown",
   "id": "3368f7ec-0857-452e-96ef-426fb0b3a963",
   "metadata": {},
   "source": [
    "Alternatively, compare ensembles matched in size."
   ]
  },
  {
   "cell_type": "code",
   "execution_count": null,
   "id": "7fc7f077-bbab-4bf2-840c-7dd71704f928",
   "metadata": {},
   "outputs": [],
   "source": [
    "options(repr.plot.width=2.2, repr.plot.height=3.5, repr.plot.res = 450)\n",
    "p <- (\n",
    "    predictions\n",
    "    |> filter(background_dBFS != -100, n_units %in% c(63, 154, 741))\n",
    "    |> group_by(n_units, dataset, background_dBFS, seed)\n",
    "    |> summarize(score=mean(score_pred_clean))\n",
    "    |> summarize(y=median(score), ymin=quantile(score, 0.25), ymax=quantile(score, 0.75))\n",
    "    |> ggplot(aes(-30 - background_dBFS, y, color=dataset))\n",
    "    + facet_grid(rows = vars(n_units))\n",
    "    + geom_point(size=1.5)\n",
    "    + geom_linerange(aes(ymin=ymin, ymax=ymax))\n",
    "    + scale_x_reverse(\"SNR (dB)\")\n",
    "    + scale_y_continuous(\"Similarity to 70 dB SNR (R^2)\")\n",
    "    + theme_classic() + my.theme + no.legend\n",
    ")\n",
    "p"
   ]
  },
  {
   "cell_type": "markdown",
   "id": "903bf183-a7d7-4259-b385-66c057136f28",
   "metadata": {},
   "source": [
    "Can also average across replicates and use motifs for standard errors"
   ]
  },
  {
   "cell_type": "code",
   "execution_count": null,
   "id": "cd7b1d52-0004-472b-827d-5f350f5b9a4f",
   "metadata": {},
   "outputs": [],
   "source": [
    "options(repr.plot.width=2.2, repr.plot.height=3.5, repr.plot.res = 450)\n",
    "p <- (\n",
    "    predictions\n",
    "    |> filter(background_dBFS != -100, n_units %in% c(63, 473, 927))\n",
    "    |> group_by(n_units, dataset, background_dBFS, motif)\n",
    "    |> summarize(score=mean(score_pred_clean))\n",
    "    |> summarize(y=mean(score), yse=sd(score)/sqrt(n()))\n",
    "    |> ggplot(aes(-30 - background_dBFS, y, color=dataset))\n",
    "    + facet_grid(rows = vars(n_units))\n",
    "    + geom_point(size=1.5)\n",
    "    + geom_linerange(aes(ymin=y-yse, ymax=y+yse))\n",
    "    + scale_x_reverse(\"SNR (dB)\")\n",
    "    + scale_y_continuous(\"Similarity to 70 dB SNR (R^2)\")\n",
    "    + theme_classic() + my.theme + no.legend\n",
    ")\n",
    "p"
   ]
  },
  {
   "cell_type": "markdown",
   "id": "2fb43cc1-fce8-4718-852b-7a78cf678dbb",
   "metadata": {},
   "source": [
    "But actually the simplest is to just compare to the actual stimulus and let readers judge how the curves differ in shape."
   ]
  },
  {
   "cell_type": "code",
   "execution_count": null,
   "id": "24f363b9-0fce-4b58-8a56-bf6b9944a911",
   "metadata": {},
   "outputs": [],
   "source": [
    "options(repr.plot.width=2.2, repr.plot.height=3.5, repr.plot.res = 450)\n",
    "p <- (\n",
    "    predictions\n",
    "    |> filter(n_units %in% c(63, 473, 927))\n",
    "    |> group_by(n_units, dataset, background_dBFS, seed)\n",
    "    |> summarize(score=mean(score_actual))\n",
    "    #|> summarize(y=mean(score), yse=sd(score)/sqrt(n()), ymin=y-yse, ymax=y+yse)\n",
    "    |> summarize(y=median(score), ymin=quantile(score, 0.25), ymax=quantile(score, 0.75))\n",
    "    |> ggplot(aes(-30 - background_dBFS, y, color=dataset))\n",
    "    + facet_grid(rows = vars(n_units))\n",
    "    + geom_point(size=1.5)\n",
    "    + geom_linerange(aes(ymin=ymin, ymax=ymax))\n",
    "    + scale_x_reverse(\"SNR (dB)\")\n",
    "    + scale_y_continuous(\"Prediction Score (R^2)\")\n",
    "    + theme_classic() + my.theme + no.legend\n",
    ")\n",
    "p"
   ]
  },
  {
   "cell_type": "code",
   "execution_count": null,
   "id": "f5a1012d-89d0-4e77-b07c-a44c91592add",
   "metadata": {},
   "outputs": [],
   "source": [
    "pdf(\"../figures/decoder_invariance_ensembles.pdf\", width=2.2, height=3.5)\n",
    "print(p)\n",
    "dev.off()"
   ]
  },
  {
   "cell_type": "code",
   "execution_count": null,
   "id": "7519ee5e-89fa-4a50-be32-85a8511053ef",
   "metadata": {},
   "outputs": [],
   "source": []
  }
 ],
 "metadata": {
  "kernelspec": {
   "display_name": "R 4.3",
   "language": "R",
   "name": "ir43"
  },
  "language_info": {
   "codemirror_mode": "r",
   "file_extension": ".r",
   "mimetype": "text/x-r-source",
   "name": "R",
   "pygments_lexer": "r",
   "version": "4.4.1"
  }
 },
 "nbformat": 4,
 "nbformat_minor": 5
}
