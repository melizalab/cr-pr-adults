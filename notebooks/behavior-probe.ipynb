{
 "cells": [
  {
   "cell_type": "code",
   "execution_count": null,
   "id": "08dd1f20-b5db-4c7a-b8a9-2096d7d8036d",
   "metadata": {},
   "outputs": [],
   "source": [
    "import <- function(pkg) { library(pkg, warn.conflicts=F, quietly=T, character.only=T) }\n",
    "import(\"repr\")\n",
    "import(\"stringr\")\n",
    "import(\"tidyr\")\n",
    "import(\"dplyr\")\n",
    "import(\"ggplot2\")\n",
    "import(\"lme4\")\n",
    "import(\"emmeans\")"
   ]
  },
  {
   "cell_type": "code",
   "execution_count": null,
   "id": "d685e1a9-c1f8-43b1-8b7c-8105fc313110",
   "metadata": {},
   "outputs": [],
   "source": [
    "options(repr.matrix.max.cols=15, repr.matrix.max.rows=20)\n",
    "options(repr.plot.width=2, repr.plot.height=1.25, repr.plot.res = 300)\n",
    "\n",
    "my.theme <- theme(legend.text=element_text(size=6),\n",
    "                  legend.title=element_text(size=6),\n",
    "                  plot.title = element_text(size=7, hjust=0.5),\n",
    "                  axis.line=element_line(linewidth=0.25),\n",
    "                  axis.ticks=element_line(linewidth=0.25),\n",
    "                  axis.ticks.length=unit(0.05, \"cm\"),\n",
    "                  axis.title=element_text(size=7),\n",
    "                  axis.text=element_text(size=6),\n",
    "                  strip.placement=\"outside\",\n",
    "                  strip.text=element_text(size=7),\n",
    "                  strip.background=element_blank())\n",
    "no.legend <- theme(legend.position=\"none\")\n",
    "update_geom_defaults(\"point\", list(fill=\"white\", shape=21, size=0.8))\n",
    "update_geom_defaults(\"line\", list(linewidth=0.4))"
   ]
  },
  {
   "cell_type": "markdown",
   "id": "c8d35b84-b9bc-4057-92f3-4e8f4aba686f",
   "metadata": {},
   "source": [
    "## Load trial data"
   ]
  },
  {
   "cell_type": "code",
   "execution_count": null,
   "id": "92066c4b-87bc-41ef-a267-be1f0ea0729f",
   "metadata": {},
   "outputs": [],
   "source": [
    "## metadata\n",
    "birds <- data.table::fread(\"../inputs/bird_metadata.csv\") |> filter(behavior==\"yes\")\n",
    "probe_birds <- birds |> filter(probe==\"yes\")"
   ]
  },
  {
   "cell_type": "markdown",
   "id": "5dc31356-6930-4345-8046-0de24f8adedd",
   "metadata": {},
   "source": [
    "### Probe"
   ]
  },
  {
   "cell_type": "code",
   "execution_count": null,
   "id": "e5f422b5-87be-473c-941d-d0b92f4e4ece",
   "metadata": {},
   "outputs": [],
   "source": [
    "## trials - retrieved with batch/retrieve_trials\n",
    "header <- data.table::fread(cmd='find ../build/ -name \"*probe*_trials.csv\" | head -n1 | xargs head -n1', header=T)\n",
    "all_trials <- tibble(data.table::fread(cmd='find ../build/ -name \"*probe*_trials.csv\" | xargs tail -q -n+2', header=F))\n",
    "names(all_trials) <- names(header)"
   ]
  },
  {
   "cell_type": "code",
   "execution_count": null,
   "id": "f490f6c6-ec4f-4e74-8cbe-1e0682874df5",
   "metadata": {},
   "outputs": [],
   "source": [
    "# sanity check - each stimulus/response should only have one consequence\n",
    "(\n",
    "    all_trials\n",
    "    |> group_by(subject, stimulus, response, correct)\n",
    "    |> tally()\n",
    "    |> tally()#\n",
    "    |> filter(n > 1)\n",
    ")"
   ]
  },
  {
   "cell_type": "code",
   "execution_count": null,
   "id": "5d0755c5-cb7e-4061-a68a-084fd7ae8863",
   "metadata": {},
   "outputs": [],
   "source": [
    "# sanity check: no big skips in the dates, which could indicate trials recorded with the wrong subject\n",
    "# NB the trials with dates back in 2017 are probably clock errors. They should be in the right place using trial id,\n",
    "# but it's safer to just discard them.\n",
    "options(repr.plot.width=10, repr.plot.height=5, repr.plot.res = 300)\n",
    "(\n",
    "    all_trials\n",
    "    |> mutate(date=lubridate::date(time))\n",
    "    |> group_by(subject, date)\n",
    "    |> tally()\n",
    "    |> ggplot(aes(date, n))\n",
    "    + facet_wrap(~ subject, scale=\"free\")\n",
    "    + geom_point()\n",
    ")"
   ]
  },
  {
   "cell_type": "code",
   "execution_count": null,
   "id": "ac628a31-554a-446a-b437-77e19600838b",
   "metadata": {},
   "outputs": [],
   "source": [
    "trials <- (\n",
    "    all_trials \n",
    "    # correction trials were inadvertently left on for Rb284 in the 0 dB session\n",
    "    |> filter(correction==0)\n",
    "    # remove some trials with the wrong date \n",
    "    |> filter(time > lubridate::date(\"2022-01-01\"))\n",
    "    |> group_by(subject)\n",
    "    |> arrange(id)\n",
    "    ## recode stim and response so that we can get bias and LOR\n",
    "    |> mutate(peck_any=(response != \"timeout\") * 1,\n",
    "              peck_left=ifelse(peck_any, (response == \"peck_left\") * 1, NA),\n",
    "              correct=ifelse(peck_any, correct * 1, NA),\n",
    "              trial=row_number(),\n",
    "              rtime=rtime / 1e6  # convert to s\n",
    "              )\n",
    ")\n",
    "stims <- (\n",
    "    unique(trials$stimulus)\n",
    "    |> str_match(\"(?<foreground>[:alnum:]+)-(?<foregroundlvl>[:digit:]+)_(?<background>[:alnum:]+)-(?<backgroundlvl>[:digit:]+)\")\n",
    "    |> as.data.frame()\n",
    "    |> mutate(stimulus=V1, foreground, background, snr=as.numeric(backgroundlvl) - as.numeric(foregroundlvl), .keep=\"none\")\n",
    "    |> mutate(snr=forcats::fct_rev(factor(snr)))\n",
    "    |> drop_na()\n",
    ")\n",
    "trials <- (\n",
    "    trials\n",
    "    |> inner_join(stims, by=\"stimulus\")\n",
    ")\n",
    "# generate a lookup table to determine which stimuli are associated with left key for which birds\n",
    "stimclasses <- (\n",
    "    trials\n",
    "    |> xtabs(~ subject + foreground + peck_left + correct, data=_) \n",
    "    |> as.data.frame() \n",
    "    |> filter(correct==1, Freq > 0)\n",
    "    |> select(subject, foreground, stim_left=peck_left)\n",
    ")\n",
    "sessions <- (\n",
    "    unique(trials$experiment)\n",
    "    |> str_match(\"2ac-(?<type>[:alnum:]+)-snr.*_(?<snr>[0-9-]+)-.*\")\n",
    "    |> as.data.frame()\n",
    "    |> mutate(experiment=V1, session_type=type, session_snr=as.numeric(snr), .keep=\"none\")\n",
    "    |> mutate(session_snr=forcats::fct_rev(factor(session_snr)))\n",
    ")\n",
    "trials <- (\n",
    "    trials\n",
    "    |> inner_join(stimclasses, by=c(\"subject\", \"foreground\"))\n",
    "    |> inner_join(sessions, by=\"experiment\")\n",
    "    |> inner_join(birds, by=c(subject=\"bird\"))\n",
    "    |> select(subject, sex, group, age, sibling, \n",
    "              trial, session_type, session_snr, foreground, background, stim_left, snr, \n",
    "              peck_any, peck_left, rtime, correct, result)\n",
    "    # only keep first 10 trials for each stimulus in each experiment\n",
    "    # |> group_by(subject, experiment, stimulus)\n",
    "    # |> slice_head(n=10)\n",
    ")\n"
   ]
  },
  {
   "cell_type": "code",
   "execution_count": null,
   "id": "6abad682-69fc-4401-8bbc-71179148d742",
   "metadata": {},
   "outputs": [],
   "source": [
    "resp_probs <- (\n",
    "    trials\n",
    "    |> group_by(group, subject, snr, stim_left)\n",
    "    |> summarize(\n",
    "        n_trials=n(), \n",
    "        n_peck=sum(peck_any),\n",
    "        n_correct=sum(correct, na.rm=T),\n",
    "        n_left=sum(peck_left, na.rm=T)\n",
    "    )\n",
    ")"
   ]
  },
  {
   "cell_type": "code",
   "execution_count": null,
   "id": "fd7fc24b-507b-475b-84dd-37d1a365c489",
   "metadata": {},
   "outputs": [],
   "source": [
    "options(repr.plot.width=3, repr.plot.height=3, repr.plot.res = 300)\n",
    "(\n",
    "    resp_probs\n",
    "    |> summarize(n_correct=sum(n_correct), n_peck=sum(n_peck))\n",
    "    |> ggplot(aes(snr, n_correct / n_peck, group=subject, color=group))\n",
    "    + geom_line()\n",
    "    #+ facet_wrap(~ subject)\n",
    "    + scale_y_continuous(\"p(correct)\", limits=c(0, 1))\n",
    "    + theme_classic() + my.theme\n",
    ")"
   ]
  },
  {
   "cell_type": "code",
   "execution_count": null,
   "id": "65175e21-e219-4e28-bd56-8de4e56eaaac",
   "metadata": {},
   "outputs": [],
   "source": [
    "options(repr.plot.width=3, repr.plot.height=3, repr.plot.res = 300)\n",
    "(\n",
    "    resp_probs\n",
    "    |> summarize(n_trials=sum(n_trials), n_correct=sum(n_correct), n_peck=sum(n_peck))\n",
    "    |> ggplot(aes(snr, n_peck / n_trials, group=subject, color=group))\n",
    "    + geom_line()\n",
    "    #+ facet_wrap(~ subject)\n",
    "    + scale_y_continuous(\"p(peck)\", limits=c(0, 1))\n",
    "    + theme_classic() + my.theme\n",
    ")"
   ]
  },
  {
   "cell_type": "code",
   "execution_count": null,
   "id": "bafe9251-851c-4f9c-bd89-72fd59744d54",
   "metadata": {},
   "outputs": [],
   "source": [
    "options(repr.plot.width=3, repr.plot.height=3, repr.plot.res = 300)\n",
    "(\n",
    "    trials\n",
    "    |> filter(peck_any==1, rtime > 0)\n",
    "    |> group_by(group, subject, snr)\n",
    "    |> summarize(rtime=median(rtime))\n",
    "    |> ggplot(aes(snr, rtime, group=subject, color=group))\n",
    "    + geom_line()\n",
    "    #+ facet_wrap(~ subject)\n",
    "    + scale_y_continuous(\"rtime\")\n",
    "    + theme_classic() + my.theme\n",
    ")"
   ]
  },
  {
   "cell_type": "code",
   "execution_count": null,
   "id": "a2c9c4fd-f6e7-4f89-9582-9e8cfd27b098",
   "metadata": {},
   "outputs": [],
   "source": [
    "options(repr.plot.width=3, repr.plot.height=3, repr.plot.res = 300)\n",
    "(\n",
    "    resp_probs\n",
    "    |> ggplot(aes(snr, n_left / n_peck, group=stim_left, color=group))\n",
    "    + geom_line()\n",
    "    + geom_line(aes(y= 1 - n_peck / n_trials), color=\"black\")\n",
    "    + facet_wrap(~ subject)\n",
    "    + scale_y_continuous(\"p(left)\", limits=c(0, 1))\n",
    "    + theme_classic() + my.theme\n",
    ")"
   ]
  },
  {
   "cell_type": "markdown",
   "id": "0c026698-4c90-4562-b153-9270a6b6e191",
   "metadata": {},
   "source": [
    "### Model for individual bird\n"
   ]
  },
  {
   "cell_type": "code",
   "execution_count": null,
   "id": "94a028da-2599-4a7f-81a1-ec85d3be3e85",
   "metadata": {},
   "outputs": [],
   "source": [
    "example_trials <- trials |> filter(subject==\"C280\")\n",
    "example_probs <- resp_probs |> filter(subject==\"C280\")"
   ]
  },
  {
   "cell_type": "code",
   "execution_count": null,
   "id": "5a593650-bd31-424f-bcd8-c62205e868cd",
   "metadata": {},
   "outputs": [],
   "source": [
    "(\n",
    "    example_trials\n",
    "    |> colnames()\n",
    ")"
   ]
  },
  {
   "cell_type": "code",
   "execution_count": null,
   "id": "121c8902-6842-4f1d-8c76-93b65730a510",
   "metadata": {},
   "outputs": [],
   "source": [
    "block_size <- 100\n",
    "p_timeout <- (\n",
    "    example_trials\n",
    "    |> mutate(block=factor(floor(row_number() / block_size)))\n",
    "    |> group_by(block)\n",
    "    |> summarize(p_timeout=sum(1 - peck_any)/n(), n_trials=n(), index_trial=median(trial))\n",
    ")\n",
    "p_left <- (\n",
    "    example_trials\n",
    "    |> filter(peck_any==1)\n",
    "    |> mutate(block=factor(floor(row_number() / block_size)))\n",
    "    |> group_by(block, stim_left)\n",
    "    |> summarize(n_trials=n(), p_left=sum(peck_left)/n_trials, index_trial=median(trial))\n",
    ")"
   ]
  },
  {
   "cell_type": "code",
   "execution_count": null,
   "id": "7a1aef34-743c-4ec5-b66b-6c924aaff880",
   "metadata": {},
   "outputs": [],
   "source": [
    "options(repr.plot.width=2, repr.plot.height=1.25, repr.plot.res = 300)\n",
    "p <- (\n",
    "    ggplot(mapping=aes(index_trial))\n",
    "    + geom_line(data=p_timeout, aes(y=p_timeout))\n",
    "    + geom_line(data=p_left, aes(y=p_left, color=factor(stim_left), group=stim_left))\n",
    "    + scale_color_manual(values=c(\"#F68626\", \"#2677B4\"))\n",
    "    + scale_x_continuous(\"Trial\")\n",
    "    + scale_y_continuous(\"p(left)\")\n",
    ")\n",
    "p + theme_classic() + my.theme + no.legend"
   ]
  },
  {
   "cell_type": "code",
   "execution_count": null,
   "id": "f4de5004-6e48-4977-8e62-dc5951fe2791",
   "metadata": {},
   "outputs": [],
   "source": [
    "options(repr.plot.width=2, repr.plot.height=1.25, repr.plot.res = 300)\n",
    "p <- (\n",
    "    example_probs\n",
    "    |> mutate(snr=as.numeric(as.character(snr)))\n",
    "    |> ggplot(aes(snr, n_left / n_peck))\n",
    "    + geom_line(aes(group=stim_left, color=stim_left))\n",
    "    + stat_summary(aes(y= 1 - n_peck / n_trials, group=1), fun=\"mean\", geom=\"line\", color=\"black\")\n",
    "    + scale_y_continuous(\"Prob\", limits=c(0, 1))\n",
    "    + scale_x_reverse(\"SNR (dB)\")\n",
    "    + scale_color_manual(values=c(\"#F68626\", \"#2677B4\"))\n",
    "    + theme_classic() + my.theme + no.legend\n",
    ")\n",
    "p"
   ]
  },
  {
   "cell_type": "code",
   "execution_count": null,
   "id": "a7dc8df1-50a8-4ec6-ab45-660e490ae7a6",
   "metadata": {},
   "outputs": [],
   "source": [
    "pdf(\"../figures/C280_probe.pdf\", width=2, height=1.25)\n",
    "print(p)\n",
    "dev.off()"
   ]
  },
  {
   "cell_type": "code",
   "execution_count": null,
   "id": "7190cfff-3df8-453f-a50d-4764165dc863",
   "metadata": {},
   "outputs": [],
   "source": [
    "options(repr.plot.width=4, repr.plot.height=3, repr.plot.res = 300)\n",
    "(\n",
    "    example_trials\n",
    "    |> filter(peck_any==1, rtime > 0)\n",
    "    |> ggplot(aes(x=rtime, group=correct, color=factor(correct)))\n",
    "    + facet_wrap(~ snr)\n",
    "    + geom_density()\n",
    "    + theme_classic() + my.theme\n",
    ")"
   ]
  },
  {
   "cell_type": "code",
   "execution_count": null,
   "id": "ae6f994a-0632-415f-a9eb-ca572d9de12c",
   "metadata": {},
   "outputs": [],
   "source": [
    "options(repr.plot.width=3, repr.plot.height=3, repr.plot.res = 300)\n",
    "(\n",
    "    example_trials\n",
    "    |> filter(session_type==\"probe\")\n",
    "    |> group_by(session_snr, foreground, background, stim_left, snr)\n",
    "    |> summarize(n_trials=n(), n_peck=sum(peck_left))\n",
    "    |> ggplot(aes(session_snr, n_peck / n_trials, color=factor(stim_left)))\n",
    "    + facet_wrap(~ snr)\n",
    "    + geom_point()\n",
    "    + scale_y_continuous(\"p(left)\", limits=c(0, 1))\n",
    "    + theme_classic() + my.theme + no.legend\n",
    ")"
   ]
  },
  {
   "cell_type": "code",
   "execution_count": null,
   "id": "4ea6958e-c640-4688-a17c-fedbc1200494",
   "metadata": {},
   "outputs": [],
   "source": [
    "(\n",
    "    example_trials\n",
    "    |> filter(block_type==\"probe\")\n",
    "    |> group_by(block_snr, foreground, background, stim_left, snr)\n",
    "    |> summarize(n_trials=n(), n_peck=sum(peck_left))\n",
    "    #|> filter(block_snr==5)\n",
    "    |> ggplot(aes(snr, n_peck / n_trials, color=factor(stim_left)))\n",
    "    + facet_grid(foreground ~ background)\n",
    "    + geom_point()\n",
    "    #+ geom_line()\n",
    "    + scale_y_continuous(\"p(left)\", limits=c(0, 1))\n",
    "    + theme_classic() + my.theme + no.legend\n",
    ")"
   ]
  },
  {
   "cell_type": "code",
   "execution_count": null,
   "id": "9da46402-d401-4c79-bc44-2e1e400ad416",
   "metadata": {},
   "outputs": [],
   "source": [
    "# code SNR as a continuous number\n",
    "fm_example_snr_cov <- (\n",
    "    example_probs\n",
    "    |> mutate(snr=as.numeric(as.character(snr)))\n",
    "    |> filter(snr < 50)\n",
    "    |> glm(cbind(n_correct, n_peck - n_correct) ~ 1 + snr, data=_, family=binomial)\n",
    ")\n",
    "summary(fm_example_snr_cov)"
   ]
  },
  {
   "cell_type": "code",
   "execution_count": null,
   "id": "c58a33ac-3572-4e84-a5a4-37f0e84ead16",
   "metadata": {},
   "outputs": [],
   "source": [
    "options(repr.plot.width=3, repr.plot.height=3, repr.plot.res = 300)\n",
    "snr_seq <- seq(-10, 35, length.out=100)\n",
    "pred <- (\n",
    "    fm_example_snr_cov\n",
    "    |> emmeans(~ snr, at=list(snr=snr_seq), type=\"response\")\n",
    "    |> as.data.frame()\n",
    ")\n",
    "(\n",
    "    example_probs\n",
    "    |> mutate(snr=as.numeric(as.character(snr)))\n",
    "    |> ggplot(aes(snr, n_correct / n_peck))\n",
    "    + geom_point(mapping=aes(color=stim_left))\n",
    "    + geom_line(data=pred, mapping=aes(snr, prob))\n",
    "    + scale_x_reverse()\n",
    "    + theme_classic() + my.theme + no.legend\n",
    ")"
   ]
  },
  {
   "cell_type": "code",
   "execution_count": null,
   "id": "35fac001-8e42-434f-a2e4-2f41c257d791",
   "metadata": {},
   "outputs": [],
   "source": [
    "# code SNR as a factor; peck left as dependent variable\n",
    "fm_example_snr_fac <- (\n",
    "    example_probs\n",
    "    |> glm(cbind(n_left, n_peck - n_left) ~ 1 + snr*stim_left, data=_, family=binomial)\n",
    ")\n",
    "summary(fm_example_snr_fac)"
   ]
  },
  {
   "cell_type": "code",
   "execution_count": null,
   "id": "7c7218a6-06c6-4863-877b-d8d3cb2753b5",
   "metadata": {},
   "outputs": [],
   "source": [
    "# code SNR as a factor; nonresponse as dependent variable\n",
    "fm_example_snr_nr <- (\n",
    "    example_probs\n",
    "    |> glm(cbind(n_trials - n_peck, n_peck) ~ 1 + snr, data=_, family=binomial)\n",
    ")\n",
    "emm_example_snr_nr <- (\n",
    "    fm_example_snr_nr\n",
    "    |> emmeans(~ snr, type=\"response\")\n",
    "    |> confint(level=0.90)\n",
    "    |> mutate(snr=as.numeric(as.character(snr)))\n",
    ")\n",
    "emm_example_snr_nr"
   ]
  },
  {
   "cell_type": "code",
   "execution_count": null,
   "id": "9ec66b3f-6277-4a63-b754-90fa1d7f146a",
   "metadata": {},
   "outputs": [],
   "source": [
    "options(repr.plot.width=1.7, repr.plot.height=1.2, repr.plot.res = 450)\n",
    "p <- (\n",
    "    fm_example_snr_fac\n",
    "    |> emmeans(~ snr*stim_left, type=\"response\")\n",
    "    |> confint(level=0.90)\n",
    "    |> mutate(snr=as.numeric(as.character(snr)))\n",
    "    |> ggplot(aes(snr, prob, ymin=asymp.LCL, ymax=asymp.UCL))\n",
    "    + geom_line(mapping=aes(group=stim_left, color=stim_left))\n",
    "    + geom_ribbon(mapping=aes(group=stim_left, fill=stim_left), alpha=0.25)\n",
    "    + geom_line(data=emm_example_snr_nr, color=\"black\")\n",
    "    + geom_ribbon(data=emm_example_snr_nr, fill=\"black\", alpha=0.25)\n",
    "    + scale_y_continuous(\"Prob\", limits=c(0, 1))\n",
    "    + scale_x_reverse(\"SNR (dB)\")\n",
    "    + scale_color_manual(values=c(\"#F68626\", \"#2677B4\"))\n",
    "    + scale_fill_manual(values=c(\"#F68626\", \"#2677B4\"))\n",
    "    + theme_classic() + my.theme + no.legend\n",
    ")\n",
    "p"
   ]
  },
  {
   "cell_type": "code",
   "execution_count": null,
   "id": "36498cd8-19d8-49a1-82fd-cbfaec32e80a",
   "metadata": {},
   "outputs": [],
   "source": [
    "pdf(\"../figures/2ac_probe_C280.pdf\", width=1.7, height=1.2)\n",
    "print(p)\n",
    "dev.off()"
   ]
  },
  {
   "cell_type": "markdown",
   "id": "0488ea83-8d53-4965-b6dc-671a66e45ce7",
   "metadata": {},
   "source": [
    "#### Response time\n",
    "\n",
    "Model response time as a function of SNR and response correctness."
   ]
  },
  {
   "cell_type": "code",
   "execution_count": null,
   "id": "6e6ff02e-5c28-415f-a837-9ee24bed000c",
   "metadata": {},
   "outputs": [],
   "source": [
    "fm_example_rtime <- (\n",
    "    example_trials\n",
    "    |> filter(peck_any==1, rtime > 0)\n",
    "    |> lm(log10(rtime) ~ 1 + snr*correct, data=_)\n",
    ")\n",
    "joint_tests(fm_example_rtime)"
   ]
  },
  {
   "cell_type": "code",
   "execution_count": null,
   "id": "0f2c3c7a-0d70-4243-b645-580650b1ed70",
   "metadata": {},
   "outputs": [],
   "source": [
    "(\n",
    "    fm_example_rtime\n",
    "    |> emmeans(~ snr:correct, type=\"response\")\n",
    "    |> as.data.frame()\n",
    "    |> ggplot(aes(snr, response, color=factor(correct), group=correct))\n",
    "    + geom_line()\n",
    "    + geom_point()\n",
    "    + geom_linerange(mapping=aes(ymin=lower.CL, ymax=upper.CL))\n",
    "    + scale_y_log10()\n",
    "    + theme_classic() + my.theme + no.legend\n",
    ")"
   ]
  },
  {
   "cell_type": "markdown",
   "id": "852d7a5c-cf3a-4c4b-9d14-c079f3bdeaa1",
   "metadata": {},
   "source": [
    "### Model for all birds\n",
    "\n",
    "Modeling SNR as a linear covariate means adding a random intercept and slope for subject."
   ]
  },
  {
   "cell_type": "code",
   "execution_count": null,
   "id": "5a4e7f3a-922c-4820-bf15-34127664eeaa",
   "metadata": {},
   "outputs": [],
   "source": [
    "fm_snr_cov <- (\n",
    "    resp_probs\n",
    "    |> filter(snr != 70)\n",
    "    |> mutate(snr=as.numeric(as.character(snr)))\n",
    "    |> glmer(cbind(n_correct, n_peck - n_correct) ~ 1 + snr*group + (1+snr|subject), family=binomial, data=_)\n",
    ")\n",
    "summary(fm_snr_cov)"
   ]
  },
  {
   "cell_type": "code",
   "execution_count": null,
   "id": "021c0847-69ad-4d95-a124-f7960be9bb7f",
   "metadata": {},
   "outputs": [],
   "source": [
    "snr_seq <- seq(-10, 35, length.out=100)\n",
    "pred <- (\n",
    "    fm_snr_cov\n",
    "    |> emmeans(~ snr*group, at=list(snr=snr_seq), type=\"response\")\n",
    "    |> as.data.frame()\n",
    ")\n",
    "(\n",
    "    pred\n",
    "    |> ggplot(aes(snr, prob, ymin=prob - SE, ymax=prob + SE, color=group, fill=group))\n",
    "    + geom_line()\n",
    "    + geom_ribbon(alpha=0.2)\n",
    "    + scale_x_reverse()\n",
    ")"
   ]
  },
  {
   "cell_type": "markdown",
   "id": "4850ce65-2cf7-4836-a0f4-418957988571",
   "metadata": {},
   "source": [
    "### SNR as categorical variable\n",
    "\n",
    "Switching to SNR as a categorical variable makes it easier to model discrimination rather than performance, because the bias can change by SNR. We still need random intercept and slopes because the curves vary a lot by subject, but that introduces a huge number of variables."
   ]
  },
  {
   "cell_type": "code",
   "execution_count": null,
   "id": "ddcf26fd-58fd-4a1a-a1f9-aed82f66b520",
   "metadata": {},
   "outputs": [],
   "source": [
    "fm_snr_cat <- (\n",
    "    resp_probs\n",
    "    # |> filter(snr != 70)\n",
    "    |> glmer(cbind(n_left, n_peck - n_left) ~ stim_left*snr*group + (1+stim_left|subject), family=binomial, data=_)\n",
    ")\n",
    "joint_tests(fm_snr_cat)"
   ]
  },
  {
   "cell_type": "code",
   "execution_count": null,
   "id": "f07562ac-0551-41b8-8cba-001db1f8e003",
   "metadata": {},
   "outputs": [],
   "source": [
    "noisy_levels <- levels(resp_probs$snr)[-(1:2)]\n",
    "(\n",
    "    fm_snr_cat\n",
    "    |> emmeans(~ stim_left*group, at=list(snr=noisy_levels))\n",
    "    |> contrast(interaction=c(\"revpairwise\", \"pairwise\"))\n",
    ")"
   ]
  },
  {
   "cell_type": "code",
   "execution_count": null,
   "id": "5a6cea4a-58c7-4f87-b68e-d1c9d2d100a0",
   "metadata": {},
   "outputs": [],
   "source": [
    "levels(resp_probs$snr)[-(1:2)]"
   ]
  },
  {
   "cell_type": "code",
   "execution_count": null,
   "id": "39120a2a-6156-431e-8e10-8af28dfe3086",
   "metadata": {},
   "outputs": [],
   "source": [
    "(\n",
    "    fm_snr_cat\n",
    "    |> emmeans(~ stim_left*group*snr)\n",
    "    |> contrast(interaction=c(\"revpairwise\", \"pairwise\"), by=\"snr\")\n",
    ")"
   ]
  },
  {
   "cell_type": "code",
   "execution_count": null,
   "id": "5568575a-b12e-4239-ad78-c120a6f47257",
   "metadata": {},
   "outputs": [],
   "source": [
    "options(repr.plot.width=1.6, repr.plot.height=1.2, repr.plot.res = 450)\n",
    "p <- (\n",
    "    emmeans(fm_snr_cat, ~ stim_left | snr/group)\n",
    "    |> contrast(\"revpairwise\")\n",
    "    |> as.data.frame()\n",
    "    |> mutate(snr=as.numeric(as.character(snr)))\n",
    "    |> ggplot(aes(snr, estimate, group=group, color=group))\n",
    "    + geom_line()\n",
    "    + geom_point(size=1.5)\n",
    "    + geom_linerange(mapping=aes(ymin=estimate - SE, ymax=estimate + SE))\n",
    "    + scale_y_continuous(\"Discrimination (LOR)\")\n",
    "    + scale_x_reverse(\"SNR (dB)\")\n",
    "    + theme_classic() + my.theme + no.legend\n",
    ")\n",
    "p"
   ]
  },
  {
   "cell_type": "code",
   "execution_count": null,
   "id": "45d75173-6b03-45b9-b4e4-3e62b2850259",
   "metadata": {},
   "outputs": [],
   "source": [
    "pdf(\"../figures/probe_discrim.pdf\", width=1.6, height=1.2)\n",
    "print(p)\n",
    "dev.off()"
   ]
  },
  {
   "cell_type": "markdown",
   "id": "c6998915-4043-4259-94e2-ded0d6f0e746",
   "metadata": {},
   "source": [
    "### Non-response probability\n",
    "\n",
    "Looks like PR birds are more likely to timeout than CR birds"
   ]
  },
  {
   "cell_type": "code",
   "execution_count": null,
   "id": "2f600831-e390-4311-bb22-92ddfec84545",
   "metadata": {},
   "outputs": [],
   "source": [
    "fm_noresp <- (\n",
    "    resp_probs\n",
    "    |> glmer(cbind(n_trials - n_peck, n_trials) ~ snr*group + (1|subject), data=_, family=binomial)\n",
    ")\n",
    "summary(fm_noresp)"
   ]
  },
  {
   "cell_type": "code",
   "execution_count": null,
   "id": "88c165b6-15f1-4954-9acb-bc3f42b9531d",
   "metadata": {},
   "outputs": [],
   "source": [
    "(\n",
    "    fm_noresp\n",
    "    |> emmeans(~ group | snr)\n",
    "    |> contrast(\"revpairwise\", type=\"response\")\n",
    "    |> as.data.frame()\n",
    ")"
   ]
  },
  {
   "cell_type": "code",
   "execution_count": null,
   "id": "ed3ce4d9-2af5-481e-8ecc-fa94099c1d32",
   "metadata": {},
   "outputs": [],
   "source": [
    "(\n",
    "    fm_noresp\n",
    "    |> emmeans(~ group)\n",
    "    |> contrast(\"revpairwise\")\n",
    ")"
   ]
  },
  {
   "cell_type": "code",
   "execution_count": null,
   "id": "aa4b2433-f0ce-4522-a960-6927482cd0b5",
   "metadata": {},
   "outputs": [],
   "source": [
    "options(repr.plot.width=1.65, repr.plot.height=1.2, repr.plot.res = 450)\n",
    "p <- (\n",
    "    emmeans(fm_noresp, ~ group:snr)\n",
    "    |> as.data.frame()\n",
    "    |> mutate(snr=as.numeric(as.character(snr)))\n",
    "    |> ggplot(aes(snr, emmean, group=group, color=group))\n",
    "    + geom_line()\n",
    "    + geom_point(size=1.5)\n",
    "    + geom_linerange(mapping=aes(ymin=emmean - SE, ymax=emmean + SE))\n",
    "    + scale_y_continuous(\"p(no resp) [log odds]\")\n",
    "    + scale_x_reverse(\"SNR (dB)\")\n",
    "    + theme_classic() + my.theme + no.legend\n",
    ")\n",
    "p"
   ]
  },
  {
   "cell_type": "code",
   "execution_count": null,
   "id": "2223193c-386f-44ad-8d86-2b0ee1efd11a",
   "metadata": {},
   "outputs": [],
   "source": [
    "pdf(\"../figures/probe_respond.pdf\", width=1.65, height=1.2)\n",
    "print(p)\n",
    "dev.off()"
   ]
  },
  {
   "cell_type": "markdown",
   "id": "2328fb1a-75af-4f66-a977-e46aca96387c",
   "metadata": {},
   "source": [
    "#### p(correct)\n",
    "\n",
    "Considering non-responses as errors"
   ]
  },
  {
   "cell_type": "code",
   "execution_count": null,
   "id": "464b9321-b3bf-4c4d-8ceb-7a9915a31d23",
   "metadata": {},
   "outputs": [],
   "source": [
    "fm_correct <- (\n",
    "    resp_probs\n",
    "    |> glmer(cbind(n_correct, n_trials - n_correct) ~ snr*group + (1|subject), data=_, family=binomial)\n",
    ")"
   ]
  },
  {
   "cell_type": "code",
   "execution_count": null,
   "id": "89035439-7227-4ea3-a208-165cea397e25",
   "metadata": {},
   "outputs": [],
   "source": [
    "options(repr.plot.width=1.65, repr.plot.height=1.2, repr.plot.res = 450)\n",
    "p <- (\n",
    "    emmeans(fm_correct, ~ group:snr, type=\"response\")\n",
    "    |> as.data.frame()\n",
    "    |> mutate(snr=as.numeric(as.character(snr)))\n",
    "    |> ggplot(aes(snr, prob, group=group, color=group))\n",
    "    + geom_line()\n",
    "    + geom_point(size=1.5)\n",
    "    + geom_linerange(mapping=aes(ymin=prob - SE, ymax=prob + SE))\n",
    "    + scale_y_continuous(\"p(correct)\", limits=c(0,1))\n",
    "    + scale_x_reverse(\"SNR (dB)\")\n",
    "    + theme_classic() + my.theme + no.legend\n",
    ")\n",
    "p"
   ]
  },
  {
   "cell_type": "code",
   "execution_count": null,
   "id": "1312cd44-2b11-4e3a-99b8-7a2dfff87c84",
   "metadata": {},
   "outputs": [],
   "source": [
    "pdf(\"../figures/probe_correct.pdf\", width=1.7, height=1.2)\n",
    "print(p)\n",
    "dev.off()"
   ]
  },
  {
   "cell_type": "code",
   "execution_count": null,
   "id": "e706c8f7-f940-419f-b82b-3960705a348b",
   "metadata": {},
   "outputs": [],
   "source": [
    "(\n",
    "    fm_correct\n",
    "    |> emmeans(~ group | snr)\n",
    "    |> contrast(\"revpairwise\", type=\"response\")\n",
    ")"
   ]
  },
  {
   "cell_type": "code",
   "execution_count": null,
   "id": "eb22ab07-4bab-4a35-a6ea-76b90dc98ca9",
   "metadata": {},
   "outputs": [],
   "source": [
    "(\n",
    "    fm_correct\n",
    "    |> emmeans(~ group)\n",
    "    |> contrast(\"pairwise\")\n",
    ")"
   ]
  },
  {
   "cell_type": "markdown",
   "id": "76144e2e-6d9a-4d35-bf30-2ba3884533bc",
   "metadata": {},
   "source": [
    "#### Response time"
   ]
  },
  {
   "cell_type": "code",
   "execution_count": null,
   "id": "8b009ecc-a3f7-4412-8ba8-fc465fab9e04",
   "metadata": {},
   "outputs": [],
   "source": [
    "fm_rtime <- (\n",
    "    trials\n",
    "    |> filter(peck_any == 1, rtime > 0)\n",
    "    |> lmer(log10(rtime) ~ snr*group + (1|subject), data=_)\n",
    ")\n",
    "summary(fm_rtime)"
   ]
  },
  {
   "cell_type": "code",
   "execution_count": null,
   "id": "9eae6981-fbda-438a-9d14-a3a05a69550a",
   "metadata": {},
   "outputs": [],
   "source": [
    "(\n",
    "    emmeans(fm_rtime, ~ group:snr, type=\"response\")\n",
    "    |> as.data.frame()\n",
    "    |> mutate(snr=as.numeric(as.character(snr)))\n",
    "    |> ggplot(aes(snr, response, group=group, color=group))\n",
    "    + geom_line()\n",
    "    + geom_point()\n",
    "    + geom_linerange(mapping=aes(ymin=response - SE, ymax=response + SE))\n",
    "    + scale_y_log10(\"Response Time (s)\")\n",
    "    + scale_x_reverse()\n",
    "    + theme_classic() + my.theme + no.legend\n",
    ")"
   ]
  },
  {
   "cell_type": "markdown",
   "id": "bec753b9-3e6c-4856-b733-7f3215910647",
   "metadata": {},
   "source": [
    "### Population model averaging\n",
    "\n",
    "There's also the poor man's approach of fitting models to individual subjects and then doing statistics on the point estimates."
   ]
  },
  {
   "cell_type": "code",
   "execution_count": null,
   "id": "338eb189-94e3-487c-a35e-c3348d154b97",
   "metadata": {},
   "outputs": [],
   "source": [
    "fit_glm <- function(df) {\n",
    "    glm(cbind(n_peck, n_trials - n_peck) ~ 1 + snr*stim_left, data=df, family=binomial)\n",
    "}\n",
    "\n",
    "emm_glm <- function(fm) {\n",
    "    fm |> emmeans(~ snr:stim_left) |> contrast(interaction=\"revpairwise\", by=\"snr\") |> as.data.frame() |> select(snr, estimate)\n",
    "}\n",
    "\n",
    "subj_estimates <- (\n",
    "    trials_pooled\n",
    "    |> group_by(group, subject)\n",
    "    |> nest()\n",
    "    |> mutate(model=purrr::map(data, fit_glm), emms=purrr::map(model, emm_glm))\n",
    "    |> select(group, subject, emms) \n",
    "    |> unnest(cols=emms)\n",
    ")\n",
    "                "
   ]
  },
  {
   "cell_type": "code",
   "execution_count": null,
   "id": "ceccf4f0-7d8e-4fd0-8609-16902601c9f8",
   "metadata": {},
   "outputs": [],
   "source": [
    "(\n",
    "    subj_estimates\n",
    "    |> ggplot(aes(snr, estimate, group=subject, color=subject))\n",
    "    + geom_line()\n",
    "    + facet_grid(~ group)\n",
    "    + theme_classic() + my.theme\n",
    ")"
   ]
  },
  {
   "cell_type": "code",
   "execution_count": null,
   "id": "06b41fc1-b9c9-455a-af8f-11778bfb252b",
   "metadata": {},
   "outputs": [],
   "source": [
    "# quick inspection of where a bird is\n",
    "tibble(data.table::fread(\"../C342_trials.csv\")) |> xtabs(~ experiment, data=_)"
   ]
  },
  {
   "cell_type": "code",
   "execution_count": null,
   "id": "facdb8c2-6a85-41f7-b3b4-8111afa3c5b9",
   "metadata": {},
   "outputs": [],
   "source": []
  }
 ],
 "metadata": {
  "kernelspec": {
   "display_name": "R 4.3",
   "language": "R",
   "name": "ir43"
  },
  "language_info": {
   "codemirror_mode": "r",
   "file_extension": ".r",
   "mimetype": "text/x-r-source",
   "name": "R",
   "pygments_lexer": "r",
   "version": "4.4.1"
  }
 },
 "nbformat": 4,
 "nbformat_minor": 5
}
