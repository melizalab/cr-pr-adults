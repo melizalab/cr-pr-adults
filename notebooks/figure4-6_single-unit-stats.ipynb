{
 "cells": [
  {
   "cell_type": "markdown",
   "id": "d11f8790-d9ff-42cb-a95e-a878c364997e",
   "metadata": {},
   "source": [
    "# Single-unit analysis\n",
    "\n",
    "This notebook contains the code to generate summary statistic panels in Figures 4 and 6 and the data in Table 1. You need to have calculated motif-level firing rates (`scripts/motif_rates.py`) and discriminability (`scripts/motif_discrim.py`) and unit-level selectivity (`scripts/unit_selectivity.R`) for all the units."
   ]
  },
  {
   "cell_type": "code",
   "execution_count": null,
   "id": "51cedd0a-aa84-4d45-8358-f06e52abad25",
   "metadata": {},
   "outputs": [],
   "source": [
    "import <- function(pkg) { library(pkg, warn.conflicts=F, quietly=T, character.only=T) }\n",
    "import(\"repr\")\n",
    "import(\"stringr\")\n",
    "import(\"tidyr\")\n",
    "import(\"dplyr\")\n",
    "import(\"ggplot2\")\n",
    "import(\"lme4\")\n",
    "import(\"emmeans\")"
   ]
  },
  {
   "cell_type": "code",
   "execution_count": null,
   "id": "3e8a23f4-b2bc-4246-8a52-917738942f2e",
   "metadata": {},
   "outputs": [],
   "source": [
    "options(repr.matrix.max.cols=15, repr.matrix.max.rows=20)\n",
    "my.theme <- theme(legend.text=element_text(size=6),\n",
    "                  legend.title=element_text(size=6),\n",
    "                  plot.title = element_text(size=7, hjust=0.5),\n",
    "                  axis.line=element_line(linewidth=0.25),\n",
    "                  axis.ticks=element_line(linewidth=0.25),\n",
    "                  axis.ticks.length=unit(0.05, \"cm\"),\n",
    "                  axis.title=element_text(size=7),\n",
    "                  axis.text=element_text(size=6),\n",
    "                  strip.placement=\"outside\",\n",
    "                  strip.text=element_text(size=7),\n",
    "                  strip.background=element_blank())\n",
    "no.legend <- theme(legend.position=\"none\")\n",
    "update_geom_defaults(\"point\", list(fill=\"white\", shape=21, size=0.8))\n",
    "update_geom_defaults(\"line\", list(linewidth=0.4))\n"
   ]
  },
  {
   "cell_type": "markdown",
   "id": "8e4a0946-335a-45df-8464-34e39751b242",
   "metadata": {
    "tags": []
   },
   "source": [
    "## Loading data and first steps of analysis"
   ]
  },
  {
   "cell_type": "markdown",
   "id": "75ba30bf-aaf0-4611-a544-e90441c85d31",
   "metadata": {
    "tags": []
   },
   "source": [
    "### Metadata"
   ]
  },
  {
   "cell_type": "code",
   "execution_count": null,
   "id": "c3498588-9088-4ce5-a2c4-a5de8f1a823f",
   "metadata": {},
   "outputs": [],
   "source": [
    "birds <- data.table::fread(\"../datasets/zebf-social-acoustical-ephys/metadata/birds.csv\")\n",
    "sites <- data.table::fread(\"../datasets/zebf-social-acoustical-ephys/metadata/recordings.csv\")\n",
    "all_sites <- (\n",
    "   sites\n",
    "   |> mutate(bird=str_match(site, \"[:alnum:]+\")[,1])\n",
    "   |> inner_join(birds, by=\"bird\")\n",
    "   |> mutate(area=forcats::fct_recode(area, \"L1/CM\"=\"superficial\", \"L2a/L2b\"=\"intermediate\", \"L3/NCM\"=\"deep\") |> forcats::fct_relevel(c(\"L2a/L2b\", \"L1/CM\", \"L3/NCM\")),\n",
    "             group=factor(group, levels=c(\"CR\", \"PR\")))\n",
    ")"
   ]
  },
  {
   "cell_type": "code",
   "execution_count": null,
   "id": "1e4d73ea-b84d-46d4-884e-9120992a6220",
   "metadata": {},
   "outputs": [],
   "source": [
    "## master table of units with spike waveform classifications - exclude unclassified units\n",
    "all_units <- (\n",
    "    data.table::fread(\"../datasets/zebf-social-acoustical-ephys/metadata/mean_spike_features.csv\")\n",
    "    |> mutate(spike=factor(spike, levels=c(\"wide\", \"narrow\"), exclude=\"\"))\n",
    "    |> filter(!is.na(spike))\n",
    "    |> mutate(site=str_match(unit, \"[:alnum:]+_\\\\d+_\\\\d+\")[,1])\n",
    "    |> select(unit, site, spike)\n",
    "    |> inner_join(all_sites, by=\"site\")\n",
    ")"
   ]
  },
  {
   "cell_type": "markdown",
   "id": "abe3b684-76f0-42f7-9de0-aac11b21a7ca",
   "metadata": {},
   "source": [
    "### Tabulate of the number of birds and recording sites for Table 1"
   ]
  },
  {
   "cell_type": "code",
   "execution_count": null,
   "id": "32c0705a-2086-4a3c-a9a1-de1796e399c9",
   "metadata": {},
   "outputs": [],
   "source": [
    "## number of animals in each condition by sex\n",
    "(\n",
    "    all_sites\n",
    "    |> distinct(bird, sex, group)\n",
    "    |> xtabs(~ sex + group, data=_)\n",
    "    |> addmargins()\n",
    ")"
   ]
  },
  {
   "cell_type": "code",
   "execution_count": null,
   "id": "8cdef58e-6fbc-4b02-83d6-478f6c7859e6",
   "metadata": {},
   "outputs": [],
   "source": [
    "## number of sites by area and condition\n",
    "(\n",
    "    all_sites\n",
    "    |> xtabs(~ area + group, data=_)\n",
    "    |> addmargins()\n",
    ")"
   ]
  },
  {
   "cell_type": "code",
   "execution_count": null,
   "id": "ae7e3dc8-f6f8-4966-be95-851efd46b37e",
   "metadata": {},
   "outputs": [],
   "source": [
    "## number of areas sampled per bird\n",
    "(\n",
    "    all_sites\n",
    "    |> xtabs(~ area + bird, data=_)\n",
    "    |> as.data.frame()\n",
    "    |> mutate(across(where(is.numeric), ~as.numeric(. > 0)))\n",
    "    |> filter(Freq > 0)\n",
    "    |> group_by(bird)\n",
    "    |> summarize(n_areas=n())\n",
    "    |> summary()\n",
    ")"
   ]
  },
  {
   "cell_type": "code",
   "execution_count": null,
   "id": "c2932f45-a73d-4dc9-b69d-1168d392ad66",
   "metadata": {},
   "outputs": [],
   "source": [
    "## birds per area/group#\n",
    "(\n",
    "    distinct(all_sites, area, bird, group) \n",
    "    |> xtabs(~ area + group, data=_)\n",
    ")    "
   ]
  },
  {
   "cell_type": "code",
   "execution_count": null,
   "id": "30b26b71-8005-4c46-b45c-3ef01b3c5b1e",
   "metadata": {},
   "outputs": [],
   "source": [
    "## number of units by area, condition, and cell type\n",
    "(\n",
    "    all_units\n",
    "    |> xtabs(~ area + group + spike, data=_)\n",
    "    |> addmargins(c(1,3))\n",
    "    |> as.data.frame()\n",
    "    |> arrange(area)\n",
    "    |> pivot_wider(names_from=c(area, group), values_from=Freq, values_fill=0)\n",
    ")"
   ]
  },
  {
   "cell_type": "markdown",
   "id": "222360f6-8a29-44c9-a13f-511c9c7abdf5",
   "metadata": {
    "tags": []
   },
   "source": [
    "## Firing rates\n"
   ]
  },
  {
   "cell_type": "code",
   "execution_count": null,
   "id": "de01ea5a-3ffa-4991-8c8a-1bc522eb72e3",
   "metadata": {},
   "outputs": [],
   "source": [
    "## load the rate data\n",
    "header <- data.table::fread(cmd='find ../build/ -name \"*_rates.csv\" | head -n1 | xargs head -n1', header=T)\n",
    "all_motif_rates <- tibble(data.table::fread(cmd='find ../build/ -name \"*_rates.csv\" | xargs tail -q -n+2', header=F))\n",
    "names(all_motif_rates) <- names(header)\n",
    "\n",
    "## initial cleaning - only responses to highest SNR, omit background segment\n",
    "motif_rates <- (\n",
    "    all_motif_rates\n",
    "    |> filter(background_dBFS==-100 | foreground==\"silence\", foreground!=\"background\")\n",
    "    |> mutate(foreground=relevel(factor(foreground), \"silence\"))\n",
    ")\n",
    "## pool trials of the same stimulus (we can do this because our dependent variable is Poisson)\n",
    "## and regularize rate estimates by adding 1 spike to units with no spontaneous spikes\n",
    "motif_rate_summary <- (\n",
    "    motif_rates\n",
    "    |> group_by(unit, foreground) \n",
    "    |> summarize(n_events=sum(n_events), interval=sum(interval_end))\n",
    "    |> mutate(n_events=ifelse(foreground==\"silence\" & n_events == 0, 1, n_events))\n",
    "    |> inner_join(all_units, by=\"unit\")\n",
    ")"
   ]
  },
  {
   "cell_type": "code",
   "execution_count": null,
   "id": "bdad4726-6fe3-4da9-ae47-6122702a5100",
   "metadata": {},
   "outputs": [],
   "source": [
    "## Number of units where we had to add a spike to the spontaneous interval to regularize rate estimates.\n",
    "(\n",
    "    motif_rates \n",
    "    |> filter(foreground==\"silence\")\n",
    "    |> group_by(unit)\n",
    "    |> summarize(n_events=sum(n_events), interval=sum(interval_end))\n",
    "    |> inner_join(all_units, by=\"unit\") \n",
    "    |> mutate(silent=n_events==0)\n",
    "    |> xtabs(~ silent, data=_)\n",
    "    |> prop.table()\n",
    ")"
   ]
  },
  {
   "cell_type": "markdown",
   "id": "efe1ab5f-ba76-435c-ac9f-f70a6a9911b8",
   "metadata": {
    "jp-MarkdownHeadingCollapsed": true,
    "tags": []
   },
   "source": [
    "### Spontaneous firing rate\n",
    "\n",
    "Figure 3A"
   ]
  },
  {
   "cell_type": "code",
   "execution_count": null,
   "id": "e4f0b94e-407e-4a0a-8068-b839ea5f0fbe",
   "metadata": {},
   "outputs": [],
   "source": [
    "fm_spont <- glmer(\n",
    "    n_events ~ area*spike*group + (1|unit),\n",
    "    offset=log(interval),\n",
    "    family=poisson,\n",
    "    control=glmerControl(optimizer = \"bobyqa\"),\n",
    "    data=motif_rate_summary |> filter(foreground==\"silence\")\n",
    ")"
   ]
  },
  {
   "cell_type": "code",
   "execution_count": null,
   "id": "5fcdfc77-b863-4d41-bb98-22ff1c836392",
   "metadata": {},
   "outputs": [],
   "source": [
    "options(repr.plot.width=1.8, repr.plot.height=1.45, repr.plot.res = 450)\n",
    "p <- (\n",
    "    fm_spont\n",
    "    |> emmeans(~ group*spike*area, type=\"response\", offset=0)\n",
    "    |> confint(level=0.90)\n",
    "    |> ggplot(aes(area, rate, color=group))\n",
    "    + facet_wrap(~ spike)\n",
    "    + geom_point(position=position_dodge(width=0.5), size=1.5)\n",
    "    + geom_linerange(aes(ymin=asymp.LCL, ymax=asymp.UCL), position=position_dodge(width=0.5))\n",
    "    + scale_x_discrete(name=NULL)\n",
    "    + scale_y_log10(name=\"Spont rate (Hz)\", limits=c(0.1, 7.0))\n",
    "    + theme_classic() + my.theme + no.legend\n",
    ")\n",
    "p "
   ]
  },
  {
   "cell_type": "code",
   "execution_count": null,
   "id": "1e085c08-c657-4493-bd67-27c2a988b575",
   "metadata": {},
   "outputs": [],
   "source": [
    "pdf(\"../figures/spont_rate_all_units.pdf\", width=2.25, height=2)\n",
    "print(p)\n",
    "dev.off()"
   ]
  },
  {
   "cell_type": "code",
   "execution_count": null,
   "id": "ca314ee2-3337-4f41-9183-61583a6a64cf",
   "metadata": {},
   "outputs": [],
   "source": [
    "## pairwise post-hoc comparisons\n",
    "(\n",
    "    fm_spont\n",
    "    |> emmeans(~ group | area*spike)\n",
    "    |> contrast(\"pairwise\")\n",
    ")"
   ]
  },
  {
   "cell_type": "markdown",
   "id": "3254444e-02fb-4a77-b807-ae7ea355ab8e",
   "metadata": {
    "jp-MarkdownHeadingCollapsed": true,
    "tags": []
   },
   "source": [
    "### Evoked rate\n",
    "\n",
    "Figure 2B"
   ]
  },
  {
   "cell_type": "code",
   "execution_count": null,
   "id": "b296c313-6c53-4813-ac41-d90af8b6e29e",
   "metadata": {},
   "outputs": [],
   "source": [
    "options(repr.plot.width=4, repr.plot.height=2.5, repr.plot.res = 300)\n",
    "p <- (\n",
    "    motif_rate_summary\n",
    "    |> filter(foreground!=\"silence\")\n",
    "    |> mutate(rate=mean(n_events / interval))\n",
    "    |> group_by(group, area, spike, unit)\n",
    "    |> summarize(rate=mean(rate))\n",
    "    |> ggplot(aes(area, rate, color=group))\n",
    "    + facet_wrap(~ spike)\n",
    "    + geom_boxplot()\n",
    "    + scale_y_log10(name=\"Evoked rate (Hz)\")\n",
    "    + theme_classic() + my.theme\n",
    ")\n",
    "p "
   ]
  },
  {
   "cell_type": "code",
   "execution_count": null,
   "id": "7f4df632-63b8-4fb7-aeb5-e2327c6a04a2",
   "metadata": {},
   "outputs": [],
   "source": [
    "fm_evoked <- glmer(\n",
    "    n_events ~ group*area*spike + (1|unit) + (1|foreground),\n",
    "    offset=log(interval),\n",
    "    family=poisson,\n",
    "    control=glmerControl(optimizer=\"bobyqa\"),\n",
    "    data=motif_rate_summary |> filter(foreground!=\"silence\")\n",
    ")"
   ]
  },
  {
   "cell_type": "code",
   "execution_count": null,
   "id": "9cac8f43-9cfa-4ace-a6fe-2969485549b5",
   "metadata": {},
   "outputs": [],
   "source": [
    "options(repr.plot.width=1.8, repr.plot.height=1.45, repr.plot.res = 450)\n",
    "p <- (\n",
    "    fm_evoked\n",
    "    |> emmeans(~ group*spike*area, type=\"response\", offset=0)\n",
    "    |> confint(level=0.90)\n",
    "    |> ggplot(aes(area, rate, color=group))\n",
    "    + facet_wrap(~ spike)\n",
    "    + geom_point(position=position_dodge(width=0.5), size=1.5)\n",
    "    + geom_linerange(aes(ymin=asymp.LCL, ymax=asymp.UCL), position=position_dodge(width=0.5))\n",
    "    + scale_x_discrete(name=NULL)\n",
    "    + scale_y_log10(name=\"Evoked rate (Hz)\", limits=c(0.1, 7.0))\n",
    "    + theme_classic() + my.theme + no.legend\n",
    ")\n",
    "p "
   ]
  },
  {
   "cell_type": "code",
   "execution_count": null,
   "id": "ded2b0d2-fc4e-4aeb-9826-4200feaa64e2",
   "metadata": {},
   "outputs": [],
   "source": [
    "pdf(\"../figures/evoked_rate_all_units.pdf\", width=2.25, height=2)\n",
    "print(p)\n",
    "dev.off()"
   ]
  },
  {
   "cell_type": "code",
   "execution_count": null,
   "id": "c5323651-0506-4fd2-ab42-ce6d71b4f212",
   "metadata": {},
   "outputs": [],
   "source": [
    "(\n",
    "    fm_evoked\n",
    "    |> emmeans(~ group | area*spike)\n",
    "    |> contrast(\"pairwise\")\n",
    ")"
   ]
  },
  {
   "cell_type": "markdown",
   "id": "b1d016f0-7cd7-4df1-a8c0-9f1849970eb3",
   "metadata": {
    "tags": []
   },
   "source": [
    "### Number of units per site\n",
    "\n",
    "Figure 3C"
   ]
  },
  {
   "cell_type": "code",
   "execution_count": null,
   "id": "a48a8831-c404-4291-91fd-a3dfa02f2a19",
   "metadata": {},
   "outputs": [],
   "source": [
    "# GLMM\n",
    "fm_units <- (\n",
    "    all_units\n",
    "    |> group_by(group, area, spike, site)\n",
    "    |> summarize(n_units=n())\n",
    "    |> glmer(n_units ~ area*spike*group + (1 + spike|site), data=_, control=glmerControl(optimizer=\"bobyqa\"), family=poisson)\n",
    ")"
   ]
  },
  {
   "cell_type": "code",
   "execution_count": null,
   "id": "1f074f7a-09b5-4f91-98da-4fe3594c0dfc",
   "metadata": {},
   "outputs": [],
   "source": [
    "options(repr.plot.width=2.25, repr.plot.height=2, repr.plot.res = 450)\n",
    "p <- (\n",
    "    fm_units\n",
    "    |> emmeans(~ group*spike*area)\n",
    "    |> confint(level=0.90, type=\"response\")\n",
    "    |> ggplot(aes(area, rate, color=group))\n",
    "    + facet_wrap(~ spike)\n",
    "    + geom_point(position=position_dodge(width=0.5), size=1.5)\n",
    "    + geom_linerange(aes(ymin=asymp.LCL, ymax=asymp.UCL), position=position_dodge(width=0.5))\n",
    "    + scale_x_discrete(name=NULL)\n",
    "    + scale_y_log10(name=\"total units per site\")\n",
    "    + theme_classic() + my.theme + no.legend\n",
    ")\n",
    "p "
   ]
  },
  {
   "cell_type": "code",
   "execution_count": null,
   "id": "7a9cf1ea-e3b5-4616-ac84-20da20f94676",
   "metadata": {},
   "outputs": [],
   "source": [
    "pdf(\"../figures/total_units_per_site.pdf\", width=2.25, height=2)\n",
    "print(p)\n",
    "dev.off()"
   ]
  },
  {
   "cell_type": "code",
   "execution_count": null,
   "id": "eb137338-296d-4db4-8285-21fde8b67d74",
   "metadata": {},
   "outputs": [],
   "source": [
    "emmeans(fm_units, ~ group | area*spike) |> contrast(\"pairwise\")"
   ]
  },
  {
   "cell_type": "markdown",
   "id": "603b451b-c5fb-499d-93f2-47e6127116d4",
   "metadata": {
    "tags": []
   },
   "source": [
    "## Discriminability\n",
    "\n",
    "Discriminability is assessed by computing spike distances and training a classifier. The computation is performed by `scripts/motif_discrim.py`, which outputs one file per unit. Only the \"clean\" condition is used (inaudible noise). We classify cells as responsive if the z-score of the cross-validation is above the one-tailed 95% confidence level.\n",
    "\n",
    "Discriminability is what we use to decide whether neurons are auditory or not, so the analyses use all neurons. The population analysis is in Figure 6D."
   ]
  },
  {
   "cell_type": "code",
   "execution_count": null,
   "id": "da695d83-91b0-49fb-bb07-0d65d8cd54c0",
   "metadata": {},
   "outputs": [],
   "source": [
    "z_score_alpha <- 0.05\n",
    "z_score_global_thresh <- qnorm(1 - z_score_alpha)\n",
    "## this is not used: too easy for individual motifs to sneak over the threshold\n",
    "z_score_motif_thresh <- qnorm(1 - z_score_alpha/9)"
   ]
  },
  {
   "cell_type": "code",
   "execution_count": null,
   "id": "fb45400c-0207-421d-b70b-a6fc8b6034b3",
   "metadata": {},
   "outputs": [],
   "source": [
    "header <- data.table::fread(cmd='find ../build/ -name \"*motif_discrim.csv\" | head -n1 | xargs head -n1', header=T)\n",
    "motif_discrim <- tibble(data.table::fread(cmd='find ../build/ -name \"*motif_discrim.csv\" | xargs tail -q -n+2', header=F))\n",
    "names(motif_discrim) <- names(header)"
   ]
  },
  {
   "cell_type": "code",
   "execution_count": null,
   "id": "93a4492b-01df-4eba-b111-887021bd13d4",
   "metadata": {},
   "outputs": [],
   "source": [
    "## classify units as auditory and join to metadata\n",
    "unit_discrim <- (\n",
    "    motif_discrim\n",
    "    |> filter(foreground==\"_average\")\n",
    "    |> select(!foreground)\n",
    "    |> mutate(is_auditory=(z_score > z_score_global_thresh))\n",
    "    |> inner_join(all_units, by=\"unit\")\n",
    ")"
   ]
  },
  {
   "cell_type": "code",
   "execution_count": null,
   "id": "6458ae1f-1692-4883-8981-c86b8af70925",
   "metadata": {},
   "outputs": [],
   "source": [
    "## GLMM\n",
    "## There are 90 comparisons for each trial, so score can be converted to a binomial RV by multiplying by 90\n",
    "fm_discrim_score <- (\n",
    "    unit_discrim \n",
    "    |> mutate(n_correct=score * 90)\n",
    "    |> glmer(cbind(n_correct, 90 - n_correct) ~ group*area*spike + (1|unit), \n",
    "             data=_, \n",
    "             control=glmerControl(optimizer=\"bobyqa\"), \n",
    "             family=binomial)\n",
    ")"
   ]
  },
  {
   "cell_type": "code",
   "execution_count": null,
   "id": "ce2cd31e-ce34-4f88-a642-8ab902bf52b5",
   "metadata": {},
   "outputs": [],
   "source": [
    "options(repr.plot.width=2.4, repr.plot.height=1.9, repr.plot.res = 450)\n",
    "p <- (\n",
    "    fm_discrim_score\n",
    "    |> emmeans(~ group*spike*area, type=\"response\")\n",
    "    |> confint(level=0.90)\n",
    "    |> ggplot(aes(area, prob, color=group))\n",
    "    + facet_wrap(~ spike)\n",
    "    + geom_point(position=position_dodge(width=0.5), size=1.5)\n",
    "    + geom_linerange(aes(ymin=asymp.LCL, ymax=asymp.UCL), position=position_dodge(width=0.5))\n",
    "    + scale_x_discrete(name=NULL)\n",
    "    + scale_y_continuous(name=\"Discriminability\", limits=c(0,1))\n",
    "    + theme_classic() + my.theme + no.legend\n",
    ")\n",
    "p "
   ]
  },
  {
   "cell_type": "code",
   "execution_count": null,
   "id": "8013a965-3ed1-4fec-9b86-e250e832c45e",
   "metadata": {},
   "outputs": [],
   "source": [
    "pdf(\"../figures/discriminability_all_units.pdf\", width=2.4, height=1.9)\n",
    "print(p)\n",
    "dev.off()"
   ]
  },
  {
   "cell_type": "code",
   "execution_count": null,
   "id": "3dca4299-4479-43ac-8947-9ce9b56bb1c6",
   "metadata": {},
   "outputs": [],
   "source": [
    "# post-hoc pairwise tests for each cell type / area\n",
    "emmeans(fm_discrim_score, ~ group | area*spike) |> contrast(\"pairwise\")"
   ]
  },
  {
   "cell_type": "code",
   "execution_count": null,
   "id": "14e2365d-0c03-4edb-876d-39bc6761bb55",
   "metadata": {},
   "outputs": [],
   "source": [
    "# test whether BS are less discriminable than NS\n",
    "emmeans(fm_discrim_score, ~ spike) |> contrast(\"pairwise\")"
   ]
  },
  {
   "cell_type": "markdown",
   "id": "0b3fbaac-de4f-4562-a3b3-bc1def593c06",
   "metadata": {},
   "source": [
    "## Selectivity\n",
    "\n",
    "A very simple definition of selectivity is related to what proportion of stimuli evoke a significant response. We can estimate this as the probability of a binomial random variable. This is Figure 6E."
   ]
  },
  {
   "cell_type": "code",
   "execution_count": null,
   "id": "88306da1-c775-4a00-9d10-82673e77406b",
   "metadata": {},
   "outputs": [],
   "source": [
    "## load the glm results\n",
    "motif_rate_stats <- data.table::fread(\"../build/motif_rate_glm.csv\", header=T)\n",
    "## summarize each unit's average evoked rate and the number of motifs that elicit a significant response (selectivity)\n",
    "unit_selectivity <- (\n",
    "    motif_rate_stats\n",
    "    |> group_by(unit)\n",
    "    |> summarize(avg_evoked=mean(estimate), n_responsive=sum(is_responsive))\n",
    "    |> inner_join(unit_discrim, by=\"unit\")\n",
    ")"
   ]
  },
  {
   "cell_type": "code",
   "execution_count": null,
   "id": "0492cbdd-aa57-4b8b-b889-3a0adb1ebcec",
   "metadata": {},
   "outputs": [],
   "source": [
    "## GLMM\n",
    "fm_selectivity <- (\n",
    "    unit_selectivity \n",
    "    |> filter(is_auditory)\n",
    "    |> glmer(\n",
    "        cbind(10 - n_responsive, n_responsive) ~ group*area*spike + (1|unit), \n",
    "        data=_,\n",
    "        control=glmerControl(optimizer=\"bobyqa\"),\n",
    "        family=binomial)\n",
    ")\n"
   ]
  },
  {
   "cell_type": "code",
   "execution_count": null,
   "id": "e8208402-857c-4a7d-a5ee-9360c4554a8b",
   "metadata": {},
   "outputs": [],
   "source": [
    "options(repr.plot.width=2.4, repr.plot.height=1.9, repr.plot.res = 450)\n",
    "p <- (\n",
    "    fm_selectivity\n",
    "    |> emmeans(~ group*spike*area, type=\"response\")\n",
    "    |> confint(level=0.90)\n",
    "    |> ggplot(aes(area, prob, color=group))\n",
    "    + facet_wrap(~ spike)\n",
    "    + geom_point(position=position_dodge(width=0.5), size=1.5)\n",
    "    + geom_linerange(aes(ymin=asymp.LCL, ymax=asymp.UCL), position=position_dodge(width=0.5))\n",
    "    + scale_x_discrete(name=NULL)\n",
    "    + scale_y_continuous(name=\"Selectivity\", limits=c(0,1))\n",
    "    + theme_classic() + my.theme + no.legend\n",
    ")\n",
    "p "
   ]
  },
  {
   "cell_type": "code",
   "execution_count": null,
   "id": "09c141f6-800c-49e8-a635-b8be52fa697e",
   "metadata": {},
   "outputs": [],
   "source": [
    "pdf(\"../figures/selectivity_auditory_units.pdf\", width=2.4, height=1.9)\n",
    "print(p)\n",
    "dev.off()"
   ]
  },
  {
   "cell_type": "code",
   "execution_count": null,
   "id": "3bba9a2d-a506-426d-b287-1bff1ffaed07",
   "metadata": {},
   "outputs": [],
   "source": [
    "## pairwise post-hoc tests\n",
    "emmeans(fm_selectivity, ~ group | area*spike) |> contrast(\"pairwise\")"
   ]
  },
  {
   "cell_type": "code",
   "execution_count": null,
   "id": "bab9a096-cf64-4565-adf4-4435c482f43d",
   "metadata": {},
   "outputs": [],
   "source": [
    "# post-hoc compare BS to NS\n",
    "emmeans(fm_selectivity, ~ spike) |> contrast(\"pairwise\")"
   ]
  },
  {
   "cell_type": "code",
   "execution_count": null,
   "id": "b0904c75-2468-4b54-926f-53fd163b4393",
   "metadata": {},
   "outputs": [],
   "source": []
  }
 ],
 "metadata": {
  "kernelspec": {
   "display_name": "R 4.3",
   "language": "R",
   "name": "ir43"
  },
  "language_info": {
   "codemirror_mode": "r",
   "file_extension": ".r",
   "mimetype": "text/x-r-source",
   "name": "R",
   "pygments_lexer": "r",
   "version": "4.4.1"
  }
 },
 "nbformat": 4,
 "nbformat_minor": 5
}
