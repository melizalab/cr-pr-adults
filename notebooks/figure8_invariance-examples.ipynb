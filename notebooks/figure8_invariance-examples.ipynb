{
 "cells": [
  {
   "cell_type": "markdown",
   "id": "a3aae394-a139-4d6d-adde-1f1d415c8858",
   "metadata": {},
   "source": [
    "## Noise invariance example\n",
    "\n",
    "This notebook is used to generate the examples plots for Figure 8."
   ]
  },
  {
   "cell_type": "code",
   "execution_count": null,
   "id": "6f6a0dbc-320d-41ce-8560-b9bd228c3895",
   "metadata": {
    "tags": []
   },
   "outputs": [],
   "source": [
    "import sys\n",
    "\n",
    "sys.path.insert(0, \"../scripts\")"
   ]
  },
  {
   "cell_type": "code",
   "execution_count": null,
   "id": "86165be1-3ace-4dc2-9b2f-32c17e3e274e",
   "metadata": {
    "tags": []
   },
   "outputs": [],
   "source": [
    "import json\n",
    "from pathlib import Path\n",
    "\n",
    "import graphics_defaults  # noqa: F401\n",
    "import matplotlib.pyplot as plt\n",
    "import numpy as np\n",
    "from core import MotifSplitter, load_wave, rescale, split_trials\n",
    "from dlab import plotting, signal, spikes\n",
    "from filters import SpectrogramTransform\n"
   ]
  },
  {
   "cell_type": "code",
   "execution_count": null,
   "id": "bf100818-5f33-4301-ae46-60b3cf8129ab",
   "metadata": {
    "tags": []
   },
   "outputs": [],
   "source": [
    "dataset_dir = Path(\"../datasets/zebf-social-acoustical-ephys\")\n",
    "metadata_dir = dataset_dir / \"metadata/\"\n",
    "response_dir = dataset_dir / \"responses/\"\n",
    "stim_dir = dataset_dir / \"stimuli\"\n",
    "# spectrogram parameters\n",
    "window_size = 0.020\n",
    "max_frequency = 8000"
   ]
  },
  {
   "cell_type": "code",
   "execution_count": null,
   "id": "93feea1f-73de-494f-9a80-e02937a43c49",
   "metadata": {
    "tags": []
   },
   "outputs": [],
   "source": [
    "rate_binwidth = 0.005\n",
    "rate_bandwidth = 0.02\n",
    "kernel, _ = signal.kernel(\"gaussian\", rate_bandwidth, rate_binwidth)"
   ]
  },
  {
   "cell_type": "code",
   "execution_count": null,
   "id": "e5959dc4-b1ad-4fbf-a597-8e230959f55b",
   "metadata": {
    "tags": []
   },
   "outputs": [],
   "source": [
    "unit_name = \"C104_3_1_c67\"\n",
    "selected_motifs = [\"g29wxi4q\", \"vekibwgj\", \"9ex2k0dy\"]"
   ]
  },
  {
   "cell_type": "raw",
   "id": "1e0154e5-93bc-4111-ac8e-dd4805e28175",
   "metadata": {},
   "source": [
    "# alternative example 1\n",
    "unit_name = \"C42_4_1_c131\"\n",
    "selected_motifs = [\"g29wxi4q\", \"vekibwgj\", \"ztqee46x\"]"
   ]
  },
  {
   "cell_type": "raw",
   "id": "3a72824a-41f7-4edc-adca-c71e228bd024",
   "metadata": {},
   "source": [
    "# alternative example 2\n",
    "unit_name = \"C104_4_1_c120\"\n",
    "selected_motifs = [\"g29wxi4q\", \"vekibwgj\", \"ztqee46x\"]"
   ]
  },
  {
   "cell_type": "code",
   "execution_count": null,
   "id": "ea48dd97-c2a1-474e-8b49-6844acd20cef",
   "metadata": {
    "tags": []
   },
   "outputs": [],
   "source": [
    "pprox_file = (response_dir / unit_name).with_suffix(\".pprox\")\n",
    "unit = json.loads(pprox_file.read_text())"
   ]
  },
  {
   "cell_type": "code",
   "execution_count": null,
   "id": "aad8f955-a528-46f7-a15f-9a794f605aa0",
   "metadata": {
    "tags": []
   },
   "outputs": [],
   "source": [
    "splitter = MotifSplitter()\n",
    "motifs = split_trials(splitter, unit, metadata_dir).drop(\"igmi8fxa\", level=1)\n",
    "motif_names = motifs.index.unique(level=\"foreground\")\n",
    "wav_signals = {}\n",
    "for name in motif_names:\n",
    "    wav_path = (stim_dir / name).with_suffix(\".wav\")\n",
    "    wav_signals[name] = load_wave(wav_path)\n",
    "    # these stimuli are scaled to -20 dB FS so need to be corrected to match their amplitude in the scene stimuli\n",
    "    rescale(wav_signals[name], -30)"
   ]
  },
  {
   "cell_type": "code",
   "execution_count": null,
   "id": "c536795e-5015-49cc-bc32-1f6648872ef7",
   "metadata": {
    "tags": []
   },
   "outputs": [],
   "source": [
    "# set up spectrogram transform\n",
    "stfter = SpectrogramTransform(window_size, wav_signals[name][\"sampling_rate\"], max_frequency)\n",
    "fgrid = stfter.freq"
   ]
  },
  {
   "cell_type": "code",
   "execution_count": null,
   "id": "d3c0e3d1-b4cf-4b8a-9c94-32533a1c3e35",
   "metadata": {
    "tags": []
   },
   "outputs": [],
   "source": [
    "n_motifs = len(selected_motifs)\n",
    "# plot each noise level in a different color\n",
    "colors = {\n",
    "    v: c for v, c in zip(motifs.index.unique(level=0), plt.color_sequences[\"tab20\"])\n",
    "}\n",
    "fig = plt.figure(figsize=(2.4, 2.9), dpi=300)\n",
    "subfigs = fig.subfigures(1, n_motifs, hspace=0.001, wspace=0.0001)\n",
    "for motif, subfig in zip(selected_motifs, subfigs):\n",
    "    trials = motifs.xs(motif, level=\"foreground\")\n",
    "    axes = subfig.subplots(3, sharex=True, height_ratios=[1, 5, 1])\n",
    "    # signal, sampling_rate = wav_signals[motif]\n",
    "    # plotting.spectrogram(axes[0], signal=signal, sampling_rate_hz=sampling_rate, frequency_range=(0, 8000))\n",
    "    # axes[0].set_yticks([500, 8000], [\"1\", \"8\"])\n",
    "    spec = stfter.transform(wav_signals[motif][\"signal\"], scaling=None) + 1e-6\n",
    "    log_spec = 10 * np.log10(spec / stfter.scale1)\n",
    "    tgrid = stfter.tgrid(spec)\n",
    "    pos = axes[0].imshow(log_spec, aspect=\"auto\", origin=\"lower\", vmin=-90, vmax=-20, \n",
    "                   extent=(tgrid[0], tgrid[-1], fgrid[0] / 1000, fgrid[-1] / 1000))\n",
    "    axes[0].set_yticks([1, 8])\n",
    "    for i, trial in enumerate(trials.sort_index(ascending=False).itertuples()):\n",
    "        if isinstance(trial.events, float):\n",
    "            continue\n",
    "        background_level = trial.Index\n",
    "        axes[1].plot(\n",
    "            trial.events,\n",
    "            [i] * trial.events.size,\n",
    "            color=colors[background_level],\n",
    "            marker=\"|\",\n",
    "            markeredgewidth=0.5,\n",
    "            linestyle=\"\",\n",
    "        )\n",
    "    axes[1].set_ylim(0, trials.shape[0])\n",
    "    axes[1].get_yaxis().set_visible(False)\n",
    "    plotting.adjust_raster_ticks(axes[1], gap=3.2)\n",
    "    for lvl, trls in trials.sort_index(ascending=False).groupby(\"background-dBFS\"):\n",
    "        rate, bins = spikes.rate(\n",
    "            trls.events.dropna().explode(),\n",
    "            rate_binwidth,\n",
    "            kernel,\n",
    "            start=0,\n",
    "            stop=trials.interval_end.max(),\n",
    "        )\n",
    "        axes[2].plot(bins, rate, color=colors[lvl])\n",
    "    plotting.simple_axes(*axes)\n",
    "    #subfig.subplots_adjust(hspace=0.01)\n",
    "\n",
    "max_rate = max(subfig.axes[2].get_ylim()[1] for subfig in subfigs.flat)\n",
    "for subfig in subfigs:\n",
    "    subfig.axes[2].set_ylim((0, max_rate))\n",
    "    subfig.subplots_adjust(left=0.05, right=0.95, hspace=0.08)\n",
    "for subfig in subfigs[1:]:\n",
    "    for ax in subfig.axes:\n",
    "        ax.get_yaxis().set_visible(False)\n",
    "        ax.spines[\"left\"].set_visible(False)"
   ]
  },
  {
   "cell_type": "code",
   "execution_count": null,
   "id": "61ec75b6-438d-4aeb-bed5-c7cef571eed9",
   "metadata": {
    "tags": []
   },
   "outputs": [],
   "source": [
    "fig.savefig(f\"../figures/{unit_name}_motif_noise_rasters.pdf\")"
   ]
  },
  {
   "cell_type": "code",
   "execution_count": null,
   "id": "45fbab7c-2e06-4eb3-b3ad-430d6e0c8f01",
   "metadata": {},
   "outputs": [],
   "source": []
  }
 ],
 "metadata": {
  "kernelspec": {
   "display_name": "cr-pr-adults",
   "language": "python",
   "name": "cr-pr-adults"
  },
  "language_info": {
   "codemirror_mode": {
    "name": "ipython",
    "version": 3
   },
   "file_extension": ".py",
   "mimetype": "text/x-python",
   "name": "python",
   "nbconvert_exporter": "python",
   "pygments_lexer": "ipython3",
   "version": "3.11.2"
  }
 },
 "nbformat": 4,
 "nbformat_minor": 5
}
