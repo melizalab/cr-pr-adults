{
 "cells": [
  {
   "cell_type": "markdown",
   "id": "a3aae394-a139-4d6d-adde-1f1d415c8858",
   "metadata": {},
   "source": [
    "## Noise invariance example\n",
    "\n",
    "This notebook is used to generate the examples plot for Figure 8."
   ]
  },
  {
   "cell_type": "code",
   "execution_count": null,
   "id": "6f6a0dbc-320d-41ce-8560-b9bd228c3895",
   "metadata": {},
   "outputs": [],
   "source": [
    "import sys\n",
    "sys.path.insert(0, \"../scripts\")"
   ]
  },
  {
   "cell_type": "code",
   "execution_count": null,
   "id": "86165be1-3ace-4dc2-9b2f-32c17e3e274e",
   "metadata": {},
   "outputs": [],
   "source": [
    "import json\n",
    "import logging\n",
    "from pathlib import Path\n",
    "from functools import partial\n",
    "\n",
    "import ewave\n",
    "import numpy as np\n",
    "import pandas as pd\n",
    "import matplotlib.pyplot as plt\n",
    "import seaborn as sns\n",
    "from dlab import spikes, plotting, signal\n",
    "\n",
    "import graphics_defaults\n",
    "from core import MotifSplitter, split_trials"
   ]
  },
  {
   "cell_type": "code",
   "execution_count": null,
   "id": "bf100818-5f33-4301-ae46-60b3cf8129ab",
   "metadata": {},
   "outputs": [],
   "source": [
    "dataset_dir = Path(\"../datasets/zebf-social-acoustical-ephys\")\n",
    "metadata_dir = dataset_dir / \"metadata/\"\n",
    "response_dir = dataset_dir / \"responses/\"\n",
    "stim_dir = dataset_dir / \"stimuli\""
   ]
  },
  {
   "cell_type": "code",
   "execution_count": null,
   "id": "93feea1f-73de-494f-9a80-e02937a43c49",
   "metadata": {},
   "outputs": [],
   "source": [
    "rate_binwidth = 0.005\n",
    "rate_bandwidth = 0.02\n",
    "kernel, _ = signal.kernel(\"gaussian\", rate_bandwidth, rate_binwidth)"
   ]
  },
  {
   "cell_type": "code",
   "execution_count": null,
   "id": "e5959dc4-b1ad-4fbf-a597-8e230959f55b",
   "metadata": {},
   "outputs": [],
   "source": [
    "unit_name = \"C104_3_1_c67\"\n",
    "selected_motifs = [\"g29wxi4q\", \"vekibwgj\", \"9ex2k0dy\"]"
   ]
  },
  {
   "cell_type": "raw",
   "id": "1e0154e5-93bc-4111-ac8e-dd4805e28175",
   "metadata": {},
   "source": [
    "# alternative example 1\n",
    "unit_name = \"C42_4_1_c131\"\n",
    "selected_motifs = [\"g29wxi4q\", \"vekibwgj\", \"ztqee46x\"]"
   ]
  },
  {
   "cell_type": "raw",
   "id": "3a72824a-41f7-4edc-adca-c71e228bd024",
   "metadata": {},
   "source": [
    "# alternative example 2\n",
    "unit_name = \"C104_4_1_c120\"\n",
    "selected_motifs = [\"g29wxi4q\", \"vekibwgj\", \"ztqee46x\"]"
   ]
  },
  {
   "cell_type": "code",
   "execution_count": null,
   "id": "ea48dd97-c2a1-474e-8b49-6844acd20cef",
   "metadata": {},
   "outputs": [],
   "source": [
    "pprox_file = (response_dir / unit_name).with_suffix(\".pprox\")\n",
    "unit = json.loads(pprox_file.read_text())"
   ]
  },
  {
   "cell_type": "code",
   "execution_count": null,
   "id": "aad8f955-a528-46f7-a15f-9a794f605aa0",
   "metadata": {},
   "outputs": [],
   "source": [
    "splitter = MotifSplitter()\n",
    "motifs = split_trials(splitter, unit, metadata_dir).drop(\"igmi8fxa\", level=1)\n",
    "motif_names = motifs.index.unique(level=\"foreground\")\n",
    "wav_signals = {}\n",
    "for motif_name in motif_names:\n",
    "    location = (stim_dir / motif_name).with_suffix(\".wav\")\n",
    "    with ewave.wavfile(location, \"r\") as fp:\n",
    "        wav_signals[motif_name] = (fp.read(), fp.sampling_rate)"
   ]
  },
  {
   "cell_type": "code",
   "execution_count": null,
   "id": "d3c0e3d1-b4cf-4b8a-9c94-32533a1c3e35",
   "metadata": {},
   "outputs": [],
   "source": [
    "n_motifs = len(selected_motifs)\n",
    "# plot each noise level in a different color\n",
    "colors = {\n",
    "    v: c for v, c in zip(motifs.index.unique(level=0), plt.color_sequences[\"tab20\"])\n",
    "}\n",
    "fig = plt.figure(figsize=(2.4, 2.9), dpi=300)\n",
    "subfigs = fig.subfigures(1, n_motifs, hspace=0.001, wspace=0.0001)\n",
    "for motif, subfig in zip(selected_motifs, subfigs):\n",
    "    trials = motifs.xs(motif, level=\"foreground\")\n",
    "    axes = subfig.subplots(3, sharex=True, height_ratios=[1, 5, 1])\n",
    "    plotting.spectrogram(axes[0], frequency_range=(0, 8000), *wav_signals[motif])\n",
    "    axes[0].set_yticks([500, 8000], [\"1\", \"8\"])\n",
    "    for i, trial in enumerate(trials.sort_index(ascending=False).itertuples()):\n",
    "        if isinstance(trial.events, float):\n",
    "            continue\n",
    "        background_level = trial.Index\n",
    "        axes[1].plot(\n",
    "            trial.events,\n",
    "            [i] * trial.events.size,\n",
    "            color=colors[background_level],\n",
    "            marker=\"|\",\n",
    "            markeredgewidth=0.5,\n",
    "            linestyle=\"\",\n",
    "        )\n",
    "    axes[1].set_ylim(0, trials.shape[0])\n",
    "    axes[1].get_yaxis().set_visible(False)\n",
    "    plotting.adjust_raster_ticks(axes[1], gap=3.2)\n",
    "    for lvl, trls in trials.sort_index(ascending=False).groupby(\"background-dBFS\"):\n",
    "        rate, bins = spikes.rate(\n",
    "            trls.events.dropna().explode(),\n",
    "            rate_binwidth,\n",
    "            kernel,\n",
    "            start=0,\n",
    "            stop=trials.interval_end.max(),\n",
    "        )\n",
    "        axes[2].plot(bins, rate, color=colors[lvl])\n",
    "    plotting.simple_axes(*axes)\n",
    "    #subfig.subplots_adjust(hspace=0.01)\n",
    "\n",
    "max_rate = max(subfig.axes[2].get_ylim()[1] for subfig in subfigs.flat)\n",
    "for subfig in subfigs:\n",
    "    subfig.axes[2].set_ylim((0, max_rate))\n",
    "    subfig.subplots_adjust(left=0.05, right=0.95, hspace=0.08)\n",
    "for subfig in subfigs[1:]:\n",
    "    for ax in subfig.axes:\n",
    "        ax.get_yaxis().set_visible(False)\n",
    "        ax.spines[\"left\"].set_visible(False)"
   ]
  },
  {
   "cell_type": "code",
   "execution_count": null,
   "id": "61ec75b6-438d-4aeb-bed5-c7cef571eed9",
   "metadata": {},
   "outputs": [],
   "source": [
    "fig.savefig(f\"../figures/{unit_name}_motif_rasters.pdf\")"
   ]
  },
  {
   "cell_type": "code",
   "execution_count": null,
   "id": "45fbab7c-2e06-4eb3-b3ad-430d6e0c8f01",
   "metadata": {},
   "outputs": [],
   "source": []
  }
 ],
 "metadata": {
  "kernelspec": {
   "display_name": "noise-invariant-analysis",
   "language": "python",
   "name": "noise-invariant-analysis"
  },
  "language_info": {
   "codemirror_mode": {
    "name": "ipython",
    "version": 3
   },
   "file_extension": ".py",
   "mimetype": "text/x-python",
   "name": "python",
   "nbconvert_exporter": "python",
   "pygments_lexer": "ipython3",
   "version": "3.11.2"
  }
 },
 "nbformat": 4,
 "nbformat_minor": 5
}
