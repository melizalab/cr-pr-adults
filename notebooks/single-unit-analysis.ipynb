{
 "cells": [
  {
   "cell_type": "markdown",
   "id": "d11f8790-d9ff-42cb-a95e-a878c364997e",
   "metadata": {},
   "source": [
    "# Single-unit analysis\n",
    "\n",
    "This notebook contains the code to analyze single unit data. We want to measure how the following depend on area, spike type and rearing conditions:\n",
    "\n",
    "- all units:\n",
    "    - units per site\n",
    "    - spontaneous rate\n",
    "    - evoked rate\n",
    "- responsive units:\n",
    "    - responsive units per site\n",
    "    - selectivity\n",
    "\n",
    "We are only looking at \"clean\" responses for this paper."
   ]
  },
  {
   "cell_type": "code",
   "execution_count": null,
   "id": "51cedd0a-aa84-4d45-8358-f06e52abad25",
   "metadata": {},
   "outputs": [],
   "source": [
    "import <- function(pkg) { library(pkg, warn.conflicts=F, quietly=T, character.only=T) }\n",
    "import(\"repr\")\n",
    "import(\"stringr\")\n",
    "import(\"tidyr\")\n",
    "import(\"dplyr\")\n",
    "import(\"ggplot2\")\n",
    "import(\"lme4\")\n",
    "import(\"emmeans\")"
   ]
  },
  {
   "cell_type": "code",
   "execution_count": null,
   "id": "3e8a23f4-b2bc-4246-8a52-917738942f2e",
   "metadata": {},
   "outputs": [],
   "source": [
    "options(repr.matrix.max.cols=15, repr.matrix.max.rows=20)\n",
    "my.theme <- theme(legend.text=element_text(size=6),\n",
    "                  legend.title=element_text(size=6),\n",
    "                  plot.title = element_text(size=7, hjust=0.5),\n",
    "                  axis.line=element_line(linewidth=0.25),\n",
    "                  axis.ticks=element_line(linewidth=0.25),\n",
    "                  axis.ticks.length=unit(0.05, \"cm\"),\n",
    "                  axis.title=element_text(size=7),\n",
    "                  axis.text=element_text(size=6),\n",
    "                  strip.placement=\"outside\",\n",
    "                  strip.text=element_text(size=7),\n",
    "                  strip.background=element_blank())\n",
    "no.legend <- theme(legend.position=\"none\")\n",
    "update_geom_defaults(\"point\", list(fill=\"white\", shape=21, size=0.8))\n",
    "update_geom_defaults(\"line\", list(linewidth=0.4))\n"
   ]
  },
  {
   "cell_type": "markdown",
   "id": "8e4a0946-335a-45df-8464-34e39751b242",
   "metadata": {
    "tags": []
   },
   "source": [
    "## Loading data and first steps of analysis"
   ]
  },
  {
   "cell_type": "markdown",
   "id": "75ba30bf-aaf0-4611-a544-e90441c85d31",
   "metadata": {
    "tags": []
   },
   "source": [
    "### Metadata"
   ]
  },
  {
   "cell_type": "code",
   "execution_count": null,
   "id": "c3498588-9088-4ce5-a2c4-a5de8f1a823f",
   "metadata": {},
   "outputs": [],
   "source": [
    "birds <- (\n",
    "    data.table::fread(\"../inputs/bird_metadata.csv\")\n",
    "    |> filter(behavior==\"no\")\n",
    ")\n",
    "sites <- data.table::fread(\"../inputs/recording_metadata.csv\")\n",
    "all_sites <- (\n",
    "   sites\n",
    "   |> mutate(bird=str_match(site, \"[:alnum:]+\")[,1])\n",
    "   |> inner_join(birds, by=\"bird\")\n",
    "   |> filter(area %in% c(\"deep\", \"intermediate\", \"superficial\"), stim_amplitude == \"okay\")\n",
    "   |> mutate(area=forcats::fct_recode(area, \"L1/CM\"=\"superficial\", \"L2a/L2b\"=\"intermediate\", \"L3/NCM\"=\"deep\") |> forcats::fct_relevel(c(\"L2a/L2b\", \"L1/CM\", \"L3/NCM\")),\n",
    "             group=factor(group, levels=c(\"CR\", \"PR\")))\n",
    ")"
   ]
  },
  {
   "cell_type": "code",
   "execution_count": null,
   "id": "9309a629-7730-4fa5-a9de-00d0a3b342e5",
   "metadata": {},
   "outputs": [],
   "source": [
    "birds"
   ]
  },
  {
   "cell_type": "code",
   "execution_count": null,
   "id": "32c0705a-2086-4a3c-a9a1-de1796e399c9",
   "metadata": {},
   "outputs": [],
   "source": [
    "## number of animals in each condition by sex\n",
    "(\n",
    "    all_sites\n",
    "    |> distinct(bird, sex, group)\n",
    "    |> xtabs(~ sex + group, data=_)\n",
    "    |> addmargins()\n",
    ")"
   ]
  },
  {
   "cell_type": "code",
   "execution_count": null,
   "id": "8cdef58e-6fbc-4b02-83d6-478f6c7859e6",
   "metadata": {},
   "outputs": [],
   "source": [
    "## number of sites by area and condition\n",
    "(\n",
    "    all_sites\n",
    "    |> xtabs(~ area + group, data=_)\n",
    "    |> addmargins()\n",
    ")"
   ]
  },
  {
   "cell_type": "code",
   "execution_count": null,
   "id": "c2932f45-a73d-4dc9-b69d-1168d392ad66",
   "metadata": {},
   "outputs": [],
   "source": [
    "## birds per area/group#\n",
    "(\n",
    "    distinct(all_sites, area, bird, group) \n",
    "    |> xtabs(~ area + group, data=_)\n",
    ")    "
   ]
  },
  {
   "cell_type": "markdown",
   "id": "10adc7a9-ae97-4ff1-85e4-d394c2194bbb",
   "metadata": {
    "tags": []
   },
   "source": [
    "### Unit waveform classifications\n",
    "\n",
    "Need to have run `python scripts/unit_waveforms.py -o build inputs/all_units.txt`"
   ]
  },
  {
   "cell_type": "code",
   "execution_count": null,
   "id": "4b5cf915-1fee-4f57-b179-2e88948cd4d3",
   "metadata": {},
   "outputs": [],
   "source": [
    "all_unit_spike_features <- data.table::fread(\"../build/mean_spike_features.csv\")\n",
    "unit_spike_features <- (\n",
    "    all_unit_spike_features\n",
    "    |> mutate(spike=factor(spike, levels=c(\"wide\", \"narrow\"), exclude=\"\"))\n",
    "    |> filter(!is.na(spike))\n",
    ")"
   ]
  },
  {
   "cell_type": "code",
   "execution_count": null,
   "id": "8831c4f0-4ddc-498a-8e41-4f11433e3be5",
   "metadata": {},
   "outputs": [],
   "source": [
    "(\n",
    "    all_unit_spike_features\n",
    "    |> mutate(trough_z=trough_v / sd_v)\n",
    "    |> filter(peak2_t > 1.5)\n",
    "    #|> filter(trough_z > -15, trough_v > -400)\n",
    ")"
   ]
  },
  {
   "cell_type": "code",
   "execution_count": null,
   "id": "f80449e4-c4ab-4747-902f-bbca39ed4399",
   "metadata": {},
   "outputs": [],
   "source": [
    "### generate tables of pr and cr units - this is used by the pooled decoder analysis\n",
    "all_units <- (\n",
    "    unit_spike_features %>%\n",
    "    mutate(site=str_match(unit, \"[:alnum:]+_\\\\d+_\\\\d+\")[,1]) %>%\n",
    "    select(unit, site, spike) %>%\n",
    "    left_join(all_sites, by=\"site\")\n",
    ")\n",
    "filter(all_units, group==\"CR\") %>% select(unit) %>% readr::write_csv(\"../build/cr_units.txt\", col_names=F)\n",
    "filter(all_units, group==\"PR\") %>% select(unit) %>% readr::write_csv(\"../build/pr_units.txt\", col_names=F)"
   ]
  },
  {
   "cell_type": "code",
   "execution_count": null,
   "id": "f4ced472-ff34-4c15-97cf-aef8ef07d11b",
   "metadata": {},
   "outputs": [],
   "source": [
    "all_units"
   ]
  },
  {
   "cell_type": "code",
   "execution_count": null,
   "id": "30b26b71-8005-4c46-b45c-3ef01b3c5b1e",
   "metadata": {},
   "outputs": [],
   "source": [
    "## number of units by area, condition, and cell type\n",
    "(\n",
    "    all_units\n",
    "    |> xtabs(~ area + group + spike, data=_)\n",
    "    |> addmargins(c(1,3))\n",
    "    |> as.data.frame()\n",
    "    |> arrange(area)\n",
    "    |> pivot_wider(names_from=c(area, group), values_from=Freq, values_fill=0)\n",
    ")"
   ]
  },
  {
   "cell_type": "markdown",
   "id": "495c4a4c-177f-4419-b552-c40852d88599",
   "metadata": {
    "tags": []
   },
   "source": [
    "### Discriminability\n",
    "\n",
    "Discriminability is assessed by computing spike distances and training a classifier. The computation is performed by `scripts/motif_discrim.py`.\n",
    "\n",
    "We classify cells as responsive if the z-score of the cross-validation is above the one-tailed 95% confidence level."
   ]
  },
  {
   "cell_type": "code",
   "execution_count": null,
   "id": "da695d83-91b0-49fb-bb07-0d65d8cd54c0",
   "metadata": {},
   "outputs": [],
   "source": [
    "z_score_alpha <- 0.05\n",
    "z_score_global_thresh <- qnorm(1 - z_score_alpha)\n",
    "## this is not used: too easy for individual motifs to sneak over the threshold\n",
    "z_score_motif_thresh <- qnorm(1 - z_score_alpha/9)"
   ]
  },
  {
   "cell_type": "code",
   "execution_count": null,
   "id": "3faacbf5-4a90-434d-bb32-918549ab61c1",
   "metadata": {},
   "outputs": [],
   "source": [
    "z_score_global_thresh"
   ]
  },
  {
   "cell_type": "code",
   "execution_count": null,
   "id": "fb45400c-0207-421d-b70b-a6fc8b6034b3",
   "metadata": {},
   "outputs": [],
   "source": [
    "header <- data.table::fread(cmd='find ../build/ -name \"*motif_discrim.csv\" | head -n1 | xargs head -n1', header=T)\n",
    "motif_discrim <- tibble(data.table::fread(cmd='find ../build/ -name \"*motif_discrim.csv\" | xargs tail -q -n+2', header=F))\n",
    "names(motif_discrim) <- names(header)"
   ]
  },
  {
   "cell_type": "code",
   "execution_count": null,
   "id": "0437705e-cc47-4e1f-a62e-020c920fb197",
   "metadata": {},
   "outputs": [],
   "source": [
    "unit_n_discrim <- (\n",
    "    motif_discrim\n",
    "    %>% filter(foreground!=\"_average\")\n",
    "    %>% group_by(unit)\n",
    "    %>% summarize(n_discrim=sum(z_score > z_score_motif_thresh), max_score=max(score))\n",
    ")"
   ]
  },
  {
   "cell_type": "code",
   "execution_count": null,
   "id": "93a4492b-01df-4eba-b111-887021bd13d4",
   "metadata": {},
   "outputs": [],
   "source": [
    "## classify units as auditory at each noise level and join to metadata\n",
    "unit_discrim <- (\n",
    "    motif_discrim\n",
    "    %>% filter(foreground==\"_average\")\n",
    "    %>% select(!foreground)\n",
    "    %>% inner_join(unit_n_discrim, by=\"unit\")\n",
    "    %>% mutate(is_auditory=(z_score > z_score_global_thresh))\n",
    "    %>% inner_join(select(unit_spike_features, unit, spike), by=\"unit\")\n",
    "    %>% mutate(site=str_match(unit, \"[:alnum:]+_\\\\d+_\\\\d+\")[,1])\n",
    ")"
   ]
  },
  {
   "cell_type": "code",
   "execution_count": null,
   "id": "ac26096b-6d7a-40e8-9d6f-488d19403994",
   "metadata": {},
   "outputs": [],
   "source": [
    "## save output for downstream analysis\n",
    "filter(unit_discrim, is_auditory) |> ungroup() |> select(unit) |> write.table(\"../inputs/responsive_units.txt\", quote=F, row.names=F, col.names=F)"
   ]
  },
  {
   "cell_type": "code",
   "execution_count": null,
   "id": "57e46ffb-b6c7-41ba-bfb1-c2a63d4bf6eb",
   "metadata": {},
   "outputs": [],
   "source": [
    "## this code cell is for picking out examples. It can be hard to find units that are selective but not too selective.\n",
    "(\n",
    "    unit_discrim\n",
    "    |> inner_join(all_sites, by=\"site\")\n",
    "    |> filter(area==\"L3/NCM\", spike==\"wide\", str_starts(unit, \"C104_3_1\"), is_auditory)\n",
    "    |> arrange(spikes_mean)\n",
    ")"
   ]
  },
  {
   "cell_type": "markdown",
   "id": "222360f6-8a29-44c9-a13f-511c9c7abdf5",
   "metadata": {
    "tags": []
   },
   "source": [
    "### Firing rates\n",
    "\n",
    "Firing rates can be summarized across trials by adding up the number of events and the total observation interval. The underlying assumption\n",
    "is that the spike counts have a poisson distribution, which is probably not true but better than the alternative of assuming the rates are normally distributed."
   ]
  },
  {
   "cell_type": "code",
   "execution_count": null,
   "id": "de01ea5a-3ffa-4991-8c8a-1bc522eb72e3",
   "metadata": {},
   "outputs": [],
   "source": [
    "header <- data.table::fread(cmd='find ../build/ -name \"*_rates.csv\" | head -n1 | xargs head -n1', header=T)\n",
    "motif_rates <- tibble(data.table::fread(cmd='find ../build/ -name \"*_rates.csv\" | xargs tail -q -n+2', header=F))\n",
    "names(motif_rates) <- names(header)\n",
    "motif_rates <- (\n",
    "    motif_rates\n",
    "    |> filter(background_dBFS==-100 | foreground==\"silence\", foreground!=\"background\")\n",
    "    |> mutate(foreground=relevel(factor(foreground), \"silence\"))\n",
    ")\n",
    "motif_rate_summary <- (\n",
    "    motif_rates\n",
    "    |> group_by(unit, foreground) \n",
    "    |> summarize(n_events=sum(n_events), interval=sum(interval_end))\n",
    "    ## this regularizes rate estimates for silence by adding 1 spike to units with no spontaneous spikes\n",
    "    |> mutate(n_events=ifelse(foreground==\"silence\" & n_events == 0, 1, n_events))\n",
    ")"
   ]
  },
  {
   "cell_type": "code",
   "execution_count": null,
   "id": "8dcfef4f-cbaa-48a1-9c42-ea5687a6865f",
   "metadata": {},
   "outputs": [],
   "source": [
    "## motif_rate_summary |> filter(foreground==\"silence\") |> mutate(silent=n_events==0) |> xtabs(~ silent, data=_) |> prop.table()"
   ]
  },
  {
   "cell_type": "code",
   "execution_count": null,
   "id": "282542ee-e4ed-4259-89b2-3d9f1e7c1f14",
   "metadata": {},
   "outputs": [],
   "source": [
    "filter(motif_rate_summary, unit==\"C104_1_1_c10\", foreground !=\"silence\") |> mutate(duration=interval / 10) |> summarize(dur_mean=mean(duration), dur_sd=sd(duration), dur_max=max(duration), dur_min=min(duration))"
   ]
  },
  {
   "cell_type": "markdown",
   "id": "2798fb8b-5f2f-4d9c-81b0-021e8ca5b353",
   "metadata": {},
   "source": [
    "Compute some unit-level rate statistics:\n",
    "\n",
    "1. `n_responsive` - the number of stimuli that evoked a significant change in firing rate relative to silence. Significance is assessed using a Poisson GLM.\n",
    "2. `activity_frac` - the Vinje and Gallant activity fraction across all non-silence stimuli\n"
   ]
  },
  {
   "cell_type": "code",
   "execution_count": null,
   "id": "e10f7b7b-2abb-4747-ac57-f9c2d4dcc248",
   "metadata": {},
   "outputs": [],
   "source": [
    "## compute unit-level rate statistics\n",
    "rate_model <- function(df) {\n",
    "    glm(n_events ~ foreground, data=df, offset=log(interval), family=poisson)\n",
    "}\n",
    "\n",
    "response_strength <- function(df) {\n",
    "    df <- mutate(df, rate=n_events / interval)\n",
    "    spont <- df$rate[df$foreground == \"silence\"]\n",
    "    filter(df, foreground != \"silence\") |> transmute(rate, rs=rate - spont, zscore=rs / sd(rate))\n",
    "}\n",
    "\n",
    "activity_fraction <- function(df) {\n",
    "    df |> filter(foreground!=\"silence\") |> mutate(rate=n_events / interval) |> summarize(activity_frac=(1 - sum(rate / n())**2 / sum(rate**2 / n())) / (1 - 1 / n()))\n",
    "}\n",
    "\n",
    "rate_model_responsive <- function(mdl) {\n",
    "    (\n",
    "        emmeans(mdl, ~ foreground) \n",
    "        |> contrast(\"trt.vs.ctrl\") \n",
    "        |> broom::tidy() \n",
    "        |> transmute(foreground=str_extract(contrast, \"\\\\w+\"), estimate, is_responsive=(estimate > 0) & (adj.p.value < 0.05))\n",
    "    )\n",
    "}"
   ]
  },
  {
   "cell_type": "code",
   "execution_count": null,
   "id": "bc522335-0987-458e-af47-cc155364c24d",
   "metadata": {},
   "outputs": [],
   "source": [
    "(\n",
    "    motif_rate_summary\n",
    "    |> filter(unit==\"C42_4_1_c131\")\n",
    "    |> rate_model()\n",
    "    |> emmeans(~ foreground)\n",
    "    |> contrast(\"trt.vs.ctrl\")\n",
    "    |> broom::tidy()\n",
    ")"
   ]
  },
  {
   "cell_type": "code",
   "execution_count": null,
   "id": "ebeb3f1f-ac6e-4570-93f4-df9e8d3e2439",
   "metadata": {},
   "outputs": [],
   "source": [
    "# this cell takes a long time to run - it would be nice to do this in motif_rates.py but I can't do marginal means in python\n",
    "unit_motif_responsive <- (\n",
    "    motif_rate_summary\n",
    "    |> group_by(unit)\n",
    "    |> nest()\n",
    "    |> mutate(rate_stats=purrr::map(data, response_strength))\n",
    "    |> mutate(model=purrr::map(data, rate_model))\n",
    "    |> mutate(responsive=purrr::map(model, rate_model_responsive))\n",
    "    |> select(unit, responsive, rate_stats)\n",
    "    |> unnest(cols=c(responsive, rate_stats))\n",
    ")"
   ]
  },
  {
   "cell_type": "code",
   "execution_count": null,
   "id": "c35b5318-12c5-4707-883f-d85c40cbf053",
   "metadata": {},
   "outputs": [],
   "source": [
    "unit_rate_stats <- (\n",
    "    unit_motif_responsive\n",
    "    |> group_by(unit)\n",
    "    |> summarize(avg_evoked=mean(estimate), n_responsive=sum(is_responsive), activity_frac=(1 - sum(rate / n())**2 / sum(rate**2 / n())) / (1 - 1 / n()))\n",
    ")"
   ]
  },
  {
   "cell_type": "markdown",
   "id": "0b3fbaac-de4f-4562-a3b3-bc1def593c06",
   "metadata": {},
   "source": [
    "Join the rate and discrimination data together with metadata."
   ]
  },
  {
   "cell_type": "code",
   "execution_count": null,
   "id": "6ab388db-15f8-4d50-b000-ef8625d0a307",
   "metadata": {},
   "outputs": [],
   "source": [
    "unit_summary <- (\n",
    "    unit_discrim\n",
    "    |> inner_join(unit_rate_stats, by=\"unit\")\n",
    "    |> inner_join(all_sites, by=\"site\")\n",
    ")\n",
    "\n",
    "site_summary <- (\n",
    "    unit_summary\n",
    "    |> group_by(bird, site, sex, group, area, spike)\n",
    "    |> summarize(n_units=n(), n_auditory=sum(is_auditory), n_auditory_rate=sum(n_responsive > 0))\n",
    ")\n",
    "\n",
    "unit_motif_summary <- (\n",
    "    motif_rate_summary\n",
    "    |> inner_join(select(unit_spike_features, unit, spike), by=\"unit\")\n",
    "    |> mutate(site=str_match(unit, \"[:alnum:]+_\\\\d+_\\\\d+\")[,1])\n",
    "    |> inner_join(all_sites, by=\"site\")\n",
    ")"
   ]
  },
  {
   "cell_type": "code",
   "execution_count": null,
   "id": "1d9d2c8f-885d-49ab-879f-e16812c5d2e8",
   "metadata": {},
   "outputs": [],
   "source": [
    "# save for plotting elsewhere\n",
    "unit_motif_responsive |> write.csv(\"../build/motif_rate_coefs.csv\", quote=F, row.names=F)"
   ]
  },
  {
   "cell_type": "markdown",
   "id": "110c6db6-476c-4228-aaa6-720b0bb036e7",
   "metadata": {},
   "source": [
    "## Example units"
   ]
  },
  {
   "cell_type": "code",
   "execution_count": null,
   "id": "9590912e-dab4-4556-ae8c-c2a0448a9b52",
   "metadata": {},
   "outputs": [],
   "source": [
    "(\n",
    "    unit_summary\n",
    "    |> filter(area==\"L3/NCM\", spike==\"narrow\", is_auditory)\n",
    "    |> arrange(n_responsive)\n",
    "    |> select(unit, score, spikes_mean, nonzero_trials, n_discrim, activity_frac, n_responsive)\n",
    "    |> filter(score < 1, n_discrim==8)\n",
    "    |> arrange(score)\n",
    ")"
   ]
  },
  {
   "cell_type": "markdown",
   "id": "a2027855-8f59-4a52-aa30-21ae93df156a",
   "metadata": {},
   "source": [
    "## Single-Unit statistics"
   ]
  },
  {
   "cell_type": "markdown",
   "id": "e47e30c5-5764-49fb-8cbb-54580d83890b",
   "metadata": {
    "tags": []
   },
   "source": [
    "### Number of units per site\n",
    "\n",
    "Supplementary"
   ]
  },
  {
   "cell_type": "code",
   "execution_count": null,
   "id": "f597f00b-005a-4e4f-904c-e34c705e2fc0",
   "metadata": {},
   "outputs": [],
   "source": [
    "options(repr.plot.width=4, repr.plot.height=2.5, repr.plot.res = 300)\n",
    "p3.1 <- (\n",
    "    site_summary\n",
    "    |> ggplot(aes(spike, n_units, fill=group))\n",
    "    + facet_wrap(~ area)\n",
    "    + geom_boxplot(width=0.5, outlier.size=1)\n",
    "    + scale_y_log10(name=\"total units per site\")\n",
    "    + scale_x_discrete(name=\"spike shape\")\n",
    ")\n",
    "p3.1 + theme_classic() + my.theme"
   ]
  },
  {
   "cell_type": "code",
   "execution_count": null,
   "id": "a48a8831-c404-4291-91fd-a3dfa02f2a19",
   "metadata": {},
   "outputs": [],
   "source": [
    "# GLMM\n",
    "fm_units <- glmer(n_units ~ area*spike*group + (1 + spike|site), site_summary, control=glmerControl(optimizer=\"bobyqa\"), family=poisson)\n",
    "emmeans(fm_units, ~ group | area*spike) |> contrast(\"pairwise\")"
   ]
  },
  {
   "cell_type": "code",
   "execution_count": null,
   "id": "1f074f7a-09b5-4f91-98da-4fe3594c0dfc",
   "metadata": {},
   "outputs": [],
   "source": [
    "options(repr.plot.width=2.25, repr.plot.height=2, repr.plot.res = 450)\n",
    "p <- (\n",
    "    fm_units\n",
    "    |> emmeans(~ group*spike*area)\n",
    "    |> confint(level=0.90, type=\"response\")\n",
    "    |> ggplot(aes(area, rate, color=group))\n",
    "    + facet_wrap(~ spike)\n",
    "    + geom_point(position=position_dodge(width=0.5), size=1.5)\n",
    "    + geom_linerange(aes(ymin=asymp.LCL, ymax=asymp.UCL), position=position_dodge(width=0.5))\n",
    "    + scale_x_discrete(name=NULL)\n",
    "    + scale_y_log10(name=\"total units per site\")\n",
    "    + theme_classic() + my.theme + no.legend\n",
    ")\n",
    "p "
   ]
  },
  {
   "cell_type": "code",
   "execution_count": null,
   "id": "7a9cf1ea-e3b5-4616-ac84-20da20f94676",
   "metadata": {},
   "outputs": [],
   "source": [
    "pdf(\"../figures/total_units_per_site.pdf\", width=2.25, height=2)\n",
    "print(p)\n",
    "dev.off()"
   ]
  },
  {
   "cell_type": "markdown",
   "id": "f0024eba-5201-42f7-821e-9359085848fe",
   "metadata": {
    "tags": []
   },
   "source": [
    "### Spontaneous firing rate"
   ]
  },
  {
   "cell_type": "code",
   "execution_count": null,
   "id": "3eaa4c15-f1e9-4b10-8f75-f10e4b373000",
   "metadata": {},
   "outputs": [],
   "source": [
    "unit_motif_summary |> filter(unit==\"C104_1_1_c10\", foreground != \"silence\", foreground !=\"igmi8fxa\") |> summarize(int_mean=mean(interval))"
   ]
  },
  {
   "cell_type": "code",
   "execution_count": null,
   "id": "e68a6ccf-ad8a-4bad-8655-a74791b05067",
   "metadata": {},
   "outputs": [],
   "source": [
    "options(repr.plot.width=4, repr.plot.height=2.5, repr.plot.res = 300)\n",
    "p <- (\n",
    "    unit_motif_summary\n",
    "    |> filter(foreground==\"silence\")\n",
    "    |> mutate(rate=mean(n_events / interval))\n",
    "    |> ggplot(aes(spike, rate, color=group))\n",
    "    + facet_wrap(~ area)\n",
    "    + geom_boxplot()\n",
    "    + scale_y_continuous(name=\"Spontaneous rate (Hz)\")\n",
    ")\n",
    "p + theme_classic() + my.theme"
   ]
  },
  {
   "cell_type": "code",
   "execution_count": null,
   "id": "e4f0b94e-407e-4a0a-8068-b839ea5f0fbe",
   "metadata": {},
   "outputs": [],
   "source": [
    "fm_spont <- glmer(\n",
    "    n_events ~ area*spike*group + (1|unit),\n",
    "    offset=log(interval),\n",
    "    family=poisson,\n",
    "    control=glmerControl(optimizer = \"bobyqa\"),\n",
    "    data=unit_motif_summary |> filter(foreground==\"silence\")\n",
    ")"
   ]
  },
  {
   "cell_type": "code",
   "execution_count": null,
   "id": "ca314ee2-3337-4f41-9183-61583a6a64cf",
   "metadata": {},
   "outputs": [],
   "source": [
    "(\n",
    "    fm_spont\n",
    "    |> emmeans(~ group | area*spike)\n",
    "    |> contrast(\"pairwise\")\n",
    ")"
   ]
  },
  {
   "cell_type": "code",
   "execution_count": null,
   "id": "5fcdfc77-b863-4d41-bb98-22ff1c836392",
   "metadata": {},
   "outputs": [],
   "source": [
    "options(repr.plot.width=1.8, repr.plot.height=1.45, repr.plot.res = 450)\n",
    "p <- (\n",
    "    fm_spont\n",
    "    |> emmeans(~ group*spike*area, type=\"response\", offset=0)\n",
    "    |> confint(level=0.90)\n",
    "    |> ggplot(aes(area, rate, color=group))\n",
    "    + facet_wrap(~ spike)\n",
    "    + geom_point(position=position_dodge(width=0.5), size=1.5)\n",
    "    + geom_linerange(aes(ymin=asymp.LCL, ymax=asymp.UCL), position=position_dodge(width=0.5))\n",
    "    + scale_x_discrete(name=NULL)\n",
    "    + scale_y_log10(name=\"Spont rate (Hz)\")\n",
    "    + theme_classic() + my.theme + no.legend\n",
    ")\n",
    "p "
   ]
  },
  {
   "cell_type": "code",
   "execution_count": null,
   "id": "1e085c08-c657-4493-bd67-27c2a988b575",
   "metadata": {},
   "outputs": [],
   "source": [
    "pdf(\"../figures/spont_rate_all_units.pdf\", width=2.25, height=2)\n",
    "print(p)\n",
    "dev.off()"
   ]
  },
  {
   "cell_type": "markdown",
   "id": "dec5829d-2b93-4ec6-9534-1f97ebd4088f",
   "metadata": {
    "tags": []
   },
   "source": [
    "### Evoked rate"
   ]
  },
  {
   "cell_type": "code",
   "execution_count": null,
   "id": "b296c313-6c53-4813-ac41-d90af8b6e29e",
   "metadata": {},
   "outputs": [],
   "source": [
    "options(repr.plot.width=4, repr.plot.height=2.5, repr.plot.res = 300)\n",
    "p <- (\n",
    "    unit_motif_summary\n",
    "    |> filter(foreground!=\"silence\")\n",
    "    |> mutate(rate=mean(n_events / interval))\n",
    "    |> group_by(group, area, spike, unit)\n",
    "    |> summarize(rate=mean(rate))\n",
    "    |> ggplot(aes(area, rate, color=group))\n",
    "    + facet_wrap(~ spike)\n",
    "    + geom_boxplot()\n",
    "    + scale_y_log10(name=\"Evoked rate (Hz)\")\n",
    "    + theme_classic() + my.theme\n",
    ")\n",
    "p "
   ]
  },
  {
   "cell_type": "code",
   "execution_count": null,
   "id": "7f4df632-63b8-4fb7-aeb5-e2327c6a04a2",
   "metadata": {},
   "outputs": [],
   "source": [
    "fm_evoked <- glmer(\n",
    "    n_events ~ group*area*spike + (1|unit) + (1|foreground),\n",
    "    offset=log(interval),\n",
    "    family=poisson,\n",
    "    control=glmerControl(optimizer=\"bobyqa\"),\n",
    "    data=unit_motif_summary |> filter(foreground!=\"silence\")\n",
    ")"
   ]
  },
  {
   "cell_type": "code",
   "execution_count": null,
   "id": "c5323651-0506-4fd2-ab42-ce6d71b4f212",
   "metadata": {},
   "outputs": [],
   "source": [
    "(\n",
    "    fm_evoked\n",
    "    |> emmeans(~ group | area*spike)\n",
    "    |> contrast(\"pairwise\")\n",
    ")"
   ]
  },
  {
   "cell_type": "code",
   "execution_count": null,
   "id": "9cac8f43-9cfa-4ace-a6fe-2969485549b5",
   "metadata": {},
   "outputs": [],
   "source": [
    "options(repr.plot.width=1.8, repr.plot.height=1.45, repr.plot.res = 450)\n",
    "p <- (\n",
    "    fm_evoked\n",
    "    |> emmeans(~ group*spike*area, type=\"response\", offset=0)\n",
    "    |> confint(level=0.90)\n",
    "    |> ggplot(aes(area, rate, color=group))\n",
    "    + facet_wrap(~ spike)\n",
    "    + geom_point(position=position_dodge(width=0.5), size=1.5)\n",
    "    + geom_linerange(aes(ymin=asymp.LCL, ymax=asymp.UCL), position=position_dodge(width=0.5))\n",
    "    + scale_x_discrete(name=NULL)\n",
    "    + scale_y_log10(name=\"Evoked rate (Hz)\")\n",
    "    + theme_classic() + my.theme + no.legend\n",
    ")\n",
    "p "
   ]
  },
  {
   "cell_type": "code",
   "execution_count": null,
   "id": "ded2b0d2-fc4e-4aeb-9826-4200feaa64e2",
   "metadata": {},
   "outputs": [],
   "source": [
    "pdf(\"../figures/evoked_rate_all_units.pdf\", width=2.25, height=2)\n",
    "print(p)\n",
    "dev.off()"
   ]
  },
  {
   "cell_type": "markdown",
   "id": "90b50537-97a8-4849-a499-b470674c5b15",
   "metadata": {
    "tags": []
   },
   "source": [
    "### Discriminability\n",
    "\n",
    "Discriminability is what we use to decide whether neurons are auditory or not, so any trends need to be analyzed using all neurons."
   ]
  },
  {
   "cell_type": "code",
   "execution_count": null,
   "id": "07d2405c-094a-49ec-9cc0-206b9bb79d04",
   "metadata": {},
   "outputs": [],
   "source": [
    "## raw classifier scores\n",
    "options(repr.plot.width=4, repr.plot.height=2.5, repr.plot.res = 300)\n",
    "p <- (\n",
    "    unit_summary\n",
    "    |> ggplot(aes(area, score, fill=group))\n",
    "    + facet_wrap(~ spike)\n",
    "    + geom_violin()\n",
    "    + my.theme\n",
    ")\n",
    "p "
   ]
  },
  {
   "cell_type": "code",
   "execution_count": null,
   "id": "6458ae1f-1692-4883-8981-c86b8af70925",
   "metadata": {},
   "outputs": [],
   "source": [
    "## GLMM\n",
    "## There are 90 comparisons for each trial, so score can be converted to a binomial RV by multiplying by 90\n",
    "fm_discrim_score <- (\n",
    "    unit_summary \n",
    "    |> mutate(n_correct=score * 90)\n",
    "    |> glmer(cbind(n_correct, 90 - n_correct) ~ group*area*spike + (1|unit), \n",
    "             data=_, \n",
    "             control=glmerControl(optimizer=\"bobyqa\"), \n",
    "             family=binomial)\n",
    ")\n",
    "emmeans(fm_discrim_score, ~ group | area*spike) |> contrast(\"pairwise\")"
   ]
  },
  {
   "cell_type": "code",
   "execution_count": null,
   "id": "14e2365d-0c03-4edb-876d-39bc6761bb55",
   "metadata": {},
   "outputs": [],
   "source": [
    "# used to test whether BS are less discriminable than NS\n",
    "emmeans(fm_discrim_score, ~ spike) |> contrast(\"pairwise\")"
   ]
  },
  {
   "cell_type": "code",
   "execution_count": null,
   "id": "1125c651-cc54-4a72-a89a-7dacdfed925d",
   "metadata": {},
   "outputs": [],
   "source": [
    "# used to report lack of effect for BS neurons\n",
    "emmeans(fm_discrim_score, ~ group | spike) |> contrast(\"pairwise\")"
   ]
  },
  {
   "cell_type": "code",
   "execution_count": null,
   "id": "ce2cd31e-ce34-4f88-a642-8ab902bf52b5",
   "metadata": {},
   "outputs": [],
   "source": [
    "options(repr.plot.width=2.4, repr.plot.height=1.9, repr.plot.res = 450)\n",
    "p <- (\n",
    "    fm_discrim_score\n",
    "    |> emmeans(~ group*spike*area, type=\"response\")\n",
    "    |> confint(level=0.90)\n",
    "    |> ggplot(aes(area, prob, color=group))\n",
    "    + facet_wrap(~ spike)\n",
    "    + geom_point(position=position_dodge(width=0.5), size=1.5)\n",
    "    + geom_linerange(aes(ymin=asymp.LCL, ymax=asymp.UCL), position=position_dodge(width=0.5))\n",
    "    + scale_x_discrete(name=NULL)\n",
    "    + scale_y_continuous(name=\"Discriminability\", limits=c(0,1))\n",
    "    + theme_classic() + my.theme + no.legend\n",
    ")\n",
    "p "
   ]
  },
  {
   "cell_type": "code",
   "execution_count": null,
   "id": "8013a965-3ed1-4fec-9b86-e250e832c45e",
   "metadata": {},
   "outputs": [],
   "source": [
    "pdf(\"../figures/discriminability_all_units.pdf\", width=2.4, height=1.9)\n",
    "print(p)\n",
    "dev.off()"
   ]
  },
  {
   "cell_type": "code",
   "execution_count": null,
   "id": "e7715ca7-f170-4e02-b359-f460576767d1",
   "metadata": {},
   "outputs": [],
   "source": [
    "## number of discriminable motifs\n",
    "options(repr.plot.width=4, repr.plot.height=2.5, repr.plot.res = 300)\n",
    "p <- (\n",
    "    unit_summary\n",
    "    |> ggplot(aes(area, n_discrim/10, fill=group))\n",
    "    + facet_wrap(~ spike)\n",
    "    + geom_boxplot()\n",
    "    + theme_classic() + my.theme + no.legend\n",
    ")\n",
    "p + my.theme"
   ]
  },
  {
   "cell_type": "code",
   "execution_count": null,
   "id": "54818712-b98b-4d07-97a4-976b858e0535",
   "metadata": {},
   "outputs": [],
   "source": [
    "## GLMM\n",
    "## Alternatively, how many motifs are discriminable\n",
    "fm_discrim_n <- (\n",
    "    unit_summary\n",
    "    |> glmer(cbind(n_discrim, 9 - n_discrim) ~ group*area*spike + (1|unit), data=_, control=glmerControl(optimizer=\"bobyqa\"), family=binomial)\n",
    ")\n",
    "emmeans(fm_discrim_n, ~ group | area*spike) |> contrast(\"pairwise\")"
   ]
  },
  {
   "cell_type": "code",
   "execution_count": null,
   "id": "ea3282ba-2529-44d9-8d12-67a5eab93394",
   "metadata": {},
   "outputs": [],
   "source": [
    "options(repr.plot.width=1.8, repr.plot.height=1.45, repr.plot.res = 450)\n",
    "p <- (\n",
    "    fm_discrim_n\n",
    "    |> emmeans(~ group*spike*area, type=\"response\")\n",
    "    |> confint(level=0.90)\n",
    "    |> ggplot(aes(area, prob, color=group))\n",
    "    + facet_wrap(~ spike)\n",
    "    + geom_point(position=position_dodge(width=0.5), size=1)\n",
    "    + geom_linerange(aes(ymin=asymp.LCL, ymax=asymp.UCL), position=position_dodge(width=0.5))\n",
    "    + scale_x_discrete(name=NULL)\n",
    "    + scale_y_continuous(name=\"p(discriminable)\", limits=c(0,1))\n",
    "    + theme_classic() + my.theme + no.legend\n",
    ")\n",
    "p "
   ]
  },
  {
   "cell_type": "code",
   "execution_count": null,
   "id": "fdf33d6f-ce70-45c4-9d54-454cec5bfd01",
   "metadata": {},
   "outputs": [],
   "source": [
    "pdf(\"../figures/p_discriminable_all_units.pdf\", width=1.8, height=1.45)\n",
    "print(p)\n",
    "dev.off()"
   ]
  },
  {
   "cell_type": "markdown",
   "id": "dcf3237d-dc69-453b-849e-4b73c8f6fded",
   "metadata": {
    "jp-MarkdownHeadingCollapsed": true,
    "tags": []
   },
   "source": [
    "### Number of auditory units per site\n",
    "\n",
    "Supplementary"
   ]
  },
  {
   "cell_type": "code",
   "execution_count": null,
   "id": "7c8ed594-09c2-429a-97df-4650ac2ca231",
   "metadata": {},
   "outputs": [],
   "source": [
    "options(repr.plot.width=4, repr.plot.height=2.5, repr.plot.res = 300)\n",
    "(\n",
    "    site_summary\n",
    "    |> ggplot(aes(area, n_auditory, fill=group))\n",
    "    + facet_wrap(~ spike)\n",
    "    + geom_boxplot()\n",
    "    + my.theme\n",
    ")"
   ]
  },
  {
   "cell_type": "code",
   "execution_count": null,
   "id": "988fc332-c2e3-44d5-83c4-754e375b5e3e",
   "metadata": {},
   "outputs": [],
   "source": [
    "(\n",
    "    site_summary\n",
    "    |> ggplot(aes(area, n_auditory_rate, fill=group))\n",
    "    + facet_wrap(~ spike)\n",
    "    + geom_boxplot()\n",
    "    + my.theme\n",
    ")"
   ]
  },
  {
   "cell_type": "code",
   "execution_count": null,
   "id": "73efa2fe-e5fa-49eb-87b8-cad91eee53ba",
   "metadata": {},
   "outputs": [],
   "source": [
    "# GLMM\n",
    "fm_aud_units <- glmer(n_auditory ~ group*area*spike + (1 + spike|site), site_summary, control=glmerControl(optimizer=\"bobyqa\"), family=poisson)\n",
    "emmeans(fm_aud_units, ~ group | area*spike) |> contrast(\"pairwise\")"
   ]
  },
  {
   "cell_type": "code",
   "execution_count": null,
   "id": "ab69c8ad-0112-4657-92bd-3670cd5a2017",
   "metadata": {},
   "outputs": [],
   "source": [
    "options(repr.plot.width=1.8, repr.plot.height=1.45, repr.plot.res = 450)\n",
    "p <- (\n",
    "    fm_aud_units\n",
    "    |> emmeans(~ group*spike*area)\n",
    "    |> confint(level=0.90, type=\"response\")\n",
    "    |> ggplot(aes(area, rate, color=group))\n",
    "    + facet_wrap(~ spike)\n",
    "    + geom_point(position=position_dodge(width=0.5), size=1)\n",
    "    + geom_linerange(aes(ymin=asymp.LCL, ymax=asymp.UCL), position=position_dodge(width=0.5))\n",
    "    + scale_x_discrete(name=NULL)\n",
    "    + scale_y_log10(name=\"auditory units per site\")\n",
    "    + theme_classic() + my.theme + no.legend\n",
    ")\n",
    "p "
   ]
  },
  {
   "cell_type": "code",
   "execution_count": null,
   "id": "7d7fd316-a675-46b7-b00d-bbffb7ed1cfa",
   "metadata": {},
   "outputs": [],
   "source": [
    "pdf(\"../figures/aud_units_per_site.pdf\", width=1.8, height=1.45)\n",
    "print(p)\n",
    "dev.off()"
   ]
  },
  {
   "cell_type": "code",
   "execution_count": null,
   "id": "c5074d27-c455-4fc6-8ad3-387c8876402a",
   "metadata": {},
   "outputs": [],
   "source": [
    "options(repr.plot.width=4, repr.plot.height=2.5, repr.plot.res = 300)\n",
    "(\n",
    "    site_summary\n",
    "    |> ggplot(aes(area, n_auditory / n_units, fill=group))\n",
    "    + facet_wrap(~ spike)\n",
    "    + geom_boxplot()\n",
    "    + scale_y_continuous(name=\"p(responsive)\", limits=c(0, 1))\n",
    "    + my.theme\n",
    ")"
   ]
  },
  {
   "cell_type": "code",
   "execution_count": null,
   "id": "c03b7ea9-4845-4881-8b58-36d1c0c16f92",
   "metadata": {},
   "outputs": [],
   "source": [
    "fm_aud_prop <- glmer(\n",
    "    cbind(n_auditory, n_units - n_auditory) ~ group*area*spike + (1 + spike|site), \n",
    "    site_summary,\n",
    "    control=glmerControl(optimizer=\"bobyqa\"),\n",
    "    family=binomial)\n",
    "emmeans(fm_aud_prop, ~ group | area*spike) |> contrast(\"pairwise\")"
   ]
  },
  {
   "cell_type": "code",
   "execution_count": null,
   "id": "9070e8ec-af49-468b-91ee-ef0d3ac41ecf",
   "metadata": {},
   "outputs": [],
   "source": [
    "options(repr.plot.width=1.8, repr.plot.height=1.45, repr.plot.res = 450)\n",
    "p <- (\n",
    "    fm_aud_prop\n",
    "    |> emmeans(~ group*spike*area)\n",
    "    |> confint(level=0.90, type=\"response\")\n",
    "    |> ggplot(aes(area, prob, color=group))\n",
    "    + facet_wrap(~ spike)\n",
    "    + geom_point(position=position_dodge(width=0.5), size=1)\n",
    "    + geom_linerange(aes(ymin=asymp.LCL, ymax=asymp.UCL), position=position_dodge(width=0.5))\n",
    "    + scale_x_discrete(name=NULL)\n",
    "    + scale_y_continuous(name=\"p(auditory)\", limits=c(0,1))\n",
    "    + theme_classic() + my.theme + no.legend\n",
    ")\n",
    "p"
   ]
  },
  {
   "cell_type": "code",
   "execution_count": null,
   "id": "d0c6cf6e-3273-4a01-920c-9b53b5c6896c",
   "metadata": {},
   "outputs": [],
   "source": [
    "pdf(\"../figures/aud_units_proportion_site.pdf\", width=1.8, height=1.45)\n",
    "print(p)\n",
    "dev.off()"
   ]
  },
  {
   "cell_type": "markdown",
   "id": "5b71d398-b9f0-4ae1-9864-d265482f62cf",
   "metadata": {
    "tags": []
   },
   "source": [
    "### Selectivity (auditory units only)\n",
    "\n",
    "A very simple definition of selectivity is related to what proportion of stimuli evoke a significant response."
   ]
  },
  {
   "cell_type": "code",
   "execution_count": null,
   "id": "cda57573-5cb5-458e-a870-5c334d7ec9c0",
   "metadata": {},
   "outputs": [],
   "source": [
    "options(repr.plot.width=4, repr.plot.height=2.5, repr.plot.res = 300)\n",
    "p <- (\n",
    "    unit_summary\n",
    "    |> filter(is_auditory)\n",
    "    |> ggplot(aes(area, 1 - n_responsive/10, fill=group))\n",
    "    + facet_wrap(~ spike)\n",
    "    + geom_violin()\n",
    ")\n",
    "p + my.theme"
   ]
  },
  {
   "cell_type": "code",
   "execution_count": null,
   "id": "0492cbdd-aa57-4b8b-b889-3a0adb1ebcec",
   "metadata": {},
   "outputs": [],
   "source": [
    "## GLMM\n",
    "fm_selectivity <- (\n",
    "    unit_summary \n",
    "    |> filter(is_auditory)\n",
    "    |> glmer(\n",
    "        cbind(10 - n_responsive, n_responsive) ~ group*area*spike + (1|unit), \n",
    "        data=_,\n",
    "        control=glmerControl(optimizer=\"bobyqa\"),\n",
    "        family=binomial)\n",
    ")\n",
    "emmeans(fm_selectivity, ~ group | area*spike) |> contrast(\"pairwise\")"
   ]
  },
  {
   "cell_type": "code",
   "execution_count": null,
   "id": "bab9a096-cf64-4565-adf4-4435c482f43d",
   "metadata": {},
   "outputs": [],
   "source": [
    "# compare BS to NS\n",
    "emmeans(fm_selectivity, ~ spike) |> contrast(\"pairwise\")"
   ]
  },
  {
   "cell_type": "code",
   "execution_count": null,
   "id": "e8208402-857c-4a7d-a5ee-9360c4554a8b",
   "metadata": {},
   "outputs": [],
   "source": [
    "options(repr.plot.width=2.4, repr.plot.height=1.9, repr.plot.res = 450)\n",
    "p <- (\n",
    "    fm_selectivity\n",
    "    |> emmeans(~ group*spike*area, type=\"response\")\n",
    "    |> confint(level=0.90)\n",
    "    |> ggplot(aes(area, prob, color=group))\n",
    "    + facet_wrap(~ spike)\n",
    "    + geom_point(position=position_dodge(width=0.5), size=1.5)\n",
    "    + geom_linerange(aes(ymin=asymp.LCL, ymax=asymp.UCL), position=position_dodge(width=0.5))\n",
    "    + scale_x_discrete(name=NULL)\n",
    "    + scale_y_continuous(name=\"Selectivity\", limits=c(0,1))\n",
    "    + theme_classic() + my.theme + no.legend\n",
    ")\n",
    "p "
   ]
  },
  {
   "cell_type": "code",
   "execution_count": null,
   "id": "09c141f6-800c-49e8-a635-b8be52fa697e",
   "metadata": {},
   "outputs": [],
   "source": [
    "pdf(\"../figures/selectivity_auditory_units.pdf\", width=2.4, height=1.9)\n",
    "print(p)\n",
    "dev.off()"
   ]
  },
  {
   "cell_type": "markdown",
   "id": "2e465f50-64a7-480f-a73d-66491a18c18b",
   "metadata": {
    "jp-MarkdownHeadingCollapsed": true
   },
   "source": [
    "### Selectivity - activity fraction"
   ]
  },
  {
   "cell_type": "code",
   "execution_count": null,
   "id": "9a747d03-4d5f-4cdd-8441-c3192280e6e6",
   "metadata": {},
   "outputs": [],
   "source": [
    "options(repr.plot.width=4, repr.plot.height=2.5, repr.plot.res = 300)\n",
    "p <- (\n",
    "    unit_summary\n",
    "    |> filter(is_auditory)\n",
    "    |> ggplot(aes(area, activity_frac, fill=group))\n",
    "    + facet_wrap(~ spike)\n",
    "    + geom_boxplot()\n",
    "    + my.theme\n",
    ")\n",
    "p"
   ]
  },
  {
   "cell_type": "code",
   "execution_count": null,
   "id": "ec10ef47-f404-4da1-b5f7-bc36a4abcaa4",
   "metadata": {},
   "outputs": [],
   "source": [
    "## LMM\n",
    "fm_selectivity <- lmer(\n",
    "    activity_frac ~ group*area*spike + (1|site), \n",
    "    data=unit_summary |> filter(is_auditory))\n",
    "emmeans(fm_selectivity, ~ group | area*spike) |> contrast(\"pairwise\")"
   ]
  },
  {
   "cell_type": "code",
   "execution_count": null,
   "id": "1685e94b-0b21-4c33-b5ec-c6ffc185d69f",
   "metadata": {},
   "outputs": [],
   "source": [
    "options(repr.plot.width=2.6, repr.plot.height=2.6, repr.plot.res = 450)\n",
    "(\n",
    "    unit_summary\n",
    "    |> filter(is_auditory)\n",
    "    |> ggplot(aes(score, 1 - n_discrim/10, color=group))\n",
    "    + facet_grid(area ~ spike)\n",
    "    + geom_point(alpha=0.4)\n",
    "    #+ stat_smooth(method=\"lm\", linewidth=0.5)\n",
    "    + scale_x_continuous(\"Discriminability\", limits=c(0,1))\n",
    "    + scale_y_continuous(\"Selectivity\", limits=c(0, 1))\n",
    "    + theme_classic() + my.theme + no.legend\n",
    ")"
   ]
  },
  {
   "cell_type": "markdown",
   "id": "e5489dad-fed7-4f06-8277-898f9b9e1e12",
   "metadata": {},
   "source": [
    "## Population sparseness\n",
    "\n",
    "This is a quick and dirty way to look at sparseness, by calculating the proportion of units in a site that give significant responses to each motif."
   ]
  },
  {
   "cell_type": "code",
   "execution_count": null,
   "id": "3107e583-5d94-4025-933c-5ab6b471dd20",
   "metadata": {},
   "outputs": [],
   "source": [
    "(\n",
    "    unit_motif_responsive\n",
    "    |> semi_join(filter(unit_discrim, is_auditory), by=\"unit\")\n",
    "    |> group_by(unit)\n",
    "    |> arrange(desc(rate))\n",
    ")"
   ]
  },
  {
   "cell_type": "code",
   "execution_count": null,
   "id": "d9605021-cfbd-4410-8806-5719938da51d",
   "metadata": {},
   "outputs": [],
   "source": [
    "options(repr.plot.width=4, repr.plot.height=2.5, repr.plot.res = 300)\n",
    "site_n_responsive <- (\n",
    "    unit_motif_responsive\n",
    "    # only auditory units?\n",
    "    |> semi_join(filter(unit_discrim, is_auditory), by=\"unit\")\n",
    "    |> inner_join(select(unit_spike_features, unit, spike), by=\"unit\")\n",
    "    |> mutate(site=str_match(unit, \"[:alnum:]+_\\\\d+_\\\\d+\")[,1])\n",
    "    |> inner_join(all_sites, by=\"site\")\n",
    "    |> group_by(bird, group, area, spike, site, foreground)\n",
    "    |> summarize(n_units=n(), n_responsive=sum(is_responsive))\n",
    ")"
   ]
  },
  {
   "cell_type": "code",
   "execution_count": null,
   "id": "416cd4e1-1718-4e6d-9e05-3ba7f36d2062",
   "metadata": {},
   "outputs": [],
   "source": [
    "options(repr.plot.width=4, repr.plot.height=2.5, repr.plot.res = 300)\n",
    "(\n",
    "    site_n_responsive\n",
    "    |> summarize(sparseness= 1 - mean(n_responsive) / mean(n_units))\n",
    "    |> ggplot(aes(area, sparseness, fill=group))\n",
    "    + facet_grid(~ spike)\n",
    "    + geom_boxplot() # stat_summary(fun.data=\"mean_se\")\n",
    "    + theme_classic() + my.theme\n",
    ")"
   ]
  },
  {
   "cell_type": "code",
   "execution_count": null,
   "id": "a37261f5-6b6b-4dcf-8950-8af65c6d8b85",
   "metadata": {},
   "outputs": [],
   "source": [
    "## GLMM\n",
    "fm_sparseness <- glmer(\n",
    "    cbind(n_units - n_responsive, n_responsive) ~ group*area*spike + (1 + area|bird),\n",
    "    data=site_n_responsive,\n",
    "    control=glmerControl(optimizer=\"bobyqa\"),\n",
    "    family=binomial)\n",
    "emmeans(fm_sparseness, ~ group | area*spike) |> contrast(\"pairwise\")"
   ]
  },
  {
   "cell_type": "code",
   "execution_count": null,
   "id": "1c28494a-3c2e-473f-a100-1fdbae589f3e",
   "metadata": {},
   "outputs": [],
   "source": [
    "options(repr.plot.width=1.8, repr.plot.height=1.45, repr.plot.res = 450)\n",
    "p <- (\n",
    "    fm_sparseness\n",
    "    |> emmeans(~ group*spike*area, type=\"response\")\n",
    "    |> confint(level=0.90)\n",
    "    |> ggplot(aes(area, prob, color=group))\n",
    "    + facet_wrap(~ spike)\n",
    "    + geom_point(position=position_dodge(width=0.5), size=1)\n",
    "    + geom_linerange(aes(ymin=asymp.LCL, ymax=asymp.UCL), position=position_dodge(width=0.5))\n",
    "    + scale_x_discrete(name=NULL)\n",
    "    + scale_y_continuous(name=\"Sparseness\", limits=c(0,1))\n",
    "    + theme_classic() + my.theme + no.legend\n",
    ")\n",
    "p "
   ]
  },
  {
   "cell_type": "code",
   "execution_count": null,
   "id": "165b17e5-d5f9-4540-9a67-850451146ea3",
   "metadata": {},
   "outputs": [],
   "source": [
    "pdf(\"../figures/sparseness_auditory_units.pdf\", width=1.8, height=1.45)\n",
    "print(p)\n",
    "dev.off()"
   ]
  },
  {
   "cell_type": "code",
   "execution_count": null,
   "id": "411cfeb9-ae6a-4f72-a191-4d16122f60d2",
   "metadata": {},
   "outputs": [],
   "source": [
    "cr_wide <- (\n",
    "    unit_motif_responsive\n",
    "    |> inner_join(select(unit_spike_features, unit, spike), by=\"unit\")\n",
    "    |> mutate(site=str_match(unit, \"[:alnum:]+_\\\\d+_\\\\d+\")[,1])\n",
    "    |> inner_join(all_sites, by=\"site\")\n",
    "    |> filter(group==\"PR\") #, spike==\"narrow\", area==\"L3/NCM\")\n",
    ")"
   ]
  },
  {
   "cell_type": "code",
   "execution_count": null,
   "id": "6859a372-439e-43d2-871c-09b501461e61",
   "metadata": {},
   "outputs": [],
   "source": [
    "cr_wide_best_stim <- (\n",
    "    cr_wide\n",
    "    |> group_by(unit)\n",
    "    |> summarize(best_stim=foreground[which.max(estimate)], max_resp=max(estimate), selectivity=1 - mean(is_responsive))\n",
    "    |> arrange(best_stim, selectivity, max_resp)\n",
    "    # |> filter(selectivity < 1)\n",
    "    |> mutate(idx=row_number())    \n",
    ")\n",
    "cr_wide_best_stim"
   ]
  },
  {
   "cell_type": "markdown",
   "id": "accb1bb7-3716-44d4-8f3b-efec7f2638ae",
   "metadata": {},
   "source": [
    "### Principal components\n",
    "\n",
    "Another approach to measuring sparseness is to use principal components analysis to estimate the degree to which neural responses are correlated across stimulus conditions. The responses are organized into a conditions x neurons array. The principal components (row vectors) correspond to groups of neurons that covary. A sparse code should be characterized by a relatively flat eigenspectrum."
   ]
  },
  {
   "cell_type": "code",
   "execution_count": null,
   "id": "1c01e6e8-352b-419d-a56c-07896041679e",
   "metadata": {},
   "outputs": [],
   "source": [
    "(\n",
    "    cr_wide\n",
    "    |> inner_join(cr_wide_best_stim, by=\"unit\")\n",
    "    |> ggplot(aes(foreground, idx))\n",
    "    + geom_tile(mapping=aes(fill=zscore))\n",
    "    + scale_fill_gradient2()\n",
    "    + theme(axis.ticks.x=element_blank(), axis.text.x=element_blank(), axis.ticks.y=element_blank(), axis.text.y=element_blank())\n",
    ")"
   ]
  },
  {
   "cell_type": "code",
   "execution_count": null,
   "id": "e5f5cd37-1a45-426b-add5-3bf156ea7a2a",
   "metadata": {},
   "outputs": [],
   "source": [
    "options(repr.plot.width=3, repr.plot.height=3, repr.plot.res = 300)\n",
    "pca <- (\n",
    "    cr_wide\n",
    "    |> pivot_wider(id_cols=unit, names_from=foreground, values_from=zscore)\n",
    "    |> ungroup()\n",
    "    |> select(-unit)\n",
    "    |> as.matrix()\n",
    "    |> t()\n",
    "    |> prcomp()\n",
    ")\n",
    "plot(pca)"
   ]
  },
  {
   "cell_type": "code",
   "execution_count": null,
   "id": "b8f5173d-ad55-4619-95f4-29e7004431cc",
   "metadata": {},
   "outputs": [],
   "source": [
    "options(repr.plot.width=3, repr.plot.height=3, repr.plot.res = 300)\n",
    "pca <- (\n",
    "    cr_wide\n",
    "    |> pivot_wider(id_cols=unit, names_from=foreground, values_from=zscore)\n",
    "    |> ungroup()\n",
    "    |> select(-unit)\n",
    "    |> as.matrix()\n",
    "    |> t()\n",
    "    |> prcomp()\n",
    ")\n",
    "plot(pca)"
   ]
  },
  {
   "cell_type": "markdown",
   "id": "3949e2e6-91f2-46b2-9afb-deac1c5c9ac6",
   "metadata": {},
   "source": [
    "## Noise invariance\n",
    "\n",
    "Just seeing if there is anything worth reporting in this paper."
   ]
  },
  {
   "cell_type": "code",
   "execution_count": null,
   "id": "5bb29872-6d0c-478d-9c6f-7f90b536ec58",
   "metadata": {},
   "outputs": [],
   "source": [
    "(\n",
    "    unit_level_discrim\n",
    "    |> inner_join(all_sites, by=\"site\")\n",
    "    |> ggplot(aes(background_dBFS, score))\n",
    "    + facet_grid(spike ~ area)\n",
    "    + stat_summary(aes(color=group))\n",
    "    + geom_line(mapping=aes(color=group, group=unit), alpha=0.1)\n",
    "    + theme_classic() + my.theme\n",
    ")"
   ]
  },
  {
   "cell_type": "code",
   "execution_count": null,
   "id": "7930d547-1e25-42ac-aa89-68f13f06310e",
   "metadata": {},
   "outputs": [],
   "source": []
  }
 ],
 "metadata": {
  "kernelspec": {
   "display_name": "R 4.3",
   "language": "R",
   "name": "ir43"
  },
  "language_info": {
   "codemirror_mode": "r",
   "file_extension": ".r",
   "mimetype": "text/x-r-source",
   "name": "R",
   "pygments_lexer": "r",
   "version": "4.4.0"
  }
 },
 "nbformat": 4,
 "nbformat_minor": 5
}
